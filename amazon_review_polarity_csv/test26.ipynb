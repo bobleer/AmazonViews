{
 "cells": [
  {
   "cell_type": "code",
   "execution_count": 1,
   "metadata": {
    "colab": {
     "base_uri": "https://localhost:8080/",
     "height": 122
    },
    "colab_type": "code",
    "id": "vZ4aONGVuY_n",
    "outputId": "8f224ba3-e50c-413c-cfde-a47321207de9"
   },
   "outputs": [
    {
     "name": "stdout",
     "output_type": "stream",
     "text": [
      "Go to this URL in a browser: https://accounts.google.com/o/oauth2/auth?client_id=947318989803-6bn6qk8qdgf4n4g3pfee6491hc0brc4i.apps.googleusercontent.com&redirect_uri=urn%3Aietf%3Awg%3Aoauth%3A2.0%3Aoob&scope=email%20https%3A%2F%2Fwww.googleapis.com%2Fauth%2Fdocs.test%20https%3A%2F%2Fwww.googleapis.com%2Fauth%2Fdrive%20https%3A%2F%2Fwww.googleapis.com%2Fauth%2Fdrive.photos.readonly%20https%3A%2F%2Fwww.googleapis.com%2Fauth%2Fpeopleapi.readonly&response_type=code\n",
      "\n",
      "Enter your authorization code:\n",
      "··········\n",
      "Mounted at /content/drive\n"
     ]
    }
   ],
   "source": [
    "from google.colab import drive\n",
    "drive.mount('/content/drive')"
   ]
  },
  {
   "cell_type": "code",
   "execution_count": 2,
   "metadata": {
    "colab": {
     "base_uri": "https://localhost:8080/",
     "height": 34
    },
    "colab_type": "code",
    "id": "CqPgcghqukCg",
    "outputId": "4d880ff4-499f-4936-8ebb-905ccf74f4a4"
   },
   "outputs": [
    {
     "name": "stdout",
     "output_type": "stream",
     "text": [
      "/content/drive/My Drive\n"
     ]
    }
   ],
   "source": [
    "cd ./drive/'My Drive'"
   ]
  },
  {
   "cell_type": "code",
   "execution_count": 3,
   "metadata": {
    "colab": {
     "base_uri": "https://localhost:8080/",
     "height": 122
    },
    "colab_type": "code",
    "id": "rbkXt6whuq2u",
    "outputId": "680aa2ac-238c-4bbd-8c84-c2be5f8ce00d"
   },
   "outputs": [
    {
     "name": "stdout",
     "output_type": "stream",
     "text": [
      "Collecting emoji\n",
      "\u001b[?25l  Downloading https://files.pythonhosted.org/packages/6c/ee/8cc0af26113508c8513dac40b1990b21d1d0136b3981a8b7b8a231a56c8d/emoji-0.5.2-py3-none-any.whl (41kB)\n",
      "\u001b[K     |████████████████████████████████| 51kB 3.8MB/s \n",
      "\u001b[?25hInstalling collected packages: emoji\n",
      "Successfully installed emoji-0.5.2\n"
     ]
    }
   ],
   "source": [
    "!pip install emoji"
   ]
  },
  {
   "cell_type": "markdown",
   "metadata": {
    "colab_type": "text",
    "id": "XN6YbIQsuBhR"
   },
   "source": [
    "# Import packages"
   ]
  },
  {
   "cell_type": "code",
   "execution_count": 1,
   "metadata": {
    "ExecuteTime": {
     "end_time": "2019-07-23T19:21:24.106764Z",
     "start_time": "2019-07-23T19:21:22.027760Z"
    },
    "colab": {},
    "colab_type": "code",
    "id": "Pk9IVL4YuBhS"
   },
   "outputs": [],
   "source": [
    "# Packages\n",
    "from time import time\n",
    "import re\n",
    "import os\n",
    "import nltk\n",
    "import numpy as np\n",
    "import multiprocessing as mp\n",
    "import pandas as pd\n",
    "import matplotlib.pyplot as plt\n",
    "import seaborn as sns\n",
    "from scipy import stats\n",
    "import warnings\n",
    "from tqdm import tqdm\n",
    "from time import time\n",
    "import multiprocessing as mp\n",
    "import pickle\n",
    "import string\n",
    "\n",
    "from nltk.tokenize import TweetTokenizer\n",
    "from nltk.corpus import stopwords\n",
    "from nltk.stem.porter import PorterStemmer\n",
    "from emoji import demojize\n",
    "\n",
    "from sklearn import naive_bayes, svm, linear_model\n",
    "from sklearn.model_selection import train_test_split, cross_val_score\n",
    "from sklearn.metrics import accuracy_score, recall_score, precision_score, roc_auc_score, f1_score, confusion_matrix, roc_curve\n",
    "from statlearning import plot_confusion_matrix\n",
    "\n",
    "# Settings\n",
    "sns.set_context('notebook') \n",
    "sns.set_style('ticks') \n",
    "colours = ['#1F77B4', '#FF7F0E', '#2CA02C', '#DB2728', '#9467BD', '#8C564B', '#E377C2','#7F7F7F', '#BCBD22', '#17BECF']\n",
    "crayon = ['#4E79A7','#F28E2C','#E15759','#76B7B2','#59A14F', '#EDC949','#AF7AA1','#FF9DA7','#9C755F','#BAB0AB']\n",
    "sns.set_palette(colours)\n",
    "%matplotlib inline\n",
    "plt.rcParams['figure.figsize'] = (9, 6)\n",
    "tqdm.pandas(desc=\"Progress bar\")\n",
    "cores = mp.cpu_count()\n",
    "warnings.filterwarnings('ignore')\n",
    "Tokenizer = TweetTokenizer()"
   ]
  },
  {
   "cell_type": "code",
   "execution_count": null,
   "metadata": {
    "ExecuteTime": {
     "end_time": "2019-07-23T19:24:45.854986Z",
     "start_time": "2019-07-23T19:24:45.845935Z"
    },
    "colab": {},
    "colab_type": "code",
    "id": "Ia5XfftxuBhU"
   },
   "outputs": [],
   "source": [
    "def _apply_df(args):\n",
    "    df, func, kwargs = args\n",
    "    return df.progress_apply(func, **kwargs)\n",
    "\n",
    "def multi_apply(df, func, **kwargs):\n",
    "    workers = kwargs.pop('workers')\n",
    "    pool = mp.Pool(processes=workers)\n",
    "    result = pool.map(_apply_df, [(d, func, kwargs) for d in np.array_split(df, workers)])\n",
    "    pool.close()\n",
    "    return pd.concat(list(result))"
   ]
  },
  {
   "cell_type": "markdown",
   "metadata": {
    "colab_type": "text",
    "id": "P0iSZu7muBhW"
   },
   "source": [
    "# Import dataset"
   ]
  },
  {
   "cell_type": "code",
   "execution_count": null,
   "metadata": {
    "colab": {},
    "colab_type": "code",
    "id": "WAQRpElWuBhX"
   },
   "outputs": [],
   "source": [
    "train = pd.read_csv('train.csv', header=None)\n",
    "\n",
    "# Merge title and content\n",
    "train['Text'] = train[1]+' '+train[2]\n",
    "train = train.drop(columns=[1,2])\n",
    "\n",
    "# Negative = 0, Positive = 1\n",
    "train[0] = train[0].map(lambda x: x-1)\n",
    "train.rename(columns={0:'Sentiment'}, inplace=True)"
   ]
  },
  {
   "cell_type": "code",
   "execution_count": null,
   "metadata": {
    "colab": {},
    "colab_type": "code",
    "id": "fspATJGzuBhZ"
   },
   "outputs": [],
   "source": [
    "test = pd.read_csv('test.csv', header=None)\n",
    "\n",
    "# Merge title and content\n",
    "test['Text'] = test[1]+' '+test[2]\n",
    "test = test.drop(columns=[1,2])\n",
    "\n",
    "# Negative = 0, Positive = 1\n",
    "test[0] = test[0].map(lambda x: x-1)\n",
    "test.rename(columns={0:'Sentiment'}, inplace=True)"
   ]
  },
  {
   "cell_type": "code",
   "execution_count": null,
   "metadata": {
    "colab": {},
    "colab_type": "code",
    "id": "B5YzodUEuBhb"
   },
   "outputs": [],
   "source": [
    "# Merge dataset\n",
    "fullset = pd.concat([train,test], axis=0, ignore_index=True)\n",
    "del(train)\n",
    "del(test)\n",
    "fullset.to_csv('fullset.csv', index=0)"
   ]
  },
  {
   "cell_type": "code",
   "execution_count": null,
   "metadata": {
    "ExecuteTime": {
     "end_time": "2019-07-23T11:26:08.439424Z",
     "start_time": "2019-07-23T11:25:50.196387Z"
    },
    "colab": {},
    "colab_type": "code",
    "id": "VYusHv0PuBhd"
   },
   "outputs": [],
   "source": [
    "fullset = pd.read_csv('fullset.csv')"
   ]
  },
  {
   "cell_type": "markdown",
   "metadata": {
    "colab_type": "text",
    "id": "28kAd4xWuBhe"
   },
   "source": [
    "# Data Observation"
   ]
  },
  {
   "cell_type": "code",
   "execution_count": null,
   "metadata": {
    "ExecuteTime": {
     "end_time": "2019-07-23T06:07:35.653645Z",
     "start_time": "2019-07-23T06:07:35.646127Z"
    },
    "colab": {},
    "colab_type": "code",
    "id": "2DidfgyNuBhf",
    "outputId": "c10df316-a8df-43c6-b3d8-b32a4d609e64"
   },
   "outputs": [
    {
     "data": {
      "text/html": [
       "<div>\n",
       "<style scoped>\n",
       "    .dataframe tbody tr th:only-of-type {\n",
       "        vertical-align: middle;\n",
       "    }\n",
       "\n",
       "    .dataframe tbody tr th {\n",
       "        vertical-align: top;\n",
       "    }\n",
       "\n",
       "    .dataframe thead th {\n",
       "        text-align: right;\n",
       "    }\n",
       "</style>\n",
       "<table border=\"1\" class=\"dataframe\">\n",
       "  <thead>\n",
       "    <tr style=\"text-align: right;\">\n",
       "      <th></th>\n",
       "      <th>Sentiment</th>\n",
       "      <th>Text</th>\n",
       "    </tr>\n",
       "  </thead>\n",
       "  <tbody>\n",
       "    <tr>\n",
       "      <th>3999995</th>\n",
       "      <td>0</td>\n",
       "      <td>Unbelievable- In a Bad Way We bought this Thom...</td>\n",
       "    </tr>\n",
       "    <tr>\n",
       "      <th>3999996</th>\n",
       "      <td>0</td>\n",
       "      <td>Almost Great, Until it Broke... My son recieve...</td>\n",
       "    </tr>\n",
       "    <tr>\n",
       "      <th>3999997</th>\n",
       "      <td>0</td>\n",
       "      <td>Disappointed !!! I bought this toy for my son ...</td>\n",
       "    </tr>\n",
       "    <tr>\n",
       "      <th>3999998</th>\n",
       "      <td>1</td>\n",
       "      <td>Classic Jessica Mitford This is a compilation ...</td>\n",
       "    </tr>\n",
       "    <tr>\n",
       "      <th>3999999</th>\n",
       "      <td>0</td>\n",
       "      <td>Comedy Scene, and Not Heard This DVD will be a...</td>\n",
       "    </tr>\n",
       "  </tbody>\n",
       "</table>\n",
       "</div>"
      ],
      "text/plain": [
       "         Sentiment                                               Text\n",
       "3999995          0  Unbelievable- In a Bad Way We bought this Thom...\n",
       "3999996          0  Almost Great, Until it Broke... My son recieve...\n",
       "3999997          0  Disappointed !!! I bought this toy for my son ...\n",
       "3999998          1  Classic Jessica Mitford This is a compilation ...\n",
       "3999999          0  Comedy Scene, and Not Heard This DVD will be a..."
      ]
     },
     "execution_count": 7,
     "metadata": {
      "tags": []
     },
     "output_type": "execute_result"
    }
   ],
   "source": [
    "fullset.tail()"
   ]
  },
  {
   "cell_type": "code",
   "execution_count": null,
   "metadata": {
    "ExecuteTime": {
     "end_time": "2019-07-23T06:07:35.738285Z",
     "start_time": "2019-07-23T06:07:35.686252Z"
    },
    "colab": {},
    "colab_type": "code",
    "id": "JteIGuDCuBhi",
    "outputId": "4ab48224-984f-43b8-a1c0-6a31cbf1da17"
   },
   "outputs": [
    {
     "data": {
      "text/plain": [
       "1    2000000\n",
       "0    2000000\n",
       "Name: Sentiment, dtype: int64"
      ]
     },
     "execution_count": 8,
     "metadata": {
      "tags": []
     },
     "output_type": "execute_result"
    }
   ],
   "source": [
    "fullset['Sentiment'].value_counts()"
   ]
  },
  {
   "cell_type": "code",
   "execution_count": null,
   "metadata": {
    "ExecuteTime": {
     "end_time": "2019-07-23T11:26:09.818186Z",
     "start_time": "2019-07-23T11:26:08.475277Z"
    },
    "colab": {},
    "colab_type": "code",
    "id": "aiV6e-XGuBhl"
   },
   "outputs": [],
   "source": [
    "fullset['Text'] = fullset['Text'].apply(str)"
   ]
  },
  {
   "cell_type": "code",
   "execution_count": null,
   "metadata": {
    "ExecuteTime": {
     "end_time": "2019-07-23T06:07:38.821560Z",
     "start_time": "2019-07-23T06:07:37.135285Z"
    },
    "colab": {},
    "colab_type": "code",
    "id": "4Nx_ZuWnuBhn",
    "outputId": "c1d07249-cafe-4508-a214-bca6fa742a53"
   },
   "outputs": [
    {
     "data": {
      "text/plain": [
       "count    4000000.0\n",
       "mean         431.0\n",
       "std          238.0\n",
       "min            3.0\n",
       "50%          382.0\n",
       "95%          894.0\n",
       "99%          988.0\n",
       "max         1014.0\n",
       "Name: Text, dtype: float64"
      ]
     },
     "execution_count": 10,
     "metadata": {
      "tags": []
     },
     "output_type": "execute_result"
    }
   ],
   "source": [
    "(fullset['Text'].apply(len)).describe(percentiles=[.95, .99]).round(0)"
   ]
  },
  {
   "cell_type": "markdown",
   "metadata": {
    "colab_type": "text",
    "id": "JlwoEPy0uBhp"
   },
   "source": [
    "# Data Preprocessing"
   ]
  },
  {
   "cell_type": "code",
   "execution_count": null,
   "metadata": {
    "colab": {},
    "colab_type": "code",
    "id": "-_-2o1xGuBhq"
   },
   "outputs": [],
   "source": [
    "# Text lowercase + Stemming\n",
    "def pre_proc(text):\n",
    "    return ''.join([PorterStemmer().stem(x) for x in Tokenizer.tokenize(text.lower()) if x != ''])"
   ]
  },
  {
   "cell_type": "code",
   "execution_count": null,
   "metadata": {
    "colab": {},
    "colab_type": "code",
    "id": "34VMHchHuBhs",
    "outputId": "c74101c0-d9a3-4a42-ce18-0b0b8ed0fa19"
   },
   "outputs": [
    {
     "name": "stderr",
     "output_type": "stream",
     "text": [
      "Progress bar: 100%|██████████| 571428/571428 [53:35<00:00, 177.72it/s]  \n",
      "Progress bar: 100%|██████████| 571428/571428 [53:53<00:00, 176.70it/s]\n",
      "Progress bar: 100%|██████████| 571429/571429 [54:11<00:00, 175.73it/s]\n",
      "Progress bar: 100%|██████████| 571428/571428 [54:45<00:00, 173.95it/s]\n",
      "Progress bar: 100%|██████████| 571429/571429 [54:50<00:00, 173.65it/s]\n",
      "Progress bar: 100%|██████████| 571429/571429 [55:10<00:00, 172.60it/s]\n",
      "Progress bar: 100%|██████████| 571429/571429 [55:31<00:00, 171.52it/s]\n"
     ]
    }
   ],
   "source": [
    "fullset['Token'] = multi_apply(fullset['Text'], pre_proc, workers=cores-1)"
   ]
  },
  {
   "cell_type": "code",
   "execution_count": null,
   "metadata": {
    "ExecuteTime": {
     "end_time": "2019-07-23T19:22:07.939387Z",
     "start_time": "2019-07-23T19:22:04.774297Z"
    },
    "colab": {},
    "colab_type": "code",
    "id": "6cz-_AlruBhu"
   },
   "outputs": [],
   "source": [
    "fullset = pd.read_csv('fullset_ez_processed.csv')"
   ]
  },
  {
   "cell_type": "code",
   "execution_count": null,
   "metadata": {
    "ExecuteTime": {
     "end_time": "2019-07-23T06:22:25.408953Z",
     "start_time": "2019-07-23T06:22:25.405734Z"
    },
    "colab": {},
    "colab_type": "code",
    "id": "h0r96jS5uBhw"
   },
   "outputs": [],
   "source": [
    "fdist = nltk.FreqDist()"
   ]
  },
  {
   "cell_type": "code",
   "execution_count": null,
   "metadata": {
    "ExecuteTime": {
     "end_time": "2019-07-23T06:27:44.091058Z",
     "start_time": "2019-07-23T06:22:26.076378Z"
    },
    "colab": {},
    "colab_type": "code",
    "id": "CmVAlC0UuBhy"
   },
   "outputs": [],
   "source": [
    "for i in fullset['Token']:\n",
    "    for word in i.split():\n",
    "        fdist[word] += 1"
   ]
  },
  {
   "cell_type": "code",
   "execution_count": null,
   "metadata": {
    "ExecuteTime": {
     "end_time": "2019-07-23T06:38:18.409568Z",
     "start_time": "2019-07-23T06:38:15.842029Z"
    },
    "colab": {},
    "colab_type": "code",
    "id": "CAJi4160uBh0",
    "outputId": "e2c1a280-7989-4bc1-8ada-d521da3ce724"
   },
   "outputs": [
    {
     "data": {
      "text/plain": [
       "count     1804633.0\n",
       "mean          175.0\n",
       "std         21403.0\n",
       "min             1.0\n",
       "50%             1.0\n",
       "95%            17.0\n",
       "99%           271.0\n",
       "max      15792716.0\n",
       "dtype: float64"
      ]
     },
     "execution_count": 34,
     "metadata": {
      "tags": []
     },
     "output_type": "execute_result"
    }
   ],
   "source": [
    "# Count the number of UNIQUE word\n",
    "features = pd.Series(dict(fdist))\n",
    "features.describe(percentiles=[.95, .99]).round(0)"
   ]
  },
  {
   "cell_type": "code",
   "execution_count": null,
   "metadata": {
    "ExecuteTime": {
     "end_time": "2019-07-23T06:45:33.109686Z",
     "start_time": "2019-07-23T06:45:33.051521Z"
    },
    "colab": {},
    "colab_type": "code",
    "id": "T0mhXwLwuBh3",
    "outputId": "f67e1808-30f4-43cc-deef-f6e2d4a8a80a"
   },
   "outputs": [
    {
     "name": "stdout",
     "output_type": "stream",
     "text": [
      "There are 1246917 words which only appear once.\n"
     ]
    }
   ],
   "source": [
    "features_1 = features[features==1]\n",
    "print('There are',len(features_1),'features which only appear once.')"
   ]
  },
  {
   "cell_type": "code",
   "execution_count": null,
   "metadata": {
    "ExecuteTime": {
     "end_time": "2019-07-23T07:24:25.352661Z",
     "start_time": "2019-07-23T07:24:25.348440Z"
    },
    "colab": {},
    "colab_type": "code",
    "id": "uCq95eO-uBh7",
    "outputId": "b2337e78-3741-4f11-b59b-a1964c5251c5"
   },
   "outputs": [
    {
     "name": "stdout",
     "output_type": "stream",
     "text": [
      "Some once features are like this: 'peaceful.on'\n",
      "So need to re-split them.\n"
     ]
    }
   ],
   "source": [
    "print('Some once features are like this:','\\''+features_1.index[1]+'\\'')\n",
    "print('So need to re-split them.')"
   ]
  },
  {
   "cell_type": "code",
   "execution_count": null,
   "metadata": {
    "ExecuteTime": {
     "end_time": "2019-07-23T09:45:43.765784Z",
     "start_time": "2019-07-23T09:45:43.679005Z"
    },
    "colab": {},
    "colab_type": "code",
    "id": "kPYzth6JuBh_"
   },
   "outputs": [],
   "source": [
    "features_re = features[features<=1]"
   ]
  },
  {
   "cell_type": "code",
   "execution_count": null,
   "metadata": {
    "ExecuteTime": {
     "end_time": "2019-07-23T09:45:56.312619Z",
     "start_time": "2019-07-23T09:45:56.024765Z"
    },
    "colab": {},
    "colab_type": "code",
    "id": "6jNiaspjuBiB"
   },
   "outputs": [],
   "source": [
    "relist = [x for x in features_1.index if (not x.isalpha())]"
   ]
  },
  {
   "cell_type": "code",
   "execution_count": null,
   "metadata": {
    "ExecuteTime": {
     "end_time": "2019-07-23T09:45:57.167370Z",
     "start_time": "2019-07-23T09:45:57.162816Z"
    },
    "colab": {},
    "colab_type": "code",
    "id": "QUTRZgZzuBiE",
    "outputId": "f0b62c0c-edf6-4b96-fec6-b4b1b9b16d75"
   },
   "outputs": [
    {
     "name": "stdout",
     "output_type": "stream",
     "text": [
      "There are 824988 features with punctuations.\n"
     ]
    }
   ],
   "source": [
    "print('There are',len(relist),'features with punctuations.')"
   ]
  },
  {
   "cell_type": "code",
   "execution_count": null,
   "metadata": {
    "ExecuteTime": {
     "end_time": "2019-07-23T09:46:05.940756Z",
     "start_time": "2019-07-23T09:46:05.879325Z"
    },
    "colab": {},
    "colab_type": "code",
    "id": "r4IIf_dDuBiG"
   },
   "outputs": [],
   "source": [
    "relist_str = ''.join(relist)"
   ]
  },
  {
   "cell_type": "code",
   "execution_count": null,
   "metadata": {
    "ExecuteTime": {
     "end_time": "2019-07-23T09:55:36.503859Z",
     "start_time": "2019-07-23T09:55:35.579512Z"
    },
    "colab": {},
    "colab_type": "code",
    "id": "z7ZxRGr7uBiI",
    "outputId": "07d0ae0e-2e01-4a86-eb7b-0138dc159292"
   },
   "outputs": [
    {
     "name": "stdout",
     "output_type": "stream",
     "text": [
      "🎥|̣|∂|😁|„|'||7|6|̇|~|-|😠|😔|]|≠|☆|#|😍|/|[|9|【|.|_|😩|↓|5|₤|\u0007|)|⊖|👏|♠|8|💜|1|∅|℉|😡|&|\u0015|␟|╚|👎|ً|🎉|$|💅|（|💖|⌫|:|😀|}|,|⟨|\u0017|😎|0|=|>|╝|\"|☼|%|<|♡|⊕|;|】|4|′|\u0002|+|?|†||^|⊂|\\|）|‼|{|!|2|😉|̄|@|*|─|\u0016|♣|||(|3 \n",
      "\n",
      ":movie_camera:|̣|∂|:beaming_face_with_smiling_eyes:|„|'||7|6|̇|~|-|:angry_face:|:pensive_face:|]|≠|☆|#|:smiling_face_with_heart-eyes:|/|[|9|【|.|_|:weary_face:|↓|5|₤|\u0007|)|⊖|:clapping_hands:|:spade_suit:|8|:purple_heart:|1|∅|℉|:pouting_face:|&|\u0015|␟|╚|:thumbs_down:|ً|:party_popper:|$|:nail_polish:|（|:sparkling_heart:|⌫|:|:grinning_face:|}|,|⟨|\u0017|:smiling_face_with_sunglasses:|0|=|>|╝|\"|☼|%|<|♡|⊕|;|】|4|′|\u0002|+|?|†||^|⊂|\\|）|:double_exclamation_mark:|{|!|2|:winking_face:|̄|@|*|─|\u0016|:club_suit:|||(|3\n"
     ]
    }
   ],
   "source": [
    "separator = '|'.join(list(set([r'{}'.format(x) for x in relist_str if not x.isalpha()])))\n",
    "print(separator,'\\n')\n",
    "print(demojize(separator))"
   ]
  },
  {
   "cell_type": "code",
   "execution_count": null,
   "metadata": {
    "colab": {},
    "colab_type": "code",
    "id": "UzEv6trRuBiK",
    "outputId": "60345586-337d-40e9-ca7b-aa71f5adfae4"
   },
   "outputs": [
    {
     "data": {
      "text/plain": [
       "'!\"#$%&\\'()*+,-./:;<=>?@[\\\\]^_`{|}~'"
      ]
     },
     "execution_count": 30,
     "metadata": {
      "tags": []
     },
     "output_type": "execute_result"
    }
   ],
   "source": [
    "string.punctuation"
   ]
  },
  {
   "cell_type": "code",
   "execution_count": null,
   "metadata": {
    "ExecuteTime": {
     "end_time": "2019-07-23T19:22:37.242092Z",
     "start_time": "2019-07-23T19:22:37.238068Z"
    },
    "colab": {},
    "colab_type": "code",
    "id": "_19KuYluuBiM"
   },
   "outputs": [],
   "source": [
    "def resplit(text):\n",
    "    # Translate emojis\n",
    "    text = demojize(text)\n",
    "    # Remove punctuation\n",
    "    for i in string.punctuation:\n",
    "        text = text.replace(i,' ')\n",
    "    # Token\n",
    "    text = Tokenizer.tokenize(text)\n",
    "\n",
    "    return text"
   ]
  },
  {
   "cell_type": "code",
   "execution_count": null,
   "metadata": {
    "colab": {},
    "colab_type": "code",
    "id": "hSshARtxuBiO"
   },
   "outputs": [],
   "source": [
    "fullset.Token = fullset.Token.apply(resplit)"
   ]
  },
  {
   "cell_type": "code",
   "execution_count": null,
   "metadata": {
    "colab": {},
    "colab_type": "code",
    "id": "GQX4FzmPuBiP",
    "outputId": "0833d0b9-fb28-4cc6-c76b-8a70052bf344"
   },
   "outputs": [
    {
     "data": {
      "text/html": [
       "<div>\n",
       "<style scoped>\n",
       "    .dataframe tbody tr th:only-of-type {\n",
       "        vertical-align: middle;\n",
       "    }\n",
       "\n",
       "    .dataframe tbody tr th {\n",
       "        vertical-align: top;\n",
       "    }\n",
       "\n",
       "    .dataframe thead th {\n",
       "        text-align: right;\n",
       "    }\n",
       "</style>\n",
       "<table border=\"1\" class=\"dataframe\">\n",
       "  <thead>\n",
       "    <tr style=\"text-align: right;\">\n",
       "      <th></th>\n",
       "      <th>Sentiment</th>\n",
       "      <th>Token</th>\n",
       "    </tr>\n",
       "  </thead>\n",
       "  <tbody>\n",
       "    <tr>\n",
       "      <th>3999995</th>\n",
       "      <td>0</td>\n",
       "      <td>[unbeliev, in, a, bad, way, we, bought, thi, t...</td>\n",
       "    </tr>\n",
       "    <tr>\n",
       "      <th>3999996</th>\n",
       "      <td>0</td>\n",
       "      <td>[almost, great, until, it, broke, my, son, rec...</td>\n",
       "    </tr>\n",
       "    <tr>\n",
       "      <th>3999997</th>\n",
       "      <td>0</td>\n",
       "      <td>[disappoint, i, bought, thi, toy, for, my, son...</td>\n",
       "    </tr>\n",
       "    <tr>\n",
       "      <th>3999998</th>\n",
       "      <td>1</td>\n",
       "      <td>[classic, jessica, mitford, thi, is, a, compil...</td>\n",
       "    </tr>\n",
       "    <tr>\n",
       "      <th>3999999</th>\n",
       "      <td>0</td>\n",
       "      <td>[comedi, scene, and, not, heard, thi, dvd, wil...</td>\n",
       "    </tr>\n",
       "  </tbody>\n",
       "</table>\n",
       "</div>"
      ],
      "text/plain": [
       "         Sentiment                                              Token\n",
       "3999995          0  [unbeliev, in, a, bad, way, we, bought, thi, t...\n",
       "3999996          0  [almost, great, until, it, broke, my, son, rec...\n",
       "3999997          0  [disappoint, i, bought, thi, toy, for, my, son...\n",
       "3999998          1  [classic, jessica, mitford, thi, is, a, compil...\n",
       "3999999          0  [comedi, scene, and, not, heard, thi, dvd, wil..."
      ]
     },
     "execution_count": 49,
     "metadata": {
      "tags": []
     },
     "output_type": "execute_result"
    }
   ],
   "source": [
    "fullset.tail()"
   ]
  },
  {
   "cell_type": "code",
   "execution_count": null,
   "metadata": {
    "colab": {},
    "colab_type": "code",
    "id": "YVtKSUezuBiS"
   },
   "outputs": [],
   "source": [
    "with open('fullset_resplit.pickle', 'wb') as f:\n",
    "    pickle.dump(fullset, f)"
   ]
  },
  {
   "cell_type": "code",
   "execution_count": null,
   "metadata": {
    "ExecuteTime": {
     "start_time": "2019-07-23T12:11:34.298Z"
    },
    "colab": {},
    "colab_type": "code",
    "id": "ggu95AqpuBiU",
    "outputId": "e5c35865-a808-415b-d6aa-5c5ade19a77e"
   },
   "outputs": [
    {
     "name": "stderr",
     "output_type": "stream",
     "text": [
      "100%|██████████| 4000000/4000000 [06:07<00:00, 10893.40it/s]\n"
     ]
    }
   ],
   "source": [
    "# Re-count\n",
    "fdist = nltk.FreqDist()\n",
    "\n",
    "for i in tqdm(fullset['Token']):\n",
    "    for word in i:\n",
    "        fdist[word] += 1"
   ]
  },
  {
   "cell_type": "code",
   "execution_count": null,
   "metadata": {
    "colab": {},
    "colab_type": "code",
    "id": "n-ZnLA49uBiW",
    "outputId": "b21ba184-cd10-443c-caf8-3f15c4ecd637"
   },
   "outputs": [
    {
     "data": {
      "text/plain": [
       "FreqDist({'the': 15809493, 'i': 9294446, 'and': 8586104, 'a': 8061406, 'to': 7712911, 'it': 7578653, 'of': 6298197, 'thi': 5911844, 'is': 5530069, 'in': 3713530, ...})"
      ]
     },
     "execution_count": 54,
     "metadata": {
      "tags": []
     },
     "output_type": "execute_result"
    }
   ],
   "source": [
    "fdist"
   ]
  },
  {
   "cell_type": "code",
   "execution_count": null,
   "metadata": {
    "ExecuteTime": {
     "start_time": "2019-07-23T12:11:35.332Z"
    },
    "colab": {},
    "colab_type": "code",
    "id": "xNZ_mOyeuBia",
    "outputId": "f0151ee2-84d6-458a-cea6-bb0749e91895"
   },
   "outputs": [
    {
     "data": {
      "text/plain": [
       "count      858011.0\n",
       "mean          375.0\n",
       "std         31793.0\n",
       "min             1.0\n",
       "50%             1.0\n",
       "95%            51.0\n",
       "99%          1065.0\n",
       "max      15809493.0\n",
       "dtype: float64"
      ]
     },
     "execution_count": 55,
     "metadata": {
      "tags": []
     },
     "output_type": "execute_result"
    }
   ],
   "source": [
    "# Count the number of UNIQUE word\n",
    "features = pd.Series(dict(fdist))\n",
    "features.describe(percentiles=[.95, .99]).round(0)"
   ]
  },
  {
   "cell_type": "code",
   "execution_count": null,
   "metadata": {
    "ExecuteTime": {
     "start_time": "2019-07-23T12:11:36.529Z"
    },
    "colab": {},
    "colab_type": "code",
    "id": "afk1enU6uBic",
    "outputId": "2a7d89e7-9825-4e50-aba9-ef5dc1de9961"
   },
   "outputs": [
    {
     "name": "stdout",
     "output_type": "stream",
     "text": [
      "There are 47820 features which only appear once.\n"
     ]
    }
   ],
   "source": [
    "features_1 = features[features==3]\n",
    "print('There are',len(features_1),'features which appear only once.')"
   ]
  },
  {
   "cell_type": "code",
   "execution_count": null,
   "metadata": {
    "ExecuteTime": {
     "start_time": "2019-07-23T12:11:37.276Z"
    },
    "colab": {},
    "colab_type": "code",
    "id": "9qDU6XMWuBie"
   },
   "outputs": [],
   "source": [
    "def rmonce(token):\n",
    "    return [x for x in token if x not in features_1.index]"
   ]
  },
  {
   "cell_type": "code",
   "execution_count": null,
   "metadata": {
    "ExecuteTime": {
     "start_time": "2019-07-23T12:11:37.903Z"
    },
    "colab": {},
    "colab_type": "code",
    "id": "QnfY7Vd7uBig",
    "outputId": "501c39db-dda2-43e1-8774-6cd4b95a415e"
   },
   "outputs": [
    {
     "name": "stderr",
     "output_type": "stream",
     "text": [
      "Progress bar: 100%|██████████| 4000000/4000000 [14:54<00:00, 4471.89it/s]   \n"
     ]
    }
   ],
   "source": [
    "# Remove words which appear only once.\n",
    "fullset.Token = fullset.Token.progress_apply(rmonce)"
   ]
  },
  {
   "cell_type": "code",
   "execution_count": null,
   "metadata": {
    "colab": {},
    "colab_type": "code",
    "id": "ArXW7c2puBij",
    "outputId": "78254dc0-035d-4185-a5be-694175a9341f"
   },
   "outputs": [
    {
     "data": {
      "text/plain": [
       "count    4000000.0\n",
       "mean          80.0\n",
       "std           44.0\n",
       "min            0.0\n",
       "50%           72.0\n",
       "95%          165.0\n",
       "99%          186.0\n",
       "max          257.0\n",
       "Name: Token, dtype: float64"
      ]
     },
     "execution_count": 87,
     "metadata": {
      "tags": []
     },
     "output_type": "execute_result"
    }
   ],
   "source": [
    "# Count the length of sentences\n",
    "(fullset.Token.apply(len)).describe(percentiles=[.95, .99]).round(0)"
   ]
  },
  {
   "cell_type": "code",
   "execution_count": null,
   "metadata": {
    "colab": {},
    "colab_type": "code",
    "id": "-uV5wTZhuBim"
   },
   "outputs": [],
   "source": [
    "fullset_original = pd.read_csv('fullset.csv')"
   ]
  },
  {
   "cell_type": "code",
   "execution_count": null,
   "metadata": {
    "colab": {},
    "colab_type": "code",
    "id": "oVa4LKnWuBin",
    "outputId": "7a7edc46-cd20-4c83-bdb2-9e5f1d099a48"
   },
   "outputs": [
    {
     "name": "stdout",
     "output_type": "stream",
     "text": [
      "294435     ........ ............ ..... ..... ...... ........\n",
      "3584048    -_- ' ' '''' '''' '' '' ''' '''''? '' '' ' '' ...\n",
      "Name: Text, dtype: object\n"
     ]
    }
   ],
   "source": [
    "print(fullset_original.Text[fullset.Token.apply(len)==0])"
   ]
  },
  {
   "cell_type": "code",
   "execution_count": null,
   "metadata": {
    "colab": {},
    "colab_type": "code",
    "id": "DH1-WF7wuBip"
   },
   "outputs": [],
   "source": [
    "fullset = fullset[fullset.Token.apply(len)!=0]"
   ]
  },
  {
   "cell_type": "code",
   "execution_count": null,
   "metadata": {
    "colab": {},
    "colab_type": "code",
    "id": "1pqNNe7suBiq",
    "outputId": "f6b2a30f-dda7-471b-8805-529e0aef74db"
   },
   "outputs": [
    {
     "data": {
      "text/plain": [
       "count    3999998.0\n",
       "mean          80.0\n",
       "std           44.0\n",
       "min            1.0\n",
       "50%           72.0\n",
       "95%          165.0\n",
       "99%          186.0\n",
       "max          257.0\n",
       "Name: Token, dtype: float64"
      ]
     },
     "execution_count": 89,
     "metadata": {
      "tags": []
     },
     "output_type": "execute_result"
    }
   ],
   "source": [
    "(fullset.Token.apply(len)).describe(percentiles=[.95, .99]).round(0)"
   ]
  },
  {
   "cell_type": "code",
   "execution_count": null,
   "metadata": {
    "colab": {},
    "colab_type": "code",
    "id": "YlnyhuIIuBiu"
   },
   "outputs": [],
   "source": [
    "with open('fullset_resplit_rmonce.pickle', 'wb') as f:\n",
    "    pickle.dump(fullset, f, -1)"
   ]
  },
  {
   "cell_type": "code",
   "execution_count": null,
   "metadata": {
    "colab": {},
    "colab_type": "code",
    "id": "oV1ZF39xuBiw",
    "outputId": "69ec2320-bcb9-4219-d564-ace5e5cebcc8"
   },
   "outputs": [
    {
     "data": {
      "text/plain": [
       "[('the', 15809493),\n",
       " ('i', 9294446),\n",
       " ('and', 8586104),\n",
       " ('a', 8061406),\n",
       " ('to', 7712911),\n",
       " ('it', 7578653),\n",
       " ('of', 6298197),\n",
       " ('thi', 5911844),\n",
       " ('is', 5530069),\n",
       " ('in', 3713530),\n",
       " ('for', 3524304),\n",
       " ('that', 3245780),\n",
       " ('you', 2776538),\n",
       " ('wa', 2680975),\n",
       " ('not', 2612517),\n",
       " ('book', 2498410),\n",
       " ('but', 2345642),\n",
       " ('with', 2308551),\n",
       " ('on', 2281343),\n",
       " ('have', 2190331)]"
      ]
     },
     "execution_count": 91,
     "metadata": {
      "tags": []
     },
     "output_type": "execute_result"
    }
   ],
   "source": [
    "# The most frequent 20 words\n",
    "fdist.most_common()[:20]"
   ]
  },
  {
   "cell_type": "code",
   "execution_count": null,
   "metadata": {
    "colab": {},
    "colab_type": "code",
    "id": "E1lBiZn4uBiz"
   },
   "outputs": [],
   "source": [
    "stopwordls = stopwords.words('english')"
   ]
  },
  {
   "cell_type": "code",
   "execution_count": null,
   "metadata": {
    "colab": {},
    "colab_type": "code",
    "id": "xdGHfuoKuBi0"
   },
   "outputs": [],
   "source": [
    "def rmstopword(token):\n",
    "    return [x for x in token if x not in stopwordls]"
   ]
  },
  {
   "cell_type": "code",
   "execution_count": null,
   "metadata": {
    "colab": {},
    "colab_type": "code",
    "id": "fSoc0UOSuBi2"
   },
   "outputs": [],
   "source": [
    "# Remove stopwords\n",
    "fullset.Token = fullset.Token.apply(rmstopword)"
   ]
  },
  {
   "cell_type": "code",
   "execution_count": null,
   "metadata": {
    "colab": {},
    "colab_type": "code",
    "id": "yAvvVih8uBi3"
   },
   "outputs": [],
   "source": [
    "# Re-count\n",
    "fdist = nltk.FreqDist()\n",
    "\n",
    "for i in fullset['Token']:\n",
    "    for word in i:\n",
    "        fdist[word] += 1"
   ]
  },
  {
   "cell_type": "code",
   "execution_count": null,
   "metadata": {
    "colab": {},
    "colab_type": "code",
    "id": "96DuHGJMuBi4",
    "outputId": "08bfdd51-52f0-4c0a-ee25-e4da92e9f209"
   },
   "outputs": [
    {
     "data": {
      "text/plain": [
       "[('thi', 5911844),\n",
       " ('wa', 2680975),\n",
       " ('book', 2498410),\n",
       " ('one', 1590682),\n",
       " ('like', 1289538),\n",
       " ('great', 1201557),\n",
       " ('veri', 1183127),\n",
       " ('good', 1167851),\n",
       " ('read', 1079779),\n",
       " ('use', 1002323),\n",
       " ('get', 995575),\n",
       " ('time', 944117),\n",
       " ('would', 939644),\n",
       " ('work', 875548),\n",
       " ('ha', 868094),\n",
       " ('movi', 773386),\n",
       " ('love', 772790),\n",
       " ('onli', 714689),\n",
       " ('hi', 665482),\n",
       " ('realli', 639812)]"
      ]
     },
     "execution_count": 34,
     "metadata": {
      "tags": []
     },
     "output_type": "execute_result"
    }
   ],
   "source": [
    "# The most frequent 20 words\n",
    "fdist.most_common(20)"
   ]
  },
  {
   "cell_type": "code",
   "execution_count": null,
   "metadata": {
    "colab": {},
    "colab_type": "code",
    "id": "wKdCoVAUuBi7",
    "outputId": "dc005579-c073-4389-8702-b9ed16fe4012"
   },
   "outputs": [
    {
     "data": {
      "text/plain": [
       "810038"
      ]
     },
     "execution_count": 38,
     "metadata": {
      "tags": []
     },
     "output_type": "execute_result"
    }
   ],
   "source": [
    "# How many UNIQUE words\n",
    "len(fdist)"
   ]
  },
  {
   "cell_type": "code",
   "execution_count": null,
   "metadata": {
    "colab": {},
    "colab_type": "code",
    "id": "-W6lVbQYuBi_",
    "outputId": "75c91b10-3457-4a38-f44b-579b57d16bfb"
   },
   "outputs": [
    {
     "data": {
      "text/plain": [
       "count    3999998.0\n",
       "mean          44.0\n",
       "std           24.0\n",
       "min            1.0\n",
       "50%           39.0\n",
       "95%           90.0\n",
       "99%          102.0\n",
       "max          212.0\n",
       "Name: Token, dtype: float64"
      ]
     },
     "execution_count": 42,
     "metadata": {
      "tags": []
     },
     "output_type": "execute_result"
    }
   ],
   "source": [
    "(fullset.Token.apply(len)).describe(percentiles=[.95, .99]).round(0)"
   ]
  },
  {
   "cell_type": "code",
   "execution_count": null,
   "metadata": {
    "colab": {},
    "colab_type": "code",
    "id": "IEt8h8l3uBjA",
    "outputId": "dee53a44-07bd-4636-ac08-8fb06960ade5"
   },
   "outputs": [
    {
     "name": "stdout",
     "output_type": "stream",
     "text": [
      "The most frequent 55 words have 25% portion.\n",
      "The most frequent 294 words have 50% portion.\n",
      "The most frequent 1263 words have 75% portion.\n",
      "The most frequent 10323 words have 95% portion.\n",
      "The most frequent 68782 words have 99% portion.\n"
     ]
    }
   ],
   "source": [
    "fq25, fq50, fq75, fq95, fq99 = 0, 0, 0, 0, 0\n",
    "count = 0\n",
    "for i in fdist_df[0]:\n",
    "    fq25 += fdist.freq(i)\n",
    "    fq50 += fdist.freq(i)\n",
    "    fq75 += fdist.freq(i)\n",
    "    fq95 += fdist.freq(i)\n",
    "    fq99 += fdist.freq(i)\n",
    "    count += 1\n",
    "    if fq25 > 0.25:\n",
    "        print('The most frequent',count, 'words have 25% portion.')\n",
    "        fq25 -= 1\n",
    "    if fq50 > 0.50:\n",
    "        print('The most frequent',count, 'words have 50% portion.')\n",
    "        fq50 -= 1\n",
    "    if fq75 > 0.75:\n",
    "        print('The most frequent',count, 'words have 75% portion.')\n",
    "        fq75 -= 1\n",
    "    if fq95 > 0.95:\n",
    "        print('The most frequent',count, 'words have 95% portion.')\n",
    "        fq95 -= 1\n",
    "    if fq99 > 0.99:\n",
    "        print('The most frequent',count, 'words have 99% portion.')\n",
    "        fq99 -= 1\n",
    "        "
   ]
  },
  {
   "cell_type": "code",
   "execution_count": null,
   "metadata": {
    "colab": {},
    "colab_type": "code",
    "id": "xuUIO0EUuBjC"
   },
   "outputs": [],
   "source": [
    "with open('fullset_resplit_rmonce_nostopword.pickle', 'wb') as f:\n",
    "    pickle.dump(fullset, f, -1)"
   ]
  },
  {
   "cell_type": "markdown",
   "metadata": {
    "colab_type": "text",
    "id": "59LLowyguBjE"
   },
   "source": [
    "# Feature Engineering"
   ]
  },
  {
   "cell_type": "code",
   "execution_count": null,
   "metadata": {
    "colab": {},
    "colab_type": "code",
    "id": "xNNLaTrfuBjF"
   },
   "outputs": [],
   "source": [
    "with open('fullset_resplit_rmonce_nostopword.pickle', 'rb') as f:\n",
    "    fullset = pickle.load(f)"
   ]
  },
  {
   "cell_type": "code",
   "execution_count": null,
   "metadata": {
    "colab": {},
    "colab_type": "code",
    "id": "vtCoDlZ4uBjG"
   },
   "outputs": [],
   "source": [
    "fullset = pd.read_csv('fullset_resplit_rmonce_nostopword.csv')"
   ]
  },
  {
   "cell_type": "code",
   "execution_count": null,
   "metadata": {
    "colab": {},
    "colab_type": "code",
    "id": "Txs_NCpxuBjH"
   },
   "outputs": [],
   "source": [
    "fullset.Token = fullset.Token.apply(str)"
   ]
  },
  {
   "cell_type": "code",
   "execution_count": null,
   "metadata": {
    "colab": {},
    "colab_type": "code",
    "id": "uV-qspm7uBjI",
    "outputId": "f37c7c3e-8c17-4006-d669-f3b70f411dd1"
   },
   "outputs": [
    {
     "data": {
      "text/html": [
       "<div>\n",
       "<style scoped>\n",
       "    .dataframe tbody tr th:only-of-type {\n",
       "        vertical-align: middle;\n",
       "    }\n",
       "\n",
       "    .dataframe tbody tr th {\n",
       "        vertical-align: top;\n",
       "    }\n",
       "\n",
       "    .dataframe thead th {\n",
       "        text-align: right;\n",
       "    }\n",
       "</style>\n",
       "<table border=\"1\" class=\"dataframe\">\n",
       "  <thead>\n",
       "    <tr style=\"text-align: right;\">\n",
       "      <th></th>\n",
       "      <th>Sentiment</th>\n",
       "      <th>Token</th>\n",
       "    </tr>\n",
       "  </thead>\n",
       "  <tbody>\n",
       "    <tr>\n",
       "      <th>3999993</th>\n",
       "      <td>0</td>\n",
       "      <td>unbeliev bad way bought thi thoma son huge tho...</td>\n",
       "    </tr>\n",
       "    <tr>\n",
       "      <th>3999994</th>\n",
       "      <td>0</td>\n",
       "      <td>almost great broke son reciev thi birthday gif...</td>\n",
       "    </tr>\n",
       "    <tr>\n",
       "      <th>3999995</th>\n",
       "      <td>0</td>\n",
       "      <td>disappoint bought thi toy son love thoma toy n...</td>\n",
       "    </tr>\n",
       "    <tr>\n",
       "      <th>3999996</th>\n",
       "      <td>1</td>\n",
       "      <td>classic jessica mitford thi compil wide rang m...</td>\n",
       "    </tr>\n",
       "    <tr>\n",
       "      <th>3999997</th>\n",
       "      <td>0</td>\n",
       "      <td>comedi scene heard thi dvd disappoint get hope...</td>\n",
       "    </tr>\n",
       "  </tbody>\n",
       "</table>\n",
       "</div>"
      ],
      "text/plain": [
       "         Sentiment                                              Token\n",
       "3999993          0  unbeliev bad way bought thi thoma son huge tho...\n",
       "3999994          0  almost great broke son reciev thi birthday gif...\n",
       "3999995          0  disappoint bought thi toy son love thoma toy n...\n",
       "3999996          1  classic jessica mitford thi compil wide rang m...\n",
       "3999997          0  comedi scene heard thi dvd disappoint get hope..."
      ]
     },
     "execution_count": 5,
     "metadata": {
      "tags": []
     },
     "output_type": "execute_result"
    }
   ],
   "source": [
    "fullset.tail()"
   ]
  },
  {
   "cell_type": "code",
   "execution_count": null,
   "metadata": {
    "colab": {},
    "colab_type": "code",
    "id": "II27YB20uBjO"
   },
   "outputs": [],
   "source": [
    "train_x, test_x, train_y, test_y = train_test_split(fullset['Token'], fullset['Sentiment'], train_size=0.8, random_state=1, stratify=fullset.Sentiment)"
   ]
  },
  {
   "cell_type": "code",
   "execution_count": 9,
   "metadata": {
    "colab": {},
    "colab_type": "code",
    "id": "pN-ZB8svuBjP"
   },
   "outputs": [],
   "source": [
    "from sklearn.feature_extraction.text import CountVectorizer, TfidfVectorizer\n",
    "from sklearn.feature_extraction import DictVectorizer"
   ]
  },
  {
   "cell_type": "markdown",
   "metadata": {
    "colab_type": "text",
    "id": "5Wp_76uRuBjU"
   },
   "source": [
    "## Count Vectors + N-gram"
   ]
  },
  {
   "cell_type": "code",
   "execution_count": null,
   "metadata": {
    "colab": {},
    "colab_type": "code",
    "id": "wfB53n3euBjU",
    "outputId": "f206af35-ce83-4020-fbef-08400a9a8a95"
   },
   "outputs": [
    {
     "name": "stdout",
     "output_type": "stream",
     "text": [
      "# CV + 1-gram: 171.18403363227844\n"
     ]
    }
   ],
   "source": [
    "t0 = time()\n",
    "count_vect_1n = CountVectorizer(analyzer='word', ngram_range=(1,1), token_pattern=r'\\w{1,}', max_features=10323)\n",
    "count_vect_1n.fit(fullset['Token'])\n",
    "print('# CV + 1-gram:', time()-t0)"
   ]
  },
  {
   "cell_type": "code",
   "execution_count": null,
   "metadata": {
    "colab": {},
    "colab_type": "code",
    "id": "GRL-b_f2uBjW",
    "outputId": "b1e53e91-e75e-4caf-eae4-83df2c1e8830"
   },
   "outputs": [
    {
     "name": "stdout",
     "output_type": "stream",
     "text": [
      "# CV + 2-gram: 784.1998519897461\n"
     ]
    }
   ],
   "source": [
    "t0 = time()\n",
    "count_vect_2n = CountVectorizer(analyzer='word', ngram_range=(1,2), token_pattern=r'\\w{1,}', max_features=10323)\n",
    "count_vect_2n.fit(fullset['Token'])\n",
    "print('# CV + 2-gram:', time()-t0)"
   ]
  },
  {
   "cell_type": "code",
   "execution_count": null,
   "metadata": {
    "colab": {},
    "colab_type": "code",
    "id": "lTAk9gkxuBjX",
    "outputId": "e59f3e26-2819-43a8-81df-ed606a9c3139"
   },
   "outputs": [
    {
     "name": "stdout",
     "output_type": "stream",
     "text": [
      "# CV + 3-gram: 2854.7060191631317\n"
     ]
    }
   ],
   "source": [
    "t0 = time()\n",
    "count_vect_3n = CountVectorizer(analyzer='word', ngram_range=(1,3), token_pattern=r'\\w{1,}', max_features=10323)\n",
    "count_vect_3n.fit(fullset['Token'])\n",
    "print('# CV + 3-gram:', time()-t0)"
   ]
  },
  {
   "cell_type": "code",
   "execution_count": null,
   "metadata": {
    "colab": {},
    "colab_type": "code",
    "id": "uHYuvgpiuBjY",
    "outputId": "2800190d-e14b-450c-d700-aaefaa0490b9"
   },
   "outputs": [
    {
     "name": "stdout",
     "output_type": "stream",
     "text": [
      "# Finish CV 1n: 188.2530014514923\n",
      "# Finish CV 2n: 411.8893172740936\n",
      "# Finish CV 3n: 642.8539836406708\n"
     ]
    }
   ],
   "source": [
    "# Transform the training and testing data using count vectorizer object\n",
    "t0 = time()\n",
    "xtrain_count_1n = count_vect_1n.transform(train_x)\n",
    "xvalid_count_1n = count_vect_1n.transform(test_x)\n",
    "print('# Finish CV 1n:', time()-t0)\n",
    "\n",
    "t0 = time()\n",
    "xtrain_count_2n = count_vect_2n.transform(train_x)\n",
    "xvalid_count_2n = count_vect_2n.transform(test_x)\n",
    "print('# Finish CV 2n:', time()-t0)\n",
    "\n",
    "t0 = time()\n",
    "xtrain_count_3n = count_vect_3n.transform(train_x)\n",
    "xvalid_count_3n = count_vect_3n.transform(test_x)\n",
    "print('# Finish CV 3n:', time()-t0)"
   ]
  },
  {
   "cell_type": "markdown",
   "metadata": {
    "colab_type": "text",
    "id": "tKKi2WM3uBjb"
   },
   "source": [
    "## TF-IDF Vectors + N-gram"
   ]
  },
  {
   "cell_type": "code",
   "execution_count": null,
   "metadata": {
    "colab": {},
    "colab_type": "code",
    "id": "x4Ta4pokuBjb",
    "outputId": "3a6c2882-a49f-44f6-bfc3-5cf0b523fca2"
   },
   "outputs": [
    {
     "name": "stdout",
     "output_type": "stream",
     "text": [
      "# TF-IDF + 1-gram: 184.08912563323975\n"
     ]
    }
   ],
   "source": [
    "t0 = time()\n",
    "tfidf_vect_1n = TfidfVectorizer(analyzer='word', ngram_range=(1,1), token_pattern=r'\\w{1,}', max_features=10323)\n",
    "tfidf_vect_1n.fit(fullset['Token'])\n",
    "print('# TF-IDF + 1-gram:', time()-t0)"
   ]
  },
  {
   "cell_type": "code",
   "execution_count": null,
   "metadata": {
    "colab": {},
    "colab_type": "code",
    "id": "dwVrSwPluBjd",
    "outputId": "625a2e2a-a004-4aa3-e292-f9f1f5e3ee33"
   },
   "outputs": [
    {
     "name": "stdout",
     "output_type": "stream",
     "text": [
      "# TF-IDF + 2-gram: 1064.7569992542267\n"
     ]
    }
   ],
   "source": [
    "t0 = time()\n",
    "tfidf_vect_2n = TfidfVectorizer(analyzer='word', ngram_range=(1,2), token_pattern=r'\\w{1,}', max_features=10323)\n",
    "tfidf_vect_2n.fit(fullset['Token'])\n",
    "print('# TF-IDF + 2-gram:', time()-t0)"
   ]
  },
  {
   "cell_type": "code",
   "execution_count": null,
   "metadata": {
    "colab": {},
    "colab_type": "code",
    "id": "iVd9YTmouBjg",
    "outputId": "502b224f-960f-4e03-f6be-b9168f11cd49"
   },
   "outputs": [
    {
     "name": "stdout",
     "output_type": "stream",
     "text": [
      "# TF-IDF + 3-gram: 3436.6553223133087\n"
     ]
    }
   ],
   "source": [
    "t0 = time()\n",
    "tfidf_vect_3n = TfidfVectorizer(analyzer='word', ngram_range=(1,3), token_pattern=r'\\w{1,}', max_features=10323)\n",
    "tfidf_vect_3n.fit(fullset['Token'])\n",
    "print('# TF-IDF + 3-gram:', time()-t0)"
   ]
  },
  {
   "cell_type": "code",
   "execution_count": null,
   "metadata": {
    "colab": {},
    "colab_type": "code",
    "id": "4_-5hYMruBji",
    "outputId": "b7e14169-7455-4588-97e2-690757d3ac46"
   },
   "outputs": [
    {
     "name": "stdout",
     "output_type": "stream",
     "text": [
      "# Finish TF-IDF 1n: 194.93609380722046\n",
      "# Finish TF-IDF 2n: 461.5940897464752\n",
      "# Finish TF-IDF 3n: 638.944581747055\n"
     ]
    }
   ],
   "source": [
    "t0 = time()\n",
    "xtrain_tfidf_1n = tfidf_vect_1n.transform(train_x)\n",
    "xvalid_tfidf_1n = tfidf_vect_1n.transform(test_x)\n",
    "print('# Finish TF-IDF 1n:', time()-t0)\n",
    "\n",
    "t0 = time()\n",
    "xtrain_tfidf_2n = tfidf_vect_2n.transform(train_x)\n",
    "xvalid_tfidf_2n = tfidf_vect_2n.transform(test_x)\n",
    "print('# Finish TF-IDF 2n:', time()-t0)\n",
    "\n",
    "t0 = time()\n",
    "xtrain_tfidf_3n = tfidf_vect_3n.transform(train_x)\n",
    "xvalid_tfidf_3n = tfidf_vect_3n.transform(test_x)\n",
    "print('# Finish TF-IDF 3n:', time()-t0)"
   ]
  },
  {
   "cell_type": "markdown",
   "metadata": {
    "colab_type": "text",
    "id": "i2jYfB19uBjj"
   },
   "source": [
    "## Word2vec"
   ]
  },
  {
   "cell_type": "code",
   "execution_count": 2,
   "metadata": {
    "colab": {},
    "colab_type": "code",
    "id": "hStsi823uBjk"
   },
   "outputs": [
    {
     "name": "stderr",
     "output_type": "stream",
     "text": [
      "1193514it [01:09, 17075.74it/s]\n"
     ]
    }
   ],
   "source": [
    "'''\n",
    "from gensim.models import word2vec\n",
    "from gensim.models.keyedvectors import KeyedVectors\n",
    "sentence = [(i.split()) for i in fullset.Token]\n",
    "w2vmodel = word2vec.Word2Vec(sentence, min_count=1, size=100, workers=cores-1)\n",
    "'''\n",
    "\n",
    "VECTOR_PATH = 'glove.twitter.27B.200d.txt'\n",
    "def get_coefs(word, *arr): return word, np.asarray(arr, dtype='float32')\n",
    "\n",
    "embeddings_index = dict(get_coefs(*o.rstrip().rsplit(' ')) for o in tqdm(open(VECTOR_PATH)))"
   ]
  },
  {
   "cell_type": "code",
   "execution_count": 3,
   "metadata": {},
   "outputs": [],
   "source": [
    "fullset = pd.read_csv('fullset_ez_processed.csv')\n",
    "fullset.Token = fullset.Token.astype('str')"
   ]
  },
  {
   "cell_type": "code",
   "execution_count": 4,
   "metadata": {},
   "outputs": [],
   "source": [
    "train_vec, test_vec, train_y, test_y = train_test_split(fullset['Token'], fullset['Sentiment'], train_size=0.8, random_state=1, stratify=fullset.Sentiment)"
   ]
  },
  {
   "cell_type": "code",
   "execution_count": 5,
   "metadata": {
    "colab": {},
    "colab_type": "code",
    "id": "AG0tH4WHuBjl"
   },
   "outputs": [
    {
     "name": "stderr",
     "output_type": "stream",
     "text": [
      "100%|██████████| 3200000/3200000 [02:45<00:00, 19289.16it/s]\n",
      "100%|██████████| 800000/800000 [01:01<00:00, 12916.37it/s]\n"
     ]
    }
   ],
   "source": [
    "train_vec = [[embeddings_index[w] for w in x if w in embeddings_index] for x in tqdm(train_vec)]\n",
    "test_vec = [[embeddings_index[w] for w in x if w in embeddings_index] for x in tqdm(test_vec)]"
   ]
  },
  {
   "cell_type": "markdown",
   "metadata": {
    "colab_type": "text",
    "id": "VYbMuSUvuBjm"
   },
   "source": [
    "# Traditional ML"
   ]
  },
  {
   "cell_type": "code",
   "execution_count": 6,
   "metadata": {
    "colab": {},
    "colab_type": "code",
    "id": "ZTQhEGG-uBjm"
   },
   "outputs": [],
   "source": [
    "def train_model(classifier, feature_vector_train, label, feature_vector_valid, is_not_svm=True):\n",
    "    # fit the training dataset on the classifier\n",
    "    trm = classifier.fit(feature_vector_train, label)\n",
    "    \n",
    "    # predict the labels on validation dataset\n",
    "    predictions = trm.predict(feature_vector_valid)\n",
    "    \n",
    "    print('Accuracy:', accuracy_score(predictions, test_y).round(4))\n",
    "    print('Precision:', precision_score(predictions, test_y).round(4))\n",
    "    print('Recall:', recall_score(predictions, test_y).round(4))\n",
    "    print('F1 Score:', f1_score(predictions, test_y).round(4))\n",
    "    '''\n",
    "    confusion = confusion_matrix(predictions, test_y)\n",
    "    fig, ax = plt.subplots(figsize=(8,6))\n",
    "    plot_confusion_matrix(confusion, classes=['negative','positive'], normalize=True)\n",
    "    plt.show()\n",
    "    '''\n",
    "    #print('AUC:', roc_auc_score(test_y, prob[:,1]).round(4),'\\n')\n",
    "    if is_not_svm:\n",
    "        prob = trm.predict_proba(feature_vector_valid)\n",
    "        fpr, tpr, _ = roc_curve(test_y, prob[:,1])\n",
    "        auc = roc_auc_score(test_y, prob[:,1])\n",
    "\n",
    "        fig, ax= plt.subplots(figsize=(8,6))\n",
    "        ax.plot(fpr, tpr, label='ROC curve (AUC = {:.4f})'.format(auc))\n",
    "        ax.set_xlabel('False positive rate')\n",
    "        ax.set_ylabel('True Positive Rate')\n",
    "        ax.set_title('ROC curve', fontsize=14)\n",
    "        sns.despine()\n",
    "        plt.legend()\n",
    "        plt.show()"
   ]
  },
  {
   "cell_type": "markdown",
   "metadata": {
    "colab_type": "text",
    "id": "JHPw1mi_uBjn"
   },
   "source": [
    "## Naive Bayes"
   ]
  },
  {
   "cell_type": "code",
   "execution_count": null,
   "metadata": {
    "colab": {},
    "colab_type": "code",
    "id": "ULR7poH_uBjo",
    "outputId": "6df3f1f5-3e1a-4ae1-8710-ba97ab6516b5"
   },
   "outputs": [
    {
     "name": "stdout",
     "output_type": "stream",
     "text": [
      "Accuracy: 0.8408\n",
      "Precision: 0.8541\n",
      "Recall: 0.8319\n",
      "F1 Score: 0.8429\n"
     ]
    },
    {
     "data": {
      "image/png": "[encoded data removed]",
      "text/plain": [
       "<Figure size 576x432 with 1 Axes>"
      ]
     },
     "metadata": {
      "needs_background": "light",
      "tags": []
     },
     "output_type": "display_data"
    },
    {
     "name": "stdout",
     "output_type": "stream",
     "text": [
      "# Naive Bayes + Count Vectors + 1-gram: 5.476766347885132 \n",
      "\n",
      "Accuracy: 0.8595\n",
      "Precision: 0.8815\n",
      "Recall: 0.8444\n",
      "F1 Score: 0.8625\n"
     ]
    },
    {
     "data": {
      "image/png": "[encoded data removed]",
      "text/plain": [
       "<Figure size 576x432 with 1 Axes>"
      ]
     },
     "metadata": {
      "needs_background": "light",
      "tags": []
     },
     "output_type": "display_data"
    },
    {
     "name": "stdout",
     "output_type": "stream",
     "text": [
      "# Naive Bayes + Count Vectors + 2-gram 6.045854330062866 \n",
      "\n",
      "Accuracy: 0.8594\n",
      "Precision: 0.8823\n",
      "Recall: 0.8437\n",
      "F1 Score: 0.8626\n"
     ]
    },
    {
     "data": {
      "image/png": "[encoded data removed]",
      "text/plain": [
       "<Figure size 576x432 with 1 Axes>"
      ]
     },
     "metadata": {
      "needs_background": "light",
      "tags": []
     },
     "output_type": "display_data"
    },
    {
     "name": "stdout",
     "output_type": "stream",
     "text": [
      "# Naive Bayes + Count Vectors + 3-gram 6.210836410522461 \n",
      "\n"
     ]
    }
   ],
   "source": [
    "t0 = time()\n",
    "train_model(naive_bayes.BernoulliNB(), xtrain_count_1n, train_y, xvalid_count_1n)\n",
    "print(\"# Naive Bayes + Count Vectors + 1-gram:\", time()-t0, '\\n')\n",
    "\n",
    "t0 = time()\n",
    "train_model(naive_bayes.BernoulliNB(), xtrain_count_2n, train_y, xvalid_count_2n)\n",
    "print(\"# Naive Bayes + Count Vectors + 2-gram\", time()-t0, '\\n')\n",
    "\n",
    "t0 = time()\n",
    "train_model(naive_bayes.BernoulliNB(), xtrain_count_3n, train_y, xvalid_count_3n)\n",
    "print(\"# Naive Bayes + Count Vectors + 3-gram\", time()-t0, '\\n')"
   ]
  },
  {
   "cell_type": "code",
   "execution_count": null,
   "metadata": {
    "colab": {},
    "colab_type": "code",
    "id": "uymq6DPOuBjr",
    "outputId": "96360e75-0cae-4beb-be5d-28ccaa4e05c1"
   },
   "outputs": [
    {
     "name": "stdout",
     "output_type": "stream",
     "text": [
      "Accuracy: 0.8408\n",
      "Precision: 0.8541\n",
      "Recall: 0.8319\n",
      "F1 Score: 0.8429\n"
     ]
    },
    {
     "data": {
      "image/png": "[encoded data removed]",
      "text/plain": [
       "<Figure size 576x432 with 1 Axes>"
      ]
     },
     "metadata": {
      "needs_background": "light",
      "tags": []
     },
     "output_type": "display_data"
    },
    {
     "name": "stdout",
     "output_type": "stream",
     "text": [
      "# Naive Bayes + TF-IDF + 1-gram 5.144940137863159 \n",
      "\n",
      "Accuracy: 0.8595\n",
      "Precision: 0.8815\n",
      "Recall: 0.8444\n",
      "F1 Score: 0.8625\n"
     ]
    },
    {
     "data": {
      "image/png": "[encoded data removed]",
      "text/plain": [
       "<Figure size 576x432 with 1 Axes>"
      ]
     },
     "metadata": {
      "needs_background": "light",
      "tags": []
     },
     "output_type": "display_data"
    },
    {
     "name": "stdout",
     "output_type": "stream",
     "text": [
      "# Naive Bayes + TF-IDF + 2-gram 4.676194190979004 \n",
      "\n",
      "Accuracy: 0.8594\n",
      "Precision: 0.8823\n",
      "Recall: 0.8437\n",
      "F1 Score: 0.8626\n"
     ]
    },
    {
     "data": {
      "image/png": "[encoded data removed]",
      "text/plain": [
       "<Figure size 576x432 with 1 Axes>"
      ]
     },
     "metadata": {
      "needs_background": "light",
      "tags": []
     },
     "output_type": "display_data"
    },
    {
     "name": "stdout",
     "output_type": "stream",
     "text": [
      "# Naive Bayes + TF-IDF + 3-gram 4.638377904891968 \n",
      "\n"
     ]
    }
   ],
   "source": [
    "t0 = time()\n",
    "train_model(naive_bayes.BernoulliNB(), xtrain_tfidf_1n, train_y, xvalid_tfidf_1n)\n",
    "print(\"# Naive Bayes + TF-IDF + 1-gram\", time()-t0, '\\n')\n",
    "\n",
    "t0 = time()\n",
    "train_model(naive_bayes.BernoulliNB(), xtrain_tfidf_2n, train_y, xvalid_tfidf_2n)\n",
    "print(\"# Naive Bayes + TF-IDF + 2-gram\", time()-t0, '\\n')\n",
    "\n",
    "t0 = time()\n",
    "train_model(naive_bayes.BernoulliNB(), xtrain_tfidf_3n, train_y, xvalid_tfidf_3n)\n",
    "print(\"# Naive Bayes + TF-IDF + 3-gram\", time()-t0, '\\n')"
   ]
  },
  {
   "cell_type": "code",
   "execution_count": null,
   "metadata": {
    "colab": {},
    "colab_type": "code",
    "id": "SejcNGMuuBjt"
   },
   "outputs": [],
   "source": [
    "t0 = time()\n",
    "train_model(naive_bayes.BernoulliNB(), np.array(train_vec).reshape(1,-1), train_y, np.array(test_vec).reshape(1,-1))\n",
    "print(\"# Naive Bayes + Word2vec\", time()-t0, '\\n')"
   ]
  },
  {
   "cell_type": "markdown",
   "metadata": {
    "colab_type": "text",
    "id": "KKj6egzpuBju"
   },
   "source": [
    "## SVM"
   ]
  },
  {
   "cell_type": "code",
   "execution_count": null,
   "metadata": {
    "colab": {},
    "colab_type": "code",
    "id": "dsRI25jtuBjv",
    "outputId": "113a992e-7d2c-4715-8cda-06b3e3476c5d"
   },
   "outputs": [
    {
     "name": "stdout",
     "output_type": "stream",
     "text": [
      "Accuracy: 0.8902\n",
      "Precision: 0.8979\n",
      "Recall: 0.8843\n",
      "F1 Score: 0.891\n",
      "# SVM + Count Vectors + 1-gram 2241.3633818626404 \n",
      "\n",
      "Accuracy: 0.9064\n",
      "Precision: 0.9116\n",
      "Recall: 0.9023\n",
      "F1 Score: 0.9069\n",
      "# SVM + Count Vectors + 2-gram 2235.901044845581 \n",
      "\n",
      "Accuracy: 0.9062\n",
      "Precision: 0.9124\n",
      "Recall: 0.9013\n",
      "F1 Score: 0.9068\n",
      "# SVM + Count Vectors + 3-gram 2253.657074689865 \n",
      "\n"
     ]
    }
   ],
   "source": [
    "t0 = time()\n",
    "train_model(svm.LinearSVC(), xtrain_count_1n, train_y, xvalid_count_1n, is_not_svm=False)\n",
    "print(\"# SVM + Count Vectors + 1-gram\", time()-t0, '\\n')\n",
    "\n",
    "t0 = time()\n",
    "train_model(svm.LinearSVC(), xtrain_count_2n, train_y, xvalid_count_2n, is_not_svm=False)\n",
    "print(\"# SVM + Count Vectors + 2-gram\", time()-t0, '\\n')\n",
    "\n",
    "t0 = time()\n",
    "train_model(svm.LinearSVC(), xtrain_count_3n, train_y, xvalid_count_3n, is_not_svm=False)\n",
    "print(\"# SVM + Count Vectors + 3-gram\", time()-t0, '\\n')"
   ]
  },
  {
   "cell_type": "code",
   "execution_count": null,
   "metadata": {
    "colab": {},
    "colab_type": "code",
    "id": "OuOPpAYTuBjz",
    "outputId": "2e822dd4-e4bb-4262-83a2-cff73ef01a2b"
   },
   "outputs": [
    {
     "name": "stdout",
     "output_type": "stream",
     "text": [
      "Accuracy: 0.8911\n",
      "Precision: 0.894\n",
      "Recall: 0.8888\n",
      "F1 Score: 0.8914\n",
      "# SVM + TF-IDF + 1-gram 116.95248532295227 \n",
      "\n",
      "Accuracy: 0.9069\n",
      "Precision: 0.9092\n",
      "Recall: 0.9049\n",
      "F1 Score: 0.9071\n",
      "# SVM + TF-IDF + 2-gram 107.8987967967987 \n",
      "\n",
      "Accuracy: 0.9067\n",
      "Precision: 0.9091\n",
      "Recall: 0.9047\n",
      "F1 Score: 0.9069\n",
      "# SVM + TF-IDF + 3-gram 111.7850570678711 \n",
      "\n"
     ]
    }
   ],
   "source": [
    "t0 = time()\n",
    "train_model(svm.LinearSVC(), xtrain_tfidf_1n, train_y, xvalid_tfidf_1n, is_not_svm=False)\n",
    "print(\"# SVM + TF-IDF + 1-gram\", time()-t0, '\\n')\n",
    "\n",
    "t0 = time()\n",
    "train_model(svm.LinearSVC(), xtrain_tfidf_2n, train_y, xvalid_tfidf_2n, is_not_svm=False)\n",
    "print(\"# SVM + TF-IDF + 2-gram\", time()-t0, '\\n')\n",
    "\n",
    "t0 = time()\n",
    "train_model(svm.LinearSVC(), xtrain_tfidf_3n, train_y, xvalid_tfidf_3n, is_not_svm=False)\n",
    "print(\"# SVM + TF-IDF + 3-gram\", time()-t0, '\\n')"
   ]
  },
  {
   "cell_type": "code",
   "execution_count": null,
   "metadata": {
    "colab": {},
    "colab_type": "code",
    "id": "yNhwf6j2uBj2"
   },
   "outputs": [],
   "source": [
    "t0 = time()\n",
    "train_model(svm.LinearSVC(), train_vec, train_y, valid_vec, is_not_svm=False)\n",
    "print(\"# SVM + Word2vec\", time()-t0)"
   ]
  },
  {
   "cell_type": "markdown",
   "metadata": {
    "colab_type": "text",
    "id": "YLcWFN8RuBj3"
   },
   "source": [
    "## Logistic Regression"
   ]
  },
  {
   "cell_type": "code",
   "execution_count": null,
   "metadata": {
    "colab": {},
    "colab_type": "code",
    "id": "AoLVRAH9uBj5",
    "outputId": "7b407814-8931-4a22-bc0a-0549d7d3184f"
   },
   "outputs": [
    {
     "name": "stdout",
     "output_type": "stream",
     "text": [
      "Accuracy: 0.8904\n",
      "Precision: 0.8965\n",
      "Recall: 0.8858\n",
      "F1 Score: 0.8911\n"
     ]
    },
    {
     "data": {
      "image/png": "[encoded data removed]",
      "text/plain": [
       "<Figure size 576x432 with 1 Axes>"
      ]
     },
     "metadata": {
      "needs_background": "light",
      "tags": []
     },
     "output_type": "display_data"
    },
    {
     "name": "stdout",
     "output_type": "stream",
     "text": [
      "Logistic Regression + Count Vectors + 1-gram 328.32827591896057 \n",
      "\n",
      "Accuracy: 0.9065\n",
      "Precision: 0.9107\n",
      "Recall: 0.9031\n",
      "F1 Score: 0.9069\n"
     ]
    },
    {
     "data": {
      "image/png": "[encoded data removed]",
      "text/plain": [
       "<Figure size 576x432 with 1 Axes>"
      ]
     },
     "metadata": {
      "needs_background": "light",
      "tags": []
     },
     "output_type": "display_data"
    },
    {
     "name": "stdout",
     "output_type": "stream",
     "text": [
      "\n",
      "Logistic Regression + Count Vectors + 2-gram 549.03528881073 \n",
      "\n",
      "Accuracy: 0.9063\n",
      "Precision: 0.9107\n",
      "Recall: 0.9028\n",
      "F1 Score: 0.9067\n"
     ]
    },
    {
     "data": {
      "image/png": "[encoded data removed]",
      "text/plain": [
       "<Figure size 576x432 with 1 Axes>"
      ]
     },
     "metadata": {
      "needs_background": "light",
      "tags": []
     },
     "output_type": "display_data"
    },
    {
     "name": "stdout",
     "output_type": "stream",
     "text": [
      "\n",
      "Logistic Regression + Count Vectors + 3-gram 879.6177337169647 \n",
      "\n"
     ]
    }
   ],
   "source": [
    "t0 = time()\n",
    "train_model(linear_model.LogisticRegression(), xtrain_count_1n, train_y, xvalid_count_1n)\n",
    "print(\"Logistic Regression + Count Vectors + 1-gram\", time()-t0, '\\n')\n",
    "\n",
    "t0 = time()\n",
    "train_model(linear_model.LogisticRegression(), xtrain_count_2n, train_y, xvalid_count_2n)\n",
    "print(\"\\nLogistic Regression + Count Vectors + 2-gram\", time()-t0, '\\n')\n",
    "\n",
    "t0 = time()\n",
    "train_model(linear_model.LogisticRegression(), xtrain_count_3n, train_y, xvalid_count_3n)\n",
    "print(\"\\nLogistic Regression + Count Vectors + 3-gram\", time()-t0, '\\n')"
   ]
  },
  {
   "cell_type": "code",
   "execution_count": null,
   "metadata": {
    "colab": {},
    "colab_type": "code",
    "id": "du1ez33yuBj7",
    "outputId": "92b4cdfe-8663-4255-e675-87d803c70342"
   },
   "outputs": [
    {
     "name": "stdout",
     "output_type": "stream",
     "text": [
      "Accuracy: 0.8909\n",
      "Precision: 0.8936\n",
      "Recall: 0.8889\n",
      "F1 Score: 0.8912\n"
     ]
    },
    {
     "data": {
      "image/png": "[encoded data removed]",
      "text/plain": [
       "<Figure size 576x432 with 1 Axes>"
      ]
     },
     "metadata": {
      "needs_background": "light",
      "tags": []
     },
     "output_type": "display_data"
    },
    {
     "name": "stdout",
     "output_type": "stream",
     "text": [
      "Logistic Regression + TF-IDF + 1-gram 132.99504709243774 \n",
      "\n",
      "Accuracy: 0.9068\n",
      "Precision: 0.9089\n",
      "Recall: 0.9051\n",
      "F1 Score: 0.907\n"
     ]
    },
    {
     "data": {
      "image/png": "[encoded data removed]",
      "text/plain": [
       "<Figure size 576x432 with 1 Axes>"
      ]
     },
     "metadata": {
      "needs_background": "light",
      "tags": []
     },
     "output_type": "display_data"
    },
    {
     "name": "stdout",
     "output_type": "stream",
     "text": [
      "\n",
      "Logistic Regression + TF-IDF + 2-gram 194.40131068229675 \n",
      "\n",
      "Accuracy: 0.9066\n",
      "Precision: 0.9089\n",
      "Recall: 0.9047\n",
      "F1 Score: 0.9068\n"
     ]
    },
    {
     "data": {
      "image/png": "[encoded data removed]",
      "text/plain": [
       "<Figure size 576x432 with 1 Axes>"
      ]
     },
     "metadata": {
      "needs_background": "light",
      "tags": []
     },
     "output_type": "display_data"
    },
    {
     "name": "stdout",
     "output_type": "stream",
     "text": [
      "\n",
      "Logistic Regression + TF-IDF + 3-gram 208.38427138328552 \n",
      "\n"
     ]
    }
   ],
   "source": [
    "t0 = time()\n",
    "train_model(linear_model.LogisticRegression(), xtrain_tfidf_1n, train_y, xvalid_tfidf_1n)\n",
    "print(\"Logistic Regression + TF-IDF + 1-gram\", time()-t0, '\\n')\n",
    "\n",
    "t0 = time()\n",
    "train_model(linear_model.LogisticRegression(), xtrain_tfidf_2n, train_y, xvalid_tfidf_2n)\n",
    "print(\"\\nLogistic Regression + TF-IDF + 2-gram\", time()-t0, '\\n')\n",
    "\n",
    "t0 = time()\n",
    "train_model(linear_model.LogisticRegression(), xtrain_tfidf_3n, train_y, xvalid_tfidf_3n)\n",
    "print(\"\\nLogistic Regression + TF-IDF + 3-gram\", time()-t0, '\\n')"
   ]
  },
  {
   "cell_type": "code",
   "execution_count": null,
   "metadata": {
    "colab": {},
    "colab_type": "code",
    "id": "_bw3Xo3UuBj9"
   },
   "outputs": [],
   "source": [
    "t0 = time()\n",
    "train_model(linear_model.LogisticRegression(), train_vec, train_y, valid_vec)\n",
    "print(\"# Logistic Regression + Word2vec\", time()-t0)"
   ]
  },
  {
   "cell_type": "markdown",
   "metadata": {
    "colab_type": "text",
    "id": "UNVkRH1puBj_"
   },
   "source": [
    "# Neural Network"
   ]
  },
  {
   "cell_type": "code",
   "execution_count": 5,
   "metadata": {
    "colab": {
     "base_uri": "https://localhost:8080/",
     "height": 34
    },
    "colab_type": "code",
    "id": "sxqS5QUGuBj_",
    "outputId": "5eea1d44-8bac-4ddf-fa27-c9711f2ba663"
   },
   "outputs": [
    {
     "name": "stderr",
     "output_type": "stream",
     "text": [
      "Using TensorFlow backend.\n"
     ]
    }
   ],
   "source": [
    "from keras.preprocessing import text, sequence\n",
    "from keras import layers, models, optimizers\n",
    "from keras.preprocessing.text import Tokenizer\n",
    "from keras.preprocessing.sequence import pad_sequences\n",
    "from keras.utils import to_categorical"
   ]
  },
  {
   "cell_type": "code",
   "execution_count": null,
   "metadata": {},
   "outputs": [],
   "source": [
    "os.environ[\"CUDA_VISIBLE_DEVICES\"] = \"0\""
   ]
  },
  {
   "cell_type": "code",
   "execution_count": null,
   "metadata": {
    "colab": {},
    "colab_type": "code",
    "id": "QB9rS_N0uBkA"
   },
   "outputs": [],
   "source": [
    "fullset = pd.read_csv('fullset_ez_processed.csv')\n",
    "fullset.Token = fullset.Token.astype('str')"
   ]
  },
  {
   "cell_type": "code",
   "execution_count": null,
   "metadata": {
    "colab": {},
    "colab_type": "code",
    "id": "R660T5mhuBkB"
   },
   "outputs": [],
   "source": [
    "MAX_SEQUENCE_LENGTH = 256    \n",
    "EMBEDDING_DIM = 200\n",
    "VALIDATION_SPLIT = 0.1\n",
    "TEST_SPLIT = 0.1\n",
    "word_index = 926452"
   ]
  },
  {
   "cell_type": "code",
   "execution_count": 8,
   "metadata": {
    "colab": {
     "base_uri": "https://localhost:8080/",
     "height": 136
    },
    "colab_type": "code",
    "id": "fR_TPyBFuBkD",
    "outputId": "8adf7c42-6627-4154-9a46-8e33e7493006"
   },
   "outputs": [
    {
     "name": "stdout",
     "output_type": "stream",
     "text": [
      "Found 926452 unique tokens.\n",
      "Shape of data tensor: (4000000, 256)\n",
      "Shape of label tensor: (4000000, 2)\n",
      "Train rows: 3200000\n",
      "Valid rows: 400000\n",
      "Test rows: 400000\n",
      "Time Spent: 614.4667632579803 s\n"
     ]
    }
   ],
   "source": [
    "# One-hot\n",
    "t0 = time()\n",
    "\n",
    "tokenizer = Tokenizer()\n",
    "tokenizer.fit_on_texts(fullset['Token'])\n",
    "sequences = tokenizer.texts_to_sequences(fullset['Token'])\n",
    "word_index = tokenizer.word_index\n",
    "print('Found %s unique tokens.' % len(word_index))\n",
    "data = pad_sequences(sequences, maxlen=MAX_SEQUENCE_LENGTH)\n",
    "labels = to_categorical(np.asarray(fullset['Sentiment']))\n",
    "print('Shape of data tensor:', data.shape)\n",
    "print('Shape of label tensor:', labels.shape)\n",
    "\n",
    "p1 = int(len(data)*(1-VALIDATION_SPLIT-TEST_SPLIT))\n",
    "p2 = int(len(data)*(1-TEST_SPLIT))\n",
    "x_train = data[:p1]\n",
    "y_train = labels[:p1]\n",
    "x_val = data[p1:p2]\n",
    "y_val = labels[p1:p2]\n",
    "x_test = data[p2:]\n",
    "y_test = labels[p2:]\n",
    "print('Train rows:', len(x_train))\n",
    "print('Valid rows:', len(x_val))\n",
    "print('Test rows:', len(x_test))\n",
    "\n",
    "print('Time Spent:', time()-t0, 's')"
   ]
  },
  {
   "cell_type": "code",
   "execution_count": null,
   "metadata": {
    "colab": {},
    "colab_type": "code",
    "id": "MPmBW8IIxwMX"
   },
   "outputs": [],
   "source": [
    "with open('ez-200.pickle', 'rb') as f:\n",
    "    file = pickle.load(f)\n",
    "    x_train = file[0]\n",
    "    y_train = file[1]\n",
    "    x_val = file[2]\n",
    "    y_val = file[3]\n",
    "    x_test = file[4]\n",
    "    y_test = file[5]\n",
    "    del(file)"
   ]
  },
  {
   "cell_type": "code",
   "execution_count": null,
   "metadata": {
    "colab": {},
    "colab_type": "code",
    "id": "lAL_i3XWj1Tw"
   },
   "outputs": [],
   "source": [
    "del(fullset)\n",
    "del(data)\n",
    "del(labels)"
   ]
  },
  {
   "cell_type": "code",
   "execution_count": 9,
   "metadata": {
    "colab": {
     "base_uri": "https://localhost:8080/",
     "height": 139
    },
    "colab_type": "code",
    "id": "_vH_rQEtuBkE",
    "outputId": "0fba49ca-39a7-4c44-fe60-bdfb74a9b940"
   },
   "outputs": [
    {
     "name": "stderr",
     "output_type": "stream",
     "text": [
      "1193514it [01:25, 14039.83it/s]\n",
      "100%|██████████| 926452/926452 [00:01<00:00, 743312.19it/s]\n",
      "WARNING: Logging before flag parsing goes to stderr.\n",
      "W0727 22:19:08.216580 140427255142272 deprecation_wrapper.py:119] From /usr/local/lib/python3.6/dist-packages/keras/backend/tensorflow_backend.py:74: The name tf.get_default_graph is deprecated. Please use tf.compat.v1.get_default_graph instead.\n",
      "\n"
     ]
    },
    {
     "name": "stdout",
     "output_type": "stream",
     "text": [
      "Time Spent: 99.69976949691772 s\n"
     ]
    }
   ],
   "source": [
    "# Word2vec\n",
    "# from keras.layers import Embedding\n",
    "t0 = time()\n",
    "\n",
    "VECTOR_PATH = 'glove.twitter.27B.200d.txt'\n",
    "\n",
    "def get_coefs(word, *arr): return word, np.asarray(arr, dtype='float32')\n",
    "embeddings_index = dict(get_coefs(*o.rstrip().rsplit(' ')) for o in tqdm(open(VECTOR_PATH)))\n",
    "\n",
    "all_embs = np.stack(embeddings_index.values())\n",
    "emb_mean, emb_std = all_embs.mean(), all_embs.std()\n",
    "embed_size = all_embs.shape[1]\n",
    "\n",
    "word_index = tokenizer.word_index\n",
    "nb_words = len(word_index)\n",
    "\n",
    "# change below line if computing normal stats is too slow\n",
    "embedding_matrix = np.random.normal(emb_mean, emb_std, (nb_words, embed_size)) # embedding_matrix = np.zeros((nb_words, embed_size))\n",
    "for word, i in tqdm(word_index.items()):\n",
    "    # if i >= max_features: continue\n",
    "    embedding_vector = embeddings_index.get(word)\n",
    "    if embedding_vector is not None: embedding_matrix[i] = embedding_vector\n",
    "\n",
    "embedding_layer = Embedding(len(word_index),\n",
    "                            EMBEDDING_DIM,\n",
    "                            weights=[embedding_matrix],\n",
    "                            input_length=MAX_SEQUENCE_LENGTH,\n",
    "                            trainable=True)\n",
    "\n",
    "print('Time Spent:', time()-t0, 's')"
   ]
  },
  {
   "cell_type": "markdown",
   "metadata": {
    "colab_type": "text",
    "id": "onzkxEZyuBkF"
   },
   "source": [
    "## CNN"
   ]
  },
  {
   "cell_type": "code",
   "execution_count": 1,
   "metadata": {
    "ExecuteTime": {
     "end_time": "2019-08-03T20:40:28.092994Z",
     "start_time": "2019-08-03T20:40:28.089604Z"
    }
   },
   "outputs": [
    {
     "name": "stdout",
     "output_type": "stream",
     "text": [
      "_________________________________________________________________\n",
      "Layer (type)                 Output Shape              Param #   \n",
      "=================================================================\n",
      "embedding_1 (Embedding)      (None, 256, 200)          185290600 \n",
      "_________________________________________________________________\n",
      "conv1d_1 (Conv1D)            (None, 254, 256)          153856    \n",
      "_________________________________________________________________\n",
      "max_pooling1d_1 (MaxPooling1 (None, 84, 256)           0         \n",
      "_________________________________________________________________\n",
      "flatten_1 (Flatten)          (None, 21504)             0         \n",
      "_________________________________________________________________\n",
      "dense_1 (Dense)              (None, 2)                 43010     \n",
      "=================================================================\n",
      "Total params: 185,487,466\n",
      "Trainable params: 185,487,466\n",
      "Non-trainable params: 0\n",
      "_________________________________________________________________\n",
      "Train on 3200000 samples, validate on 400000 samples\n",
      "Epoch 1/2\n",
      "3200000/3200000 [==============================] - 1936s 605us/step - loss: 0.2090 - acc: 0.9199 - val_loss: 0.1796 - val_acc: 0.9338\n",
      "Epoch 2/2\n",
      "3200000/3200000 [==============================] - 1931s 603us/step - loss: 0.1480 - acc: 0.9471 - val_loss: 0.1857 - val_acc: 0.9328\n",
      "400000/400000 [==============================] - 51s 128us/step\n",
      "[Test] Loss: 0.18922021908558906\n",
      "[Test] Accuracy: 0.93167875\n",
      "Time Spent: 3918.536788702011 s\n"
     ]
    }
   ],
   "source": [
    "# CNN + One-hot\n",
    "cnn_t0 = time()\n",
    "\n",
    "from keras.layers import Dense, Input, Flatten, Dropout\n",
    "from keras.layers import Conv1D, MaxPooling1D, Embedding\n",
    "from keras.models import Sequential\n",
    "\n",
    "cnn = Sequential()\n",
    "cnn.add(Embedding(word_index+1, EMBEDDING_DIM, input_length=MAX_SEQUENCE_LENGTH))\n",
    "cnn.add(Conv1D(256, 3, padding='valid', activation='elu', strides=1))\n",
    "cnn.add(MaxPooling1D(3))\n",
    "# cnn.add(Dropout(0.2))\n",
    "cnn.add(Flatten())\n",
    "# cnn.add(Dense(EMBEDDING_DIM, activation='elu'))    # Rapid convergence\n",
    "cnn.add(Dense(2, activation='sigmoid'))              # Polarity classification\n",
    "cnn.summary()\n",
    "\n",
    "cnn.compile(loss='binary_crossentropy', optimizer='adam', metrics=['acc'])\n",
    "history = cnn.fit(x_train, y_train, validation_data=(x_val, y_val), epochs=2, batch_size=512)\n",
    "\n",
    "# Result: CNN + One-hot \n",
    "cnn_result = cnn.evaluate(x_test, y_test)\n",
    "print('[Test] Loss:', cnn_result[0])\n",
    "print('[Test] Accuracy:', cnn_result[1])\n",
    "\n",
    "cnn_t1 = time()-cnn_t0\n",
    "print('Time Spent:', cnn_t1, 's')"
   ]
  },
  {
   "cell_type": "code",
   "execution_count": 11,
   "metadata": {
    "colab": {
     "base_uri": "https://localhost:8080/",
     "height": 734
    },
    "colab_type": "code",
    "id": "uljIEfrvuBkG",
    "outputId": "c9edb4fd-14bb-4da4-a2df-e53f95f2b72a"
   },
   "outputs": [
    {
     "name": "stderr",
     "output_type": "stream",
     "text": [
      "Instructions for updating:\n",
      "Use tf.where in 2.0, which has the same broadcast rule as np.where\n"
     ]
    },
    {
     "name": "stdout",
     "output_type": "stream",
     "text": [
      "_________________________________________________________________\n",
      "Layer (type)                 Output Shape              Param #   \n",
      "=================================================================\n",
      "embedding_1 (Embedding)      (None, 256, 200)          185290400 \n",
      "_________________________________________________________________\n",
      "conv1d_1 (Conv1D)            (None, 254, 256)          153856    \n",
      "_________________________________________________________________\n",
      "max_pooling1d_1 (MaxPooling1 (None, 84, 256)           0         \n",
      "_________________________________________________________________\n",
      "flatten_1 (Flatten)          (None, 21504)             0         \n",
      "_________________________________________________________________\n",
      "dense_1 (Dense)              (None, 2)                 43010     \n",
      "=================================================================\n",
      "Total params: 185,487,266\n",
      "Trainable params: 185,487,266\n",
      "Non-trainable params: 0\n",
      "_________________________________________________________________\n",
      "Train on 3200000 samples, validate on 400000 samples\n",
      "Epoch 1/2\n",
      "3200000/3200000 [==============================] - 1916s 599us/step - loss: 0.2281 - acc: 0.9096 - val_loss: 0.1863 - val_acc: 0.9302\n",
      "Epoch 2/2\n",
      "3200000/3200000 [==============================] - 1909s 597us/step - loss: 0.1660 - acc: 0.9388 - val_loss: 0.1764 - val_acc: 0.9350\n",
      "400000/400000 [==============================] - 51s 129us/step\n",
      "[Test] Loss: 0.17901027188800275\n",
      "[Test] Accuracy: 0.934165\n",
      "Time Spent: 3881.920840024948 s\n"
     ]
    }
   ],
   "source": [
    "# CNN + Word2vec\n",
    "cnn_t0 = time()\n",
    "\n",
    "from keras.layers import Dense, Input, Flatten, Dropout\n",
    "from keras.layers import Conv1D, MaxPooling1D, Embedding\n",
    "from keras.models import Sequential\n",
    "\n",
    "cnn = Sequential()\n",
    "cnn.add(embedding_layer)\n",
    "cnn.add(Conv1D(256, 3, padding='valid', activation='elu', strides=1))\n",
    "cnn.add(MaxPooling1D(3))\n",
    "# cnn.add(Dropout(0.2))\n",
    "cnn.add(Flatten())\n",
    "# cnn.add(Dense(EMBEDDING_DIM, activation='elu'))    # Rapid convergence\n",
    "cnn.add(Dense(2, activation='sigmoid'))              # Polarity classification\n",
    "cnn.summary()\n",
    "\n",
    "cnn.compile(loss='binary_crossentropy', optimizer='adam', metrics=['acc'])\n",
    "history = cnn.fit(x_train, y_train, validation_data=(x_val, y_val), epochs=2, batch_size=512)\n",
    "\n",
    "# Result: CNN + Word2vec\n",
    "cnn_result = cnn.evaluate(x_test, y_test)\n",
    "print('[Test] Loss:', cnn_result[0])\n",
    "print('[Test] Accuracy:', cnn_result[1])\n",
    "\n",
    "cnn_t1 = time()-cnn_t0\n",
    "print('Time Spent:', cnn_t1, 's')"
   ]
  },
  {
   "cell_type": "markdown",
   "metadata": {
    "colab_type": "text",
    "id": "1Cu36-nZuBkH"
   },
   "source": [
    "## LSTM (RNN)"
   ]
  },
  {
   "cell_type": "code",
   "execution_count": 2,
   "metadata": {
    "ExecuteTime": {
     "end_time": "2019-08-03T20:40:48.787635Z",
     "start_time": "2019-08-03T20:40:48.784043Z"
    }
   },
   "outputs": [
    {
     "name": "stdout",
     "output_type": "stream",
     "text": [
      "_________________________________________________________________\n",
      "Layer (type)                 Output Shape              Param #   \n",
      "=================================================================\n",
      "embedding_2 (Embedding)      (None, 256, 200)          185290600 \n",
      "_________________________________________________________________\n",
      "cu_dnnlstm_1 (CuDNNLSTM)     (None, 256)               468992    \n",
      "_________________________________________________________________\n",
      "dense_2 (Dense)              (None, 2)                 514       \n",
      "=================================================================\n",
      "Total params: 185,760,106\n",
      "Trainable params: 185,760,106\n",
      "Non-trainable params: 0\n",
      "_________________________________________________________________\n",
      "Train on 3200000 samples, validate on 400000 samples\n",
      "Epoch 1/2\n",
      "3200000/3200000 [==============================] - 3263s 1ms/step - loss: 0.1661 - acc: 0.9362 - val_loss: 0.1317 - val_acc: 0.9515\n",
      "Epoch 2/2\n",
      "3200000/3200000 [==============================] - 3258s 1ms/step - loss: 0.1120 - acc: 0.9597 - val_loss: 0.1228 - val_acc: 0.9553\n",
      "400000/400000 [==============================] - 256s 640us/step\n",
      "[Test] Loss: 0.1253084249953553\n",
      "[Test] Accuracy: 0.9543975\n",
      "Time Spent: 6780.231733322144 s\n"
     ]
    }
   ],
   "source": [
    "# LSTM + One-hot\n",
    "lstm_t0 = time()\n",
    "\n",
    "from keras.layers import Dense, Input, Flatten, Dropout\n",
    "from keras.layers import CuDNNLSTM, MaxPooling1D, Embedding\n",
    "from keras.models import Sequential\n",
    "\n",
    "lstm = Sequential()\n",
    "lstm.add(Embedding(word_index+1, EMBEDDING_DIM, input_length=MAX_SEQUENCE_LENGTH))\n",
    "lstm.add(CuDNNLSTM(256)) # , dropout=0.2, recurrent_dropout=0.2\n",
    "# lstm.add(Dropout(0.2))\n",
    "# lstm.add(Dense(EMBEDDING_DIM, activation='elu'))\n",
    "lstm.add(Dense(2, activation='sigmoid'))\n",
    "lstm.summary()\n",
    "\n",
    "lstm.compile(loss='binary_crossentropy', optimizer='adam', metrics=['acc'])\n",
    "history = lstm.fit(x_train, y_train, validation_data=(x_val, y_val), epochs=2, batch_size=512)\n",
    "\n",
    "# Result: LSTM + One-hot\n",
    "lstm_result = lstm.evaluate(x_test, y_test)\n",
    "print('[Test] Loss:', lstm_result[0])\n",
    "print('[Test] Accuracy:', lstm_result[1])\n",
    "\n",
    "lstm_t1 = time() - lstm_t0\n",
    "print('Time Spent:', lstm_t1, 's')"
   ]
  },
  {
   "cell_type": "code",
   "execution_count": 18,
   "metadata": {
    "colab": {
     "base_uri": "https://localhost:8080/",
     "height": 391
    },
    "colab_type": "code",
    "id": "Ozt2Jo1OuBkI",
    "outputId": "ffd7a03e-5684-40e5-dab3-30fd0b903272"
   },
   "outputs": [
    {
     "name": "stdout",
     "output_type": "stream",
     "text": [
      "_________________________________________________________________\n",
      "Layer (type)                 Output Shape              Param #   \n",
      "=================================================================\n",
      "embedding_2 (Embedding)      (None, 256, 200)          185290400 \n",
      "_________________________________________________________________\n",
      "cu_dnnlstm_2 (CuDNNLSTM)     (None, 256)               468992    \n",
      "_________________________________________________________________\n",
      "dense_2 (Dense)              (None, 2)                 514       \n",
      "=================================================================\n",
      "Total params: 185,759,906\n",
      "Trainable params: 185,759,906\n",
      "Non-trainable params: 0\n",
      "_________________________________________________________________\n",
      "Train on 3200000 samples, validate on 400000 samples\n",
      "Epoch 1/2\n",
      "3200000/3200000 [==============================] - 3256s 1ms/step - loss: 0.1596 - acc: 0.9386 - val_loss: 0.1234 - val_acc: 0.9549\n",
      "Epoch 2/2\n",
      "3200000/3200000 [==============================] - 3216s 1ms/step - loss: 0.1081 - acc: 0.9613 - val_loss: 0.1157 - val_acc: 0.9580\n",
      "400000/400000 [==============================] - 252s 631us/step\n",
      "[Test] Loss: 0.11840912741206587\n",
      "[Test] Accuracy: 0.95729125\n",
      "Time Spent: 6725.5486562252045 s\n"
     ]
    }
   ],
   "source": [
    "# LSTM + Word2vec\n",
    "lstm_t0 = time()\n",
    "\n",
    "from keras.layers import Dense, Input, Flatten, Dropout\n",
    "from keras.layers import CuDNNLSTM, MaxPooling1D, Embedding\n",
    "from keras.models import Sequential\n",
    "\n",
    "lstm = Sequential()\n",
    "lstm.add(embedding_layer)\n",
    "lstm.add(CuDNNLSTM(256)) # , dropout=0.2, recurrent_dropout=0.2\n",
    "# lstm.add(Dropout(0.2))\n",
    "# lstm.add(Dense(EMBEDDING_DIM, activation='elu'))\n",
    "lstm.add(Dense(2, activation='sigmoid'))\n",
    "lstm.summary()\n",
    "\n",
    "lstm.compile(loss='binary_crossentropy', optimizer='adam', metrics=['acc'])\n",
    "history = lstm.fit(x_train, y_train, validation_data=(x_val, y_val), epochs=2, batch_size=512)\n",
    "\n",
    "# Result: LSTM + Word2vec\n",
    "lstm_result = lstm.evaluate(x_test, y_test)\n",
    "print('[Test] Loss:', lstm_result[0])\n",
    "print('[Test] Accuracy:', lstm_result[1])\n",
    "\n",
    "lstm_t1 = time() - lstm_t0\n",
    "print('Time Spent:', lstm_t1, 's')"
   ]
  },
  {
   "cell_type": "markdown",
   "metadata": {
    "colab_type": "text",
    "id": "MeK0IkIGuBkJ"
   },
   "source": [
    "## CNN + LSTM"
   ]
  },
  {
   "cell_type": "code",
   "execution_count": null,
   "metadata": {
    "colab": {
     "base_uri": "https://localhost:8080/",
     "height": 513
    },
    "colab_type": "code",
    "id": "1OIoj7ASuBkK",
    "outputId": "fe2da9b7-fef5-4851-b4ad-976824eb3db7"
   },
   "outputs": [
    {
     "name": "stderr",
     "output_type": "stream",
     "text": [
      "W0727 04:38:37.538881 140108065343360 deprecation_wrapper.py:119] From /usr/local/lib/python3.6/dist-packages/keras/backend/tensorflow_backend.py:3976: The name tf.nn.max_pool is deprecated. Please use tf.nn.max_pool2d instead.\n",
      "\n"
     ]
    },
    {
     "name": "stdout",
     "output_type": "stream",
     "text": [
      "_________________________________________________________________\n",
      "Layer (type)                 Output Shape              Param #   \n",
      "=================================================================\n",
      "embedding_1 (Embedding)      (None, 256, 200)          185290600 \n",
      "_________________________________________________________________\n",
      "conv1d_1 (Conv1D)            (None, 254, 256)          153856    \n",
      "_________________________________________________________________\n",
      "max_pooling1d_1 (MaxPooling1 (None, 84, 256)           0         \n",
      "_________________________________________________________________\n",
      "cu_dnnlstm_1 (CuDNNLSTM)     (None, 256)               526336    \n",
      "_________________________________________________________________\n",
      "dense_1 (Dense)              (None, 2)                 514       \n",
      "=================================================================\n",
      "Total params: 185,971,306\n",
      "Trainable params: 185,971,306\n",
      "Non-trainable params: 0\n",
      "_________________________________________________________________\n",
      "Train on 3200000 samples, validate on 400000 samples\n",
      "Epoch 1/2\n",
      "3200000/3200000 [==============================] - 2527s 790us/step - loss: 0.1618 - acc: 0.9377 - val_loss: 0.1348 - val_acc: 0.9503\n",
      "Epoch 2/2\n",
      "3200000/3200000 [==============================] - 2494s 779us/step - loss: 0.1096 - acc: 0.9607 - val_loss: 0.1303 - val_acc: 0.9519\n",
      "400000/400000 [==============================] - 129s 322us/step\n",
      "[Test] Loss: 0.13254512418054043\n",
      "[Test] Accuracy: 0.9513425\n",
      "Time Spent: 5151.1422708034515 s\n"
     ]
    }
   ],
   "source": [
    "# CNN + LSTM + One-hot\n",
    "hy_t0 = time()\n",
    "\n",
    "from keras.layers import Dense, Input, Flatten, Dropout\n",
    "from keras.layers import CuDNNLSTM, Conv1D, MaxPooling1D, Embedding, TimeDistributed\n",
    "from keras.models import Sequential\n",
    "\n",
    "hybrid = Sequential()\n",
    "hybrid.add(Embedding(word_index+1, EMBEDDING_DIM, input_length=MAX_SEQUENCE_LENGTH))\n",
    "hybrid.add(Conv1D(256, 3, activation='elu'))\n",
    "hybrid.add(MaxPooling1D(pool_size=3))\n",
    "# hybrid.add(Dropout(0.2))\n",
    "hybrid.add(CuDNNLSTM(256)) # , dropout=0.2, recurrent_dropout=0.2\n",
    "# hybrid.add(Dense(EMBEDDING_DIM, activation='elu'))\n",
    "hybrid.add(Dense(2, activation='sigmoid'))\n",
    "hybrid.summary()\n",
    "\n",
    "hybrid.compile(loss='binary_crossentropy', optimizer='adam', metrics=['acc'])\n",
    "history = hybrid.fit(x_train, y_train, validation_data=(x_val, y_val), epochs=2, batch_size=512)\n",
    "\n",
    "# Result: CNN + LSTM + One-hot\n",
    "hy_result = hybrid.evaluate(x_test, y_test)\n",
    "print('[Test] Loss:', hy_result[0])\n",
    "print('[Test] Accuracy:', hy_result[1])\n",
    "\n",
    "hy_t1 = time() - hy_t0\n",
    "print('Time Spent:', hy_t1, 's')"
   ]
  },
  {
   "cell_type": "code",
   "execution_count": 12,
   "metadata": {
    "colab": {
     "base_uri": "https://localhost:8080/",
     "height": 459
    },
    "colab_type": "code",
    "id": "55I3PLxEuBkL",
    "outputId": "d7d9624c-39a0-4791-a844-5da43329abcc"
   },
   "outputs": [
    {
     "name": "stdout",
     "output_type": "stream",
     "text": [
      "_________________________________________________________________\n",
      "Layer (type)                 Output Shape              Param #   \n",
      "=================================================================\n",
      "embedding_1 (Embedding)      (None, 256, 200)          185290400 \n",
      "_________________________________________________________________\n",
      "conv1d_2 (Conv1D)            (None, 254, 256)          153856    \n",
      "_________________________________________________________________\n",
      "max_pooling1d_2 (MaxPooling1 (None, 84, 256)           0         \n",
      "_________________________________________________________________\n",
      "cu_dnnlstm_1 (CuDNNLSTM)     (None, 256)               526336    \n",
      "_________________________________________________________________\n",
      "dense_2 (Dense)              (None, 2)                 514       \n",
      "=================================================================\n",
      "Total params: 185,971,106\n",
      "Trainable params: 185,971,106\n",
      "Non-trainable params: 0\n",
      "_________________________________________________________________\n",
      "Train on 3200000 samples, validate on 400000 samples\n",
      "Epoch 1/2\n",
      "3200000/3200000 [==============================] - 2425s 758us/step - loss: 0.1320 - acc: 0.9510 - val_loss: 0.1434 - val_acc: 0.9460\n",
      "Epoch 2/2\n",
      "3200000/3200000 [==============================] - 2421s 757us/step - loss: 0.0979 - acc: 0.9655 - val_loss: 0.1467 - val_acc: 0.9472\n",
      "400000/400000 [==============================] - 131s 326us/step\n",
      "[Test] Loss: 0.14802093408972025\n",
      "[Test] Accuracy: 0.94632\n",
      "Time Spent: 4978.819066762924 s\n"
     ]
    }
   ],
   "source": [
    "# CNN + LSTM + Word2vec\n",
    "hy_t0 = time()\n",
    "\n",
    "from keras.layers import Dense, Input, Flatten, Dropout\n",
    "from keras.layers import CuDNNLSTM, Conv1D, MaxPooling1D, Embedding, TimeDistributed\n",
    "from keras.models import Sequential\n",
    "\n",
    "hybrid = Sequential()\n",
    "hybrid.add(embedding_layer)\n",
    "hybrid.add(Conv1D(256, 3, activation='elu'))\n",
    "hybrid.add(MaxPooling1D(pool_size=3))\n",
    "# hybrid.add(Dropout(0.2))\n",
    "hybrid.add(CuDNNLSTM(256)) # , dropout=0.2, recurrent_dropout=0.2\n",
    "# hybrid.add(Dense(EMBEDDING_DIM, activation='elu'))\n",
    "hybrid.add(Dense(2, activation='sigmoid'))\n",
    "hybrid.summary()\n",
    "\n",
    "hybrid.compile(loss='binary_crossentropy', optimizer='adam', metrics=['acc'])\n",
    "history = hybrid.fit(x_train, y_train, validation_data=(x_val, y_val), epochs=2, batch_size=512)\n",
    "\n",
    "# Result: CNN + LSTM + Word2vec\n",
    "hy_result = hybrid.evaluate(x_test, y_test)\n",
    "print('[Test] Loss:', hy_result[0])\n",
    "print('[Test] Accuracy:', hy_result[1])\n",
    "\n",
    "hy_t1 = time() - hy_t0\n",
    "print('Time Spent:', hy_t1, 's')"
   ]
  }
 ],
 "metadata": {
  "accelerator": "GPU",
  "colab": {
   "collapsed_sections": [
    "tKKi2WM3uBjb",
    "i2jYfB19uBjj",
    "JHPw1mi_uBjn",
    "KKj6egzpuBju",
    "YLcWFN8RuBj3"
   ],
   "machine_shape": "hm",
   "name": "test26.ipynb",
   "provenance": [],
   "toc_visible": true,
   "version": "0.3.2"
  },
  "kernelspec": {
   "display_name": "Python 3",
   "language": "python",
   "name": "python3"
  },
  "language_info": {
   "codemirror_mode": {
    "name": "ipython",
    "version": 3
   },
   "file_extension": ".py",
   "mimetype": "text/x-python",
   "name": "python",
   "nbconvert_exporter": "python",
   "pygments_lexer": "ipython3",
   "version": "3.7.3"
  },
  "toc": {
   "base_numbering": 1,
   "nav_menu": {},
   "number_sections": true,
   "sideBar": true,
   "skip_h1_title": false,
   "title_cell": "Table of Contents",
   "title_sidebar": "Contents",
   "toc_cell": false,
   "toc_position": {},
   "toc_section_display": true,
   "toc_window_display": true
  },
  "varInspector": {
   "cols": {
    "lenName": 16,
    "lenType": 16,
    "lenVar": 40
   },
   "kernels_config": {
    "python": {
     "delete_cmd_postfix": "",
     "delete_cmd_prefix": "del ",
     "library": "var_list.py",
     "varRefreshCmd": "print(var_dic_list())"
    },
    "r": {
     "delete_cmd_postfix": ") ",
     "delete_cmd_prefix": "rm(",
     "library": "var_list.r",
     "varRefreshCmd": "cat(var_dic_list()) "
    }
   },
   "types_to_exclude": [
    "module",
    "function",
    "builtin_function_or_method",
    "instance",
    "_Feature"
   ],
   "window_display": false
  }
 },
 "nbformat": 4,
 "nbformat_minor": 4
}
