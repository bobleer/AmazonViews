{
  "nbformat": 4,
  "nbformat_minor": 0,
  "metadata": {
    "accelerator": "TPU",
    "colab": {
      "name": "test08.ipynb",
      "version": "0.3.2",
      "provenance": [],
      "toc_visible": true,
      "machine_shape": "hm"
    },
    "kernelspec": {
      "name": "python3",
      "display_name": "Python 3"
    },
    "language_info": {
      "codemirror_mode": {
        "name": "ipython",
        "version": 3
      },
      "file_extension": ".py",
      "mimetype": "text/x-python",
      "name": "python",
      "nbconvert_exporter": "python",
      "pygments_lexer": "ipython3",
      "version": "3.6.5"
    },
    "toc": {
      "base_numbering": 1,
      "nav_menu": {},
      "number_sections": true,
      "sideBar": true,
      "skip_h1_title": false,
      "title_cell": "Table of Contents",
      "title_sidebar": "Contents",
      "toc_cell": false,
      "toc_position": {},
      "toc_section_display": true,
      "toc_window_display": false
    },
    "varInspector": {
      "cols": {
        "lenName": 16,
        "lenType": 16,
        "lenVar": 40
      },
      "kernels_config": {
        "python": {
          "delete_cmd_postfix": "",
          "delete_cmd_prefix": "del ",
          "library": "var_list.py",
          "varRefreshCmd": "print(var_dic_list())"
        },
        "r": {
          "delete_cmd_postfix": ") ",
          "delete_cmd_prefix": "rm(",
          "library": "var_list.r",
          "varRefreshCmd": "cat(var_dic_list()) "
        }
      },
      "types_to_exclude": [
        "module",
        "function",
        "builtin_function_or_method",
        "instance",
        "_Feature"
      ],
      "window_display": false
    }
  },
  "cells": [
    {
      "cell_type": "code",
      "metadata": {
        "ExecuteTime": {
          "end_time": "2019-07-20T00:26:08.762259Z",
          "start_time": "2019-07-20T00:26:06.966608Z"
        },
        "colab_type": "code",
        "id": "W6IYqwcD0sJM",
        "colab": {}
      },
      "source": [
        "# Packages\n",
        "import nltk\n",
        "import numpy as np\n",
        "import multiprocessing as mp\n",
        "import pandas as pd\n",
        "import matplotlib.pyplot as plt\n",
        "import seaborn as sns\n",
        "from scipy import stats\n",
        "import warnings\n",
        "from tqdm import tqdm\n",
        "from sklearn.model_selection import train_test_split, cross_val_score\n",
        "warnings.filterwarnings('ignore')"
      ],
      "execution_count": 0,
      "outputs": []
    },
    {
      "cell_type": "code",
      "metadata": {
        "id": "IRBt9cCqdyhh",
        "colab_type": "code",
        "colab": {}
      },
      "source": [
        "import multiprocessing as mp\n",
        "cores = mp.cpu_count()"
      ],
      "execution_count": 0,
      "outputs": []
    },
    {
      "cell_type": "code",
      "metadata": {
        "ExecuteTime": {
          "end_time": "2019-07-20T00:26:10.351331Z",
          "start_time": "2019-07-20T00:26:10.336078Z"
        },
        "colab_type": "code",
        "id": "0axjxn9n0sJP",
        "colab": {}
      },
      "source": [
        "# Plot settings\n",
        "sns.set_context('notebook') \n",
        "sns.set_style('ticks') \n",
        "colours = ['#1F77B4', '#FF7F0E', '#2CA02C', '#DB2728', '#9467BD', '#8C564B', '#E377C2','#7F7F7F', '#BCBD22', '#17BECF']\n",
        "crayon = ['#4E79A7','#F28E2C','#E15759','#76B7B2','#59A14F', '#EDC949','#AF7AA1','#FF9DA7','#9C755F','#BAB0AB']\n",
        "sns.set_palette(colours)\n",
        "%matplotlib inline\n",
        "plt.rcParams['figure.figsize'] = (9, 6)"
      ],
      "execution_count": 0,
      "outputs": []
    },
    {
      "cell_type": "markdown",
      "metadata": {
        "colab_type": "text",
        "id": "gOo5NkFG0sJR"
      },
      "source": [
        "# Import dataset"
      ]
    },
    {
      "cell_type": "code",
      "metadata": {
        "ExecuteTime": {
          "end_time": "2019-07-20T00:26:45.045790Z",
          "start_time": "2019-07-20T00:26:17.510477Z"
        },
        "colab_type": "code",
        "id": "ovv5HSjb0sJU",
        "colab": {}
      },
      "source": [
        "train = pd.read_csv('train.csv', header=None)\n",
        "train['Text'] = train[1]+' '+train[2]\n",
        "train = train.drop(columns=[1,2])"
      ],
      "execution_count": 0,
      "outputs": []
    },
    {
      "cell_type": "code",
      "metadata": {
        "ExecuteTime": {
          "end_time": "2019-07-20T00:26:46.733945Z",
          "start_time": "2019-07-20T00:26:45.082700Z"
        },
        "colab_type": "code",
        "id": "VZ5FFhcQ0sJW",
        "colab": {}
      },
      "source": [
        "train[0] = train[0].map(lambda x: x-1)\n",
        "train.rename(columns={0:'Sentiment'},inplace=True)"
      ],
      "execution_count": 0,
      "outputs": []
    },
    {
      "cell_type": "code",
      "metadata": {
        "ExecuteTime": {
          "end_time": "2019-07-20T00:26:49.357289Z",
          "start_time": "2019-07-20T00:26:46.764275Z"
        },
        "colab_type": "code",
        "id": "7vudws1P0sJY",
        "colab": {}
      },
      "source": [
        "test = pd.read_csv('test.csv', header=None)\n",
        "test['Text'] = test[1]+' '+test[2]\n",
        "test = test.drop(columns=[1,2])"
      ],
      "execution_count": 0,
      "outputs": []
    },
    {
      "cell_type": "code",
      "metadata": {
        "ExecuteTime": {
          "end_time": "2019-07-20T00:26:49.551886Z",
          "start_time": "2019-07-20T00:26:49.398228Z"
        },
        "colab_type": "code",
        "id": "grgeJIKx0sJa",
        "colab": {}
      },
      "source": [
        "test[0] = test[0].map(lambda x: x-1)\n",
        "test.rename(columns={0:'Sentiment'},inplace=True)"
      ],
      "execution_count": 0,
      "outputs": []
    },
    {
      "cell_type": "code",
      "metadata": {
        "ExecuteTime": {
          "end_time": "2019-07-20T00:26:49.606663Z",
          "start_time": "2019-07-20T00:26:49.587107Z"
        },
        "colab_type": "code",
        "id": "6bhnNnm30sJd",
        "outputId": "abb72eef-b8bd-4574-8810-ec7f3590fb45",
        "colab": {
          "base_uri": "https://localhost:8080/",
          "height": 204
        }
      },
      "source": [
        "train.tail()"
      ],
      "execution_count": 0,
      "outputs": [
        {
          "output_type": "execute_result",
          "data": {
            "text/html": [
              "<div>\n",
              "<style scoped>\n",
              "    .dataframe tbody tr th:only-of-type {\n",
              "        vertical-align: middle;\n",
              "    }\n",
              "\n",
              "    .dataframe tbody tr th {\n",
              "        vertical-align: top;\n",
              "    }\n",
              "\n",
              "    .dataframe thead th {\n",
              "        text-align: right;\n",
              "    }\n",
              "</style>\n",
              "<table border=\"1\" class=\"dataframe\">\n",
              "  <thead>\n",
              "    <tr style=\"text-align: right;\">\n",
              "      <th></th>\n",
              "      <th>Sentiment</th>\n",
              "      <th>Text</th>\n",
              "    </tr>\n",
              "  </thead>\n",
              "  <tbody>\n",
              "    <tr>\n",
              "      <th>3599995</th>\n",
              "      <td>0</td>\n",
              "      <td>Don't do it!! The high chair looks great when ...</td>\n",
              "    </tr>\n",
              "    <tr>\n",
              "      <th>3599996</th>\n",
              "      <td>0</td>\n",
              "      <td>Looks nice, low functionality I have used this...</td>\n",
              "    </tr>\n",
              "    <tr>\n",
              "      <th>3599997</th>\n",
              "      <td>0</td>\n",
              "      <td>compact, but hard to clean We have a small hou...</td>\n",
              "    </tr>\n",
              "    <tr>\n",
              "      <th>3599998</th>\n",
              "      <td>0</td>\n",
              "      <td>what is it saying? not sure what this book is ...</td>\n",
              "    </tr>\n",
              "    <tr>\n",
              "      <th>3599999</th>\n",
              "      <td>1</td>\n",
              "      <td>Makes My Blood Run Red-White-And-Blue I agree ...</td>\n",
              "    </tr>\n",
              "  </tbody>\n",
              "</table>\n",
              "</div>"
            ],
            "text/plain": [
              "         Sentiment                                               Text\n",
              "3599995          0  Don't do it!! The high chair looks great when ...\n",
              "3599996          0  Looks nice, low functionality I have used this...\n",
              "3599997          0  compact, but hard to clean We have a small hou...\n",
              "3599998          0  what is it saying? not sure what this book is ...\n",
              "3599999          1  Makes My Blood Run Red-White-And-Blue I agree ..."
            ]
          },
          "metadata": {
            "tags": []
          },
          "execution_count": 8
        }
      ]
    },
    {
      "cell_type": "code",
      "metadata": {
        "ExecuteTime": {
          "end_time": "2019-07-20T00:26:49.654343Z",
          "start_time": "2019-07-20T00:26:49.644971Z"
        },
        "colab_type": "code",
        "id": "KA1FwJJ30sJg",
        "outputId": "a6fd01bc-b4e0-4108-c7a6-2d67371908fe",
        "colab": {
          "base_uri": "https://localhost:8080/",
          "height": 204
        }
      },
      "source": [
        "test.tail()"
      ],
      "execution_count": 0,
      "outputs": [
        {
          "output_type": "execute_result",
          "data": {
            "text/html": [
              "<div>\n",
              "<style scoped>\n",
              "    .dataframe tbody tr th:only-of-type {\n",
              "        vertical-align: middle;\n",
              "    }\n",
              "\n",
              "    .dataframe tbody tr th {\n",
              "        vertical-align: top;\n",
              "    }\n",
              "\n",
              "    .dataframe thead th {\n",
              "        text-align: right;\n",
              "    }\n",
              "</style>\n",
              "<table border=\"1\" class=\"dataframe\">\n",
              "  <thead>\n",
              "    <tr style=\"text-align: right;\">\n",
              "      <th></th>\n",
              "      <th>Sentiment</th>\n",
              "      <th>Text</th>\n",
              "    </tr>\n",
              "  </thead>\n",
              "  <tbody>\n",
              "    <tr>\n",
              "      <th>399995</th>\n",
              "      <td>0</td>\n",
              "      <td>Unbelievable- In a Bad Way We bought this Thom...</td>\n",
              "    </tr>\n",
              "    <tr>\n",
              "      <th>399996</th>\n",
              "      <td>0</td>\n",
              "      <td>Almost Great, Until it Broke... My son recieve...</td>\n",
              "    </tr>\n",
              "    <tr>\n",
              "      <th>399997</th>\n",
              "      <td>0</td>\n",
              "      <td>Disappointed !!! I bought this toy for my son ...</td>\n",
              "    </tr>\n",
              "    <tr>\n",
              "      <th>399998</th>\n",
              "      <td>1</td>\n",
              "      <td>Classic Jessica Mitford This is a compilation ...</td>\n",
              "    </tr>\n",
              "    <tr>\n",
              "      <th>399999</th>\n",
              "      <td>0</td>\n",
              "      <td>Comedy Scene, and Not Heard This DVD will be a...</td>\n",
              "    </tr>\n",
              "  </tbody>\n",
              "</table>\n",
              "</div>"
            ],
            "text/plain": [
              "        Sentiment                                               Text\n",
              "399995          0  Unbelievable- In a Bad Way We bought this Thom...\n",
              "399996          0  Almost Great, Until it Broke... My son recieve...\n",
              "399997          0  Disappointed !!! I bought this toy for my son ...\n",
              "399998          1  Classic Jessica Mitford This is a compilation ...\n",
              "399999          0  Comedy Scene, and Not Heard This DVD will be a..."
            ]
          },
          "metadata": {
            "tags": []
          },
          "execution_count": 9
        }
      ]
    },
    {
      "cell_type": "code",
      "metadata": {
        "ExecuteTime": {
          "end_time": "2019-07-20T00:26:49.752481Z",
          "start_time": "2019-07-20T00:26:49.696930Z"
        },
        "colab_type": "code",
        "id": "SHHj-hvz0sJj",
        "outputId": "58003665-2c29-4249-fa63-5aa1b805113a",
        "colab": {
          "base_uri": "https://localhost:8080/",
          "height": 68
        }
      },
      "source": [
        "train['Sentiment'].value_counts()"
      ],
      "execution_count": 0,
      "outputs": [
        {
          "output_type": "execute_result",
          "data": {
            "text/plain": [
              "1    1800000\n",
              "0    1800000\n",
              "Name: Sentiment, dtype: int64"
            ]
          },
          "metadata": {
            "tags": []
          },
          "execution_count": 10
        }
      ]
    },
    {
      "cell_type": "code",
      "metadata": {
        "ExecuteTime": {
          "end_time": "2019-07-20T00:26:49.796539Z",
          "start_time": "2019-07-20T00:26:49.786387Z"
        },
        "colab_type": "code",
        "id": "PIMZ8zqO0sJm",
        "outputId": "cac792c8-b892-44d3-972c-f0af98159dcb",
        "colab": {
          "base_uri": "https://localhost:8080/",
          "height": 68
        }
      },
      "source": [
        "test['Sentiment'].value_counts()"
      ],
      "execution_count": 0,
      "outputs": [
        {
          "output_type": "execute_result",
          "data": {
            "text/plain": [
              "1    200000\n",
              "0    200000\n",
              "Name: Sentiment, dtype: int64"
            ]
          },
          "metadata": {
            "tags": []
          },
          "execution_count": 11
        }
      ]
    },
    {
      "cell_type": "markdown",
      "metadata": {
        "colab_type": "text",
        "id": "5BzJfRrU0sJp"
      },
      "source": [
        "# Text Processing"
      ]
    },
    {
      "cell_type": "code",
      "metadata": {
        "ExecuteTime": {
          "end_time": "2019-07-20T00:26:49.839687Z",
          "start_time": "2019-07-20T00:26:49.836056Z"
        },
        "colab_type": "code",
        "id": "eefHFNOe0sJp",
        "colab": {}
      },
      "source": [
        "# 1. Tokenisation (casual module)\n",
        "from nltk.tokenize import TweetTokenizer\n",
        "Tokenizer = TweetTokenizer()\n",
        "# 2. Remove punctuation\n",
        "import string\n",
        "# 3. Remove stopwords\n",
        "from nltk.corpus import stopwords\n",
        "# 4. Stemming\n",
        "from nltk.stem.porter import PorterStemmer"
      ],
      "execution_count": 0,
      "outputs": []
    },
    {
      "cell_type": "code",
      "metadata": {
        "ExecuteTime": {
          "end_time": "2019-07-20T00:26:49.892111Z",
          "start_time": "2019-07-20T00:26:49.885902Z"
        },
        "colab_type": "code",
        "id": "cTAzuoD80sJs",
        "colab": {}
      },
      "source": [
        "def process_text(text):\n",
        "    text = str(text)\n",
        "    tokenized = Tokenizer.tokenize(text)\n",
        "    tokenized_no_punctuation = [word.lower() for word in tokenized if word not in string.punctuation]\n",
        "    tokenized_no_stopwords = [word for word in tokenized_no_punctuation if word not in stopwords.words('english')]\n",
        "    token = [PorterStemmer().stem(word) for word in tokenized_no_stopwords if word != '️']\n",
        "    token = ' '.join(token)\n",
        "    return token"
      ],
      "execution_count": 0,
      "outputs": []
    },
    {
      "cell_type": "code",
      "metadata": {
        "ExecuteTime": {
          "end_time": "2019-07-20T00:26:51.693676Z",
          "start_time": "2019-07-20T00:26:51.687960Z"
        },
        "colab_type": "code",
        "id": "-W9uLbTj0sJu",
        "colab": {}
      },
      "source": [
        "def process_text_ez(text):\n",
        "    text = str(text)\n",
        "    tokenized = Tokenizer.tokenize(text)\n",
        "    tokenized_lower = [word.lower() for word in tokenized]\n",
        "    tokenized_stem = [PorterStemmer().stem(word) for word in tokenized_lower if word != '']\n",
        "    token = ' '.join(tokenized_stem)\n",
        "    return token"
      ],
      "execution_count": 0,
      "outputs": []
    },
    {
      "cell_type": "code",
      "metadata": {
        "ExecuteTime": {
          "end_time": "2019-07-20T00:26:57.685350Z",
          "start_time": "2019-07-20T00:26:57.681752Z"
        },
        "colab_type": "code",
        "id": "wmzQXhvq0sJw",
        "colab": {}
      },
      "source": [
        "tqdm.pandas(desc=\"Progress bar\")"
      ],
      "execution_count": 0,
      "outputs": []
    },
    {
      "cell_type": "code",
      "metadata": {
        "ExecuteTime": {
          "end_time": "2019-07-20T00:26:58.382645Z",
          "start_time": "2019-07-20T00:26:58.277842Z"
        },
        "colab_type": "code",
        "id": "nvqHxKnm2XmG",
        "outputId": "5e65070d-5633-442a-daef-c6a53ddc6491",
        "colab": {
          "base_uri": "https://localhost:8080/",
          "height": 68
        }
      },
      "source": [
        "nltk.download('stopwords')"
      ],
      "execution_count": 4,
      "outputs": [
        {
          "output_type": "stream",
          "text": [
            "[nltk_data] Downloading package stopwords to /root/nltk_data...\n",
            "[nltk_data]   Unzipping corpora/stopwords.zip.\n"
          ],
          "name": "stdout"
        },
        {
          "output_type": "execute_result",
          "data": {
            "text/plain": [
              "True"
            ]
          },
          "metadata": {
            "tags": []
          },
          "execution_count": 4
        }
      ]
    },
    {
      "cell_type": "code",
      "metadata": {
        "ExecuteTime": {
          "end_time": "2019-07-20T00:27:02.176620Z",
          "start_time": "2019-07-20T00:27:02.058860Z"
        },
        "colab_type": "code",
        "id": "GAFCFKyvsJZL",
        "colab": {}
      },
      "source": [
        "fullset = pd.concat([train,test],axis=0,ignore_index=True)"
      ],
      "execution_count": 0,
      "outputs": []
    },
    {
      "cell_type": "code",
      "metadata": {
        "ExecuteTime": {
          "end_time": "2019-07-20T00:27:04.751980Z",
          "start_time": "2019-07-20T00:27:04.744437Z"
        },
        "colab_type": "code",
        "id": "x3KiL_8_sJZP",
        "outputId": "fd45bf43-c7f2-4942-fffe-1a976e959625",
        "colab": {}
      },
      "source": [
        "fullset.tail()"
      ],
      "execution_count": 0,
      "outputs": [
        {
          "output_type": "execute_result",
          "data": {
            "text/html": [
              "<div>\n",
              "<style scoped>\n",
              "    .dataframe tbody tr th:only-of-type {\n",
              "        vertical-align: middle;\n",
              "    }\n",
              "\n",
              "    .dataframe tbody tr th {\n",
              "        vertical-align: top;\n",
              "    }\n",
              "\n",
              "    .dataframe thead th {\n",
              "        text-align: right;\n",
              "    }\n",
              "</style>\n",
              "<table border=\"1\" class=\"dataframe\">\n",
              "  <thead>\n",
              "    <tr style=\"text-align: right;\">\n",
              "      <th></th>\n",
              "      <th>Sentiment</th>\n",
              "      <th>Text</th>\n",
              "    </tr>\n",
              "  </thead>\n",
              "  <tbody>\n",
              "    <tr>\n",
              "      <th>3999995</th>\n",
              "      <td>0</td>\n",
              "      <td>Unbelievable- In a Bad Way We bought this Thom...</td>\n",
              "    </tr>\n",
              "    <tr>\n",
              "      <th>3999996</th>\n",
              "      <td>0</td>\n",
              "      <td>Almost Great, Until it Broke... My son recieve...</td>\n",
              "    </tr>\n",
              "    <tr>\n",
              "      <th>3999997</th>\n",
              "      <td>0</td>\n",
              "      <td>Disappointed !!! I bought this toy for my son ...</td>\n",
              "    </tr>\n",
              "    <tr>\n",
              "      <th>3999998</th>\n",
              "      <td>1</td>\n",
              "      <td>Classic Jessica Mitford This is a compilation ...</td>\n",
              "    </tr>\n",
              "    <tr>\n",
              "      <th>3999999</th>\n",
              "      <td>0</td>\n",
              "      <td>Comedy Scene, and Not Heard This DVD will be a...</td>\n",
              "    </tr>\n",
              "  </tbody>\n",
              "</table>\n",
              "</div>"
            ],
            "text/plain": [
              "         Sentiment                                               Text\n",
              "3999995          0  Unbelievable- In a Bad Way We bought this Thom...\n",
              "3999996          0  Almost Great, Until it Broke... My son recieve...\n",
              "3999997          0  Disappointed !!! I bought this toy for my son ...\n",
              "3999998          1  Classic Jessica Mitford This is a compilation ...\n",
              "3999999          0  Comedy Scene, and Not Heard This DVD will be a..."
            ]
          },
          "metadata": {
            "tags": []
          },
          "execution_count": 18
        }
      ]
    },
    {
      "cell_type": "code",
      "metadata": {
        "ExecuteTime": {
          "end_time": "2019-07-20T00:33:40.408558Z",
          "start_time": "2019-07-20T00:33:40.401931Z"
        },
        "colab_type": "code",
        "id": "sa0Bl0lAsJZV",
        "colab": {}
      },
      "source": [
        "def _apply_df(args):\n",
        "    df, func, kwargs = args\n",
        "    return df.apply(func, **kwargs)\n",
        "\n",
        "def apply_by_multiprocessing(df, func, **kwargs):\n",
        "    workers = kwargs.pop('workers')\n",
        "    pool = mp.Pool(processes=workers)\n",
        "    result = pool.map(_apply_df, [(d, func, kwargs)\n",
        "            for d in np.array_split(df, workers)])\n",
        "    pool.close()\n",
        "    return pd.concat(list(result))"
      ],
      "execution_count": 0,
      "outputs": []
    },
    {
      "cell_type": "code",
      "metadata": {
        "ExecuteTime": {
          "end_time": "2019-07-20T06:50:29.385682Z",
          "start_time": "2019-07-20T02:30:38.055197Z"
        },
        "colab_type": "code",
        "id": "LpW4dJhrsJZY",
        "colab": {}
      },
      "source": [
        "fullset['Token'] = apply_by_multiprocessing(fullset['Text'], process_text, workers=cores)"
      ],
      "execution_count": 0,
      "outputs": []
    },
    {
      "cell_type": "code",
      "metadata": {
        "ExecuteTime": {
          "end_time": "2019-07-20T06:50:29.502139Z",
          "start_time": "2019-07-20T06:50:29.485074Z"
        },
        "colab_type": "code",
        "id": "hMdWscwesJZb",
        "outputId": "bd218381-8d1b-45fd-de2f-2ec82931df39",
        "colab": {}
      },
      "source": [
        "fullset.head()"
      ],
      "execution_count": 0,
      "outputs": [
        {
          "output_type": "execute_result",
          "data": {
            "text/html": [
              "<div>\n",
              "<style scoped>\n",
              "    .dataframe tbody tr th:only-of-type {\n",
              "        vertical-align: middle;\n",
              "    }\n",
              "\n",
              "    .dataframe tbody tr th {\n",
              "        vertical-align: top;\n",
              "    }\n",
              "\n",
              "    .dataframe thead th {\n",
              "        text-align: right;\n",
              "    }\n",
              "</style>\n",
              "<table border=\"1\" class=\"dataframe\">\n",
              "  <thead>\n",
              "    <tr style=\"text-align: right;\">\n",
              "      <th></th>\n",
              "      <th>Sentiment</th>\n",
              "      <th>Text</th>\n",
              "      <th>Token</th>\n",
              "    </tr>\n",
              "  </thead>\n",
              "  <tbody>\n",
              "    <tr>\n",
              "      <th>0</th>\n",
              "      <td>1</td>\n",
              "      <td>Stuning even for the non-gamer This sound trac...</td>\n",
              "      <td>stune even non-gam sound track beauti paint se...</td>\n",
              "    </tr>\n",
              "    <tr>\n",
              "      <th>1</th>\n",
              "      <td>1</td>\n",
              "      <td>The best soundtrack ever to anything. I'm read...</td>\n",
              "      <td>best soundtrack ever anyth i'm read lot review...</td>\n",
              "    </tr>\n",
              "    <tr>\n",
              "      <th>2</th>\n",
              "      <td>1</td>\n",
              "      <td>Amazing! This soundtrack is my favorite music ...</td>\n",
              "      <td>amaz soundtrack favorit music time hand intens...</td>\n",
              "    </tr>\n",
              "    <tr>\n",
              "      <th>3</th>\n",
              "      <td>1</td>\n",
              "      <td>Excellent Soundtrack I truly like this soundtr...</td>\n",
              "      <td>excel soundtrack truli like soundtrack enjoy v...</td>\n",
              "    </tr>\n",
              "    <tr>\n",
              "      <th>4</th>\n",
              "      <td>1</td>\n",
              "      <td>Remember, Pull Your Jaw Off The Floor After He...</td>\n",
              "      <td>rememb pull jaw floor hear play game know divi...</td>\n",
              "    </tr>\n",
              "  </tbody>\n",
              "</table>\n",
              "</div>"
            ],
            "text/plain": [
              "   Sentiment                                               Text  \\\n",
              "0          1  Stuning even for the non-gamer This sound trac...   \n",
              "1          1  The best soundtrack ever to anything. I'm read...   \n",
              "2          1  Amazing! This soundtrack is my favorite music ...   \n",
              "3          1  Excellent Soundtrack I truly like this soundtr...   \n",
              "4          1  Remember, Pull Your Jaw Off The Floor After He...   \n",
              "\n",
              "                                               Token  \n",
              "0  stune even non-gam sound track beauti paint se...  \n",
              "1  best soundtrack ever anyth i'm read lot review...  \n",
              "2  amaz soundtrack favorit music time hand intens...  \n",
              "3  excel soundtrack truli like soundtrack enjoy v...  \n",
              "4  rememb pull jaw floor hear play game know divi...  "
            ]
          },
          "metadata": {
            "tags": []
          },
          "execution_count": 60
        }
      ]
    },
    {
      "cell_type": "code",
      "metadata": {
        "ExecuteTime": {
          "end_time": "2019-07-20T06:50:30.985557Z",
          "start_time": "2019-07-20T06:50:29.566419Z"
        },
        "colab_type": "code",
        "id": "VOMRihZD0sKE",
        "outputId": "8c009a42-4dec-49ac-976e-1d9725f8f9c1",
        "colab": {}
      },
      "source": [
        "(fullset.Token.apply(len)).mean()"
      ],
      "execution_count": 0,
      "outputs": [
        {
          "output_type": "execute_result",
          "data": {
            "text/plain": [
              "244.62794725"
            ]
          },
          "metadata": {
            "tags": []
          },
          "execution_count": 61
        }
      ]
    },
    {
      "cell_type": "code",
      "metadata": {
        "ExecuteTime": {
          "end_time": "2019-07-20T06:50:31.053947Z",
          "start_time": "2019-07-20T06:50:31.046379Z"
        },
        "colab_type": "code",
        "id": "7xv29M7U-YLJ",
        "outputId": "f9c1656d-986a-4220-ceac-899f47dfc941",
        "colab": {
          "resources": {
            "http://localhost:8080/gen204?invalidResponse=q=https%3A%2F%2Ftranslate.googleapis.com%2Ftranslate_a%2Fsingle%3Fclient%3Dgtx%26s,ql=142,r=,rl=0": {
              "data": "CjwhRE9DVFlQRSBodG1sPgo8aHRtbCBsYW5nPWVuPgogIDxtZXRhIGNoYXJzZXQ9dXRmLTg+CiAgPG1ldGEgbmFtZT12aWV3cG9ydCBjb250ZW50PSJpbml0aWFsLXNjYWxlPTEsIG1pbmltdW0tc2NhbGU9MSwgd2lkdGg9ZGV2aWNlLXdpZHRoIj4KICA8dGl0bGU+RXJyb3IgNDA0IChOb3QgRm91bmQpISExPC90aXRsZT4KICA8c3R5bGU+CiAgICAqe21hcmdpbjowO3BhZGRpbmc6MH1odG1sLGNvZGV7Zm9udDoxNXB4LzIycHggYXJpYWwsc2Fucy1zZXJpZn1odG1se2JhY2tncm91bmQ6I2ZmZjtjb2xvcjojMjIyO3BhZGRpbmc6MTVweH1ib2R5e21hcmdpbjo3JSBhdXRvIDA7bWF4LXdpZHRoOjM5MHB4O21pbi1oZWlnaHQ6MTgwcHg7cGFkZGluZzozMHB4IDAgMTVweH0qID4gYm9keXtiYWNrZ3JvdW5kOnVybCgvL3d3dy5nb29nbGUuY29tL2ltYWdlcy9lcnJvcnMvcm9ib3QucG5nKSAxMDAlIDVweCBuby1yZXBlYXQ7cGFkZGluZy1yaWdodDoyMDVweH1we21hcmdpbjoxMXB4IDAgMjJweDtvdmVyZmxvdzpoaWRkZW59aW5ze2NvbG9yOiM3Nzc7dGV4dC1kZWNvcmF0aW9uOm5vbmV9YSBpbWd7Ym9yZGVyOjB9QG1lZGlhIHNjcmVlbiBhbmQgKG1heC13aWR0aDo3NzJweCl7Ym9keXtiYWNrZ3JvdW5kOm5vbmU7bWFyZ2luLXRvcDowO21heC13aWR0aDpub25lO3BhZGRpbmctcmlnaHQ6MH19I2xvZ297YmFja2dyb3VuZDp1cmwoLy93d3cuZ29vZ2xlLmNvbS9pbWFnZXMvbG9nb3MvZXJyb3JwYWdlL2Vycm9yX2xvZ28tMTUweDU0LnBuZykgbm8tcmVwZWF0O21hcmdpbi1sZWZ0Oi01cHh9QG1lZGlhIG9ubHkgc2NyZWVuIGFuZCAobWluLXJlc29sdXRpb246MTkyZHBpKXsjbG9nb3tiYWNrZ3JvdW5kOnVybCgvL3d3dy5nb29nbGUuY29tL2ltYWdlcy9sb2dvcy9lcnJvcnBhZ2UvZXJyb3JfbG9nby0xNTB4NTQtMngucG5nKSBuby1yZXBlYXQgMCUgMCUvMTAwJSAxMDAlOy1tb3otYm9yZGVyLWltYWdlOnVybCgvL3d3dy5nb29nbGUuY29tL2ltYWdlcy9sb2dvcy9lcnJvcnBhZ2UvZXJyb3JfbG9nby0xNTB4NTQtMngucG5nKSAwfX1AbWVkaWEgb25seSBzY3JlZW4gYW5kICgtd2Via2l0LW1pbi1kZXZpY2UtcGl4ZWwtcmF0aW86Mil7I2xvZ297YmFja2dyb3VuZDp1cmwoLy93d3cuZ29vZ2xlLmNvbS9pbWFnZXMvbG9nb3MvZXJyb3JwYWdlL2Vycm9yX2xvZ28tMTUweDU0LTJ4LnBuZykgbm8tcmVwZWF0Oy13ZWJraXQtYmFja2dyb3VuZC1zaXplOjEwMCUgMTAwJX19I2xvZ297ZGlzcGxheTppbmxpbmUtYmxvY2s7aGVpZ2h0OjU0cHg7d2lkdGg6MTUwcHh9CiAgPC9zdHlsZT4KICA8YSBocmVmPS8vd3d3Lmdvb2dsZS5jb20vPjxzcGFuIGlkPWxvZ28gYXJpYS1sYWJlbD1Hb29nbGU+PC9zcGFuPjwvYT4KICA8cD48Yj40MDQuPC9iPiA8aW5zPlRoYXTigJlzIGFuIGVycm9yLjwvaW5zPgogIDxwPiAgPGlucz5UaGF04oCZcyBhbGwgd2Uga25vdy48L2lucz4K",
              "headers": [
                [
                  "content-length",
                  "1449"
                ],
                [
                  "content-type",
                  "text/html; charset=utf-8"
                ]
              ],
              "ok": false,
              "status": 404,
              "status_text": ""
            }
          },
          "base_uri": "https://localhost:8080/",
          "height": 204
        }
      },
      "source": [
        "fullset.tail()"
      ],
      "execution_count": 0,
      "outputs": [
        {
          "output_type": "execute_result",
          "data": {
            "text/html": [
              "<div>\n",
              "<style scoped>\n",
              "    .dataframe tbody tr th:only-of-type {\n",
              "        vertical-align: middle;\n",
              "    }\n",
              "\n",
              "    .dataframe tbody tr th {\n",
              "        vertical-align: top;\n",
              "    }\n",
              "\n",
              "    .dataframe thead th {\n",
              "        text-align: right;\n",
              "    }\n",
              "</style>\n",
              "<table border=\"1\" class=\"dataframe\">\n",
              "  <thead>\n",
              "    <tr style=\"text-align: right;\">\n",
              "      <th></th>\n",
              "      <th>Sentiment</th>\n",
              "      <th>Text</th>\n",
              "      <th>Token</th>\n",
              "    </tr>\n",
              "  </thead>\n",
              "  <tbody>\n",
              "    <tr>\n",
              "      <th>3999995</th>\n",
              "      <td>0</td>\n",
              "      <td>Unbelievable- In a Bad Way We bought this Thom...</td>\n",
              "      <td>unbeliev bad way bought thoma son huge thoma f...</td>\n",
              "    </tr>\n",
              "    <tr>\n",
              "      <th>3999996</th>\n",
              "      <td>0</td>\n",
              "      <td>Almost Great, Until it Broke... My son recieve...</td>\n",
              "      <td>almost great broke ... son reciev birthday gif...</td>\n",
              "    </tr>\n",
              "    <tr>\n",
              "      <th>3999997</th>\n",
              "      <td>0</td>\n",
              "      <td>Disappointed !!! I bought this toy for my son ...</td>\n",
              "      <td>disappoint bought toy son love thoma toy need ...</td>\n",
              "    </tr>\n",
              "    <tr>\n",
              "      <th>3999998</th>\n",
              "      <td>1</td>\n",
              "      <td>Classic Jessica Mitford This is a compilation ...</td>\n",
              "      <td>classic jessica mitford compil wide rang mitfo...</td>\n",
              "    </tr>\n",
              "    <tr>\n",
              "      <th>3999999</th>\n",
              "      <td>0</td>\n",
              "      <td>Comedy Scene, and Not Heard This DVD will be a...</td>\n",
              "      <td>comedi scene heard dvd disappoint get hope see...</td>\n",
              "    </tr>\n",
              "  </tbody>\n",
              "</table>\n",
              "</div>"
            ],
            "text/plain": [
              "         Sentiment                                               Text  \\\n",
              "3999995          0  Unbelievable- In a Bad Way We bought this Thom...   \n",
              "3999996          0  Almost Great, Until it Broke... My son recieve...   \n",
              "3999997          0  Disappointed !!! I bought this toy for my son ...   \n",
              "3999998          1  Classic Jessica Mitford This is a compilation ...   \n",
              "3999999          0  Comedy Scene, and Not Heard This DVD will be a...   \n",
              "\n",
              "                                                     Token  \n",
              "3999995  unbeliev bad way bought thoma son huge thoma f...  \n",
              "3999996  almost great broke ... son reciev birthday gif...  \n",
              "3999997  disappoint bought toy son love thoma toy need ...  \n",
              "3999998  classic jessica mitford compil wide rang mitfo...  \n",
              "3999999  comedi scene heard dvd disappoint get hope see...  "
            ]
          },
          "metadata": {
            "tags": []
          },
          "execution_count": 62
        }
      ]
    },
    {
      "cell_type": "code",
      "metadata": {
        "ExecuteTime": {
          "end_time": "2019-07-20T09:18:25.931725Z",
          "start_time": "2019-07-20T09:17:28.006638Z"
        },
        "colab_type": "code",
        "id": "cbeR6nNpsJZl",
        "colab": {}
      },
      "source": [
        "fullset[['Sentiment','Token']].to_csv('fullset_processed.csv',index=0)"
      ],
      "execution_count": 0,
      "outputs": []
    },
    {
      "cell_type": "markdown",
      "metadata": {
        "colab_type": "text",
        "id": "--DKAN-xsUyG"
      },
      "source": [
        "# Import Processed csv"
      ]
    },
    {
      "cell_type": "code",
      "metadata": {
        "colab_type": "code",
        "id": "nUGrxyYns0bg",
        "outputId": "a7bd4405-b1be-4833-e4e5-73be5c7eee23",
        "colab": {
          "base_uri": "https://localhost:8080/",
          "height": 204
        }
      },
      "source": [
        "!wget 'http://uk.boblee.cn/f/amazon_review_polarity/fullset_processed.csv'"
      ],
      "execution_count": 6,
      "outputs": [
        {
          "output_type": "stream",
          "text": [
            "--2019-07-20 23:20:43--  http://uk.boblee.cn/f/amazon_review_polarity/fullset_processed.csv\n",
            "Resolving uk.boblee.cn (uk.boblee.cn)... 35.246.85.216\n",
            "Connecting to uk.boblee.cn (uk.boblee.cn)|35.246.85.216|:80... connected.\n",
            "HTTP request sent, awaiting response... 200 OK\n",
            "Length: 990588747 (945M) [application/octet-stream]\n",
            "Saving to: ‘fullset_processed.csv’\n",
            "\n",
            "fullset_processed.c 100%[===================>] 944.70M  28.1MB/s    in 33s     \n",
            "\n",
            "2019-07-20 23:21:16 (29.0 MB/s) - ‘fullset_processed.csv’ saved [990588747/990588747]\n",
            "\n"
          ],
          "name": "stdout"
        }
      ]
    },
    {
      "cell_type": "code",
      "metadata": {
        "colab_type": "code",
        "id": "zgKS9B2Csr1R",
        "colab": {}
      },
      "source": [
        "fullset = pd.read_csv('fullset_processed.csv')"
      ],
      "execution_count": 0,
      "outputs": []
    },
    {
      "cell_type": "code",
      "metadata": {
        "colab_type": "code",
        "id": "dxsGmMIQtdf6",
        "outputId": "540984b1-1518-4e09-93bd-43e202dc61f0",
        "colab": {
          "base_uri": "https://localhost:8080/",
          "height": 204
        }
      },
      "source": [
        "fullset.tail()"
      ],
      "execution_count": 0,
      "outputs": [
        {
          "output_type": "execute_result",
          "data": {
            "text/html": [
              "<div>\n",
              "<style scoped>\n",
              "    .dataframe tbody tr th:only-of-type {\n",
              "        vertical-align: middle;\n",
              "    }\n",
              "\n",
              "    .dataframe tbody tr th {\n",
              "        vertical-align: top;\n",
              "    }\n",
              "\n",
              "    .dataframe thead th {\n",
              "        text-align: right;\n",
              "    }\n",
              "</style>\n",
              "<table border=\"1\" class=\"dataframe\">\n",
              "  <thead>\n",
              "    <tr style=\"text-align: right;\">\n",
              "      <th></th>\n",
              "      <th>Sentiment</th>\n",
              "      <th>Token</th>\n",
              "    </tr>\n",
              "  </thead>\n",
              "  <tbody>\n",
              "    <tr>\n",
              "      <th>3999995</th>\n",
              "      <td>0</td>\n",
              "      <td>unbeliev bad way bought thoma son huge thoma f...</td>\n",
              "    </tr>\n",
              "    <tr>\n",
              "      <th>3999996</th>\n",
              "      <td>0</td>\n",
              "      <td>almost great broke ... son reciev birthday gif...</td>\n",
              "    </tr>\n",
              "    <tr>\n",
              "      <th>3999997</th>\n",
              "      <td>0</td>\n",
              "      <td>disappoint bought toy son love thoma toy need ...</td>\n",
              "    </tr>\n",
              "    <tr>\n",
              "      <th>3999998</th>\n",
              "      <td>1</td>\n",
              "      <td>classic jessica mitford compil wide rang mitfo...</td>\n",
              "    </tr>\n",
              "    <tr>\n",
              "      <th>3999999</th>\n",
              "      <td>0</td>\n",
              "      <td>comedi scene heard dvd disappoint get hope see...</td>\n",
              "    </tr>\n",
              "  </tbody>\n",
              "</table>\n",
              "</div>"
            ],
            "text/plain": [
              "         Sentiment                                              Token\n",
              "3999995          0  unbeliev bad way bought thoma son huge thoma f...\n",
              "3999996          0  almost great broke ... son reciev birthday gif...\n",
              "3999997          0  disappoint bought toy son love thoma toy need ...\n",
              "3999998          1  classic jessica mitford compil wide rang mitfo...\n",
              "3999999          0  comedi scene heard dvd disappoint get hope see..."
            ]
          },
          "metadata": {
            "tags": []
          },
          "execution_count": 6
        }
      ]
    },
    {
      "cell_type": "code",
      "metadata": {
        "colab_type": "code",
        "id": "0BmRY9wSuEaP",
        "colab": {}
      },
      "source": [
        "fullset['Token'] = fullset['Token'].apply(str)"
      ],
      "execution_count": 0,
      "outputs": []
    },
    {
      "cell_type": "code",
      "metadata": {
        "ExecuteTime": {
          "end_time": "2019-07-20T06:50:33.918287Z",
          "start_time": "2019-07-20T06:50:31.098843Z"
        },
        "colab_type": "code",
        "id": "n4P1_Bn90sKG",
        "colab": {}
      },
      "source": [
        "# Randomly split indexes 90/10\n",
        "train_x, valid_x, train_y, valid_y = train_test_split(fullset['Token'], fullset['Sentiment'], train_size=0.9, random_state=1, stratify=fullset.Sentiment)"
      ],
      "execution_count": 0,
      "outputs": []
    },
    {
      "cell_type": "code",
      "metadata": {
        "id": "SvVZOLU6eUOy",
        "colab_type": "code",
        "colab": {
          "base_uri": "https://localhost:8080/",
          "height": 204
        },
        "outputId": "db860f5d-82ea-4eaf-b141-1363fe48f030"
      },
      "source": [
        "!wget 'https://github.com/bobleer/AmazonViews/blob/master/amazon_review_polarity_csv/statlearning.py'"
      ],
      "execution_count": 12,
      "outputs": [
        {
          "output_type": "stream",
          "text": [
            "--2019-07-20 23:30:08--  https://github.com/bobleer/AmazonViews/blob/master/amazon_review_polarity_csv/statlearning.py\n",
            "Resolving github.com (github.com)... 140.82.114.3\n",
            "Connecting to github.com (github.com)|140.82.114.3|:443... connected.\n",
            "HTTP request sent, awaiting response... 200 OK\n",
            "Length: unspecified [text/html]\n",
            "Saving to: ‘statlearning.py’\n",
            "\n",
            "statlearning.py         [ <=>                ] 273.06K  --.-KB/s    in 0.1s    \n",
            "\n",
            "2019-07-20 23:30:09 (2.59 MB/s) - ‘statlearning.py’ saved [279615]\n",
            "\n"
          ],
          "name": "stdout"
        }
      ]
    },
    {
      "cell_type": "markdown",
      "metadata": {
        "colab_type": "text",
        "id": "9fqVirc40sKJ"
      },
      "source": [
        "## Count Vectors as features"
      ]
    },
    {
      "cell_type": "code",
      "metadata": {
        "ExecuteTime": {
          "start_time": "2019-07-20T09:18:31.212Z"
        },
        "colab_type": "code",
        "id": "FEPxGuCc0sKK",
        "outputId": "cbc9acbe-70b1-442d-b569-d538181108bc",
        "colab": {}
      },
      "source": [
        "from sklearn.feature_extraction.text import CountVectorizer, TfidfVectorizer\n",
        "\n",
        "print('# CV + 1-gram')\n",
        "count_vect_1n = CountVectorizer(analyzer='word', ngram_range=(1,1), token_pattern=r'\\w{1,}', max_features=10000)\n",
        "count_vect_1n.fit(fullset['Token'])\n",
        "\n",
        "print('# CV + 2-gram')\n",
        "count_vect_2n = CountVectorizer(analyzer='word', ngram_range=(1,2), token_pattern=r'\\w{1,}', max_features=10000)\n",
        "count_vect_2n.fit(fullset['Token'])\n",
        "\n",
        "print(\"# CV + 3-gram\")\n",
        "count_vect_3n = CountVectorizer(analyzer='word', ngram_range=(1,3), token_pattern=r'\\w{1,}', max_features=10000)\n",
        "count_vect_3n.fit(fullset['Token'])"
      ],
      "execution_count": 0,
      "outputs": [
        {
          "output_type": "stream",
          "text": [
            "# CV + 1-gram\n",
            "# CV + 2-gram\n",
            "# CV + 3-gram\n"
          ],
          "name": "stdout"
        },
        {
          "output_type": "execute_result",
          "data": {
            "text/plain": [
              "CountVectorizer(analyzer='word', binary=False, decode_error='strict',\n",
              "        dtype=<class 'numpy.int64'>, encoding='utf-8', input='content',\n",
              "        lowercase=True, max_df=1.0, max_features=10000, min_df=1,\n",
              "        ngram_range=(1, 3), preprocessor=None, stop_words=None,\n",
              "        strip_accents=None, token_pattern='\\\\w{1,}', tokenizer=None,\n",
              "        vocabulary=None)"
            ]
          },
          "metadata": {
            "tags": []
          },
          "execution_count": 14
        }
      ]
    },
    {
      "cell_type": "code",
      "metadata": {
        "ExecuteTime": {
          "start_time": "2019-07-20T09:19:33.386Z"
        },
        "colab_type": "code",
        "id": "3UgeOSdX0sKM",
        "colab": {},
        "outputId": "8efc8159-78df-4317-94ed-716e0fb4e804"
      },
      "source": [
        "# Transform the training and validation data using count vectorizer object\n",
        "xtrain_count_1n =  count_vect_1n.transform(train_x)\n",
        "xvalid_count_1n =  count_vect_1n.transform(valid_x)\n",
        "print('# Finish 1n')\n",
        "\n",
        "xtrain_count_2n =  count_vect_2n.transform(train_x)\n",
        "xvalid_count_2n =  count_vect_2n.transform(valid_x)\n",
        "print('# Finish 2n')\n",
        "\n",
        "xtrain_count_3n =  count_vect_3n.transform(train_x)\n",
        "xvalid_count_3n =  count_vect_3n.transform(valid_x)\n",
        "print('# Finish 3n')"
      ],
      "execution_count": 0,
      "outputs": [
        {
          "output_type": "stream",
          "text": [
            "# Finish 1n\n",
            "# Finish 2n\n",
            "# Finish 3n\n"
          ],
          "name": "stdout"
        }
      ]
    },
    {
      "cell_type": "markdown",
      "metadata": {
        "colab_type": "text",
        "id": "0AByfO1W0sKO"
      },
      "source": [
        "## TF-IDF Vectors + N-gram as features"
      ]
    },
    {
      "cell_type": "code",
      "metadata": {
        "ExecuteTime": {
          "end_time": "2019-07-20T09:16:50.427140Z",
          "start_time": "2019-07-20T08:58:16.595Z"
        },
        "colab_type": "code",
        "id": "REpCdM870sKP",
        "colab": {}
      },
      "source": [
        "# TF-IDF + 1-gram\n",
        "tfidf_vect_1n = TfidfVectorizer(analyzer='word', ngram_range=(1,1), token_pattern=r'\\w{1,}', max_features=10000)\n",
        "tfidf_vect_1n.fit(fullset['Token'])\n",
        "\n",
        "# TF-IDF + 2-gram\n",
        "tfidf_vect_2n = TfidfVectorizer(analyzer='word', ngram_range=(1,2), token_pattern=r'\\w{1,}', max_features=10000)\n",
        "tfidf_vect_2n.fit(fullset['Token'])\n",
        "\n",
        "# TF-IDF + 3-gram\n",
        "tfidf_vect_3n = TfidfVectorizer(analyzer='word', ngram_range=(1,3), token_pattern=r'\\w{1,}', max_features=10000)\n",
        "tfidf_vect_3n.fit(fullset['Token'])"
      ],
      "execution_count": 0,
      "outputs": []
    },
    {
      "cell_type": "code",
      "metadata": {
        "ExecuteTime": {
          "end_time": "2019-07-20T09:16:50.510755Z",
          "start_time": "2019-07-20T08:59:32.065Z"
        },
        "colab_type": "code",
        "id": "LdbyIXyH0sKS",
        "colab": {}
      },
      "source": [
        "xtrain_tfidf_1n =  tfidf_vect_1n.transform(train_x)\n",
        "xvalid_tfidf_1n =  tfidf_vect_1n.transform(valid_x)\n",
        "\n",
        "xtrain_tfidf_2n =  tfidf_vect_2n.transform(train_x)\n",
        "xvalid_tfidf_2n =  tfidf_vect_2n.transform(valid_x)\n",
        "\n",
        "xtrain_tfidf_3n =  tfidf_vect_3n.transform(train_x)\n",
        "xvalid_tfidf_3n =  tfidf_vect_3n.transform(valid_x)"
      ],
      "execution_count": 0,
      "outputs": []
    },
    {
      "cell_type": "markdown",
      "metadata": {
        "colab_type": "text",
        "id": "CV-gGXXq0sKU"
      },
      "source": [
        "## Word2vec as features"
      ]
    },
    {
      "cell_type": "code",
      "metadata": {
        "ExecuteTime": {
          "end_time": "2019-07-20T06:50:34.137281Z",
          "start_time": "2019-07-20T02:34:57.697Z"
        },
        "colab_type": "code",
        "id": "YSnG4wPO0sKU",
        "colab": {}
      },
      "source": [
        "from gensim.models import word2vec\n",
        "from gensim.models.keyedvectors import KeyedVectors"
      ],
      "execution_count": 0,
      "outputs": []
    },
    {
      "cell_type": "code",
      "metadata": {
        "id": "14LdK0v4jMKs",
        "colab_type": "code",
        "colab": {
          "base_uri": "https://localhost:8080/",
          "height": 204
        },
        "outputId": "0879dcf2-f8c9-4228-dda0-2791535aae71"
      },
      "source": [
        "!wget 'http://uk.boblee.cn/v/GoogleNews-vectors-negative300.bin'"
      ],
      "execution_count": 13,
      "outputs": [
        {
          "output_type": "stream",
          "text": [
            "--2019-07-20 23:30:39--  http://uk.boblee.cn/v/GoogleNews-vectors-negative300.bin\n",
            "Resolving uk.boblee.cn (uk.boblee.cn)... 35.246.85.216\n",
            "Connecting to uk.boblee.cn (uk.boblee.cn)|35.246.85.216|:80... connected.\n",
            "HTTP request sent, awaiting response... 200 OK\n",
            "Length: 3644258522 (3.4G) [application/octet-stream]\n",
            "Saving to: ‘GoogleNews-vectors-negative300.bin’\n",
            "\n",
            "GoogleNews-vectors- 100%[===================>]   3.39G  25.9MB/s    in 2m 6s   \n",
            "\n",
            "2019-07-20 23:32:46 (27.5 MB/s) - ‘GoogleNews-vectors-negative300.bin’ saved [3644258522/3644258522]\n",
            "\n"
          ],
          "name": "stdout"
        }
      ]
    },
    {
      "cell_type": "code",
      "metadata": {
        "ExecuteTime": {
          "end_time": "2019-07-20T06:50:34.141382Z",
          "start_time": "2019-07-20T02:36:37.484Z"
        },
        "colab_type": "code",
        "id": "DYbWfeOD0sKX",
        "colab": {}
      },
      "source": [
        "#sentence = [(i.split()) for i in fullset.Token]\n",
        "#w2vmodel = word2vec.Word2Vec(sentence, min_count=1, size=300, workers=cores)\n",
        "w2vmodel = KeyedVectors.load_word2vec_format('GoogleNews-vectors-negative300.bin', binary=True)"
      ],
      "execution_count": 0,
      "outputs": []
    },
    {
      "cell_type": "code",
      "metadata": {
        "ExecuteTime": {
          "end_time": "2019-07-20T06:50:34.145346Z",
          "start_time": "2019-07-20T02:37:22.566Z"
        },
        "colab_type": "code",
        "id": "MZmbGGgr0sKZ",
        "outputId": "ae5099df-7f1c-430b-baf5-1f68ae708c54",
        "colab": {
          "base_uri": "https://localhost:8080/",
          "height": 187
        }
      },
      "source": [
        "w2vmodel.most_similar(['book'])"
      ],
      "execution_count": 18,
      "outputs": [
        {
          "output_type": "execute_result",
          "data": {
            "text/plain": [
              "[('tome', 0.7485830783843994),\n",
              " ('books', 0.7379178404808044),\n",
              " ('memoir', 0.7302927374839783),\n",
              " ('paperback_edition', 0.6868364810943604),\n",
              " ('autobiography', 0.6741527915000916),\n",
              " ('memoirs', 0.6505153179168701),\n",
              " ('Book', 0.6479282379150391),\n",
              " ('paperback', 0.6471226811408997),\n",
              " ('novels', 0.6341458559036255),\n",
              " ('hardback', 0.6283079385757446)]"
            ]
          },
          "metadata": {
            "tags": []
          },
          "execution_count": 18
        }
      ]
    },
    {
      "cell_type": "code",
      "metadata": {
        "ExecuteTime": {
          "end_time": "2019-07-18T03:28:10.160426Z",
          "start_time": "2019-07-18T03:28:10.113578Z"
        },
        "colab_type": "code",
        "id": "SpLGRds70sKb",
        "colab": {}
      },
      "source": [
        "#train_w2v_x, valid_w2v_x, train_w2v_y, valid_w2v_y = train_test_split(fullset['Text'], train_sp['Sentiment'], train_size=0.8, random_state=1, stratify=train_sp.Sentiment)"
      ],
      "execution_count": 0,
      "outputs": []
    },
    {
      "cell_type": "code",
      "metadata": {
        "ExecuteTime": {
          "end_time": "2019-07-20T06:50:34.149217Z",
          "start_time": "2019-07-20T02:37:34.010Z"
        },
        "colab_type": "code",
        "id": "FwqPpRH20sKd",
        "colab": {}
      },
      "source": [
        "def get_sent_vec(size, sent, model):\n",
        "    vec = np.zeros(size).reshape(1,size)\n",
        "    count = 0\n",
        "    for word in str(sent).split():\n",
        "        try:\n",
        "            vec += model[word].reshape(1,size)\n",
        "            count += 1\n",
        "        except:\n",
        "            continue\n",
        "    if count != 0:\n",
        "        vec /= count\n",
        "    return vec\n",
        "\n",
        "def get_train_vec(train_x, valid_x, model):\n",
        "    train_vec = np.concatenate([get_sent_vec(300, sent, model) for sent in train_x])\n",
        "    test_vec = np.concatenate([get_sent_vec(300, sent, model) for sent in valid_x])\n",
        "    return train_vec, test_vec"
      ],
      "execution_count": 0,
      "outputs": []
    },
    {
      "cell_type": "code",
      "metadata": {
        "ExecuteTime": {
          "end_time": "2019-07-20T06:50:34.153222Z",
          "start_time": "2019-07-20T02:38:50.951Z"
        },
        "colab_type": "code",
        "id": "DPAy8lvn0sKe",
        "colab": {}
      },
      "source": [
        "# Lower + No punctuation + No stopwords+ Stemming\n",
        "train_vec, valid_vec = get_train_vec(train_x, valid_x, w2vmodel)\n",
        "# Lower words + Stemming\n",
        "#train_w2v_vec, valid_w2v_vec = get_train_vec(train_w2v_x, valid_w2v_x, w2vmodel)"
      ],
      "execution_count": 0,
      "outputs": []
    },
    {
      "cell_type": "markdown",
      "metadata": {
        "colab_type": "text",
        "id": "_UGvD6350sKg"
      },
      "source": [
        "# Model Training (Traditional ML)"
      ]
    },
    {
      "cell_type": "code",
      "metadata": {
        "ExecuteTime": {
          "end_time": "2019-07-20T06:50:34.157283Z",
          "start_time": "2019-07-20T02:39:28.652Z"
        },
        "colab_type": "code",
        "id": "G6VSpAX90sKg",
        "colab": {}
      },
      "source": [
        "from sklearn.metrics import accuracy_score, recall_score, precision_score, roc_auc_score, f1_score, confusion_matrix, roc_curve\n",
        "from statlearning import plot_confusion_matrix"
      ],
      "execution_count": 0,
      "outputs": []
    },
    {
      "cell_type": "code",
      "metadata": {
        "ExecuteTime": {
          "end_time": "2019-07-20T06:50:34.161503Z",
          "start_time": "2019-07-20T02:39:31.247Z"
        },
        "colab_type": "code",
        "id": "mv_dbcys0sKi",
        "colab": {}
      },
      "source": [
        "from sklearn import naive_bayes, svm, linear_model\n",
        "\n",
        "def train_model(classifier, feature_vector_train, label, feature_vector_valid, is_neural_net=False):\n",
        "    # fit the training dataset on the classifier\n",
        "    trm = classifier.fit(feature_vector_train, label)\n",
        "    \n",
        "    # predict the labels on validation dataset\n",
        "    predictions = trm.predict(feature_vector_valid)\n",
        "    prob = trm.predict_proba(feature_vector_valid)\n",
        "    \n",
        "    '''\n",
        "    if is_neural_net:\n",
        "        predictions = predictions.argmax(axis=-1)\n",
        "    '''\n",
        "    print('Accuracy:', accuracy_score(predictions, valid_y).round(4))\n",
        "    print('Precision:', precision_score(predictions, valid_y).round(4))\n",
        "    print('Recall:', recall_score(predictions, valid_y).round(4))\n",
        "    print('F1 Score:', f1_score(predictions, valid_y).round(4))\n",
        "    '''\n",
        "    confusion = confusion_matrix(predictions, valid_y)\n",
        "    fig, ax = plt.subplots(figsize=(8,6))\n",
        "    plot_confusion_matrix(confusion, classes=['negative','positive'], normalize=True)\n",
        "    plt.show()\n",
        "    '''\n",
        "    #print('AUC:', roc_auc_score(valid_y, prob[:,1]).round(4),'\\n')\n",
        "    \n",
        "    fpr, tpr, _ = roc_curve(valid_y, prob[:,1])\n",
        "    auc = roc_auc_score(valid_y, prob[:,1])\n",
        "\n",
        "    fig, ax= plt.subplots(figsize=(14,9))\n",
        "    ax.plot(fpr, tpr, label='ROC curve (AUC = {:.3f})'.format(auc))\n",
        "    ax.set_xlabel('False positive rate')\n",
        "    ax.set_ylabel('True Positive Rate')\n",
        "    ax.set_title('ROC curve for the Naive Bayes Classifier', fontsize=16)\n",
        "    sns.despine()\n",
        "    plt.legend()\n",
        "    plt.show()"
      ],
      "execution_count": 0,
      "outputs": []
    },
    {
      "cell_type": "markdown",
      "metadata": {
        "colab_type": "text",
        "id": "SrXIQFlU0sKk"
      },
      "source": [
        "##  Naive Bayes"
      ]
    },
    {
      "cell_type": "code",
      "metadata": {
        "ExecuteTime": {
          "end_time": "2019-07-20T06:50:34.165287Z",
          "start_time": "2019-07-20T02:39:47.027Z"
        },
        "colab_type": "code",
        "id": "0IkDbw050sKk",
        "colab": {}
      },
      "source": [
        "print(\"# Naive Bayes + Count Vectors + 1-gram\")\n",
        "train_model(naive_bayes.BernoulliNB(), xtrain_count_1n, train_y, xvalid_count_1n)\n",
        "\n",
        "print(\"\\n# Naive Bayes + Count Vectors + 2-gram\")\n",
        "train_model(naive_bayes.BernoulliNB(), xtrain_count_2n, train_y, xvalid_count_2n)\n",
        "\n",
        "print(\"\\n# Naive Bayes + Count Vectors + 3-gram\")\n",
        "train_model(naive_bayes.BernoulliNB(), xtrain_count_3n, train_y, xvalid_count_3n)"
      ],
      "execution_count": 0,
      "outputs": []
    },
    {
      "cell_type": "code",
      "metadata": {
        "ExecuteTime": {
          "end_time": "2019-07-20T06:50:34.168638Z",
          "start_time": "2019-07-20T02:39:54.859Z"
        },
        "colab_type": "code",
        "id": "3dMO787R0sKm",
        "colab": {}
      },
      "source": [
        "print(\"# Naive Bayes + TF-IDF + 1-gram\")\n",
        "train_model(naive_bayes.BernoulliNB(), xtrain_tfidf_1n, train_y, xvalid_tfidf_1n)\n",
        "\n",
        "print(\"\\n# Naive Bayes + TF-IDF + 2-gram\")\n",
        "train_model(naive_bayes.BernoulliNB(), xtrain_tfidf_2n, train_y, xvalid_tfidf_2n)\n",
        "\n",
        "print(\"\\n# Naive Bayes + TF-IDF + 3-gram\")\n",
        "train_model(naive_bayes.BernoulliNB(), xtrain_tfidf_3n, train_y, xvalid_tfidf_3n)"
      ],
      "execution_count": 0,
      "outputs": []
    },
    {
      "cell_type": "code",
      "metadata": {
        "ExecuteTime": {
          "end_time": "2019-07-20T06:50:34.171772Z",
          "start_time": "2019-07-20T02:40:11.999Z"
        },
        "colab_type": "code",
        "id": "cf7wIF7H0sKo",
        "colab": {},
        "outputId": "46ab1ce3-28d4-4712-9274-d23babb547fa"
      },
      "source": [
        "print(\"# Naive Bayes + 1234 + Word2vec\")\n",
        "train_model(naive_bayes.BernoulliNB(), train_vec, train_y, valid_vec)\n",
        "\n",
        "#print(\"\\n# Naive Bayes + 14 + Word2vec\")\n",
        "#train_model(naive_bayes.BernoulliNB(), train_w2v_vec, train_y, valid_w2v_vec)"
      ],
      "execution_count": 0,
      "outputs": [
        {
          "output_type": "stream",
          "text": [
            "# Naive Bayes + 1234 + Word2vec\n",
            "Accuracy: 0.577\n",
            "Precision: 0.6173\n",
            "Recall: 0.5713\n",
            "F1 Score: 0.5934\n"
          ],
          "name": "stdout"
        },
        {
          "output_type": "display_data",
          "data": {
            "image/png": "[encoded data removed]",
            "text/plain": [
              "<Figure size 1008x648 with 1 Axes>"
            ]
          },
          "metadata": {
            "tags": []
          }
        }
      ]
    },
    {
      "cell_type": "markdown",
      "metadata": {
        "colab_type": "text",
        "id": "i4omCTCE0sKr"
      },
      "source": [
        "## SVM "
      ]
    },
    {
      "cell_type": "code",
      "metadata": {
        "ExecuteTime": {
          "end_time": "2019-07-20T06:50:34.175483Z",
          "start_time": "2019-07-20T02:40:18.166Z"
        },
        "colab_type": "code",
        "id": "yP52UPN-0sKs",
        "colab": {}
      },
      "source": [
        "print(\"SVM + Count Vectors + 1-gram\")\n",
        "train_model(svm.SVC(verbose=True), xtrain_count_1n, train_y, xvalid_count_1n)\n",
        "\n",
        "print(\"\\nSVM + Count Vectors + 2-gram\")\n",
        "train_model(svm.SVC(verbose=True), xtrain_count_2n, train_y, xvalid_count_2n)\n",
        "\n",
        "print(\"\\nSVM + Count Vectors + 3-gram\")\n",
        "train_model(svm.SVC(verbose=True), xtrain_count_3n, train_y, xvalid_count_3n)"
      ],
      "execution_count": 0,
      "outputs": []
    },
    {
      "cell_type": "code",
      "metadata": {
        "ExecuteTime": {
          "end_time": "2019-07-20T06:50:34.179353Z",
          "start_time": "2019-07-20T02:40:20.450Z"
        },
        "colab_type": "code",
        "id": "fF3trImm0sKx",
        "colab": {}
      },
      "source": [
        "print(\"SVM + TF-IDF + 1-gram\")\n",
        "train_model(svm.SVC(), xtrain_tfidf_1n, train_y, xvalid_tfidf_1n)\n",
        "\n",
        "print(\"\\nSVM + TF-IDF + 2-gram\")\n",
        "train_model(svm.SVC(), xtrain_tfidf_2n, train_y, xvalid_tfidf_2n)\n",
        "\n",
        "print(\"\\nSVM + TF-IDF + 3-gram\")\n",
        "train_model(svm.SVC(), xtrain_tfidf_3n, train_y, xvalid_tfidf_3n)"
      ],
      "execution_count": 0,
      "outputs": []
    },
    {
      "cell_type": "code",
      "metadata": {
        "ExecuteTime": {
          "end_time": "2019-07-20T06:50:34.183094Z",
          "start_time": "2019-07-20T02:40:25.726Z"
        },
        "colab_type": "code",
        "id": "-V9XfNnC0sK1",
        "colab": {},
        "outputId": "53d8e578-52e6-436a-ac8e-6b43cec91afd"
      },
      "source": [
        "print(\"SVM + 1234 + Word2vec\")\n",
        "train_model(svm.SVC(), train_vec, train_y, valid_vec)\n",
        "\n",
        "#print(\"\\nSVM + 14 + Word2vec\")\n",
        "#train_model(svm.SVC(), train_w2v_vec, train_y, valid_w2v_vec)"
      ],
      "execution_count": 0,
      "outputs": [
        {
          "output_type": "stream",
          "text": [
            "SVM + 1234 + Word2vec\n"
          ],
          "name": "stdout"
        }
      ]
    },
    {
      "cell_type": "markdown",
      "metadata": {
        "colab_type": "text",
        "id": "H-6gskhB0sK3"
      },
      "source": [
        "## Logistic Regression "
      ]
    },
    {
      "cell_type": "code",
      "metadata": {
        "ExecuteTime": {
          "end_time": "2019-07-20T06:50:34.187166Z",
          "start_time": "2019-07-20T02:40:29.713Z"
        },
        "colab_type": "code",
        "id": "vKOrRygm0sK3",
        "colab": {}
      },
      "source": [
        "print(\"Logistic Regression + Count Vectors + 1-gram\")\n",
        "train_model(linear_model.LogisticRegression(), xtrain_count_1n, train_y, xvalid_count_1n)\n",
        "\n",
        "print(\"\\nLogistic Regression + Count Vectors + 2-gram\")\n",
        "train_model(linear_model.LogisticRegression(), xtrain_count_2n, train_y, xvalid_count_2n)\n",
        "\n",
        "print(\"\\nLogistic Regression + Count Vectors + 3-gram\")\n",
        "train_model(linear_model.LogisticRegression(), xtrain_count_3n, train_y, xvalid_count_3n)"
      ],
      "execution_count": 0,
      "outputs": []
    },
    {
      "cell_type": "code",
      "metadata": {
        "ExecuteTime": {
          "end_time": "2019-07-20T06:50:34.191083Z",
          "start_time": "2019-07-20T02:40:31.911Z"
        },
        "colab_type": "code",
        "id": "pqS97gkG0sK6",
        "colab": {}
      },
      "source": [
        "print(\"Logistic Regression + TF-IDF + 1-gram\")\n",
        "train_model(linear_model.LogisticRegression(), xtrain_tfidf_1n, train_y, xvalid_tfidf_1n)\n",
        "\n",
        "print(\"\\nLogistic Regression + TF-IDF + 2-gram\")\n",
        "train_model(linear_model.LogisticRegression(), xtrain_tfidf_2n, train_y, xvalid_tfidf_3n)\n",
        "\n",
        "print(\"\\nLogistic Regression + TF-IDF + 3-gram\")\n",
        "train_model(linear_model.LogisticRegression(), xtrain_tfidf_3n, train_y, xvalid_tfidf_3n)"
      ],
      "execution_count": 0,
      "outputs": []
    },
    {
      "cell_type": "code",
      "metadata": {
        "ExecuteTime": {
          "end_time": "2019-07-20T06:50:34.195299Z",
          "start_time": "2019-07-20T02:40:36.899Z"
        },
        "colab_type": "code",
        "id": "yqkSTsLB0sK8",
        "scrolled": true,
        "colab": {}
      },
      "source": [
        "print(\"Logistic Regression + 1234 + Word2vec\")\n",
        "train_model(linear_model.LogisticRegression(), train_vec, train_y, valid_vec)\n",
        "\n",
        "#print(\"\\nLogistic Regression + 14 + Word2vec\")\n",
        "#train_model(linear_model.LogisticRegression(), train_w2v_vec, train_y, valid_w2v_vec)"
      ],
      "execution_count": 0,
      "outputs": []
    },
    {
      "cell_type": "markdown",
      "metadata": {
        "colab_type": "text",
        "id": "I5CDkOSj0sK_"
      },
      "source": [
        "# Model Training (DNN)"
      ]
    },
    {
      "cell_type": "code",
      "metadata": {
        "ExecuteTime": {
          "end_time": "2019-07-18T04:23:49.804907Z",
          "start_time": "2019-07-18T04:23:47.894373Z"
        },
        "colab_type": "code",
        "id": "FwfgcVgU0sLA",
        "outputId": "41d532ca-00c9-4acc-b25a-a2c268d83e4c",
        "colab": {
          "base_uri": "https://localhost:8080/",
          "height": 34
        }
      },
      "source": [
        "from keras.preprocessing import text, sequence\n",
        "from keras import layers, models, optimizers"
      ],
      "execution_count": 19,
      "outputs": [
        {
          "output_type": "stream",
          "text": [
            "Using TensorFlow backend.\n"
          ],
          "name": "stderr"
        }
      ]
    },
    {
      "cell_type": "code",
      "metadata": {
        "colab_type": "code",
        "id": "gAPh6GGe53bc",
        "colab": {}
      },
      "source": [
        "import os\n",
        "os.environ[\"CUDA_VISIBLE_DEVICES\"] = \"0\""
      ],
      "execution_count": 0,
      "outputs": []
    },
    {
      "cell_type": "code",
      "metadata": {
        "ExecuteTime": {
          "end_time": "2019-07-18T20:16:27.748598Z",
          "start_time": "2019-07-18T20:16:27.745263Z"
        },
        "colab_type": "code",
        "id": "wp8kwrtN0sLC",
        "colab": {}
      },
      "source": [
        "MAX_SEQUENCE_LENGTH = 128\n",
        "EMBEDDING_DIM = 300\n",
        "VALIDATION_SPLIT = 0.1\n",
        "TEST_SPLIT = 0.1"
      ],
      "execution_count": 0,
      "outputs": []
    },
    {
      "cell_type": "code",
      "metadata": {
        "ExecuteTime": {
          "end_time": "2019-07-18T20:16:38.368345Z",
          "start_time": "2019-07-18T20:16:33.768301Z"
        },
        "colab_type": "code",
        "id": "RXx6zEvv0sLG",
        "colab": {}
      },
      "source": [
        "from keras.preprocessing.text import Tokenizer\n",
        "from keras.preprocessing.sequence import pad_sequences\n",
        "from keras.utils import to_categorical\n",
        "import numpy as np\n",
        "\n",
        "# One-hot\n",
        "tokenizer = Tokenizer()\n",
        "tokenizer.fit_on_texts(fullset['Token'])\n",
        "sequences = tokenizer.texts_to_sequences(fullset['Token'])\n",
        "word_index = tokenizer.word_index\n",
        "print('Found %s unique tokens.' % len(word_index))\n",
        "data = pad_sequences(sequences, maxlen=MAX_SEQUENCE_LENGTH)\n",
        "labels = to_categorical(np.asarray(fullset['Sentiment']))\n",
        "print('Shape of data tensor:', data.shape)\n",
        "print('Shape of label tensor:', labels.shape)"
      ],
      "execution_count": 0,
      "outputs": []
    },
    {
      "cell_type": "code",
      "metadata": {
        "ExecuteTime": {
          "end_time": "2019-07-18T20:16:44.220729Z",
          "start_time": "2019-07-18T20:16:44.214126Z"
        },
        "colab_type": "code",
        "id": "WSypXCPk0sLI",
        "colab": {}
      },
      "source": [
        "p1 = int(len(data)*(1-VALIDATION_SPLIT-TEST_SPLIT))\n",
        "p2 = int(len(data)*(1-TEST_SPLIT))\n",
        "x_train = data[:p1]\n",
        "y_train = labels[:p1]\n",
        "x_val = data[p1:p2]\n",
        "y_val = labels[p1:p2]\n",
        "x_test = data[p2:]\n",
        "y_test = labels[p2:]\n",
        "print('train rows: '+str(len(x_train)))\n",
        "print('valid rows: '+str(len(x_val)))\n",
        "print('test rows: '+str(len(x_test)))"
      ],
      "execution_count": 0,
      "outputs": []
    },
    {
      "cell_type": "markdown",
      "metadata": {
        "colab_type": "text",
        "id": "5cUp0-930sLC"
      },
      "source": [
        "## CNN"
      ]
    },
    {
      "cell_type": "code",
      "metadata": {
        "ExecuteTime": {
          "end_time": "2019-07-18T21:05:08.644128Z",
          "start_time": "2019-07-18T21:05:08.537954Z"
        },
        "colab_type": "code",
        "id": "cP_yMVNc0sLK",
        "outputId": "31f78485-c6ec-4348-decf-3f01ba8a55bd",
        "colab": {
          "base_uri": "https://localhost:8080/",
          "height": 632
        }
      },
      "source": [
        "from keras.layers import Dense, Input, Flatten, Dropout\n",
        "from keras.layers import Conv1D, MaxPooling1D, Embedding\n",
        "from keras.models import Sequential\n",
        "\n",
        "cnn = Sequential()\n",
        "cnn.add(Embedding(len(word_index) + 1, EMBEDDING_DIM, input_length=MAX_SEQUENCE_LENGTH))\n",
        "cnn.add(Dropout(0.2))\n",
        "cnn.add(Conv1D(250, 3, padding='valid', activation='relu', strides=1))\n",
        "cnn.add(MaxPooling1D(3))\n",
        "cnn.add(Flatten())\n",
        "cnn.add(Dense(EMBEDDING_DIM, activation='relu'))\n",
        "cnn.add(Dense(labels.shape[1], activation='softmax'))\n",
        "cnn.summary()"
      ],
      "execution_count": 0,
      "outputs": [
        {
          "output_type": "stream",
          "text": [
            "WARNING: Logging before flag parsing goes to stderr.\n",
            "W0719 11:37:35.117842 139969333942144 deprecation_wrapper.py:119] From /usr/local/lib/python3.6/dist-packages/keras/backend/tensorflow_backend.py:74: The name tf.get_default_graph is deprecated. Please use tf.compat.v1.get_default_graph instead.\n",
            "\n",
            "W0719 11:37:35.121850 139969333942144 deprecation_wrapper.py:119] From /usr/local/lib/python3.6/dist-packages/keras/backend/tensorflow_backend.py:517: The name tf.placeholder is deprecated. Please use tf.compat.v1.placeholder instead.\n",
            "\n",
            "W0719 11:37:35.131954 139969333942144 deprecation_wrapper.py:119] From /usr/local/lib/python3.6/dist-packages/keras/backend/tensorflow_backend.py:4138: The name tf.random_uniform is deprecated. Please use tf.random.uniform instead.\n",
            "\n",
            "W0719 11:37:35.158958 139969333942144 deprecation_wrapper.py:119] From /usr/local/lib/python3.6/dist-packages/keras/backend/tensorflow_backend.py:133: The name tf.placeholder_with_default is deprecated. Please use tf.compat.v1.placeholder_with_default instead.\n",
            "\n",
            "W0719 11:37:35.170718 139969333942144 deprecation.py:506] From /usr/local/lib/python3.6/dist-packages/keras/backend/tensorflow_backend.py:3445: calling dropout (from tensorflow.python.ops.nn_ops) with keep_prob is deprecated and will be removed in a future version.\n",
            "Instructions for updating:\n",
            "Please use `rate` instead of `keep_prob`. Rate should be set to `rate = 1 - keep_prob`.\n",
            "W0719 11:37:35.232243 139969333942144 deprecation_wrapper.py:119] From /usr/local/lib/python3.6/dist-packages/keras/backend/tensorflow_backend.py:3976: The name tf.nn.max_pool is deprecated. Please use tf.nn.max_pool2d instead.\n",
            "\n"
          ],
          "name": "stderr"
        },
        {
          "output_type": "stream",
          "text": [
            "_________________________________________________________________\n",
            "Layer (type)                 Output Shape              Param #   \n",
            "=================================================================\n",
            "embedding_1 (Embedding)      (None, 128, 100)          117750200 \n",
            "_________________________________________________________________\n",
            "dropout_1 (Dropout)          (None, 128, 100)          0         \n",
            "_________________________________________________________________\n",
            "conv1d_1 (Conv1D)            (None, 126, 250)          75250     \n",
            "_________________________________________________________________\n",
            "max_pooling1d_1 (MaxPooling1 (None, 42, 250)           0         \n",
            "_________________________________________________________________\n",
            "flatten_1 (Flatten)          (None, 10500)             0         \n",
            "_________________________________________________________________\n",
            "dense_1 (Dense)              (None, 100)               1050100   \n",
            "_________________________________________________________________\n",
            "dense_2 (Dense)              (None, 2)                 202       \n",
            "=================================================================\n",
            "Total params: 118,875,752\n",
            "Trainable params: 118,875,752\n",
            "Non-trainable params: 0\n",
            "_________________________________________________________________\n"
          ],
          "name": "stdout"
        }
      ]
    },
    {
      "cell_type": "code",
      "metadata": {
        "ExecuteTime": {
          "end_time": "2019-07-18T21:09:20.743763Z",
          "start_time": "2019-07-18T21:05:14.128876Z"
        },
        "colab_type": "code",
        "id": "n8rCVYUP0sLN",
        "colab": {}
      },
      "source": [
        "# CNN + One-hot\n",
        "cnn.compile(loss='binary_crossentropy',\n",
        "              optimizer='rmsprop',\n",
        "              metrics=['acc'])\n",
        "history = cnn.fit(x_train, y_train, validation_data=(x_val, y_val), epochs=1, batch_size=64)\n",
        "\n",
        "\n",
        "result = cnn.evaluate(x_test, y_test)\n",
        "print('[Test] Loss:', result[0])\n",
        "print('[Test] Accuracy:', result[1])"
      ],
      "execution_count": 0,
      "outputs": []
    },
    {
      "cell_type": "code",
      "metadata": {
        "ExecuteTime": {
          "end_time": "2019-07-18T06:06:12.498604Z",
          "start_time": "2019-07-18T06:06:11.533881Z"
        },
        "colab_type": "code",
        "id": "KCoQLjhC0sLP",
        "colab": {}
      },
      "source": [
        "# Word2vec\n",
        "from keras.utils import plot_model\n",
        "from keras.layers import Embedding\n",
        "\n",
        "embedding_matrix = np.zeros((len(word_index) + 1, EMBEDDING_DIM))\n",
        "for word, i in word_index.items(): \n",
        "    if str(word) in w2vmodel:\n",
        "        embedding_matrix[i] = np.asarray(w2vmodel[str(word)],dtype='float32')\n",
        "        \n",
        "embedding_layer = Embedding(len(word_index) + 1,\n",
        "                            EMBEDDING_DIM,\n",
        "                            weights=[embedding_matrix],\n",
        "                            input_length=MAX_SEQUENCE_LENGTH,\n",
        "                            trainable=False)\n"
      ],
      "execution_count": 0,
      "outputs": []
    },
    {
      "cell_type": "code",
      "metadata": {
        "ExecuteTime": {
          "end_time": "2019-07-18T10:28:40.684003Z",
          "start_time": "2019-07-18T10:23:40.184289Z"
        },
        "colab_type": "code",
        "id": "dgQehTKL0sLR",
        "colab": {}
      },
      "source": [
        "# CNN + Word2vec\n",
        "from keras.layers import Dense, Input, Flatten, Dropout\n",
        "from keras.layers import Conv1D, MaxPooling1D, Embedding\n",
        "from keras.models import Sequential\n",
        "\n",
        "cnn_w2v = Sequential()\n",
        "cnn_w2v.add(embedding_layer)\n",
        "cnn_w2v.add(Dropout(0.2))\n",
        "cnn_w2v.add(Conv1D(250, 3, padding='valid', activation='relu', strides=1))\n",
        "cnn_w2v.add(MaxPooling1D(3))\n",
        "cnn_w2v.add(Flatten())\n",
        "cnn_w2v.add(Dense(EMBEDDING_DIM, activation='relu'))\n",
        "cnn_w2v.add(Dense(labels.shape[1], activation='softmax'))\n",
        "cnn_w2v.summary()\n",
        "\n",
        "cnn_w2v.compile(loss='binary_crossentropy',\n",
        "              optimizer='rmsprop',\n",
        "              metrics=['acc'])\n",
        "history = cnn_w2v.fit(x_train, y_train, validation_data=(x_val, y_val), epochs=1, batch_size=128)\n",
        "\n",
        "plt.plot(history.history['loss'])\n",
        "plt.plot(history.history['val_loss'])\n",
        "plt.title('CNN + Word2vec: Train vs Validation Loss')\n",
        "plt.ylabel('Loss')\n",
        "plt.xlabel('Epoch')\n",
        "plt.legend(['Train', 'Validation'], loc='upper right')\n",
        "plt.show()\n",
        "\n",
        "result = cnn_w2v.evaluate(x_test, y_test)\n",
        "print('[Test] Loss:', result[0])\n",
        "print('[Test] Accuracy:', result[1])"
      ],
      "execution_count": 0,
      "outputs": []
    },
    {
      "cell_type": "markdown",
      "metadata": {
        "ExecuteTime": {
          "end_time": "2019-07-17T23:01:03.811073Z",
          "start_time": "2019-07-17T23:01:03.783953Z"
        },
        "colab_type": "text",
        "id": "6TB5JnyD0sLT"
      },
      "source": [
        "## LSTM "
      ]
    },
    {
      "cell_type": "code",
      "metadata": {
        "ExecuteTime": {
          "end_time": "2019-07-18T08:53:36.456943Z",
          "start_time": "2019-07-18T08:19:27.518151Z"
        },
        "colab_type": "code",
        "id": "9GbTGi7V0sLT",
        "outputId": "43da5758-a42a-4c66-c5c2-0c1d2e251c7c",
        "colab": {
          "base_uri": "https://localhost:8080/",
          "height": 391
        }
      },
      "source": [
        "from keras.layers import Dense, Input, Flatten, Dropout\n",
        "from keras.layers import LSTM, MaxPooling1D, Embedding\n",
        "from keras.models import Sequential\n",
        "\n",
        "lstm = Sequential()\n",
        "lstm.add(Embedding(len(word_index) + 1, EMBEDDING_DIM, input_length=MAX_SEQUENCE_LENGTH))\n",
        "lstm.add(Dropout(0.2))\n",
        "lstm.add(LSTM(128, dropout=0.2, recurrent_dropout=0.2))\n",
        "lstm.add(Dense(1, activation='sigmoid'))\n",
        "lstm.add(Dense(EMBEDDING_DIM, activation='relu'))\n",
        "lstm.add(Dense(labels.shape[1], activation='softmax'))\n",
        "lstm.summary()\n",
        "\n",
        "lstm.compile(loss='binary_crossentropy',\n",
        "              optimizer='rmsprop',\n",
        "              metrics=['acc'])\n",
        "history = lstm.fit(x_train, y_train, validation_data=(x_val, y_val), epochs=1, batch_size=128)\n",
        "\n",
        "result = lstm.evaluate(x_test, y_test)\n",
        "print('[Test] Loss:', result[0])\n",
        "print('[Test] Accuracy:', result[1])"
      ],
      "execution_count": 0,
      "outputs": [
        {
          "output_type": "stream",
          "text": [
            "_________________________________________________________________\n",
            "Layer (type)                 Output Shape              Param #   \n",
            "=================================================================\n",
            "embedding_5 (Embedding)      (None, 128, 100)          117750200 \n",
            "_________________________________________________________________\n",
            "dropout_5 (Dropout)          (None, 128, 100)          0         \n",
            "_________________________________________________________________\n",
            "lstm_4 (LSTM)                (None, 128)               117248    \n",
            "_________________________________________________________________\n",
            "dense_12 (Dense)             (None, 1)                 129       \n",
            "_________________________________________________________________\n",
            "dense_13 (Dense)             (None, 100)               200       \n",
            "_________________________________________________________________\n",
            "dense_14 (Dense)             (None, 2)                 202       \n",
            "=================================================================\n",
            "Total params: 117,867,979\n",
            "Trainable params: 117,867,979\n",
            "Non-trainable params: 0\n",
            "_________________________________________________________________\n",
            "Train on 3200000 samples, validate on 400000 samples\n",
            "Epoch 1/1\n",
            " 910976/3200000 [=======>......................] - ETA: 2:42:58 - loss: 0.3979 - acc: 0.7819"
          ],
          "name": "stdout"
        }
      ]
    },
    {
      "cell_type": "code",
      "metadata": {
        "ExecuteTime": {
          "end_time": "2019-07-18T13:27:35.718362Z",
          "start_time": "2019-07-18T13:27:34.451209Z"
        },
        "colab_type": "code",
        "id": "p99c4EFH0sLW",
        "colab": {}
      },
      "source": [
        "# Word2vec\n",
        "from keras.utils import plot_model\n",
        "from keras.layers import Embedding\n",
        "\n",
        "embedding_matrix = np.zeros((len(word_index) + 1, EMBEDDING_DIM))\n",
        "for word, i in word_index.items(): \n",
        "    if str(word) in w2vmodel:\n",
        "        embedding_matrix[i] = np.asarray(w2vmodel[str(word)],dtype='float32')\n",
        "        \n",
        "embedding_layer = Embedding(len(word_index) + 1, EMBEDDING_DIM, weights=[embedding_matrix], input_length=MAX_SEQUENCE_LENGTH, trainable=False)\n"
      ],
      "execution_count": 0,
      "outputs": []
    },
    {
      "cell_type": "code",
      "metadata": {
        "ExecuteTime": {
          "end_time": "2019-07-18T09:38:39.897550Z",
          "start_time": "2019-07-18T09:18:46.884652Z"
        },
        "colab_type": "code",
        "id": "k63uoyln0sLX",
        "outputId": "dadcf647-4e77-4fc1-84cc-91c08dc14cad",
        "colab": {}
      },
      "source": [
        "# LSTM + Word2vec\n",
        "from keras.layers import Dense, Input, Flatten, Dropout\n",
        "from keras.layers import LSTM, MaxPooling1D, Embedding\n",
        "from keras.models import Sequential\n",
        "\n",
        "lstm_w2v = Sequential()\n",
        "lstm_w2v.add(embedding_layer)\n",
        "lstm_w2v.add(Dropout(0.2))\n",
        "lstm_w2v.add(LSTM(128, dropout=0.2, recurrent_dropout=0.2))\n",
        "lstm_w2v.add(Dense(1, activation='sigmoid'))\n",
        "lstm_w2v.add(Dense(EMBEDDING_DIM, activation='relu'))\n",
        "lstm_w2v.add(Dense(labels.shape[1], activation='softmax'))\n",
        "lstm_w2v.summary()\n",
        "\n",
        "lstm_w2v.compile(loss='binary_crossentropy',\n",
        "              optimizer='rmsprop',\n",
        "              metrics=['acc'])\n",
        "history = lstm_w2v.fit(x_train, y_train, validation_data=(x_val, y_val), epochs=5, batch_size=128)\n",
        "\n",
        "plt.plot(history.history['loss'])\n",
        "plt.plot(history.history['val_loss'])\n",
        "plt.title('LSTM + Word2vec: Train vs Validation Loss')\n",
        "plt.ylabel('Loss')\n",
        "plt.xlabel('Epoch')\n",
        "plt.legend(['Train', 'Validation'], loc='upper right')\n",
        "plt.show()\n",
        "\n",
        "result = lstm_w2v.evaluate(x_test, y_test)\n",
        "print('[Test] Loss:', result[0])\n",
        "print('[Test] Accuracy:', result[1])"
      ],
      "execution_count": 0,
      "outputs": [
        {
          "output_type": "stream",
          "text": [
            "_________________________________________________________________\n",
            "Layer (type)                 Output Shape              Param #   \n",
            "=================================================================\n",
            "embedding_6 (Embedding)      (None, 128, 300)          20127300  \n",
            "_________________________________________________________________\n",
            "dropout_7 (Dropout)          (None, 128, 300)          0         \n",
            "_________________________________________________________________\n",
            "lstm_5 (LSTM)                (None, 128)               219648    \n",
            "_________________________________________________________________\n",
            "dense_17 (Dense)             (None, 1)                 129       \n",
            "_________________________________________________________________\n",
            "dense_18 (Dense)             (None, 300)               600       \n",
            "_________________________________________________________________\n",
            "dense_19 (Dense)             (None, 2)                 602       \n",
            "=================================================================\n",
            "Total params: 20,348,279\n",
            "Trainable params: 220,979\n",
            "Non-trainable params: 20,127,300\n",
            "_________________________________________________________________\n",
            "Train on 32499 samples, validate on 7501 samples\n",
            "Epoch 1/5\n",
            "32499/32499 [==============================] - 185s 6ms/step - loss: 0.4893 - acc: 0.7881 - val_loss: 0.3860 - val_acc: 0.8336\n",
            "Epoch 2/5\n",
            "32499/32499 [==============================] - 562s 17ms/step - loss: 0.3702 - acc: 0.8377 - val_loss: 0.3307 - val_acc: 0.8570\n",
            "Epoch 3/5\n",
            "32499/32499 [==============================] - 204s 6ms/step - loss: 0.3358 - acc: 0.8539 - val_loss: 0.3104 - val_acc: 0.8668\n",
            "Epoch 4/5\n",
            "32499/32499 [==============================] - 113s 3ms/step - loss: 0.3127 - acc: 0.8656 - val_loss: 0.3034 - val_acc: 0.8682\n",
            "Epoch 5/5\n",
            "32499/32499 [==============================] - 113s 3ms/step - loss: 0.2920 - acc: 0.8767 - val_loss: 0.2930 - val_acc: 0.8704\n",
            "10000/10000 [==============================] - 14s 1ms/step\n"
          ],
          "name": "stdout"
        },
        {
          "output_type": "execute_result",
          "data": {
            "text/plain": [
              "[0.2884707634925842, 0.8802]"
            ]
          },
          "metadata": {
            "tags": []
          },
          "execution_count": 50
        }
      ]
    },
    {
      "cell_type": "markdown",
      "metadata": {
        "colab_type": "text",
        "id": "lJxwFnU50sLZ"
      },
      "source": [
        "## Hybrid Model"
      ]
    },
    {
      "cell_type": "code",
      "metadata": {
        "ExecuteTime": {
          "end_time": "2019-07-18T19:58:27.831449Z",
          "start_time": "2019-07-18T19:26:12.727476Z"
        },
        "colab_type": "code",
        "id": "VjDXKzn60sLc",
        "outputId": "b420ffb4-b2f7-4185-af07-54f8e788f971",
        "colab": {
          "base_uri": "https://localhost:8080/",
          "height": 459
        }
      },
      "source": [
        "# CNN + LSTM\n",
        "from keras.layers import Dense, Input, Flatten, Dropout\n",
        "from keras.layers import LSTM, Conv1D, MaxPooling1D, Embedding, TimeDistributed\n",
        "from keras.models import Sequential\n",
        "\n",
        "hybrid = Sequential()\n",
        "hybrid.add(Embedding(len(word_index) + 1, EMBEDDING_DIM, input_length=MAX_SEQUENCE_LENGTH))\n",
        "hybrid.add(Dropout(0.2))\n",
        "hybrid.add(Conv1D(250, 3, activation='relu'))\n",
        "hybrid.add(MaxPooling1D(pool_size=3))\n",
        "hybrid.add(LSTM(128))\n",
        "hybrid.add(Dense(2, activation='sigmoid'))\n",
        "hybrid.add(Dense(EMBEDDING_DIM, activation='relu'))\n",
        "hybrid.add(Dense(labels.shape[1], activation='softmax'))\n",
        "hybrid.compile(loss='binary_crossentropy', optimizer='adam', metrics=['accuracy'])\n",
        "hybrid.summary()\n",
        "\n",
        "hybrid.compile(loss='categorical_crossentropy', optimizer='rmsprop', metrics=['acc'])\n",
        "history = hybrid.fit(x_train, y_train, validation_data=(x_val, y_val), epochs=1, batch_size=128)"
      ],
      "execution_count": 0,
      "outputs": [
        {
          "output_type": "stream",
          "text": [
            "_________________________________________________________________\n",
            "Layer (type)                 Output Shape              Param #   \n",
            "=================================================================\n",
            "embedding_4 (Embedding)      (None, 128, 100)          117750200 \n",
            "_________________________________________________________________\n",
            "dropout_4 (Dropout)          (None, 128, 100)          0         \n",
            "_________________________________________________________________\n",
            "conv1d_4 (Conv1D)            (None, 126, 250)          75250     \n",
            "_________________________________________________________________\n",
            "max_pooling1d_4 (MaxPooling1 (None, 42, 250)           0         \n",
            "_________________________________________________________________\n",
            "lstm_3 (LSTM)                (None, 128)               194048    \n",
            "_________________________________________________________________\n",
            "dense_9 (Dense)              (None, 2)                 258       \n",
            "_________________________________________________________________\n",
            "dense_10 (Dense)             (None, 100)               300       \n",
            "_________________________________________________________________\n",
            "dense_11 (Dense)             (None, 2)                 202       \n",
            "=================================================================\n",
            "Total params: 118,020,258\n",
            "Trainable params: 118,020,258\n",
            "Non-trainable params: 0\n",
            "_________________________________________________________________\n",
            "Train on 3200000 samples, validate on 400000 samples\n",
            "Epoch 1/1\n",
            "3200000/3200000 [==============================] - 5207s 2ms/step - loss: 0.1682 - acc: 0.9359 - val_loss: 0.1489 - val_acc: 0.9446\n"
          ],
          "name": "stdout"
        },
        {
          "output_type": "display_data",
          "data": {
            "image/png": "[encoded data removed]",
            "text/plain": [
              "<Figure size 648x432 with 1 Axes>"
            ]
          },
          "metadata": {
            "tags": []
          }
        },
        {
          "output_type": "stream",
          "text": [
            "400000/400000 [==============================] - 454s 1ms/step\n",
            "[Test] Loss: 0.15286792957790196\n",
            "[Test] Accuracy: 0.9426625\n"
          ],
          "name": "stdout"
        }
      ]
    },
    {
      "cell_type": "code",
      "metadata": {
        "colab_type": "code",
        "id": "Zmou4KN_5jwC",
        "outputId": "91e551bf-a37c-4c9c-c7df-95ab129d4175",
        "colab": {
          "base_uri": "https://localhost:8080/",
          "height": 68
        }
      },
      "source": [
        "# CNN + LSTM\n",
        "result = hybrid.evaluate(x_test, y_test)\n",
        "print('[Test] Loss:', result[0])\n",
        "print('[Test] Accuracy:', result[1])"
      ],
      "execution_count": 0,
      "outputs": [
        {
          "output_type": "stream",
          "text": [
            "400000/400000 [==============================] - 480s 1ms/step\n",
            "[Test] Loss: 0.15286792957790196\n",
            "[Test] Accuracy: 0.9426625\n"
          ],
          "name": "stdout"
        }
      ]
    },
    {
      "cell_type": "code",
      "metadata": {
        "ExecuteTime": {
          "end_time": "2019-07-18T19:25:59.461749Z",
          "start_time": "2019-07-18T19:25:55.999Z"
        },
        "colab_type": "code",
        "id": "dTaC-5cB0sLe",
        "colab": {}
      },
      "source": [
        "# CNN + LSTM + Word2vec\n",
        "from keras.layers import Dense, Input, Flatten, Dropout\n",
        "from keras.layers import LSTM, Conv1D, MaxPooling1D, Embedding, TimeDistributed\n",
        "from keras.models import Sequential\n",
        "\n",
        "hybrid_w2v = Sequential()\n",
        "hybrid_w2v.add(embedding_layer)\n",
        "hybrid_w2v.add(Dropout(0.2))\n",
        "hybrid_w2v.add(Conv1D(250, 3, activation='relu'))\n",
        "hybrid_w2v.add(MaxPooling1D(pool_size=3))\n",
        "hybrid_w2v.add(LSTM(128))\n",
        "hybrid_w2v.add(Dense(2, activation='sigmoid'))\n",
        "hybrid_w2v.add(Dense(EMBEDDING_DIM, activation='relu'))\n",
        "hybrid_w2v.add(Dense(labels.shape[1], activation='softmax'))\n",
        "hybrid_w2v.compile(loss='binary_crossentropy', optimizer='adam', metrics=['accuracy'])\n",
        "hybrid_w2v.summary()\n",
        "\n",
        "hybrid_w2v.compile(loss='categorical_crossentropy',\n",
        "              optimizer='rmsprop',\n",
        "              metrics=['acc'])\n",
        "history = hybrid_w2v.fit(x_train, y_train, validation_data=(x_val, y_val), epochs=5, batch_size=128)\n",
        "\n",
        "plt.plot(history.history['loss'])\n",
        "plt.plot(history.history['val_loss'])\n",
        "plt.title('CNN + LSTM + Word2vec: Train vs Validation Loss')\n",
        "plt.ylabel('Loss')\n",
        "plt.xlabel('Epoch')\n",
        "plt.legend(['Train', 'Validation'], loc='upper right')\n",
        "plt.show()\n",
        "\n",
        "result = hybrid_w2v.evaluate(x_test, y_test)\n",
        "print('[Test] Loss:', result[0])\n",
        "print('[Test] Accuracy:', result[1])"
      ],
      "execution_count": 0,
      "outputs": []
    },
    {
      "cell_type": "markdown",
      "metadata": {
        "colab_type": "text",
        "id": "OpNYg6e50sLg"
      },
      "source": [
        "# Optimisation (CV: Parameters & Features Selection)"
      ]
    },
    {
      "cell_type": "markdown",
      "metadata": {
        "colab_type": "text",
        "id": "NRmBiblH0sLg"
      },
      "source": [
        "# Reflection"
      ]
    },
    {
      "cell_type": "code",
      "metadata": {
        "colab_type": "code",
        "id": "DjqFcIw80sLh",
        "colab": {}
      },
      "source": [
        ""
      ],
      "execution_count": 0,
      "outputs": []
    },
    {
      "cell_type": "code",
      "metadata": {
        "colab_type": "code",
        "id": "tTnUJWBX0sLi",
        "colab": {}
      },
      "source": [
        ""
      ],
      "execution_count": 0,
      "outputs": []
    },
    {
      "cell_type": "code",
      "metadata": {
        "colab_type": "code",
        "id": "FgjYJEBo0sLl",
        "colab": {}
      },
      "source": [
        ""
      ],
      "execution_count": 0,
      "outputs": []
    },
    {
      "cell_type": "code",
      "metadata": {
        "colab_type": "code",
        "id": "uRStWn5A0sLm",
        "colab": {}
      },
      "source": [
        ""
      ],
      "execution_count": 0,
      "outputs": []
    },
    {
      "cell_type": "code",
      "metadata": {
        "colab_type": "code",
        "id": "h_MLzRVU0sLp",
        "colab": {}
      },
      "source": [
        ""
      ],
      "execution_count": 0,
      "outputs": []
    }
  ]
}