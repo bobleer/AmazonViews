{
 "cells": [
  {
   "cell_type": "markdown",
   "metadata": {
    "colab_type": "text",
    "id": "9-TmdZUXq9tb"
   },
   "source": [
    "**Sentiment Analysis on Amazon Reviews Dataset Using Supervised Machine Learning And Neural Network**\n",
    "\n",
    "Registration Number: 180234862\n",
    "\n",
    "University Account: liu18wl"
   ]
  },
  {
   "cell_type": "markdown",
   "metadata": {
    "colab_type": "text",
    "id": "se3e7SyU91GQ"
   },
   "source": [
    "# Environment Preparation "
   ]
  },
  {
   "cell_type": "code",
   "execution_count": 0,
   "metadata": {
    "colab": {
     "base_uri": "https://localhost:8080/",
     "height": 122
    },
    "colab_type": "code",
    "id": "CqPgcghqukCg",
    "outputId": "78e37bf0-34b4-4723-af5a-f94e8b287264"
   },
   "outputs": [
    {
     "name": "stdout",
     "output_type": "stream",
     "text": [
      "Go to this URL in a browser: https://accounts.google.com/o/oauth2/auth?client_id=947318989803-6bn6qk8qdgf4n4g3pfee6491hc0brc4i.apps.googleusercontent.com&redirect_uri=urn%3Aietf%3Awg%3Aoauth%3A2.0%3Aoob&scope=email%20https%3A%2F%2Fwww.googleapis.com%2Fauth%2Fdocs.test%20https%3A%2F%2Fwww.googleapis.com%2Fauth%2Fdrive%20https%3A%2F%2Fwww.googleapis.com%2Fauth%2Fdrive.photos.readonly%20https%3A%2F%2Fwww.googleapis.com%2Fauth%2Fpeopleapi.readonly&response_type=code\n",
      "\n",
      "Enter your authorization code:\n",
      "··········\n",
      "Mounted at /content/drive\n"
     ]
    }
   ],
   "source": [
    "# Link Google Drive and Colab\n",
    "from google.colab import drive\n",
    "drive.mount('/content/drive')"
   ]
  },
  {
   "cell_type": "code",
   "execution_count": 0,
   "metadata": {
    "colab": {
     "base_uri": "https://localhost:8080/",
     "height": 34
    },
    "colab_type": "code",
    "id": "N2vL-Ey895VW",
    "outputId": "a9e514b6-ee2e-4484-fa8b-306dc298027d"
   },
   "outputs": [
    {
     "name": "stdout",
     "output_type": "stream",
     "text": [
      "/content/drive/My Drive\n"
     ]
    }
   ],
   "source": [
    "cd ./drive/'My Drive'"
   ]
  },
  {
   "cell_type": "code",
   "execution_count": 0,
   "metadata": {
    "colab": {
     "base_uri": "https://localhost:8080/",
     "height": 207
    },
    "colab_type": "code",
    "id": "tTN3hh-u91GV",
    "outputId": "a304001b-c8fb-4159-bea2-4367ca90b001"
   },
   "outputs": [
    {
     "name": "stdout",
     "output_type": "stream",
     "text": [
      "Collecting emoji\n",
      "\u001b[?25l  Downloading https://files.pythonhosted.org/packages/1b/d7/2746b4dd67375ce253e777ba54869545d24d2b0249ebcf83735c99df68d5/emoji-0.5.3.tar.gz (43kB)\n",
      "\u001b[K     |████████████████████████████████| 51kB 2.5MB/s \n",
      "\u001b[?25hBuilding wheels for collected packages: emoji\n",
      "  Building wheel for emoji (setup.py) ... \u001b[?25l\u001b[?25hdone\n",
      "  Created wheel for emoji: filename=emoji-0.5.3-cp36-none-any.whl size=42175 sha256=f64f20855f734556d2cf13c3d5ac9a15014d2cb79744b58b27e2a7a7527b33c0\n",
      "  Stored in directory: /root/.cache/pip/wheels/86/09/26/f944015841423cd516e8a97f30e29be59e53461aea8b7d3458\n",
      "Successfully built emoji\n",
      "Installing collected packages: emoji\n",
      "Successfully installed emoji-0.5.3\n"
     ]
    }
   ],
   "source": [
    "!pip install emoji"
   ]
  },
  {
   "cell_type": "markdown",
   "metadata": {
    "colab_type": "text",
    "id": "XN6YbIQsuBhR"
   },
   "source": [
    "# Import packages"
   ]
  },
  {
   "cell_type": "code",
   "execution_count": 0,
   "metadata": {
    "ExecuteTime": {
     "end_time": "2019-07-23T19:21:24.106764Z",
     "start_time": "2019-07-23T19:21:22.027760Z"
    },
    "colab": {},
    "colab_type": "code",
    "id": "Pk9IVL4YuBhS"
   },
   "outputs": [],
   "source": [
    "# Packages\n",
    "from time import time\n",
    "import re\n",
    "import os\n",
    "import nltk\n",
    "import numpy as np\n",
    "import multiprocessing as mp\n",
    "import pandas as pd\n",
    "import matplotlib.pyplot as plt\n",
    "import seaborn as sns\n",
    "from scipy import stats\n",
    "from tqdm import tqdm\n",
    "import pickle\n",
    "import string\n",
    "\n",
    "from nltk.tokenize import TweetTokenizer\n",
    "from nltk.corpus import stopwords\n",
    "from nltk.stem.porter import PorterStemmer\n",
    "from emoji import demojize\n",
    "from gensim.models import Word2Vec\n",
    "\n",
    "from sklearn import naive_bayes, svm, linear_model\n",
    "from sklearn.model_selection import train_test_split, cross_val_score\n",
    "from sklearn.metrics import accuracy_score, recall_score, precision_score, roc_auc_score, f1_score, confusion_matrix, roc_curve\n",
    "\n",
    "# Settings\n",
    "sns.set_context('notebook') \n",
    "sns.set_style('ticks') \n",
    "colours = ['#1F77B4', '#FF7F0E', '#2CA02C', '#DB2728', '#9467BD', '#8C564B', '#E377C2','#7F7F7F', '#BCBD22', '#17BECF']\n",
    "crayon = ['#4E79A7','#F28E2C','#E15759','#76B7B2','#59A14F', '#EDC949','#AF7AA1','#FF9DA7','#9C755F','#BAB0AB']\n",
    "sns.set_palette(colours)\n",
    "%matplotlib inline\n",
    "plt.rcParams['figure.figsize'] = (9, 6)\n",
    "#tqdm.pandas(desc=\"Progress bar\")\n",
    "Tokenizer = TweetTokenizer()\n",
    "cores = mp.cpu_count()\n",
    "\n",
    "import warnings\n",
    "warnings.filterwarnings('ignore')"
   ]
  },
  {
   "cell_type": "code",
   "execution_count": 0,
   "metadata": {
    "ExecuteTime": {
     "end_time": "2019-07-23T19:24:45.854986Z",
     "start_time": "2019-07-23T19:24:45.845935Z"
    },
    "colab": {},
    "colab_type": "code",
    "id": "Ia5XfftxuBhU"
   },
   "outputs": [],
   "source": [
    "def _apply_df(args):\n",
    "    df, func, kwargs = args\n",
    "    return df.progress_apply(func, **kwargs)\n",
    "\n",
    "def multi_apply(df, func, **kwargs):\n",
    "    workers = kwargs.pop('workers')\n",
    "    pool = mp.Pool(processes=workers)\n",
    "    result = pool.map(_apply_df, [(d, func, kwargs) for d in np.array_split(df, workers)])\n",
    "    pool.close()\n",
    "    return pd.concat(list(result))"
   ]
  },
  {
   "cell_type": "markdown",
   "metadata": {
    "colab_type": "text",
    "id": "P0iSZu7muBhW"
   },
   "source": [
    "# Import dataset"
   ]
  },
  {
   "cell_type": "code",
   "execution_count": 0,
   "metadata": {
    "colab": {},
    "colab_type": "code",
    "id": "LMJdI1DuKASR",
    "outputId": "8a002da1-e77d-433e-99db-e747b780cd2d"
   },
   "outputs": [
    {
     "data": {
      "text/html": [
       "<div>\n",
       "<style scoped>\n",
       "    .dataframe tbody tr th:only-of-type {\n",
       "        vertical-align: middle;\n",
       "    }\n",
       "\n",
       "    .dataframe tbody tr th {\n",
       "        vertical-align: top;\n",
       "    }\n",
       "\n",
       "    .dataframe thead th {\n",
       "        text-align: right;\n",
       "    }\n",
       "</style>\n",
       "<table border=\"1\" class=\"dataframe\">\n",
       "  <thead>\n",
       "    <tr style=\"text-align: right;\">\n",
       "      <th></th>\n",
       "      <th>0</th>\n",
       "      <th>1</th>\n",
       "      <th>2</th>\n",
       "    </tr>\n",
       "  </thead>\n",
       "  <tbody>\n",
       "    <tr>\n",
       "      <th>3599998</th>\n",
       "      <td>1</td>\n",
       "      <td>what is it saying?</td>\n",
       "      <td>not sure what this book is supposed to be. It ...</td>\n",
       "    </tr>\n",
       "    <tr>\n",
       "      <th>3599999</th>\n",
       "      <td>2</td>\n",
       "      <td>Makes My Blood Run Red-White-And-Blue</td>\n",
       "      <td>I agree that every American should read this b...</td>\n",
       "    </tr>\n",
       "  </tbody>\n",
       "</table>\n",
       "</div>"
      ],
      "text/plain": [
       "         0                                      1  \\\n",
       "3599998  1                     what is it saying?   \n",
       "3599999  2  Makes My Blood Run Red-White-And-Blue   \n",
       "\n",
       "                                                         2  \n",
       "3599998  not sure what this book is supposed to be. It ...  \n",
       "3599999  I agree that every American should read this b...  "
      ]
     },
     "execution_count": 7,
     "metadata": {
      "tags": []
     },
     "output_type": "execute_result"
    }
   ],
   "source": [
    "train = pd.read_csv('train.csv', header=None)\n",
    "train.tail(2)"
   ]
  },
  {
   "cell_type": "code",
   "execution_count": 0,
   "metadata": {
    "colab": {},
    "colab_type": "code",
    "id": "venTuRf2KAST",
    "outputId": "194b1270-a8c4-49b3-d666-dd8446aa18ea"
   },
   "outputs": [
    {
     "data": {
      "text/plain": [
       "2    1800000\n",
       "1    1800000\n",
       "Name: 0, dtype: int64"
      ]
     },
     "execution_count": 24,
     "metadata": {
      "tags": []
     },
     "output_type": "execute_result"
    }
   ],
   "source": [
    "train[0].value_counts()"
   ]
  },
  {
   "cell_type": "code",
   "execution_count": 0,
   "metadata": {
    "colab": {},
    "colab_type": "code",
    "id": "jwnANBWPKASW",
    "outputId": "0ddd8af5-db3a-46de-b2ba-91860c0f6ee8"
   },
   "outputs": [
    {
     "data": {
      "text/html": [
       "<div>\n",
       "<style scoped>\n",
       "    .dataframe tbody tr th:only-of-type {\n",
       "        vertical-align: middle;\n",
       "    }\n",
       "\n",
       "    .dataframe tbody tr th {\n",
       "        vertical-align: top;\n",
       "    }\n",
       "\n",
       "    .dataframe thead th {\n",
       "        text-align: right;\n",
       "    }\n",
       "</style>\n",
       "<table border=\"1\" class=\"dataframe\">\n",
       "  <thead>\n",
       "    <tr style=\"text-align: right;\">\n",
       "      <th></th>\n",
       "      <th>0</th>\n",
       "      <th>1</th>\n",
       "      <th>2</th>\n",
       "    </tr>\n",
       "  </thead>\n",
       "  <tbody>\n",
       "    <tr>\n",
       "      <th>399998</th>\n",
       "      <td>2</td>\n",
       "      <td>Classic Jessica Mitford</td>\n",
       "      <td>This is a compilation of a wide range of Mitfo...</td>\n",
       "    </tr>\n",
       "    <tr>\n",
       "      <th>399999</th>\n",
       "      <td>1</td>\n",
       "      <td>Comedy Scene, and Not Heard</td>\n",
       "      <td>This DVD will be a disappointment if you get i...</td>\n",
       "    </tr>\n",
       "  </tbody>\n",
       "</table>\n",
       "</div>"
      ],
      "text/plain": [
       "        0                            1  \\\n",
       "399998  2      Classic Jessica Mitford   \n",
       "399999  1  Comedy Scene, and Not Heard   \n",
       "\n",
       "                                                        2  \n",
       "399998  This is a compilation of a wide range of Mitfo...  \n",
       "399999  This DVD will be a disappointment if you get i...  "
      ]
     },
     "execution_count": 8,
     "metadata": {
      "tags": []
     },
     "output_type": "execute_result"
    }
   ],
   "source": [
    "test = pd.read_csv('test.csv', header=None)\n",
    "test.tail(2)"
   ]
  },
  {
   "cell_type": "code",
   "execution_count": 0,
   "metadata": {
    "colab": {},
    "colab_type": "code",
    "id": "_uwHLlMkKASY",
    "outputId": "24cfbfa3-e08d-4f7d-e2c2-ac1f72b6ef1f"
   },
   "outputs": [
    {
     "data": {
      "text/plain": [
       "2    200000\n",
       "1    200000\n",
       "Name: 0, dtype: int64"
      ]
     },
     "execution_count": 25,
     "metadata": {
      "tags": []
     },
     "output_type": "execute_result"
    }
   ],
   "source": [
    "test[0].value_counts()"
   ]
  },
  {
   "cell_type": "code",
   "execution_count": 0,
   "metadata": {
    "colab": {},
    "colab_type": "code",
    "id": "WAQRpElWuBhX"
   },
   "outputs": [],
   "source": [
    "# Merge title and content\n",
    "train['Text'] = train[1]+' '+train[2]\n",
    "train = train.drop(columns=[1,2])\n",
    "\n",
    "# Negative = 0, Positive = 1\n",
    "train[0] = train[0].map(lambda x: x-1)\n",
    "train.rename(columns={0:'Sentiment'}, inplace=True)"
   ]
  },
  {
   "cell_type": "code",
   "execution_count": 0,
   "metadata": {
    "colab": {},
    "colab_type": "code",
    "id": "fspATJGzuBhZ"
   },
   "outputs": [],
   "source": [
    "# Merge title and content\n",
    "test['Text'] = test[1]+' '+test[2]\n",
    "test = test.drop(columns=[1,2])\n",
    "\n",
    "# Negative = 0, Positive = 1\n",
    "test[0] = test[0].map(lambda x: x-1)\n",
    "test.rename(columns={0:'Sentiment'}, inplace=True)"
   ]
  },
  {
   "cell_type": "code",
   "execution_count": 0,
   "metadata": {
    "colab": {},
    "colab_type": "code",
    "id": "B5YzodUEuBhb"
   },
   "outputs": [],
   "source": [
    "# Merge dataset\n",
    "fullset = pd.concat([train,test], axis=0, ignore_index=True)\n",
    "del(train)\n",
    "del(test)\n",
    "fullset.to_csv('fullset.csv', index=0)"
   ]
  },
  {
   "cell_type": "code",
   "execution_count": 0,
   "metadata": {
    "ExecuteTime": {
     "end_time": "2019-07-23T11:26:08.439424Z",
     "start_time": "2019-07-23T11:25:50.196387Z"
    },
    "colab": {},
    "colab_type": "code",
    "id": "VYusHv0PuBhd"
   },
   "outputs": [],
   "source": [
    "fullset = pd.read_csv('fullset.csv')"
   ]
  },
  {
   "cell_type": "markdown",
   "metadata": {
    "colab_type": "text",
    "id": "28kAd4xWuBhe"
   },
   "source": [
    "# Data Observation"
   ]
  },
  {
   "cell_type": "code",
   "execution_count": 0,
   "metadata": {
    "ExecuteTime": {
     "end_time": "2019-07-23T06:07:35.653645Z",
     "start_time": "2019-07-23T06:07:35.646127Z"
    },
    "colab": {},
    "colab_type": "code",
    "id": "2DidfgyNuBhf",
    "outputId": "c10df316-a8df-43c6-b3d8-b32a4d609e64"
   },
   "outputs": [
    {
     "data": {
      "text/html": [
       "<div>\n",
       "<style scoped>\n",
       "    .dataframe tbody tr th:only-of-type {\n",
       "        vertical-align: middle;\n",
       "    }\n",
       "\n",
       "    .dataframe tbody tr th {\n",
       "        vertical-align: top;\n",
       "    }\n",
       "\n",
       "    .dataframe thead th {\n",
       "        text-align: right;\n",
       "    }\n",
       "</style>\n",
       "<table border=\"1\" class=\"dataframe\">\n",
       "  <thead>\n",
       "    <tr style=\"text-align: right;\">\n",
       "      <th></th>\n",
       "      <th>Sentiment</th>\n",
       "      <th>Text</th>\n",
       "    </tr>\n",
       "  </thead>\n",
       "  <tbody>\n",
       "    <tr>\n",
       "      <th>3999995</th>\n",
       "      <td>0</td>\n",
       "      <td>Unbelievable- In a Bad Way We bought this Thom...</td>\n",
       "    </tr>\n",
       "    <tr>\n",
       "      <th>3999996</th>\n",
       "      <td>0</td>\n",
       "      <td>Almost Great, Until it Broke... My son recieve...</td>\n",
       "    </tr>\n",
       "    <tr>\n",
       "      <th>3999997</th>\n",
       "      <td>0</td>\n",
       "      <td>Disappointed !!! I bought this toy for my son ...</td>\n",
       "    </tr>\n",
       "    <tr>\n",
       "      <th>3999998</th>\n",
       "      <td>1</td>\n",
       "      <td>Classic Jessica Mitford This is a compilation ...</td>\n",
       "    </tr>\n",
       "    <tr>\n",
       "      <th>3999999</th>\n",
       "      <td>0</td>\n",
       "      <td>Comedy Scene, and Not Heard This DVD will be a...</td>\n",
       "    </tr>\n",
       "  </tbody>\n",
       "</table>\n",
       "</div>"
      ],
      "text/plain": [
       "         Sentiment                                               Text\n",
       "3999995          0  Unbelievable- In a Bad Way We bought this Thom...\n",
       "3999996          0  Almost Great, Until it Broke... My son recieve...\n",
       "3999997          0  Disappointed !!! I bought this toy for my son ...\n",
       "3999998          1  Classic Jessica Mitford This is a compilation ...\n",
       "3999999          0  Comedy Scene, and Not Heard This DVD will be a..."
      ]
     },
     "execution_count": 7,
     "metadata": {
      "tags": []
     },
     "output_type": "execute_result"
    }
   ],
   "source": [
    "fullset.tail()"
   ]
  },
  {
   "cell_type": "code",
   "execution_count": 0,
   "metadata": {
    "ExecuteTime": {
     "end_time": "2019-07-23T06:07:35.738285Z",
     "start_time": "2019-07-23T06:07:35.686252Z"
    },
    "colab": {},
    "colab_type": "code",
    "id": "JteIGuDCuBhi",
    "outputId": "4ab48224-984f-43b8-a1c0-6a31cbf1da17"
   },
   "outputs": [
    {
     "data": {
      "text/plain": [
       "1    2000000\n",
       "0    2000000\n",
       "Name: Sentiment, dtype: int64"
      ]
     },
     "execution_count": 8,
     "metadata": {
      "tags": []
     },
     "output_type": "execute_result"
    }
   ],
   "source": [
    "fullset['Sentiment'].value_counts()"
   ]
  },
  {
   "cell_type": "code",
   "execution_count": 0,
   "metadata": {
    "ExecuteTime": {
     "end_time": "2019-07-23T11:26:09.818186Z",
     "start_time": "2019-07-23T11:26:08.475277Z"
    },
    "colab": {},
    "colab_type": "code",
    "id": "aiV6e-XGuBhl"
   },
   "outputs": [],
   "source": [
    "fullset['Text'] = fullset['Text'].apply(str)"
   ]
  },
  {
   "cell_type": "code",
   "execution_count": 0,
   "metadata": {
    "colab": {},
    "colab_type": "code",
    "id": "eDO84MnwKASp"
   },
   "outputs": [],
   "source": [
    "fullset['Text'] = fullset['Text'].apply(Tokenizer.tokenize)"
   ]
  },
  {
   "cell_type": "code",
   "execution_count": 0,
   "metadata": {
    "ExecuteTime": {
     "end_time": "2019-07-23T06:07:38.821560Z",
     "start_time": "2019-07-23T06:07:37.135285Z"
    },
    "colab": {},
    "colab_type": "code",
    "id": "4Nx_ZuWnuBhn",
    "outputId": "c1d07249-cafe-4508-a214-bca6fa742a53"
   },
   "outputs": [
    {
     "data": {
      "text/plain": [
       "count    4000000.0\n",
       "mean          89.0\n",
       "std           49.0\n",
       "min            1.0\n",
       "50%           79.0\n",
       "95%          183.0\n",
       "99%          206.0\n",
       "max          314.0\n",
       "Name: Text, dtype: float64"
      ]
     },
     "execution_count": 14,
     "metadata": {
      "tags": []
     },
     "output_type": "execute_result"
    }
   ],
   "source": [
    "# The statistic of sentence length\n",
    "(fullset['Text'].apply(len)).describe(percentiles=[.95, .99]).round(0)"
   ]
  },
  {
   "cell_type": "code",
   "execution_count": 0,
   "metadata": {
    "colab": {},
    "colab_type": "code",
    "id": "KgyVhYdnKASt",
    "outputId": "e41ae050-d185-4489-a021-651645007993"
   },
   "outputs": [
    {
     "data": {
      "text/plain": [
       "count    2000000.0\n",
       "mean          93.0\n",
       "std           48.0\n",
       "min            1.0\n",
       "50%           84.0\n",
       "95%          185.0\n",
       "99%          207.0\n",
       "max          303.0\n",
       "Name: Text, dtype: float64"
      ]
     },
     "execution_count": 15,
     "metadata": {
      "tags": []
     },
     "output_type": "execute_result"
    }
   ],
   "source": [
    "# Negative sentence length\n",
    "(fullset[fullset.Sentiment==0]['Text'].apply(len)).describe(percentiles=[.95, .99]).round(0)"
   ]
  },
  {
   "cell_type": "code",
   "execution_count": 0,
   "metadata": {
    "colab": {},
    "colab_type": "code",
    "id": "EN47RLjKKASx",
    "outputId": "3ecd8383-e516-4762-95d4-e2db5c7c7619"
   },
   "outputs": [
    {
     "data": {
      "text/plain": [
       "count    2000000.0\n",
       "mean          86.0\n",
       "std           49.0\n",
       "min            1.0\n",
       "50%           75.0\n",
       "95%          181.0\n",
       "99%          206.0\n",
       "max          314.0\n",
       "Name: Text, dtype: float64"
      ]
     },
     "execution_count": 16,
     "metadata": {
      "tags": []
     },
     "output_type": "execute_result"
    }
   ],
   "source": [
    "# Positive sentence length\n",
    "(fullset[fullset.Sentiment==1]['Text'].apply(len)).describe(percentiles=[.95, .99]).round(0)"
   ]
  },
  {
   "cell_type": "markdown",
   "metadata": {
    "colab_type": "text",
    "id": "JlwoEPy0uBhp"
   },
   "source": [
    "# Data Preprocessing"
   ]
  },
  {
   "cell_type": "code",
   "execution_count": 0,
   "metadata": {
    "colab": {},
    "colab_type": "code",
    "id": "-_-2o1xGuBhq"
   },
   "outputs": [],
   "source": [
    "# Text lowercase + Stemming\n",
    "def pre_proc(text):\n",
    "    return ''.join([PorterStemmer().stem(x) for x in Tokenizer.tokenize(text.lower()) if x != ''])"
   ]
  },
  {
   "cell_type": "code",
   "execution_count": 0,
   "metadata": {
    "colab": {},
    "colab_type": "code",
    "id": "V5iij0MzKAS4",
    "outputId": "21c87b78-8c76-4cef-9c49-6c5eaa65dfab"
   },
   "outputs": [
    {
     "data": {
      "text/html": [
       "<div>\n",
       "<style scoped>\n",
       "    .dataframe tbody tr th:only-of-type {\n",
       "        vertical-align: middle;\n",
       "    }\n",
       "\n",
       "    .dataframe tbody tr th {\n",
       "        vertical-align: top;\n",
       "    }\n",
       "\n",
       "    .dataframe thead th {\n",
       "        text-align: right;\n",
       "    }\n",
       "</style>\n",
       "<table border=\"1\" class=\"dataframe\">\n",
       "  <thead>\n",
       "    <tr style=\"text-align: right;\">\n",
       "      <th></th>\n",
       "      <th>0</th>\n",
       "      <th>1</th>\n",
       "      <th>2</th>\n",
       "      <th>3</th>\n",
       "      <th>4</th>\n",
       "      <th>5</th>\n",
       "    </tr>\n",
       "  </thead>\n",
       "  <tbody>\n",
       "    <tr>\n",
       "      <th>Input</th>\n",
       "      <td>process</td>\n",
       "      <td>processing</td>\n",
       "      <td>processed</td>\n",
       "      <td>procession</td>\n",
       "      <td>processor</td>\n",
       "      <td>processors</td>\n",
       "    </tr>\n",
       "    <tr>\n",
       "      <th>Output</th>\n",
       "      <td>process</td>\n",
       "      <td>process</td>\n",
       "      <td>process</td>\n",
       "      <td>process</td>\n",
       "      <td>processor</td>\n",
       "      <td>processor</td>\n",
       "    </tr>\n",
       "  </tbody>\n",
       "</table>\n",
       "</div>"
      ],
      "text/plain": [
       "              0           1          2           3          4           5\n",
       "Input   process  processing  processed  procession  processor  processors\n",
       "Output  process     process    process     process  processor   processor"
      ]
     },
     "execution_count": 52,
     "metadata": {
      "tags": []
     },
     "output_type": "execute_result"
    }
   ],
   "source": [
    "demo = ['process','processing','processed','procession','processor','processors']\n",
    "pd.DataFrame([demo,[PorterStemmer().stem(x) for x in demo]], index=[\"Input\",\"Output\"])"
   ]
  },
  {
   "cell_type": "code",
   "execution_count": 0,
   "metadata": {
    "colab": {},
    "colab_type": "code",
    "id": "34VMHchHuBhs",
    "outputId": "c74101c0-d9a3-4a42-ce18-0b0b8ed0fa19"
   },
   "outputs": [
    {
     "name": "stderr",
     "output_type": "stream",
     "text": [
      "Progress bar: 100%|██████████| 571428/571428 [53:35<00:00, 177.72it/s]  \n",
      "Progress bar: 100%|██████████| 571428/571428 [53:53<00:00, 176.70it/s]\n",
      "Progress bar: 100%|██████████| 571429/571429 [54:11<00:00, 175.73it/s]\n",
      "Progress bar: 100%|██████████| 571428/571428 [54:45<00:00, 173.95it/s]\n",
      "Progress bar: 100%|██████████| 571429/571429 [54:50<00:00, 173.65it/s]\n",
      "Progress bar: 100%|██████████| 571429/571429 [55:10<00:00, 172.60it/s]\n",
      "Progress bar: 100%|██████████| 571429/571429 [55:31<00:00, 171.52it/s]\n"
     ]
    }
   ],
   "source": [
    "fullset['Token'] = multi_apply(fullset['Text'], pre_proc, workers=cores-1)"
   ]
  },
  {
   "cell_type": "code",
   "execution_count": 0,
   "metadata": {
    "ExecuteTime": {
     "end_time": "2019-07-23T19:22:07.939387Z",
     "start_time": "2019-07-23T19:22:04.774297Z"
    },
    "colab": {},
    "colab_type": "code",
    "id": "6cz-_AlruBhu"
   },
   "outputs": [],
   "source": [
    "fullset = pd.read_csv('fullset_ez_processed.csv')"
   ]
  },
  {
   "cell_type": "code",
   "execution_count": 0,
   "metadata": {
    "ExecuteTime": {
     "end_time": "2019-07-23T06:22:25.408953Z",
     "start_time": "2019-07-23T06:22:25.405734Z"
    },
    "colab": {},
    "colab_type": "code",
    "id": "h0r96jS5uBhw"
   },
   "outputs": [],
   "source": [
    "fdist = nltk.FreqDist()"
   ]
  },
  {
   "cell_type": "code",
   "execution_count": 0,
   "metadata": {
    "ExecuteTime": {
     "end_time": "2019-07-23T06:27:44.091058Z",
     "start_time": "2019-07-23T06:22:26.076378Z"
    },
    "colab": {},
    "colab_type": "code",
    "id": "CmVAlC0UuBhy"
   },
   "outputs": [],
   "source": [
    "for i in fullset['Token']:\n",
    "    for word in Tokenizer.tokenize(i):\n",
    "        fdist[word] += 1"
   ]
  },
  {
   "cell_type": "code",
   "execution_count": 0,
   "metadata": {
    "ExecuteTime": {
     "end_time": "2019-07-23T06:38:18.409568Z",
     "start_time": "2019-07-23T06:38:15.842029Z"
    },
    "colab": {},
    "colab_type": "code",
    "id": "CAJi4160uBh0",
    "outputId": "e2c1a280-7989-4bc1-8ada-d521da3ce724"
   },
   "outputs": [
    {
     "data": {
      "text/plain": [
       "count     1804633.0\n",
       "mean          175.0\n",
       "std         21403.0\n",
       "min             1.0\n",
       "50%             1.0\n",
       "95%            17.0\n",
       "99%           271.0\n",
       "max      15792716.0\n",
       "dtype: float64"
      ]
     },
     "execution_count": 34,
     "metadata": {
      "tags": []
     },
     "output_type": "execute_result"
    }
   ],
   "source": [
    "# Count the number of UNIQUE token\n",
    "features = pd.Series(dict(fdist))\n",
    "features.describe(percentiles=[.95, .99]).round(0)"
   ]
  },
  {
   "cell_type": "code",
   "execution_count": 0,
   "metadata": {
    "ExecuteTime": {
     "end_time": "2019-07-23T06:45:33.109686Z",
     "start_time": "2019-07-23T06:45:33.051521Z"
    },
    "colab": {},
    "colab_type": "code",
    "id": "T0mhXwLwuBh3",
    "outputId": "f67e1808-30f4-43cc-deef-f6e2d4a8a80a"
   },
   "outputs": [
    {
     "name": "stdout",
     "output_type": "stream",
     "text": [
      "There are 1246917 words which only appear once.\n"
     ]
    }
   ],
   "source": [
    "features_1 = features[features==1]\n",
    "print('There are',len(features_1),'features which only appear once.')"
   ]
  },
  {
   "cell_type": "code",
   "execution_count": 0,
   "metadata": {
    "ExecuteTime": {
     "end_time": "2019-07-23T07:24:25.352661Z",
     "start_time": "2019-07-23T07:24:25.348440Z"
    },
    "colab": {},
    "colab_type": "code",
    "id": "uCq95eO-uBh7",
    "outputId": "b2337e78-3741-4f11-b59b-a1964c5251c5"
   },
   "outputs": [
    {
     "name": "stdout",
     "output_type": "stream",
     "text": [
      "Some once features are like this: 'peaceful.on'\n",
      "So need to re-split them.\n"
     ]
    }
   ],
   "source": [
    "print('Some once features are like this:','\\''+features_1.index[1]+'\\'')\n",
    "print('So need to re-split them.')"
   ]
  },
  {
   "cell_type": "code",
   "execution_count": 0,
   "metadata": {
    "ExecuteTime": {
     "end_time": "2019-07-23T09:45:43.765784Z",
     "start_time": "2019-07-23T09:45:43.679005Z"
    },
    "colab": {},
    "colab_type": "code",
    "id": "kPYzth6JuBh_"
   },
   "outputs": [],
   "source": [
    "features_re = features[features<=1]"
   ]
  },
  {
   "cell_type": "code",
   "execution_count": 0,
   "metadata": {
    "ExecuteTime": {
     "end_time": "2019-07-23T09:45:56.312619Z",
     "start_time": "2019-07-23T09:45:56.024765Z"
    },
    "colab": {},
    "colab_type": "code",
    "id": "6jNiaspjuBiB"
   },
   "outputs": [],
   "source": [
    "relist = [x for x in features_1.index if (not x.isalpha())]"
   ]
  },
  {
   "cell_type": "code",
   "execution_count": 0,
   "metadata": {
    "ExecuteTime": {
     "end_time": "2019-07-23T09:45:57.167370Z",
     "start_time": "2019-07-23T09:45:57.162816Z"
    },
    "colab": {},
    "colab_type": "code",
    "id": "QUTRZgZzuBiE",
    "outputId": "f0b62c0c-edf6-4b96-fec6-b4b1b9b16d75"
   },
   "outputs": [
    {
     "name": "stdout",
     "output_type": "stream",
     "text": [
      "There are 824988 features with punctuations.\n"
     ]
    }
   ],
   "source": [
    "print('There are',len(relist),'features with punctuations.')"
   ]
  },
  {
   "cell_type": "code",
   "execution_count": 0,
   "metadata": {
    "ExecuteTime": {
     "end_time": "2019-07-23T09:46:05.940756Z",
     "start_time": "2019-07-23T09:46:05.879325Z"
    },
    "colab": {},
    "colab_type": "code",
    "id": "r4IIf_dDuBiG"
   },
   "outputs": [],
   "source": [
    "relist_str = ''.join(relist)"
   ]
  },
  {
   "cell_type": "code",
   "execution_count": 0,
   "metadata": {
    "ExecuteTime": {
     "end_time": "2019-07-23T09:55:36.503859Z",
     "start_time": "2019-07-23T09:55:35.579512Z"
    },
    "colab": {},
    "colab_type": "code",
    "id": "z7ZxRGr7uBiI",
    "outputId": "07d0ae0e-2e01-4a86-eb7b-0138dc159292"
   },
   "outputs": [
    {
     "name": "stdout",
     "output_type": "stream",
     "text": [
      "🎥|̣|∂|😁|„|'||7|6|̇|~|-|😠|😔|]|≠|☆|#|😍|/|[|9|【|.|_|😩|↓|5|₤|\u0007|)|⊖|👏|♠|8|💜|1|∅|℉|😡|&|\u0015|␟|╚|👎|ً|🎉|$|💅|（|💖|⌫|:|😀|}|,|⟨|\u0017|😎|0|=|>|╝|\"|☼|%|<|♡|⊕|;|】|4|′|\u0002|+|?|†||^|⊂|\\|）|‼|{|!|2|😉|̄|@|*|─|\u0016|♣|||(|3 \n",
      "\n",
      ":movie_camera:|̣|∂|:beaming_face_with_smiling_eyes:|„|'||7|6|̇|~|-|:angry_face:|:pensive_face:|]|≠|☆|#|:smiling_face_with_heart-eyes:|/|[|9|【|.|_|:weary_face:|↓|5|₤|\u0007|)|⊖|:clapping_hands:|:spade_suit:|8|:purple_heart:|1|∅|℉|:pouting_face:|&|\u0015|␟|╚|:thumbs_down:|ً|:party_popper:|$|:nail_polish:|（|:sparkling_heart:|⌫|:|:grinning_face:|}|,|⟨|\u0017|:smiling_face_with_sunglasses:|0|=|>|╝|\"|☼|%|<|♡|⊕|;|】|4|′|\u0002|+|?|†||^|⊂|\\|）|:double_exclamation_mark:|{|!|2|:winking_face:|̄|@|*|─|\u0016|:club_suit:|||(|3\n"
     ]
    }
   ],
   "source": [
    "separator = '|'.join(list(set([r'{}'.format(x) for x in relist_str if not x.isalpha()])))\n",
    "print(separator,'\\n')\n",
    "print(demojize(separator))"
   ]
  },
  {
   "cell_type": "code",
   "execution_count": 0,
   "metadata": {
    "colab": {},
    "colab_type": "code",
    "id": "gzDgQ0M3KATR",
    "outputId": "9b6348c8-f47a-4e1b-95d8-57f004bc356e",
    "scrolled": true
   },
   "outputs": [
    {
     "data": {
      "text/html": [
       "<div>\n",
       "<style scoped>\n",
       "    .dataframe tbody tr th:only-of-type {\n",
       "        vertical-align: middle;\n",
       "    }\n",
       "\n",
       "    .dataframe tbody tr th {\n",
       "        vertical-align: top;\n",
       "    }\n",
       "\n",
       "    .dataframe thead th {\n",
       "        text-align: right;\n",
       "    }\n",
       "</style>\n",
       "<table border=\"1\" class=\"dataframe\">\n",
       "  <thead>\n",
       "    <tr style=\"text-align: right;\">\n",
       "      <th></th>\n",
       "      <th>0</th>\n",
       "      <th>1</th>\n",
       "      <th>2</th>\n",
       "      <th>3</th>\n",
       "      <th>4</th>\n",
       "      <th>5</th>\n",
       "      <th>6</th>\n",
       "      <th>7</th>\n",
       "      <th>8</th>\n",
       "      <th>9</th>\n",
       "      <th>10</th>\n",
       "      <th>11</th>\n",
       "      <th>12</th>\n",
       "      <th>13</th>\n",
       "      <th>14</th>\n",
       "    </tr>\n",
       "  </thead>\n",
       "  <tbody>\n",
       "    <tr>\n",
       "      <th>Emoji</th>\n",
       "      <td>😠</td>\n",
       "      <td>😔</td>\n",
       "      <td>😩</td>\n",
       "      <td>👏</td>\n",
       "      <td>💜</td>\n",
       "      <td>😡</td>\n",
       "      <td>👎</td>\n",
       "      <td>🎉</td>\n",
       "      <td>💖</td>\n",
       "      <td>😀</td>\n",
       "      <td>😎</td>\n",
       "      <td>😉</td>\n",
       "      <td>😍</td>\n",
       "      <td>😁</td>\n",
       "      <td>🎥</td>\n",
       "    </tr>\n",
       "    <tr>\n",
       "      <th>Output</th>\n",
       "      <td>:angry_face:</td>\n",
       "      <td>:pensive_face:</td>\n",
       "      <td>:weary_face:</td>\n",
       "      <td>:clapping_hands:</td>\n",
       "      <td>:purple_heart:</td>\n",
       "      <td>:pouting_face:</td>\n",
       "      <td>:thumbs_down:</td>\n",
       "      <td>:party_popper:</td>\n",
       "      <td>:sparkling_heart:</td>\n",
       "      <td>:grinning_face:</td>\n",
       "      <td>:smiling_face_with_sunglasses:</td>\n",
       "      <td>:winking_face:</td>\n",
       "      <td>:smiling_face_with_heart-eyes:</td>\n",
       "      <td>:beaming_face_with_smiling_eyes:</td>\n",
       "      <td>:movie_camera:</td>\n",
       "    </tr>\n",
       "  </tbody>\n",
       "</table>\n",
       "</div>"
      ],
      "text/plain": [
       "                  0               1             2                 3   \\\n",
       "Emoji              😠               😔             😩                 👏   \n",
       "Output  :angry_face:  :pensive_face:  :weary_face:  :clapping_hands:   \n",
       "\n",
       "                    4               5              6               7   \\\n",
       "Emoji                💜               😡              👎               🎉   \n",
       "Output  :purple_heart:  :pouting_face:  :thumbs_down:  :party_popper:   \n",
       "\n",
       "                       8                9                               10  \\\n",
       "Emoji                   💖                😀                               😎   \n",
       "Output  :sparkling_heart:  :grinning_face:  :smiling_face_with_sunglasses:   \n",
       "\n",
       "                    11                              12  \\\n",
       "Emoji                😉                               😍   \n",
       "Output  :winking_face:  :smiling_face_with_heart-eyes:   \n",
       "\n",
       "                                      13              14  \n",
       "Emoji                                  😁               🎥  \n",
       "Output  :beaming_face_with_smiling_eyes:  :movie_camera:  "
      ]
     },
     "execution_count": 58,
     "metadata": {
      "tags": []
     },
     "output_type": "execute_result"
    }
   ],
   "source": [
    "demo = \"😠,😔,😩,👏,💜,😡,👎,🎉,💖,😀,😎,😉,😍,😁,🎥\".split(',')\n",
    "pd.DataFrame([demo, [demojize(x) for x in demo]], index=[\"Emoji\",\"Output\"])"
   ]
  },
  {
   "cell_type": "code",
   "execution_count": 0,
   "metadata": {
    "colab": {},
    "colab_type": "code",
    "id": "UzEv6trRuBiK",
    "outputId": "60345586-337d-40e9-ca7b-aa71f5adfae4"
   },
   "outputs": [
    {
     "data": {
      "text/plain": [
       "'!\"#$%&\\'()*+,-./:;<=>?@[\\\\]^_`{|}~'"
      ]
     },
     "execution_count": 30,
     "metadata": {
      "tags": []
     },
     "output_type": "execute_result"
    }
   ],
   "source": [
    "string.punctuation"
   ]
  },
  {
   "cell_type": "code",
   "execution_count": 0,
   "metadata": {
    "ExecuteTime": {
     "end_time": "2019-07-23T19:22:37.242092Z",
     "start_time": "2019-07-23T19:22:37.238068Z"
    },
    "colab": {},
    "colab_type": "code",
    "id": "_19KuYluuBiM"
   },
   "outputs": [],
   "source": [
    "def resplit(text):\n",
    "    # Translate emojis\n",
    "    text = demojize(text)\n",
    "    # Remove punctuation\n",
    "    for i in string.punctuation:\n",
    "        text = text.replace(i,' ')\n",
    "    # Token\n",
    "    text = Tokenizer.tokenize(text)\n",
    "\n",
    "    return text"
   ]
  },
  {
   "cell_type": "code",
   "execution_count": 0,
   "metadata": {
    "colab": {},
    "colab_type": "code",
    "id": "hSshARtxuBiO"
   },
   "outputs": [],
   "source": [
    "fullset.Token = fullset.Token.apply(resplit)"
   ]
  },
  {
   "cell_type": "code",
   "execution_count": 0,
   "metadata": {
    "colab": {},
    "colab_type": "code",
    "id": "GQX4FzmPuBiP",
    "outputId": "0833d0b9-fb28-4cc6-c76b-8a70052bf344"
   },
   "outputs": [
    {
     "data": {
      "text/html": [
       "<div>\n",
       "<style scoped>\n",
       "    .dataframe tbody tr th:only-of-type {\n",
       "        vertical-align: middle;\n",
       "    }\n",
       "\n",
       "    .dataframe tbody tr th {\n",
       "        vertical-align: top;\n",
       "    }\n",
       "\n",
       "    .dataframe thead th {\n",
       "        text-align: right;\n",
       "    }\n",
       "</style>\n",
       "<table border=\"1\" class=\"dataframe\">\n",
       "  <thead>\n",
       "    <tr style=\"text-align: right;\">\n",
       "      <th></th>\n",
       "      <th>Sentiment</th>\n",
       "      <th>Token</th>\n",
       "    </tr>\n",
       "  </thead>\n",
       "  <tbody>\n",
       "    <tr>\n",
       "      <th>3999995</th>\n",
       "      <td>0</td>\n",
       "      <td>[unbeliev, in, a, bad, way, we, bought, thi, t...</td>\n",
       "    </tr>\n",
       "    <tr>\n",
       "      <th>3999996</th>\n",
       "      <td>0</td>\n",
       "      <td>[almost, great, until, it, broke, my, son, rec...</td>\n",
       "    </tr>\n",
       "    <tr>\n",
       "      <th>3999997</th>\n",
       "      <td>0</td>\n",
       "      <td>[disappoint, i, bought, thi, toy, for, my, son...</td>\n",
       "    </tr>\n",
       "    <tr>\n",
       "      <th>3999998</th>\n",
       "      <td>1</td>\n",
       "      <td>[classic, jessica, mitford, thi, is, a, compil...</td>\n",
       "    </tr>\n",
       "    <tr>\n",
       "      <th>3999999</th>\n",
       "      <td>0</td>\n",
       "      <td>[comedi, scene, and, not, heard, thi, dvd, wil...</td>\n",
       "    </tr>\n",
       "  </tbody>\n",
       "</table>\n",
       "</div>"
      ],
      "text/plain": [
       "         Sentiment                                              Token\n",
       "3999995          0  [unbeliev, in, a, bad, way, we, bought, thi, t...\n",
       "3999996          0  [almost, great, until, it, broke, my, son, rec...\n",
       "3999997          0  [disappoint, i, bought, thi, toy, for, my, son...\n",
       "3999998          1  [classic, jessica, mitford, thi, is, a, compil...\n",
       "3999999          0  [comedi, scene, and, not, heard, thi, dvd, wil..."
      ]
     },
     "execution_count": 49,
     "metadata": {
      "tags": []
     },
     "output_type": "execute_result"
    }
   ],
   "source": [
    "fullset.tail()"
   ]
  },
  {
   "cell_type": "code",
   "execution_count": 0,
   "metadata": {
    "colab": {},
    "colab_type": "code",
    "id": "YVtKSUezuBiS"
   },
   "outputs": [],
   "source": [
    "with open('fullset_resplit.pickle', 'wb') as f:\n",
    "    pickle.dump(fullset, f)"
   ]
  },
  {
   "cell_type": "code",
   "execution_count": 0,
   "metadata": {
    "colab": {},
    "colab_type": "code",
    "id": "v1kp_jkoKATd"
   },
   "outputs": [],
   "source": [
    "with open('fullset_resplit.pickle', 'rb') as f:\n",
    "    fullset = pickle.load(f)"
   ]
  },
  {
   "cell_type": "code",
   "execution_count": 0,
   "metadata": {
    "ExecuteTime": {
     "start_time": "2019-07-23T12:11:34.298Z"
    },
    "colab": {},
    "colab_type": "code",
    "id": "ggu95AqpuBiU",
    "outputId": "e5c35865-a808-415b-d6aa-5c5ade19a77e"
   },
   "outputs": [
    {
     "name": "stderr",
     "output_type": "stream",
     "text": [
      "100%|██████████| 4000000/4000000 [07:39<00:00, 8700.92it/s] \n"
     ]
    }
   ],
   "source": [
    "# Re-count\n",
    "fdist = nltk.FreqDist()\n",
    "\n",
    "for i in tqdm(fullset['Token']):\n",
    "    for word in i:\n",
    "        fdist[word] += 1"
   ]
  },
  {
   "cell_type": "code",
   "execution_count": 0,
   "metadata": {
    "colab": {},
    "colab_type": "code",
    "id": "n-ZnLA49uBiW",
    "outputId": "b21ba184-cd10-443c-caf8-3f15c4ecd637"
   },
   "outputs": [
    {
     "data": {
      "text/plain": [
       "FreqDist({'the': 15809493, 'i': 9294446, 'and': 8586104, 'a': 8061406, 'to': 7712911, 'it': 7578653, 'of': 6298197, 'thi': 5911844, 'is': 5530069, 'in': 3713530, ...})"
      ]
     },
     "execution_count": 20,
     "metadata": {
      "tags": []
     },
     "output_type": "execute_result"
    }
   ],
   "source": [
    "fdist"
   ]
  },
  {
   "cell_type": "code",
   "execution_count": 0,
   "metadata": {
    "ExecuteTime": {
     "start_time": "2019-07-23T12:11:35.332Z"
    },
    "colab": {},
    "colab_type": "code",
    "id": "xNZ_mOyeuBia",
    "outputId": "f0151ee2-84d6-458a-cea6-bb0749e91895"
   },
   "outputs": [
    {
     "data": {
      "text/plain": [
       "count      858011.0\n",
       "mean          375.0\n",
       "std         31793.0\n",
       "min             1.0\n",
       "50%             1.0\n",
       "95%            51.0\n",
       "99%          1065.0\n",
       "max      15809493.0\n",
       "dtype: float64"
      ]
     },
     "execution_count": 55,
     "metadata": {
      "tags": []
     },
     "output_type": "execute_result"
    }
   ],
   "source": [
    "# Count the number of UNIQUE word\n",
    "features = pd.Series(dict(fdist))\n",
    "features.describe(percentiles=[.95, .99]).round(0)"
   ]
  },
  {
   "cell_type": "code",
   "execution_count": 0,
   "metadata": {
    "ExecuteTime": {
     "start_time": "2019-07-23T12:11:36.529Z"
    },
    "colab": {},
    "colab_type": "code",
    "id": "afk1enU6uBic",
    "outputId": "2a7d89e7-9825-4e50-aba9-ef5dc1de9961"
   },
   "outputs": [
    {
     "name": "stdout",
     "output_type": "stream",
     "text": [
      "There are 509951 features which appear only once.\n"
     ]
    }
   ],
   "source": [
    "features_1 = features[features<=1]\n",
    "print('There are',len(features_1),'features which appear only once.')"
   ]
  },
  {
   "cell_type": "code",
   "execution_count": 0,
   "metadata": {
    "ExecuteTime": {
     "start_time": "2019-07-23T12:11:37.276Z"
    },
    "colab": {},
    "colab_type": "code",
    "id": "9qDU6XMWuBie"
   },
   "outputs": [],
   "source": [
    "def rmonce(token):\n",
    "    return [x for x in token if x not in features_1.index]"
   ]
  },
  {
   "cell_type": "code",
   "execution_count": 0,
   "metadata": {
    "ExecuteTime": {
     "start_time": "2019-07-23T12:11:37.903Z"
    },
    "colab": {},
    "colab_type": "code",
    "id": "QnfY7Vd7uBig",
    "outputId": "501c39db-dda2-43e1-8774-6cd4b95a415e"
   },
   "outputs": [
    {
     "name": "stderr",
     "output_type": "stream",
     "text": [
      "Progress bar: 100%|██████████| 4000000/4000000 [14:54<00:00, 4471.89it/s]   \n"
     ]
    }
   ],
   "source": [
    "# Remove words which appear only once.\n",
    "fullset.Token = fullset.Token.progress_apply(rmonce)"
   ]
  },
  {
   "cell_type": "code",
   "execution_count": 0,
   "metadata": {
    "colab": {},
    "colab_type": "code",
    "id": "ArXW7c2puBij",
    "outputId": "78254dc0-035d-4185-a5be-694175a9341f"
   },
   "outputs": [
    {
     "data": {
      "text/plain": [
       "count    4000000.0\n",
       "mean          80.0\n",
       "std           44.0\n",
       "min            0.0\n",
       "50%           72.0\n",
       "95%          165.0\n",
       "99%          186.0\n",
       "max          257.0\n",
       "Name: Token, dtype: float64"
      ]
     },
     "execution_count": 87,
     "metadata": {
      "tags": []
     },
     "output_type": "execute_result"
    }
   ],
   "source": [
    "# Count the length of sentences\n",
    "(fullset.Token.apply(len)).describe(percentiles=[.95, .99]).round(0)"
   ]
  },
  {
   "cell_type": "code",
   "execution_count": 0,
   "metadata": {
    "colab": {},
    "colab_type": "code",
    "id": "-uV5wTZhuBim"
   },
   "outputs": [],
   "source": [
    "fullset_original = pd.read_csv('fullset.csv')"
   ]
  },
  {
   "cell_type": "code",
   "execution_count": 0,
   "metadata": {
    "colab": {},
    "colab_type": "code",
    "id": "oVa4LKnWuBin",
    "outputId": "7a7edc46-cd20-4c83-bdb2-9e5f1d099a48"
   },
   "outputs": [
    {
     "name": "stdout",
     "output_type": "stream",
     "text": [
      "294435     ........ ............ ..... ..... ...... ........\n",
      "3584048    -_- ' ' '''' '''' '' '' ''' '''''? '' '' ' '' ...\n",
      "Name: Text, dtype: object\n"
     ]
    }
   ],
   "source": [
    "print(fullset_original.Text[fullset.Token.apply(len)==0])"
   ]
  },
  {
   "cell_type": "code",
   "execution_count": 0,
   "metadata": {
    "colab": {},
    "colab_type": "code",
    "id": "DH1-WF7wuBip"
   },
   "outputs": [],
   "source": [
    "fullset = fullset[fullset.Token.apply(len)!=0]"
   ]
  },
  {
   "cell_type": "code",
   "execution_count": 0,
   "metadata": {
    "colab": {},
    "colab_type": "code",
    "id": "1pqNNe7suBiq",
    "outputId": "f6b2a30f-dda7-471b-8805-529e0aef74db"
   },
   "outputs": [
    {
     "data": {
      "text/plain": [
       "count    3999998.0\n",
       "mean          80.0\n",
       "std           44.0\n",
       "min            1.0\n",
       "50%           72.0\n",
       "95%          165.0\n",
       "99%          186.0\n",
       "max          257.0\n",
       "Name: Token, dtype: float64"
      ]
     },
     "execution_count": 89,
     "metadata": {
      "tags": []
     },
     "output_type": "execute_result"
    }
   ],
   "source": [
    "(fullset.Token.apply(len)).describe(percentiles=[.95, .99]).round(0)"
   ]
  },
  {
   "cell_type": "code",
   "execution_count": 0,
   "metadata": {
    "colab": {},
    "colab_type": "code",
    "id": "YlnyhuIIuBiu"
   },
   "outputs": [],
   "source": [
    "with open('fullset_resplit_rmonce.pickle', 'wb') as f:\n",
    "    pickle.dump(fullset, f, -1)"
   ]
  },
  {
   "cell_type": "code",
   "execution_count": 0,
   "metadata": {
    "colab": {},
    "colab_type": "code",
    "id": "oV1ZF39xuBiw",
    "outputId": "69ec2320-bcb9-4219-d564-ace5e5cebcc8"
   },
   "outputs": [
    {
     "data": {
      "text/plain": [
       "[('the', 15809493),\n",
       " ('i', 9294446),\n",
       " ('and', 8586104),\n",
       " ('a', 8061406),\n",
       " ('to', 7712911),\n",
       " ('it', 7578653),\n",
       " ('of', 6298197),\n",
       " ('thi', 5911844),\n",
       " ('is', 5530069),\n",
       " ('in', 3713530),\n",
       " ('for', 3524304),\n",
       " ('that', 3245780),\n",
       " ('you', 2776538),\n",
       " ('wa', 2680975),\n",
       " ('not', 2612517),\n",
       " ('book', 2498410),\n",
       " ('but', 2345642),\n",
       " ('with', 2308551),\n",
       " ('on', 2281343),\n",
       " ('have', 2190331)]"
      ]
     },
     "execution_count": 91,
     "metadata": {
      "tags": []
     },
     "output_type": "execute_result"
    }
   ],
   "source": [
    "# The most frequent 20 words\n",
    "fdist.most_common()[:20]"
   ]
  },
  {
   "cell_type": "code",
   "execution_count": 0,
   "metadata": {
    "colab": {},
    "colab_type": "code",
    "id": "E1lBiZn4uBiz"
   },
   "outputs": [],
   "source": [
    "stopwordls = stopwords.words('english')"
   ]
  },
  {
   "cell_type": "code",
   "execution_count": 0,
   "metadata": {
    "colab": {},
    "colab_type": "code",
    "id": "xdGHfuoKuBi0"
   },
   "outputs": [],
   "source": [
    "def rmstopword(token):\n",
    "    return [x for x in token if x not in stopwordls]"
   ]
  },
  {
   "cell_type": "code",
   "execution_count": 0,
   "metadata": {
    "colab": {},
    "colab_type": "code",
    "id": "fSoc0UOSuBi2"
   },
   "outputs": [],
   "source": [
    "# Remove stopwords\n",
    "fullset.Token = fullset.Token.apply(rmstopword)"
   ]
  },
  {
   "cell_type": "code",
   "execution_count": 0,
   "metadata": {
    "colab": {},
    "colab_type": "code",
    "id": "yAvvVih8uBi3"
   },
   "outputs": [],
   "source": [
    "# Re-count\n",
    "fdist = nltk.FreqDist()\n",
    "\n",
    "for i in fullset['Token']:\n",
    "    for word in i:\n",
    "        fdist[word] += 1"
   ]
  },
  {
   "cell_type": "code",
   "execution_count": 0,
   "metadata": {
    "colab": {},
    "colab_type": "code",
    "id": "96DuHGJMuBi4",
    "outputId": "08bfdd51-52f0-4c0a-ee25-e4da92e9f209"
   },
   "outputs": [
    {
     "data": {
      "text/plain": [
       "[('thi', 5911844),\n",
       " ('wa', 2680975),\n",
       " ('book', 2498410),\n",
       " ('one', 1590682),\n",
       " ('like', 1289538),\n",
       " ('great', 1201557),\n",
       " ('veri', 1183127),\n",
       " ('good', 1167851),\n",
       " ('read', 1079779),\n",
       " ('use', 1002323),\n",
       " ('get', 995575),\n",
       " ('time', 944117),\n",
       " ('would', 939644),\n",
       " ('work', 875548),\n",
       " ('ha', 868094),\n",
       " ('movi', 773386),\n",
       " ('love', 772790),\n",
       " ('onli', 714689),\n",
       " ('hi', 665482),\n",
       " ('realli', 639812)]"
      ]
     },
     "execution_count": 34,
     "metadata": {
      "tags": []
     },
     "output_type": "execute_result"
    }
   ],
   "source": [
    "# The most frequent 20 words\n",
    "fdist.most_common(20)"
   ]
  },
  {
   "cell_type": "code",
   "execution_count": 0,
   "metadata": {
    "colab": {},
    "colab_type": "code",
    "id": "wKdCoVAUuBi7",
    "outputId": "dc005579-c073-4389-8702-b9ed16fe4012"
   },
   "outputs": [
    {
     "data": {
      "text/plain": [
       "810038"
      ]
     },
     "execution_count": 38,
     "metadata": {
      "tags": []
     },
     "output_type": "execute_result"
    }
   ],
   "source": [
    "# How many UNIQUE words\n",
    "len(fdist)"
   ]
  },
  {
   "cell_type": "code",
   "execution_count": 0,
   "metadata": {
    "colab": {},
    "colab_type": "code",
    "id": "-W6lVbQYuBi_",
    "outputId": "75c91b10-3457-4a38-f44b-579b57d16bfb"
   },
   "outputs": [
    {
     "data": {
      "text/plain": [
       "count    3999998.0\n",
       "mean          44.0\n",
       "std           24.0\n",
       "min            1.0\n",
       "50%           39.0\n",
       "95%           90.0\n",
       "99%          102.0\n",
       "max          212.0\n",
       "Name: Token, dtype: float64"
      ]
     },
     "execution_count": 42,
     "metadata": {
      "tags": []
     },
     "output_type": "execute_result"
    }
   ],
   "source": [
    "(fullset.Token.apply(len)).describe(percentiles=[.95, .99]).round(0)"
   ]
  },
  {
   "cell_type": "code",
   "execution_count": 0,
   "metadata": {
    "colab": {},
    "colab_type": "code",
    "id": "IEt8h8l3uBjA",
    "outputId": "dee53a44-07bd-4636-ac08-8fb06960ade5"
   },
   "outputs": [
    {
     "name": "stdout",
     "output_type": "stream",
     "text": [
      "The most frequent 55 words have 25% portion.\n",
      "The most frequent 294 words have 50% portion.\n",
      "The most frequent 1263 words have 75% portion.\n",
      "The most frequent 10323 words have 95% portion.\n",
      "The most frequent 68782 words have 99% portion.\n"
     ]
    }
   ],
   "source": [
    "fq25, fq50, fq75, fq95, fq99 = 0, 0, 0, 0, 0\n",
    "count = 0\n",
    "for i in fdist_df[0]:\n",
    "    fq25 += fdist.freq(i)\n",
    "    fq50 += fdist.freq(i)\n",
    "    fq75 += fdist.freq(i)\n",
    "    fq95 += fdist.freq(i)\n",
    "    fq99 += fdist.freq(i)\n",
    "    count += 1\n",
    "    if fq25 > 0.25:\n",
    "        print('The most frequent',count, 'words have 25% portion.')\n",
    "        fq25 -= 1\n",
    "    if fq50 > 0.50:\n",
    "        print('The most frequent',count, 'words have 50% portion.')\n",
    "        fq50 -= 1\n",
    "    if fq75 > 0.75:\n",
    "        print('The most frequent',count, 'words have 75% portion.')\n",
    "        fq75 -= 1\n",
    "    if fq95 > 0.95:\n",
    "        print('The most frequent',count, 'words have 95% portion.')\n",
    "        fq95 -= 1\n",
    "    if fq99 > 0.99:\n",
    "        print('The most frequent',count, 'words have 99% portion.')\n",
    "        fq99 -= 1\n",
    "        "
   ]
  },
  {
   "cell_type": "code",
   "execution_count": 0,
   "metadata": {
    "colab": {},
    "colab_type": "code",
    "id": "xuUIO0EUuBjC"
   },
   "outputs": [],
   "source": [
    "with open('fullset_resplit_rmonce_nostopword.pickle', 'wb') as f:\n",
    "    pickle.dump(fullset, f, -1)"
   ]
  },
  {
   "cell_type": "markdown",
   "metadata": {
    "colab_type": "text",
    "id": "59LLowyguBjE"
   },
   "source": [
    "# Feature Engineering"
   ]
  },
  {
   "cell_type": "code",
   "execution_count": 0,
   "metadata": {
    "colab": {},
    "colab_type": "code",
    "id": "xNNLaTrfuBjF"
   },
   "outputs": [],
   "source": [
    "with open('fullset_resplit_rmonce_nostopword.pickle', 'rb') as f:\n",
    "    fullset = pickle.load(f)"
   ]
  },
  {
   "cell_type": "code",
   "execution_count": 0,
   "metadata": {
    "colab": {},
    "colab_type": "code",
    "id": "vtCoDlZ4uBjG"
   },
   "outputs": [],
   "source": [
    "#fullset = pd.read_csv('fullset_resplit_rmonce_nostopword.csv')"
   ]
  },
  {
   "cell_type": "code",
   "execution_count": 0,
   "metadata": {
    "colab": {},
    "colab_type": "code",
    "id": "Txs_NCpxuBjH"
   },
   "outputs": [],
   "source": [
    "fullset.Token = fullset.Token.astype('str')"
   ]
  },
  {
   "cell_type": "code",
   "execution_count": 0,
   "metadata": {
    "colab": {},
    "colab_type": "code",
    "id": "uV-qspm7uBjI",
    "outputId": "f37c7c3e-8c17-4006-d669-f3b70f411dd1"
   },
   "outputs": [
    {
     "data": {
      "text/html": [
       "<div>\n",
       "<style scoped>\n",
       "    .dataframe tbody tr th:only-of-type {\n",
       "        vertical-align: middle;\n",
       "    }\n",
       "\n",
       "    .dataframe tbody tr th {\n",
       "        vertical-align: top;\n",
       "    }\n",
       "\n",
       "    .dataframe thead th {\n",
       "        text-align: right;\n",
       "    }\n",
       "</style>\n",
       "<table border=\"1\" class=\"dataframe\">\n",
       "  <thead>\n",
       "    <tr style=\"text-align: right;\">\n",
       "      <th></th>\n",
       "      <th>Sentiment</th>\n",
       "      <th>Token</th>\n",
       "    </tr>\n",
       "  </thead>\n",
       "  <tbody>\n",
       "    <tr>\n",
       "      <th>3999993</th>\n",
       "      <td>0</td>\n",
       "      <td>unbeliev bad way bought thi thoma son huge tho...</td>\n",
       "    </tr>\n",
       "    <tr>\n",
       "      <th>3999994</th>\n",
       "      <td>0</td>\n",
       "      <td>almost great broke son reciev thi birthday gif...</td>\n",
       "    </tr>\n",
       "    <tr>\n",
       "      <th>3999995</th>\n",
       "      <td>0</td>\n",
       "      <td>disappoint bought thi toy son love thoma toy n...</td>\n",
       "    </tr>\n",
       "    <tr>\n",
       "      <th>3999996</th>\n",
       "      <td>1</td>\n",
       "      <td>classic jessica mitford thi compil wide rang m...</td>\n",
       "    </tr>\n",
       "    <tr>\n",
       "      <th>3999997</th>\n",
       "      <td>0</td>\n",
       "      <td>comedi scene heard thi dvd disappoint get hope...</td>\n",
       "    </tr>\n",
       "  </tbody>\n",
       "</table>\n",
       "</div>"
      ],
      "text/plain": [
       "         Sentiment                                              Token\n",
       "3999993          0  unbeliev bad way bought thi thoma son huge tho...\n",
       "3999994          0  almost great broke son reciev thi birthday gif...\n",
       "3999995          0  disappoint bought thi toy son love thoma toy n...\n",
       "3999996          1  classic jessica mitford thi compil wide rang m...\n",
       "3999997          0  comedi scene heard thi dvd disappoint get hope..."
      ]
     },
     "execution_count": 9,
     "metadata": {
      "tags": []
     },
     "output_type": "execute_result"
    }
   ],
   "source": [
    "fullset.tail()"
   ]
  },
  {
   "cell_type": "code",
   "execution_count": 0,
   "metadata": {
    "colab": {},
    "colab_type": "code",
    "id": "II27YB20uBjO"
   },
   "outputs": [],
   "source": [
    "train_x, test_x, train_y, test_y = train_test_split(fullset['Token'], fullset['Sentiment'], train_size=0.9, random_state=1, stratify=fullset.Sentiment)"
   ]
  },
  {
   "cell_type": "code",
   "execution_count": 0,
   "metadata": {
    "colab": {},
    "colab_type": "code",
    "id": "pN-ZB8svuBjP"
   },
   "outputs": [],
   "source": [
    "from sklearn.feature_extraction.text import CountVectorizer, TfidfVectorizer\n",
    "from sklearn.model_selection import cross_val_score"
   ]
  },
  {
   "cell_type": "markdown",
   "metadata": {
    "colab_type": "text",
    "id": "-YENoMOh91IP"
   },
   "source": [
    "## Feature Selection"
   ]
  },
  {
   "cell_type": "code",
   "execution_count": 0,
   "metadata": {
    "colab": {},
    "colab_type": "code",
    "id": "tG8LQxbX91IR",
    "outputId": "4b6cf27d-f9a0-4e7a-c780-bc604354db80"
   },
   "outputs": [
    {
     "name": "stdout",
     "output_type": "stream",
     "text": [
      "No. of features: 2500 \n",
      "CV_Errors: 0.17030885595052647 \n",
      "Time Spent: 283.6146569252014 s\n",
      "\n",
      "No. of features: 5000 \n",
      "CV_Errors: 0.16312853901398916 \n",
      "Time Spent: 279.6129081249237 s\n",
      "\n",
      "No. of features: 7500 \n",
      "CV_Errors: 0.160954162665352 \n",
      "Time Spent: 309.25693106651306 s\n",
      "\n",
      "No. of features: 10000 \n",
      "CV_Errors: 0.1596922868723809 \n",
      "Time Spent: 279.31574988365173 s\n",
      "\n",
      "No. of features: 12500 \n",
      "CV_Errors: 0.15915791151691105 \n",
      "Time Spent: 296.594779253006 s\n",
      "\n",
      "No. of features: 15000 \n",
      "CV_Errors: 0.1588560363899575 \n",
      "Time Spent: 287.0884139537811 s\n",
      "\n",
      "No. of features: 17500 \n",
      "CV_Errors: 0.15861103623566009 \n",
      "Time Spent: 275.81238198280334 s\n",
      "\n",
      "No. of features: 20000 \n",
      "CV_Errors: 0.1584325986301911 \n",
      "Time Spent: 300.6914439201355 s\n",
      "\n",
      "No. of features: 22500 \n",
      "CV_Errors: 0.1582804110520657 \n",
      "Time Spent: 296.79409289360046 s\n",
      "\n",
      "No. of features: 25000 \n",
      "CV_Errors: 0.1581829109895656 \n",
      "Time Spent: 300.8458857536316 s\n",
      "\n",
      "No. of features: 27500 \n",
      "CV_Errors: 0.1580897859387841 \n",
      "Time Spent: 318.31997895240784 s\n",
      "\n",
      "No. of features: 30000 \n",
      "CV_Errors: 0.15804572340655754 \n",
      "Time Spent: 313.59434700012207 s\n",
      "\n",
      "No. of features: 32500 \n",
      "CV_Errors: 0.1580272859290185 \n",
      "Time Spent: 302.85835695266724 s\n",
      "\n",
      "No. of features: 35000 \n",
      "CV_Errors: 0.1579972858938623 \n",
      "Time Spent: 306.2065658569336 s\n",
      "\n",
      "No. of features: 37500 \n",
      "CV_Errors: 0.15795791083331512 \n",
      "Time Spent: 304.45078206062317 s\n",
      "\n",
      "No. of features: 40000 \n",
      "CV_Errors: 0.1579122858098776 \n",
      "Time Spent: 313.7838590145111 s\n",
      "\n",
      "No. of features: 42500 \n",
      "CV_Errors: 0.15789603578936973 \n",
      "Time Spent: 316.11555194854736 s\n",
      "\n",
      "No. of features: 45000 \n",
      "CV_Errors: 0.15787822325128364 \n",
      "Time Spent: 313.1598107814789 s\n",
      "\n",
      "No. of features: 47500 \n",
      "CV_Errors: 0.1578591607005022 \n",
      "Time Spent: 320.4888291358948 s\n",
      "\n",
      "No. of features: 50000 \n",
      "CV_Errors: 0.15783322319952564 \n",
      "Time Spent: 327.11558985710144 s\n",
      "\n",
      "No. of features: 52500 \n",
      "CV_Errors: 0.15781134815753328 \n",
      "Time Spent: 328.5962989330292 s\n",
      "\n",
      "No. of features: 55000 \n",
      "CV_Errors: 0.15779103563018937 \n",
      "Time Spent: 331.2332549095154 s\n",
      "\n",
      "No. of features: 57500 \n",
      "CV_Errors: 0.15778009812433003 \n",
      "Time Spent: 321.7621488571167 s\n",
      "\n",
      "No. of features: 60000 \n",
      "CV_Errors: 0.15777916062042385 \n",
      "Time Spent: 320.20192098617554 s\n",
      "\n",
      "No. of features: 62500 \n",
      "CV_Errors: 0.1577613481214003 \n",
      "Time Spent: 318.28977394104004 s\n",
      "\n",
      "No. of features: 65000 \n",
      "CV_Errors: 0.15777228562628332 \n",
      "Time Spent: 314.9861681461334 s\n",
      "\n",
      "No. of features: 67500 \n",
      "CV_Errors: 0.1577541605911268 \n",
      "Time Spent: 314.04666805267334 s\n",
      "\n",
      "No. of features: 70000 \n",
      "CV_Errors: 0.15775009807940799 \n",
      "Time Spent: 302.3347089290619 s\n",
      "\n",
      "No. of features: 72500 \n",
      "CV_Errors: 0.15772416056573635 \n",
      "Time Spent: 301.46059107780457 s\n",
      "\n",
      "No. of features: 75000 \n",
      "CV_Errors: 0.1577275980872207 \n",
      "Time Spent: 320.1559348106384 s\n",
      "\n",
      "No. of features: 77500 \n",
      "CV_Errors: 0.1577141605940564 \n",
      "Time Spent: 329.47107887268066 s\n",
      "\n",
      "No. of features: 80000 \n",
      "CV_Errors: 0.1577063480833143 \n",
      "Time Spent: 327.7774746417999 s\n",
      "\n",
      "No. of features: 82500 \n",
      "CV_Errors: 0.15772478558722047 \n",
      "Time Spent: 326.1864469051361 s\n",
      "\n",
      "No. of features: 85000 \n",
      "CV_Errors: 0.15770447307550184 \n",
      "Time Spent: 313.6640341281891 s\n",
      "\n",
      "No. of features: 87500 \n",
      "CV_Errors: 0.15770072306378302 \n",
      "Time Spent: 304.2818350791931 s\n",
      "\n",
      "No. of features: 90000 \n",
      "CV_Errors: 0.1577075980784315 \n",
      "Time Spent: 294.0238859653473 s\n",
      "\n",
      "No. of features: 92500 \n",
      "CV_Errors: 0.15770509809112687 \n",
      "Time Spent: 294.10553908348083 s\n",
      "\n",
      "No. of features: 95000 \n",
      "CV_Errors: 0.1577116605940565 \n",
      "Time Spent: 299.59713888168335 s\n",
      "\n",
      "No. of features: 97500 \n",
      "CV_Errors: 0.1577294731087051 \n",
      "Time Spent: 302.331374168396 s\n",
      "\n",
      "No. of features: 100000 \n",
      "CV_Errors: 0.1577229106116349 \n",
      "Time Spent: 326.68011379241943 s\n",
      "\n",
      "No. of features: 102500 \n",
      "CV_Errors: 0.157713848122377 \n",
      "Time Spent: 312.4829828739166 s\n",
      "\n",
      "No. of features: 105000 \n",
      "CV_Errors: 0.15770447311065827 \n",
      "Time Spent: 300.6487729549408 s\n",
      "\n",
      "No. of features: 107500 \n",
      "CV_Errors: 0.1577050981028456 \n",
      "Time Spent: 323.4448051452637 s\n",
      "\n",
      "No. of features: 110000 \n",
      "CV_Errors: 0.15769197308819716 \n",
      "Time Spent: 318.86239409446716 s\n",
      "\n",
      "No. of features: 112500 \n",
      "CV_Errors: 0.15769166058624395 \n",
      "Time Spent: 293.60655093193054 s\n",
      "\n",
      "No. of features: 115000 \n",
      "CV_Errors: 0.15766947308722068 \n",
      "Time Spent: 278.11520886421204 s\n",
      "\n",
      "No. of features: 117500 \n",
      "CV_Errors: 0.15766884810479875 \n",
      "Time Spent: 278.1166708469391 s\n",
      "\n",
      "No. of features: 120000 \n",
      "CV_Errors: 0.15767322311065812 \n",
      "Time Spent: 301.4077649116516 s\n",
      "\n",
      "No. of features: 122500 \n",
      "CV_Errors: 0.15766947311749413 \n",
      "Time Spent: 304.89333510398865 s\n",
      "\n",
      "No. of features: 125000 \n",
      "CV_Errors: 0.15768384814483782 \n",
      "Time Spent: 310.08809089660645 s\n",
      "\n",
      "No. of features: 127500 \n",
      "CV_Errors: 0.15767509814288483 \n",
      "Time Spent: 308.1797420978546 s\n",
      "\n",
      "No. of features: 130000 \n",
      "CV_Errors: 0.15765884813311926 \n",
      "Time Spent: 306.6297662258148 s\n",
      "\n",
      "No. of features: 132500 \n",
      "CV_Errors: 0.15766197314190822 \n",
      "Time Spent: 301.45081424713135 s\n",
      "\n",
      "No. of features: 135000 \n",
      "CV_Errors: 0.15765916063214258 \n",
      "Time Spent: 343.68398094177246 s\n",
      "\n",
      "No. of features: 137500 \n",
      "CV_Errors: 0.15765978562530658 \n",
      "Time Spent: 370.84731006622314 s\n",
      "\n",
      "No. of features: 140000 \n",
      "CV_Errors: 0.15766103562921285 \n",
      "Time Spent: 364.66545581817627 s\n",
      "\n",
      "No. of features: 142500 \n",
      "CV_Errors: 0.15765697312433002 \n",
      "Time Spent: 324.87042474746704 s\n",
      "\n",
      "No. of features: 145000 \n",
      "CV_Errors: 0.15766353563995517 \n",
      "Time Spent: 327.4126250743866 s\n",
      "\n",
      "No. of features: 147500 \n",
      "CV_Errors: 0.15765041062530671 \n",
      "Time Spent: 332.83106994628906 s\n",
      "\n",
      "No. of features: 150000 \n",
      "CV_Errors: 0.15765603562628316 \n",
      "Time Spent: 327.3912510871887 s\n",
      "\n",
      "No. of features: 152500 \n",
      "CV_Errors: 0.15765384812140026 \n",
      "Time Spent: 332.66413593292236 s\n",
      "\n",
      "No. of features: 155000 \n",
      "CV_Errors: 0.15765791063311918 \n",
      "Time Spent: 331.72949600219727 s\n",
      "\n",
      "No. of features: 157500 \n",
      "CV_Errors: 0.15765822313214262 \n",
      "Time Spent: 328.89026618003845 s\n",
      "\n",
      "No. of features: 160000 \n",
      "CV_Errors: 0.1576497856262833 \n",
      "Time Spent: 328.85462617874146 s\n",
      "\n",
      "No. of features: 162500 \n",
      "CV_Errors: 0.15764759812823637 \n",
      "Time Spent: 329.87757992744446 s\n",
      "\n",
      "No. of features: 165000 \n",
      "CV_Errors: 0.1576410356194472 \n",
      "Time Spent: 314.6209318637848 s\n",
      "\n",
      "No. of features: 167500 \n",
      "CV_Errors: 0.1576375981077286 \n",
      "Time Spent: 294.9287438392639 s\n",
      "\n",
      "No. of features: 170000 \n",
      "CV_Errors: 0.15764072310577537 \n",
      "Time Spent: 311.6007740497589 s\n",
      "\n",
      "No. of features: 172500 \n",
      "CV_Errors: 0.1576363480979628 \n",
      "Time Spent: 327.4457411766052 s\n",
      "\n",
      "No. of features: 175000 \n",
      "CV_Errors: 0.15763291059210327 \n",
      "Time Spent: 300.3354160785675 s\n",
      "\n",
      "No. of features: 177500 \n",
      "CV_Errors: 0.1576366606038222 \n",
      "Time Spent: 296.9495532512665 s\n",
      "\n",
      "No. of features: 180000 \n",
      "CV_Errors: 0.15763447309796275 \n",
      "Time Spent: 297.88702178001404 s\n",
      "\n",
      "No. of features: 182500 \n",
      "CV_Errors: 0.15764353561261135 \n",
      "Time Spent: 331.22086811065674 s\n",
      "\n",
      "No. of features: 185000 \n",
      "CV_Errors: 0.1576588481174941 \n",
      "Time Spent: 341.4650800228119 s\n",
      "\n",
      "No. of features: 187500 \n",
      "CV_Errors: 0.15765634812433016 \n",
      "Time Spent: 337.11650681495667 s\n",
      "\n",
      "No. of features: 190000 \n",
      "CV_Errors: 0.15765103562335336 \n",
      "Time Spent: 341.05621886253357 s\n",
      "\n",
      "No. of features: 192500 \n",
      "CV_Errors: 0.15765072312628325 \n",
      "Time Spent: 342.8028838634491 s\n",
      "\n",
      "No. of features: 195000 \n",
      "CV_Errors: 0.1576510356331191 \n",
      "Time Spent: 341.25819087028503 s\n",
      "\n",
      "No. of features: 197500 \n",
      "CV_Errors: 0.157648223131166 \n",
      "Time Spent: 338.5135657787323 s\n",
      "\n",
      "No. of features: 200000 \n",
      "CV_Errors: 0.15764509812433014 \n",
      "Time Spent: 313.2637040615082 s\n",
      "\n",
      "No. of features: 202500 \n",
      "CV_Errors: 0.1576441606214004 \n",
      "Time Spent: 322.43780875205994 s\n",
      "\n",
      "No. of features: 205000 \n",
      "CV_Errors: 0.1576369731184707 \n",
      "Time Spent: 318.62729120254517 s\n",
      "\n",
      "No. of features: 207500 \n",
      "CV_Errors: 0.15763603561944728 \n",
      "Time Spent: 300.94825291633606 s\n",
      "\n",
      "No. of features: 210000 \n",
      "CV_Errors: 0.15763666062335346 \n",
      "Time Spent: 299.24579977989197 s\n",
      "\n",
      "No. of features: 212500 \n",
      "CV_Errors: 0.15763259812237695 \n",
      "Time Spent: 283.8114490509033 s\n",
      "\n",
      "No. of features: 215000 \n",
      "CV_Errors: 0.15763478563116595 \n",
      "Time Spent: 263.8577878475189 s\n",
      "\n",
      "No. of features: 217500 \n",
      "CV_Errors: 0.15763322312628314 \n",
      "Time Spent: 265.581463098526 s\n",
      "\n",
      "No. of features: 220000 \n",
      "CV_Errors: 0.15763603563311912 \n",
      "Time Spent: 264.69631695747375 s\n",
      "\n",
      "No. of features: 222500 \n",
      "CV_Errors: 0.1576294731301895 \n",
      "Time Spent: 265.57123494148254 s\n",
      "\n",
      "No. of features: 225000 \n",
      "CV_Errors: 0.15762509813214254 \n",
      "Time Spent: 264.1741499900818 s\n",
      "\n",
      "No. of features: 227500 \n",
      "CV_Errors: 0.15762322313311916 \n",
      "Time Spent: 266.3381381034851 s\n",
      "\n",
      "No. of features: 230000 \n",
      "CV_Errors: 0.1576282231331192 \n",
      "Time Spent: 265.0337221622467 s\n",
      "\n",
      "No. of features: 232500 \n",
      "CV_Errors: 0.15763009813409568 \n",
      "Time Spent: 265.3621037006378 s\n",
      "\n",
      "No. of features: 235000 \n",
      "CV_Errors: 0.15762322312530652 \n",
      "Time Spent: 264.5028700828552 s\n",
      "\n",
      "No. of features: 237500 \n",
      "CV_Errors: 0.15762291062432998 \n",
      "Time Spent: 265.40685176849365 s\n",
      "\n",
      "No. of features: 240000 \n",
      "CV_Errors: 0.157621973131166 \n",
      "Time Spent: 265.36785531044006 s\n",
      "\n",
      "No. of features: 242500 \n",
      "CV_Errors: 0.15761884812335347 \n",
      "Time Spent: 265.86386585235596 s\n",
      "\n",
      "No. of features: 245000 \n",
      "CV_Errors: 0.15761509811847074 \n",
      "Time Spent: 266.0985109806061 s\n",
      "\n",
      "No. of features: 247500 \n",
      "CV_Errors: 0.15761291061554095 \n",
      "Time Spent: 265.6566882133484 s\n",
      "\n",
      "No. of features: 250000 \n",
      "CV_Errors: 0.15761259812042372 \n",
      "Time Spent: 266.6486940383911 s\n",
      "\n",
      "No. of features: 252500 \n",
      "CV_Errors: 0.15761478562628317 \n",
      "Time Spent: 265.3457968235016 s\n",
      "\n",
      "No. of features: 255000 \n",
      "CV_Errors: 0.15761759812823628 \n",
      "Time Spent: 267.1823778152466 s\n",
      "\n",
      "No. of features: 257500 \n",
      "CV_Errors: 0.1576107231223769 \n",
      "Time Spent: 266.411169052124 s\n",
      "\n",
      "No. of features: 260000 \n",
      "CV_Errors: 0.15760978561749417 \n",
      "Time Spent: 267.348121881485 s\n",
      "\n",
      "No. of features: 262500 \n",
      "CV_Errors: 0.15761291061163474 \n",
      "Time Spent: 267.24742102622986 s\n",
      "\n",
      "No. of features: 265000 \n",
      "CV_Errors: 0.15761447311847065 \n",
      "Time Spent: 266.9800007343292 s\n",
      "\n",
      "No. of features: 267500 \n",
      "CV_Errors: 0.15761384811847068 \n",
      "Time Spent: 267.07340693473816 s\n",
      "\n",
      "No. of features: 270000 \n",
      "CV_Errors: 0.15761041061554093 \n",
      "Time Spent: 265.9633390903473 s\n",
      "\n",
      "No. of features: 272500 \n",
      "CV_Errors: 0.1576097856126113 \n",
      "Time Spent: 266.8437328338623 s\n",
      "\n",
      "No. of features: 275000 \n",
      "CV_Errors: 0.15761041061261127 \n",
      "Time Spent: 267.0859718322754 s\n",
      "\n",
      "No. of features: 277500 \n",
      "CV_Errors: 0.15761041060870506 \n",
      "Time Spent: 266.79273080825806 s\n",
      "\n",
      "No. of features: 280000 \n",
      "CV_Errors: 0.15761197310870512 \n",
      "Time Spent: 266.67397904396057 s\n",
      "\n",
      "No. of features: 282500 \n",
      "CV_Errors: 0.1576116606047988 \n",
      "Time Spent: 267.7627258300781 s\n",
      "\n",
      "No. of features: 285000 \n",
      "CV_Errors: 0.15760978560284555 \n",
      "Time Spent: 268.4700028896332 s\n",
      "\n",
      "No. of features: 287500 \n",
      "CV_Errors: 0.15761041060284564 \n",
      "Time Spent: 267.58164405822754 s\n",
      "\n",
      "No. of features: 290000 \n",
      "CV_Errors: 0.15761009810284565 \n",
      "Time Spent: 267.92063784599304 s\n",
      "\n",
      "No. of features: 292500 \n",
      "CV_Errors: 0.15760947310284568 \n",
      "Time Spent: 266.9142789840698 s\n",
      "\n",
      "No. of features: 295000 \n",
      "CV_Errors: 0.15760853560186905 \n",
      "Time Spent: 269.01295804977417 s\n",
      "\n",
      "No. of features: 297500 \n",
      "CV_Errors: 0.15760947310284568 \n",
      "Time Spent: 269.12566208839417 s\n",
      "\n",
      "No. of features: 300000 \n",
      "CV_Errors: 0.1576082231008925 \n",
      "Time Spent: 267.6254081726074 s\n",
      "\n",
      "No. of features: 302500 \n",
      "CV_Errors: 0.1576075980999161 \n",
      "Time Spent: 267.6994948387146 s\n",
      "\n",
      "No. of features: 305000 \n",
      "CV_Errors: 0.15760759810284564 \n",
      "Time Spent: 266.5848271846771 s\n",
      "\n",
      "No. of features: 307500 \n",
      "CV_Errors: 0.15760791060089263 \n",
      "Time Spent: 268.71651816368103 s\n",
      "\n",
      "No. of features: 310000 \n",
      "CV_Errors: 0.15760791059991597 \n",
      "Time Spent: 267.2678859233856 s\n",
      "\n",
      "No. of features: 312500 \n",
      "CV_Errors: 0.1576075980999161 \n",
      "Time Spent: 267.6859087944031 s\n",
      "\n",
      "No. of features: 315000 \n",
      "CV_Errors: 0.15760666059893924 \n",
      "Time Spent: 268.14816308021545 s\n",
      "\n",
      "No. of features: 317500 \n",
      "CV_Errors: 0.15760603559991593 \n",
      "Time Spent: 269.93058490753174 s\n",
      "\n",
      "No. of features: 320000 \n",
      "CV_Errors: 0.15760478559405655 \n",
      "Time Spent: 267.14287304878235 s\n",
      "\n",
      "No. of features: 322500 \n",
      "CV_Errors: 0.15760447309503312 \n",
      "Time Spent: 267.6375012397766 s\n",
      "\n",
      "No. of features: 325000 \n",
      "CV_Errors: 0.1576050980950331 \n",
      "Time Spent: 267.28310203552246 s\n",
      "\n",
      "No. of features: 327500 \n",
      "CV_Errors: 0.1576050980950331 \n",
      "Time Spent: 268.07952189445496 s\n",
      "\n",
      "No. of features: 330000 \n",
      "CV_Errors: 0.15760541059503308 \n",
      "Time Spent: 268.0851230621338 s\n",
      "\n",
      "No. of features: 332500 \n",
      "CV_Errors: 0.15760728559503312 \n",
      "Time Spent: 268.55288791656494 s\n",
      "\n",
      "No. of features: 335000 \n",
      "CV_Errors: 0.1576072855950329 \n",
      "Time Spent: 268.7767632007599 s\n",
      "\n",
      "No. of features: 337500 \n",
      "CV_Errors: 0.1576072855950329 \n",
      "Time Spent: 267.5239899158478 s\n",
      "\n",
      "No. of features: 340000 \n",
      "CV_Errors: 0.1576094730979628 \n",
      "Time Spent: 267.92993688583374 s\n",
      "\n",
      "No. of features: 342500 \n",
      "CV_Errors: 0.15760759809405656 \n",
      "Time Spent: 266.803493976593 s\n",
      "\n",
      "No. of features: 345000 \n",
      "CV_Errors: 0.15760759809210345 \n",
      "Time Spent: 267.42649388313293 s\n",
      "\n",
      "No. of features: 347500 \n",
      "CV_Errors: 0.15760666059307993 \n",
      "Time Spent: 268.36251401901245 s\n",
      "\n",
      "No. of features: 350000 \n",
      "CV_Errors: 0.1576063480921034 \n",
      "Time Spent: 268.8994131088257 s\n",
      "\n",
      "No. of features: 352500 \n",
      "CV_Errors: 0.15760634809307983 \n",
      "Time Spent: 268.1980559825897 s\n",
      "\n",
      "No. of features: 355000 \n",
      "CV_Errors: 0.15760759809600988 \n",
      "Time Spent: 267.3522799015045 s\n",
      "\n",
      "No. of features: 357500 \n",
      "CV_Errors: 0.15760603559307995 \n",
      "Time Spent: 268.81124997138977 s\n",
      "\n",
      "No. of features: 360000 \n",
      "CV_Errors: 0.1576044730911269 \n",
      "Time Spent: 269.14237570762634 s\n",
      "\n",
      "No. of features: 362500 \n",
      "CV_Errors: 0.1576013480872206 \n",
      "Time Spent: 270.0926308631897 s\n",
      "\n",
      "No. of features: 365000 \n",
      "CV_Errors: 0.1576007230891736 \n",
      "Time Spent: 268.95874190330505 s\n",
      "\n",
      "No. of features: 367500 \n",
      "CV_Errors: 0.15759697308526754 \n",
      "Time Spent: 269.80473709106445 s\n",
      "\n",
      "No. of features: 370000 \n",
      "CV_Errors: 0.15759384808233767 \n",
      "Time Spent: 268.45372796058655 s\n",
      "\n",
      "No. of features: 372500 \n",
      "CV_Errors: 0.1575941605833142 \n",
      "Time Spent: 268.66790103912354 s\n",
      "\n",
      "No. of features: 375000 \n",
      "CV_Errors: 0.1575929105823377 \n",
      "Time Spent: 269.1364269256592 s\n",
      "\n",
      "No. of features: 377500 \n",
      "CV_Errors: 0.15759572308819703 \n",
      "Time Spent: 268.22670793533325 s\n",
      "\n",
      "No. of features: 380000 \n",
      "CV_Errors: 0.15759416058722064 \n",
      "Time Spent: 270.121267080307 s\n",
      "\n",
      "No. of features: 382500 \n",
      "CV_Errors: 0.15759322308624402 \n",
      "Time Spent: 268.95620918273926 s\n",
      "\n",
      "No. of features: 385000 \n",
      "CV_Errors: 0.15759322308526735 \n",
      "Time Spent: 268.6937472820282 s\n",
      "\n",
      "No. of features: 387500 \n",
      "CV_Errors: 0.15759291058331437 \n",
      "Time Spent: 267.9059488773346 s\n",
      "\n",
      "No. of features: 390000 \n",
      "CV_Errors: 0.15759416058526754 \n",
      "Time Spent: 269.221155166626 s\n",
      "\n",
      "No. of features: 392500 \n",
      "CV_Errors: 0.15759197308331419 \n",
      "Time Spent: 269.5082449913025 s\n",
      "\n",
      "No. of features: 395000 \n",
      "CV_Errors: 0.15758978558233783 \n",
      "Time Spent: 270.3735327720642 s\n",
      "\n",
      "No. of features: 397500 \n",
      "CV_Errors: 0.15758791058038457 \n",
      "Time Spent: 269.48516511917114 s\n",
      "\n",
      "No. of features: 400000 \n",
      "CV_Errors: 0.15758697308038472 \n",
      "Time Spent: 269.21881079673767 s\n",
      "\n",
      "No. of features: 402500 \n",
      "CV_Errors: 0.15758478557647848 \n",
      "Time Spent: 268.8604619503021 s\n",
      "\n",
      "No. of features: 405000 \n",
      "CV_Errors: 0.15758447307550172 \n",
      "Time Spent: 269.0246398448944 s\n",
      "\n",
      "No. of features: 407500 \n",
      "CV_Errors: 0.15758416057550184 \n",
      "Time Spent: 269.2759509086609 s\n",
      "\n",
      "No. of features: 410000 \n",
      "CV_Errors: 0.15758322307354855 \n",
      "Time Spent: 269.0606646537781 s\n",
      "\n",
      "No. of features: 412500 \n",
      "CV_Errors: 0.1575816605735486 \n",
      "Time Spent: 270.20740723609924 s\n",
      "\n",
      "No. of features: 415000 \n",
      "CV_Errors: 0.1575816605735486 \n",
      "Time Spent: 271.1128807067871 s\n",
      "\n",
      "No. of features: 417500 \n",
      "CV_Errors: 0.1575822855735487 \n",
      "Time Spent: 269.9724199771881 s\n",
      "\n",
      "No. of features: 420000 \n",
      "CV_Errors: 0.1575816605735486 \n",
      "Time Spent: 269.51252365112305 s\n",
      "\n",
      "No. of features: 422500 \n",
      "CV_Errors: 0.15758134807354873 \n",
      "Time Spent: 269.87560296058655 s\n",
      "\n",
      "No. of features: 425000 \n",
      "CV_Errors: 0.1575807230745252 \n",
      "Time Spent: 269.5774419307709 s\n",
      "\n",
      "No. of features: 427500 \n",
      "CV_Errors: 0.1575813480764785 \n",
      "Time Spent: 271.349604845047 s\n",
      "\n",
      "No. of features: 430000 \n",
      "CV_Errors: 0.1575807230764784 \n",
      "Time Spent: 303.2037048339844 s\n",
      "\n",
      "No. of features: 432500 \n",
      "CV_Errors: 0.15758197307745492 \n",
      "Time Spent: 292.7956118583679 s\n",
      "\n",
      "No. of features: 435000 \n",
      "CV_Errors: 0.15758009807550177 \n",
      "Time Spent: 300.46683382987976 s\n",
      "\n",
      "No. of features: 437500 \n",
      "CV_Errors: 0.15757822307745495 \n",
      "Time Spent: 282.4248790740967 s\n",
      "\n",
      "No. of features: 440000 \n",
      "CV_Errors: 0.15757822307940805 \n",
      "Time Spent: 303.15650701522827 s\n",
      "\n",
      "No. of features: 442500 \n",
      "CV_Errors: 0.15757728557745487 \n",
      "Time Spent: 290.55911087989807 s\n",
      "\n",
      "No. of features: 445000 \n",
      "CV_Errors: 0.15757634807843135 \n",
      "Time Spent: 292.1134088039398 s\n",
      "\n",
      "No. of features: 447500 \n",
      "CV_Errors: 0.15757572307745493 \n",
      "Time Spent: 295.7649848461151 s\n",
      "\n",
      "No. of features: 450000 \n",
      "CV_Errors: 0.1575729105764785 \n",
      "Time Spent: 294.97309613227844 s\n",
      "\n",
      "No. of features: 452500 \n",
      "CV_Errors: 0.1575725980764784 \n",
      "Time Spent: 294.23063588142395 s\n",
      "\n",
      "No. of features: 455000 \n",
      "CV_Errors: 0.15757322307647836 \n",
      "Time Spent: 289.10404801368713 s\n",
      "\n",
      "No. of features: 457500 \n",
      "CV_Errors: 0.1575744730794082 \n",
      "Time Spent: 296.047367811203 s\n",
      "\n",
      "No. of features: 460000 \n",
      "CV_Errors: 0.15757416057843143 \n",
      "Time Spent: 287.9866907596588 s\n",
      "\n",
      "No. of features: 462500 \n",
      "CV_Errors: 0.157574160577455 \n",
      "Time Spent: 291.44764494895935 s\n",
      "\n",
      "No. of features: 465000 \n",
      "CV_Errors: 0.15757322308038457 \n",
      "Time Spent: 289.9562358856201 s\n",
      "\n",
      "No. of features: 467500 \n",
      "CV_Errors: 0.1575729105803847 \n",
      "Time Spent: 295.9730520248413 s\n",
      "\n",
      "No. of features: 470000 \n",
      "CV_Errors: 0.1575729105823378 \n",
      "Time Spent: 286.85279417037964 s\n",
      "\n",
      "No. of features: 472500 \n",
      "CV_Errors: 0.1575729105803847 \n",
      "Time Spent: 294.78065490722656 s\n",
      "\n",
      "No. of features: 475000 \n",
      "CV_Errors: 0.1575725980823378 \n",
      "Time Spent: 293.9357042312622 s\n",
      "\n",
      "No. of features: 477500 \n",
      "CV_Errors: 0.1575716605794082 \n",
      "Time Spent: 284.9785280227661 s\n",
      "\n",
      "No. of features: 480000 \n",
      "CV_Errors: 0.15757134807647843 \n",
      "Time Spent: 291.96624207496643 s\n",
      "\n",
      "No. of features: 482500 \n",
      "CV_Errors: 0.15757041057550192 \n",
      "Time Spent: 284.07185792922974 s\n",
      "\n",
      "No. of features: 485000 \n",
      "CV_Errors: 0.1575707230735487 \n",
      "Time Spent: 298.5640661716461 s\n",
      "\n",
      "No. of features: 487500 \n",
      "CV_Errors: 0.1575704105735486 \n",
      "Time Spent: 301.3863799571991 s\n",
      "\n",
      "No. of features: 490000 \n",
      "CV_Errors: 0.15756978557354862 \n",
      "Time Spent: 297.1595141887665 s\n",
      "\n",
      "No. of features: 492500 \n",
      "CV_Errors: 0.15756759807257215 \n",
      "Time Spent: 288.94739818573 s\n",
      "\n",
      "No. of features: 495000 \n",
      "CV_Errors: 0.15756634807159542 \n",
      "Time Spent: 296.8879408836365 s\n",
      "\n",
      "No. of features: 497500 \n",
      "CV_Errors: 0.15756103556866596 \n",
      "Time Spent: 294.7896981239319 s\n",
      "\n",
      "No. of features: 500000 \n",
      "CV_Errors: 0.15756259806964246 \n",
      "Time Spent: 291.9928629398346 s\n",
      "\n",
      "No. of features: 502500 \n",
      "CV_Errors: 0.1575644730696425 \n",
      "Time Spent: 291.2405159473419 s\n",
      "\n",
      "No. of features: 505000 \n",
      "CV_Errors: 0.1575669730696424 \n",
      "Time Spent: 294.476007938385 s\n",
      "\n",
      "No. of features: 507500 \n",
      "CV_Errors: 0.15756791057257202 \n",
      "Time Spent: 296.157751083374 s\n",
      "\n",
      "No. of features: 510000 \n",
      "CV_Errors: 0.157565723070619 \n",
      "Time Spent: 295.2116508483887 s\n",
      "\n",
      "No. of features: 512500 \n",
      "CV_Errors: 0.15756072306768942 \n",
      "Time Spent: 281.96780610084534 s\n",
      "\n",
      "No. of features: 515000 \n",
      "CV_Errors: 0.15756134806573618 \n",
      "Time Spent: 281.61681389808655 s\n",
      "\n",
      "No. of features: 517500 \n",
      "CV_Errors: 0.15756009806671278 \n",
      "Time Spent: 283.1047248840332 s\n",
      "\n",
      "No. of features: 520000 \n",
      "CV_Errors: 0.15756197306964237 \n",
      "Time Spent: 283.2106957435608 s\n",
      "\n",
      "No. of features: 522500 \n",
      "CV_Errors: 0.15756697307257217 \n",
      "Time Spent: 283.4906029701233 s\n",
      "\n",
      "No. of features: 525000 \n",
      "CV_Errors: 0.15756666057061897 \n",
      "Time Spent: 283.56792187690735 s\n",
      "\n",
      "No. of features: 527500 \n",
      "CV_Errors: 0.15756978557354873 \n",
      "Time Spent: 283.1259288787842 s\n",
      "\n",
      "No. of features: 530000 \n",
      "CV_Errors: 0.15757166057647842 \n",
      "Time Spent: 283.26843190193176 s\n",
      "\n",
      "No. of features: 532500 \n",
      "CV_Errors: 0.15757166057647842 \n",
      "Time Spent: 282.8001208305359 s\n",
      "\n",
      "No. of features: 535000 \n",
      "CV_Errors: 0.15756853557354877 \n",
      "Time Spent: 283.924103975296 s\n",
      "\n",
      "No. of features: 537500 \n",
      "CV_Errors: 0.15757134807452522 \n",
      "Time Spent: 283.5379390716553 s\n",
      "\n",
      "No. of features: 540000 \n",
      "CV_Errors: 0.15756916057354875 \n",
      "Time Spent: 283.7350630760193 s\n",
      "\n",
      "No. of features: 542500 \n",
      "CV_Errors: 0.15756884807354865 \n",
      "Time Spent: 283.98051619529724 s\n",
      "\n",
      "No. of features: 545000 \n",
      "CV_Errors: 0.15756759807257215 \n",
      "Time Spent: 283.05940294265747 s\n",
      "\n",
      "No. of features: 547500 \n",
      "CV_Errors: 0.15756572306964234 \n",
      "Time Spent: 282.34459495544434 s\n",
      "\n",
      "No. of features: 550000 \n",
      "CV_Errors: 0.15756072306866586 \n",
      "Time Spent: 284.44225311279297 s\n",
      "\n",
      "No. of features: 552500 \n",
      "CV_Errors: 0.15756009806671278 \n",
      "Time Spent: 284.4248831272125 s\n",
      "\n",
      "No. of features: 555000 \n",
      "CV_Errors: 0.15755666056378304 \n",
      "Time Spent: 283.9662311077118 s\n",
      "\n",
      "No. of features: 557500 \n",
      "CV_Errors: 0.1575544730598768 \n",
      "Time Spent: 283.89910888671875 s\n",
      "\n",
      "No. of features: 560000 \n",
      "CV_Errors: 0.15755603555694697 \n",
      "Time Spent: 283.2450110912323 s\n",
      "\n",
      "No. of features: 562500 \n",
      "CV_Errors: 0.1575541605559705 \n",
      "Time Spent: 283.78508710861206 s\n",
      "\n",
      "No. of features: 565000 \n",
      "CV_Errors: 0.15755291055499399 \n",
      "Time Spent: 284.05811882019043 s\n",
      "\n",
      "No. of features: 567500 \n",
      "CV_Errors: 0.15755322305694697 \n",
      "Time Spent: 284.3041880130768 s\n",
      "\n",
      "No. of features: 570000 \n",
      "CV_Errors: 0.15755072305694706 \n",
      "Time Spent: 283.7048108577728 s\n",
      "\n",
      "No. of features: 572500 \n",
      "CV_Errors: 0.15754947305792355 \n",
      "Time Spent: 284.2603018283844 s\n",
      "\n",
      "No. of features: 575000 \n",
      "CV_Errors: 0.15754541055597038 \n",
      "Time Spent: 283.8037540912628 s\n",
      "\n",
      "No. of features: 577500 \n",
      "CV_Errors: 0.15754572305401737 \n",
      "Time Spent: 283.85164499282837 s\n",
      "\n",
      "No. of features: 580000 \n",
      "CV_Errors: 0.15754259805499393 \n",
      "Time Spent: 283.9529297351837 s\n",
      "\n",
      "No. of features: 582500 \n",
      "CV_Errors: 0.157537598056947 \n",
      "Time Spent: 281.6571259498596 s\n",
      "\n",
      "No. of features: 585000 \n",
      "CV_Errors: 0.15753884805987683 \n",
      "Time Spent: 284.4992530345917 s\n",
      "\n",
      "No. of features: 587500 \n",
      "CV_Errors: 0.15753697305694703 \n",
      "Time Spent: 284.80398893356323 s\n",
      "\n",
      "No. of features: 590000 \n",
      "CV_Errors: 0.15753666055499393 \n",
      "Time Spent: 284.50842213630676 s\n",
      "\n",
      "No. of features: 592500 \n",
      "CV_Errors: 0.15753634805304073 \n",
      "Time Spent: 284.152951002121 s\n",
      "\n",
      "No. of features: 595000 \n",
      "CV_Errors: 0.1575363480540174 \n",
      "Time Spent: 284.19361686706543 s\n",
      "\n",
      "No. of features: 597500 \n",
      "CV_Errors: 0.1575360355559704 \n",
      "Time Spent: 284.6847417354584 s\n",
      "\n",
      "No. of features: 600000 \n",
      "CV_Errors: 0.15753322305597062 \n",
      "Time Spent: 284.2338469028473 s\n",
      "\n",
      "No. of features: 602500 \n",
      "CV_Errors: 0.1575297855540173 \n",
      "Time Spent: 284.471657037735 s\n",
      "\n",
      "No. of features: 605000 \n",
      "CV_Errors: 0.1575297855540173 \n",
      "Time Spent: 284.81344985961914 s\n",
      "\n",
      "No. of features: 607500 \n",
      "CV_Errors: 0.15752916055499389 \n",
      "Time Spent: 284.7616810798645 s\n",
      "\n",
      "No. of features: 610000 \n",
      "CV_Errors: 0.157531973056947 \n",
      "Time Spent: 284.5555610656738 s\n",
      "\n",
      "No. of features: 612500 \n",
      "CV_Errors: 0.15753134805597058 \n",
      "Time Spent: 284.78736686706543 s\n",
      "\n",
      "No. of features: 615000 \n",
      "CV_Errors: 0.15753291055987673 \n",
      "Time Spent: 283.4250512123108 s\n",
      "\n",
      "No. of features: 617500 \n",
      "CV_Errors: 0.15753134805987679 \n",
      "Time Spent: 284.216295003891 s\n",
      "\n",
      "No. of features: 620000 \n",
      "CV_Errors: 0.15752978555597041 \n",
      "Time Spent: 284.9584550857544 s\n",
      "\n",
      "No. of features: 622500 \n",
      "CV_Errors: 0.15752947305304077 \n",
      "Time Spent: 284.9183292388916 s\n",
      "\n",
      "No. of features: 625000 \n",
      "CV_Errors: 0.15752697305108776 \n",
      "Time Spent: 284.82967591285706 s\n",
      "\n",
      "No. of features: 627500 \n",
      "CV_Errors: 0.15752634805108767 \n",
      "Time Spent: 284.0260429382324 s\n",
      "\n",
      "No. of features: 630000 \n",
      "CV_Errors: 0.15752322304815802 \n",
      "Time Spent: 284.26486921310425 s\n",
      "\n",
      "No. of features: 632500 \n",
      "CV_Errors: 0.15751853554229867 \n",
      "Time Spent: 284.8975737094879 s\n",
      "\n",
      "No. of features: 635000 \n",
      "CV_Errors: 0.15751728554132194 \n",
      "Time Spent: 285.32145404815674 s\n",
      "\n",
      "No. of features: 637500 \n",
      "CV_Errors: 0.15751791053741582 \n",
      "Time Spent: 285.10577297210693 s\n",
      "\n",
      "No. of features: 640000 \n",
      "CV_Errors: 0.15751572303448602 \n",
      "Time Spent: 285.4337158203125 s\n",
      "\n",
      "No. of features: 642500 \n",
      "CV_Errors: 0.15751259803546258 \n",
      "Time Spent: 285.5553250312805 s\n",
      "\n",
      "No. of features: 645000 \n",
      "CV_Errors: 0.1575113480364394 \n",
      "Time Spent: 284.81213092803955 s\n",
      "\n",
      "No. of features: 647500 \n",
      "CV_Errors: 0.15750947303253293 \n",
      "Time Spent: 346.0868978500366 s\n",
      "\n",
      "No. of features: 650000 \n",
      "CV_Errors: 0.15750666052765006 \n",
      "Time Spent: 361.38401889801025 s\n",
      "\n",
      "No. of features: 652500 \n",
      "CV_Errors: 0.15750416052374372 \n",
      "Time Spent: 348.5372107028961 s\n",
      "\n",
      "No. of features: 655000 \n",
      "CV_Errors: 0.15750478552472047 \n",
      "Time Spent: 358.4153289794922 s\n",
      "\n",
      "No. of features: 657500 \n",
      "CV_Errors: 0.15750291052374388 \n",
      "Time Spent: 349.9066278934479 s\n",
      "\n",
      "No. of features: 660000 \n",
      "CV_Errors: 0.15750228552081413 \n",
      "Time Spent: 358.95229482650757 s\n",
      "\n",
      "No. of features: 662500 \n",
      "CV_Errors: 0.15749884802276726 \n",
      "Time Spent: 424.0009870529175 s\n",
      "\n",
      "No. of features: 665000 \n",
      "CV_Errors: 0.15749822302374383 \n",
      "Time Spent: 294.8104839324951 s\n",
      "\n",
      "No. of features: 667500 \n",
      "CV_Errors: 0.15749759802374386 \n",
      "Time Spent: 288.57235407829285 s\n",
      "\n",
      "No. of features: 670000 \n",
      "CV_Errors: 0.1574960355237438 \n",
      "Time Spent: 284.64830589294434 s\n",
      "\n",
      "No. of features: 672500 \n",
      "CV_Errors: 0.1574947855247204 \n",
      "Time Spent: 294.9615910053253 s\n",
      "\n",
      "No. of features: 675000 \n",
      "CV_Errors: 0.1574919730227673 \n",
      "Time Spent: 296.0099227428436 s\n",
      "\n",
      "No. of features: 677500 \n",
      "CV_Errors: 0.15749228552374395 \n",
      "Time Spent: 291.33793210983276 s\n",
      "\n",
      "No. of features: 680000 \n",
      "CV_Errors: 0.15749259802374382 \n",
      "Time Spent: 286.9057650566101 s\n",
      "\n",
      "No. of features: 682500 \n",
      "CV_Errors: 0.1574897855198376 \n",
      "Time Spent: 278.57768273353577 s\n",
      "\n",
      "No. of features: 685000 \n",
      "CV_Errors: 0.15748822301788457 \n",
      "Time Spent: 294.29326701164246 s\n",
      "\n",
      "No. of features: 687500 \n",
      "CV_Errors: 0.1574869730178845 \n",
      "Time Spent: 292.18947291374207 s\n",
      "\n",
      "No. of features: 690000 \n",
      "CV_Errors: 0.15748728551690783 \n",
      "Time Spent: 291.44774413108826 s\n",
      "\n",
      "No. of features: 692500 \n",
      "CV_Errors: 0.1574888480208141 \n",
      "Time Spent: 288.25648522377014 s\n",
      "\n",
      "No. of features: 695000 \n",
      "CV_Errors: 0.15748541051397813 \n",
      "Time Spent: 289.71957421302795 s\n",
      "\n",
      "No. of features: 697500 \n",
      "CV_Errors: 0.15748478551495482 \n",
      "Time Spent: 293.5452618598938 s\n",
      "\n",
      "No. of features: 700000 \n",
      "CV_Errors: 0.1574850980149547 \n",
      "Time Spent: 292.00896096229553 s\n",
      "\n",
      "No. of features: 702500 \n",
      "CV_Errors: 0.15748541051397813 \n",
      "Time Spent: 296.73776292800903 s\n",
      "\n",
      "No. of features: 705000 \n",
      "CV_Errors: 0.15748541051397813 \n",
      "Time Spent: 296.3031439781189 s\n",
      "\n",
      "No. of features: 707500 \n",
      "CV_Errors: 0.15748541051397813 \n",
      "Time Spent: 294.1339120864868 s\n",
      "\n",
      "No. of features: 710000 \n",
      "CV_Errors: 0.15748541051397813 \n",
      "Time Spent: 296.0680181980133 s\n",
      "\n",
      "No. of features: 712500 \n",
      "CV_Errors: 0.15748541051397813 \n",
      "Time Spent: 292.94706416130066 s\n",
      "\n",
      "No. of features: 715000 \n",
      "CV_Errors: 0.15748541051397813 \n",
      "Time Spent: 295.4276087284088 s\n",
      "\n",
      "No. of features: 717500 \n",
      "CV_Errors: 0.15748541051397813 \n",
      "Time Spent: 298.82392597198486 s\n",
      "\n",
      "No. of features: 720000 \n",
      "CV_Errors: 0.15748541051397813 \n",
      "Time Spent: 306.1734070777893 s\n",
      "\n",
      "No. of features: 722500 \n",
      "CV_Errors: 0.15748541051397813 \n",
      "Time Spent: 316.9725720882416 s\n",
      "\n",
      "No. of features: 725000 \n",
      "CV_Errors: 0.15748541051397813 \n",
      "Time Spent: 326.1300449371338 s\n",
      "\n",
      "No. of features: 727500 \n",
      "CV_Errors: 0.15748541051397813 \n",
      "Time Spent: 324.6579780578613 s\n",
      "\n",
      "No. of features: 730000 \n",
      "CV_Errors: 0.15748541051397813 \n",
      "Time Spent: 328.8865439891815 s\n",
      "\n",
      "No. of features: 732500 \n",
      "CV_Errors: 0.15748541051397813 \n",
      "Time Spent: 330.33460903167725 s\n",
      "\n",
      "No. of features: 735000 \n",
      "CV_Errors: 0.15748541051397813 \n",
      "Time Spent: 328.7174642086029 s\n",
      "\n",
      "No. of features: 737500 \n",
      "CV_Errors: 0.15748541051397813 \n",
      "Time Spent: 325.09431314468384 s\n",
      "\n",
      "No. of features: 740000 \n",
      "CV_Errors: 0.15748541051397813 \n",
      "Time Spent: 342.6805968284607 s\n",
      "\n",
      "No. of features: 742500 \n",
      "CV_Errors: 0.15748541051397813 \n",
      "Time Spent: 339.95782494544983 s\n",
      "\n",
      "No. of features: 745000 \n",
      "CV_Errors: 0.15748541051397813 \n",
      "Time Spent: 338.3776500225067 s\n",
      "\n",
      "No. of features: 747500 \n",
      "CV_Errors: 0.15748541051397813 \n",
      "Time Spent: 335.09412598609924 s\n",
      "\n",
      "No. of features: 750000 \n",
      "CV_Errors: 0.15748541051397813 \n",
      "Time Spent: 342.72236227989197 s\n",
      "\n",
      "No. of features: 752500 \n",
      "CV_Errors: 0.15748541051397813 \n",
      "Time Spent: 333.89746928215027 s\n",
      "\n",
      "No. of features: 755000 \n",
      "CV_Errors: 0.15748541051397813 \n",
      "Time Spent: 330.3659701347351 s\n",
      "\n",
      "No. of features: 757500 \n",
      "CV_Errors: 0.15748541051397813 \n",
      "Time Spent: 330.83048605918884 s\n",
      "\n",
      "No. of features: 760000 \n",
      "CV_Errors: 0.15748541051397813 \n",
      "Time Spent: 330.7482671737671 s\n",
      "\n",
      "No. of features: 762500 \n",
      "CV_Errors: 0.15748541051397813 \n",
      "Time Spent: 300.4365029335022 s\n",
      "\n",
      "No. of features: 765000 \n",
      "CV_Errors: 0.15748541051397813 \n",
      "Time Spent: 295.949245929718 s\n",
      "\n",
      "No. of features: 767500 \n",
      "CV_Errors: 0.15748541051397813 \n",
      "Time Spent: 291.8064820766449 s\n",
      "\n",
      "No. of features: 770000 \n",
      "CV_Errors: 0.15748541051397813 \n",
      "Time Spent: 293.12159991264343 s\n",
      "\n",
      "No. of features: 772500 \n",
      "CV_Errors: 0.15748541051397813 \n",
      "Time Spent: 293.43801069259644 s\n",
      "\n",
      "No. of features: 775000 \n",
      "CV_Errors: 0.15748541051397813 \n",
      "Time Spent: 293.4742820262909 s\n",
      "\n",
      "No. of features: 777500 \n",
      "CV_Errors: 0.15748541051397813 \n",
      "Time Spent: 292.5330731868744 s\n",
      "\n",
      "No. of features: 780000 \n",
      "CV_Errors: 0.15748541051397813 \n",
      "Time Spent: 295.4932999610901 s\n",
      "\n",
      "No. of features: 782500 \n",
      "CV_Errors: 0.15748541051397813 \n",
      "Time Spent: 285.94478487968445 s\n",
      "\n",
      "No. of features: 785000 \n",
      "CV_Errors: 0.15748541051397813 \n",
      "Time Spent: 293.6851201057434 s\n",
      "\n",
      "No. of features: 787500 \n",
      "CV_Errors: 0.15748541051397813 \n",
      "Time Spent: 294.06747221946716 s\n",
      "\n",
      "No. of features: 790000 \n",
      "CV_Errors: 0.15748541051397813 \n",
      "Time Spent: 308.7916622161865 s\n",
      "\n",
      "No. of features: 792500 \n",
      "CV_Errors: 0.15748541051397813 \n",
      "Time Spent: 326.8130581378937 s\n",
      "\n",
      "No. of features: 795000 \n",
      "CV_Errors: 0.15748541051397813 \n",
      "Time Spent: 360.09058904647827 s\n",
      "\n",
      "No. of features: 797500 \n",
      "CV_Errors: 0.15748541051397813 \n",
      "Time Spent: 273.80705189704895 s\n",
      "\n",
      "No. of features: 800000 \n",
      "CV_Errors: 0.15748541051397813 \n",
      "Time Spent: 272.5014510154724 s\n",
      "\n",
      "No. of features: 802500 \n",
      "CV_Errors: 0.15748541051397813 \n",
      "Time Spent: 275.0852882862091 s\n",
      "\n",
      "No. of features: 805000 \n",
      "CV_Errors: 0.15748541051397813 \n",
      "Time Spent: 280.34571623802185 s\n",
      "\n",
      "No. of features: 807500 \n",
      "CV_Errors: 0.15748541051397813 \n",
      "Time Spent: 276.2069959640503 s\n",
      "\n",
      "No. of features: 810000 \n",
      "CV_Errors: 0.15748541051397813 \n",
      "Time Spent: 272.6386241912842 s\n",
      "\n"
     ]
    }
   ],
   "source": [
    "# The number of unique tokens is 810038\n",
    "n_features = range(2500, 810000+1, 2500) # the first model has 2500 feature, then 5000, 7500, etc\n",
    "\n",
    "for p in n_features:\n",
    "    t0 = time()\n",
    "    count_vect_1n = CountVectorizer(analyzer='word', ngram_range=(1,1), token_pattern=r'\\w{1,}', max_features=p)\n",
    "    count_vect_1n.fit(train_x)\n",
    "    xtrain_count_1n = count_vect_1n.transform(train_x)\n",
    "    scores = cross_val_score(naive_bayes.BernoulliNB(), xtrain_count_1n, train_y, cv=5, scoring = 'accuracy') # 5-fold CV\n",
    "    err = 1-np.mean(scores)\n",
    "    cv_errors.append(err)\n",
    "    print('No. of features:',p,'\\nCV_Errors:',err,'\\nTime Spent:',time()-t0,'s\\n')"
   ]
  },
  {
   "cell_type": "code",
   "execution_count": 0,
   "metadata": {
    "colab": {},
    "colab_type": "code",
    "id": "iZCmd2wx91IT",
    "outputId": "91015c3a-4c4f-4f15-f52a-1ed2ec680042"
   },
   "outputs": [
    {
     "data": {
      "image/png": "[encoded data removed]",
      "text/plain": [
       "<Figure size 1152x648 with 1 Axes>"
      ]
     },
     "metadata": {
      "needs_background": "light",
      "tags": []
     },
     "output_type": "display_data"
    },
    {
     "name": "stdout",
     "output_type": "stream",
     "text": [
      "Lowest CV error: K = 697500\n"
     ]
    }
   ],
   "source": [
    "fig, ax= plt.subplots(figsize=(16,9))\n",
    "ax.plot(n_features, cv_errors, label='CV error')\n",
    "ax.set_xlabel('Number of features')\n",
    "ax.set_ylabel('Misclassification rate')\n",
    "plt.legend()\n",
    "sns.despine()\n",
    "plt.show()\n",
    "print('Lowest CV error: K = {}'.format(n_features[np.argmin(cv_errors)])) "
   ]
  },
  {
   "cell_type": "code",
   "execution_count": 0,
   "metadata": {
    "colab": {},
    "colab_type": "code",
    "id": "NGnMDvz991IU"
   },
   "outputs": [],
   "source": [
    "errors_op = pd.DataFrame()\n",
    "errors_op['The Number of features'] = list(n_features)\n",
    "errors_op['5-fold CV errors'] = cv_errors\n",
    "errors_op.to_csv('./[ML]cv_errors.csv',index=0)"
   ]
  },
  {
   "cell_type": "markdown",
   "metadata": {
    "colab_type": "text",
    "id": "5Wp_76uRuBjU"
   },
   "source": [
    "## Count Vectors + N-gram"
   ]
  },
  {
   "cell_type": "code",
   "execution_count": 0,
   "metadata": {
    "colab": {},
    "colab_type": "code",
    "id": "wfB53n3euBjU",
    "outputId": "f206af35-ce83-4020-fbef-08400a9a8a95"
   },
   "outputs": [
    {
     "name": "stdout",
     "output_type": "stream",
     "text": [
      "# CV + 1-gram: 182.45506072044373\n"
     ]
    }
   ],
   "source": [
    "t0 = time()\n",
    "count_vect_1n = CountVectorizer(analyzer='word', ngram_range=(1,1), token_pattern=r'\\w{1,}', max_features=697500)\n",
    "count_vect_1n.fit(fullset['Token'])\n",
    "print('# CV + 1-gram:', time()-t0)"
   ]
  },
  {
   "cell_type": "code",
   "execution_count": 0,
   "metadata": {
    "colab": {},
    "colab_type": "code",
    "id": "GRL-b_f2uBjW",
    "outputId": "b1e53e91-e75e-4caf-eae4-83df2c1e8830"
   },
   "outputs": [
    {
     "name": "stdout",
     "output_type": "stream",
     "text": [
      "# CV + 2-gram: 941.8227388858795\n"
     ]
    }
   ],
   "source": [
    "t0 = time()\n",
    "count_vect_2n = CountVectorizer(analyzer='word', ngram_range=(1,2), token_pattern=r'\\w{1,}', max_features=697500)\n",
    "count_vect_2n.fit(fullset['Token'])\n",
    "print('# CV + 2-gram:', time()-t0)"
   ]
  },
  {
   "cell_type": "code",
   "execution_count": 0,
   "metadata": {
    "colab": {},
    "colab_type": "code",
    "id": "lTAk9gkxuBjX",
    "outputId": "e59f3e26-2819-43a8-81df-ed606a9c3139"
   },
   "outputs": [
    {
     "name": "stdout",
     "output_type": "stream",
     "text": [
      "# CV + 3-gram: 3430.9237809181213\n"
     ]
    }
   ],
   "source": [
    "t0 = time()\n",
    "count_vect_3n = CountVectorizer(analyzer='word', ngram_range=(1,3), token_pattern=r'\\w{1,}', max_features=697500)\n",
    "count_vect_3n.fit(fullset['Token'])\n",
    "print('# CV + 3-gram:', time()-t0)"
   ]
  },
  {
   "cell_type": "code",
   "execution_count": 0,
   "metadata": {
    "colab": {},
    "colab_type": "code",
    "id": "uHYuvgpiuBjY",
    "outputId": "2800190d-e14b-450c-d700-aaefaa0490b9"
   },
   "outputs": [
    {
     "name": "stdout",
     "output_type": "stream",
     "text": [
      "# Finish CV 1n: 199.40003299713135\n",
      "# Finish CV 2n: 522.5957779884338\n",
      "# Finish CV 3n: 729.674252986908\n"
     ]
    }
   ],
   "source": [
    "# Transform the training and testing data using count vectorizer object\n",
    "t0 = time()\n",
    "xtrain_count_1n = count_vect_1n.transform(train_x)\n",
    "xvalid_count_1n = count_vect_1n.transform(test_x)\n",
    "print('# Finish CV 1n:', time()-t0)\n",
    "\n",
    "t0 = time()\n",
    "xtrain_count_2n = count_vect_2n.transform(train_x)\n",
    "xvalid_count_2n = count_vect_2n.transform(test_x)\n",
    "print('# Finish CV 2n:', time()-t0)\n",
    "\n",
    "t0 = time()\n",
    "xtrain_count_3n = count_vect_3n.transform(train_x)\n",
    "xvalid_count_3n = count_vect_3n.transform(test_x)\n",
    "print('# Finish CV 3n:', time()-t0)"
   ]
  },
  {
   "cell_type": "code",
   "execution_count": 0,
   "metadata": {
    "colab": {},
    "colab_type": "code",
    "id": "s1AHKdDF91Ib",
    "outputId": "5f64d573-0bd3-4d91-b1ff-1709a18c575c"
   },
   "outputs": [
    {
     "data": {
      "text/plain": [
       "<3599998x697500 sparse matrix of type '<class 'numpy.int64'>'\n",
       "\twith 130539171 stored elements in Compressed Sparse Row format>"
      ]
     },
     "execution_count": 42,
     "metadata": {
      "tags": []
     },
     "output_type": "execute_result"
    }
   ],
   "source": [
    "xtrain_count_1n"
   ]
  },
  {
   "cell_type": "code",
   "execution_count": 0,
   "metadata": {
    "colab": {},
    "colab_type": "code",
    "id": "GWingq7991Ie",
    "outputId": "93f0704e-8748-4c12-b84a-d17c92693d83"
   },
   "outputs": [
    {
     "data": {
      "text/plain": [
       "<400000x697500 sparse matrix of type '<class 'numpy.int64'>'\n",
       "\twith 14510056 stored elements in Compressed Sparse Row format>"
      ]
     },
     "execution_count": 43,
     "metadata": {
      "tags": []
     },
     "output_type": "execute_result"
    }
   ],
   "source": [
    "xvalid_count_1n"
   ]
  },
  {
   "cell_type": "code",
   "execution_count": 0,
   "metadata": {
    "colab": {},
    "colab_type": "code",
    "id": "7BjIFg4T91If",
    "outputId": "73b796a3-0981-4e5c-e272-077dc55469f9"
   },
   "outputs": [
    {
     "data": {
      "text/plain": [
       "<3599998x697500 sparse matrix of type '<class 'numpy.int64'>'\n",
       "\twith 227438078 stored elements in Compressed Sparse Row format>"
      ]
     },
     "execution_count": 44,
     "metadata": {
      "tags": []
     },
     "output_type": "execute_result"
    }
   ],
   "source": [
    "xtrain_count_2n"
   ]
  },
  {
   "cell_type": "code",
   "execution_count": 0,
   "metadata": {
    "colab": {},
    "colab_type": "code",
    "id": "J3zMuTaS91Ig",
    "outputId": "7005b950-a39b-443b-d30c-1e1c2453187c"
   },
   "outputs": [
    {
     "data": {
      "text/plain": [
       "<400000x697500 sparse matrix of type '<class 'numpy.int64'>'\n",
       "\twith 25275198 stored elements in Compressed Sparse Row format>"
      ]
     },
     "execution_count": 45,
     "metadata": {
      "tags": []
     },
     "output_type": "execute_result"
    }
   ],
   "source": [
    "xvalid_count_2n"
   ]
  },
  {
   "cell_type": "code",
   "execution_count": 0,
   "metadata": {
    "colab": {},
    "colab_type": "code",
    "id": "i0gQ-I-291Ii",
    "outputId": "b7514bdc-34f9-48e0-b502-f213dd6e3835"
   },
   "outputs": [
    {
     "data": {
      "text/plain": [
       "<3599998x697500 sparse matrix of type '<class 'numpy.int64'>'\n",
       "\twith 241496533 stored elements in Compressed Sparse Row format>"
      ]
     },
     "execution_count": 46,
     "metadata": {
      "tags": []
     },
     "output_type": "execute_result"
    }
   ],
   "source": [
    "xtrain_count_3n"
   ]
  },
  {
   "cell_type": "code",
   "execution_count": 0,
   "metadata": {
    "colab": {},
    "colab_type": "code",
    "id": "hBK1e2km91Ij",
    "outputId": "c480a948-f641-438c-cb0a-64a4bf5e427f"
   },
   "outputs": [
    {
     "data": {
      "text/plain": [
       "<400000x697500 sparse matrix of type '<class 'numpy.int64'>'\n",
       "\twith 26837487 stored elements in Compressed Sparse Row format>"
      ]
     },
     "execution_count": 47,
     "metadata": {
      "tags": []
     },
     "output_type": "execute_result"
    }
   ],
   "source": [
    "xvalid_count_3n"
   ]
  },
  {
   "cell_type": "code",
   "execution_count": 0,
   "metadata": {
    "colab": {},
    "colab_type": "code",
    "id": "ZI6v8MGG91Im",
    "outputId": "bb0efc93-d1f6-463f-b461-67096d95478f"
   },
   "outputs": [
    {
     "name": "stdout",
     "output_type": "stream",
     "text": [
      "  (0, 35540)\t1\n",
      "  (0, 36160)\t1\n",
      "  (0, 52315)\t1\n",
      "  (0, 53466)\t1\n",
      "  (0, 53483)\t1\n",
      "  (0, 73661)\t1\n",
      "  (0, 86143)\t1\n",
      "  (0, 87059)\t1\n",
      "  (0, 87389)\t1\n",
      "  (0, 92965)\t1\n",
      "  (0, 92979)\t1\n",
      "  (0, 94639)\t1\n",
      "  (0, 95754)\t1\n",
      "  (0, 103537)\t2\n",
      "  (0, 131134)\t1\n",
      "  (0, 131164)\t1\n",
      "  (0, 135003)\t1\n",
      "  (0, 135305)\t1\n",
      "  (0, 143358)\t2\n",
      "  (0, 145567)\t2\n",
      "  (0, 154138)\t1\n",
      "  (0, 154315)\t1\n",
      "  (0, 165704)\t1\n",
      "  (0, 214287)\t1\n",
      "  (0, 241274)\t1\n",
      "  :\t:\n",
      "  (0, 488233)\t1\n",
      "  (0, 506980)\t1\n",
      "  (0, 507129)\t1\n",
      "  (0, 520524)\t1\n",
      "  (0, 520540)\t1\n",
      "  (0, 523388)\t1\n",
      "  (0, 526174)\t1\n",
      "  (0, 527223)\t1\n",
      "  (0, 527976)\t1\n",
      "  (0, 527984)\t1\n",
      "  (0, 553482)\t1\n",
      "  (0, 567049)\t1\n",
      "  (0, 577511)\t3\n",
      "  (0, 585716)\t1\n",
      "  (0, 588821)\t1\n",
      "  (0, 589483)\t1\n",
      "  (0, 591623)\t1\n",
      "  (0, 627359)\t1\n",
      "  (0, 627676)\t1\n",
      "  (0, 644397)\t3\n",
      "  (0, 644437)\t1\n",
      "  (0, 667170)\t1\n",
      "  (0, 675815)\t1\n",
      "  (0, 679359)\t1\n",
      "  (0, 680208)\t1\n"
     ]
    }
   ],
   "source": [
    "print(xtrain_count_3n[0])"
   ]
  },
  {
   "cell_type": "markdown",
   "metadata": {
    "colab_type": "text",
    "id": "tKKi2WM3uBjb"
   },
   "source": [
    "## TF-IDF Vectors + N-gram"
   ]
  },
  {
   "cell_type": "code",
   "execution_count": 0,
   "metadata": {
    "colab": {},
    "colab_type": "code",
    "id": "x4Ta4pokuBjb",
    "outputId": "3a6c2882-a49f-44f6-bfc3-5cf0b523fca2"
   },
   "outputs": [
    {
     "name": "stdout",
     "output_type": "stream",
     "text": [
      "# TF-IDF + 1-gram: 207.21715426445007\n"
     ]
    }
   ],
   "source": [
    "t0 = time()\n",
    "tfidf_vect_1n = TfidfVectorizer(analyzer='word', ngram_range=(1,1), token_pattern=r'\\w{1,}', max_features=697500)\n",
    "tfidf_vect_1n.fit(fullset['Token'])\n",
    "print('# TF-IDF + 1-gram:', time()-t0)"
   ]
  },
  {
   "cell_type": "code",
   "execution_count": 0,
   "metadata": {
    "colab": {},
    "colab_type": "code",
    "id": "dwVrSwPluBjd",
    "outputId": "625a2e2a-a004-4aa3-e292-f9f1f5e3ee33"
   },
   "outputs": [
    {
     "name": "stdout",
     "output_type": "stream",
     "text": [
      "# TF-IDF + 2-gram: 1265.8044295310974\n"
     ]
    }
   ],
   "source": [
    "t0 = time()\n",
    "tfidf_vect_2n = TfidfVectorizer(analyzer='word', ngram_range=(1,2), token_pattern=r'\\w{1,}', max_features=697500)\n",
    "tfidf_vect_2n.fit(fullset['Token'])\n",
    "print('# TF-IDF + 2-gram:', time()-t0)"
   ]
  },
  {
   "cell_type": "code",
   "execution_count": 0,
   "metadata": {
    "colab": {},
    "colab_type": "code",
    "id": "iVd9YTmouBjg",
    "outputId": "502b224f-960f-4e03-f6be-b9168f11cd49"
   },
   "outputs": [
    {
     "name": "stdout",
     "output_type": "stream",
     "text": [
      "# TF-IDF + 3-gram: 4403.138776779175\n"
     ]
    }
   ],
   "source": [
    "t0 = time()\n",
    "tfidf_vect_3n = TfidfVectorizer(analyzer='word', ngram_range=(1,3), token_pattern=r'\\w{1,}', max_features=697500)\n",
    "tfidf_vect_3n.fit(fullset['Token'])\n",
    "print('# TF-IDF + 3-gram:', time()-t0)"
   ]
  },
  {
   "cell_type": "code",
   "execution_count": 0,
   "metadata": {
    "colab": {},
    "colab_type": "code",
    "id": "4_-5hYMruBji",
    "outputId": "b7e14169-7455-4588-97e2-690757d3ac46"
   },
   "outputs": [
    {
     "name": "stdout",
     "output_type": "stream",
     "text": [
      "# Finish TF-IDF 1n: 224.7347650527954\n",
      "# Finish TF-IDF 2n: 695.6472256183624\n",
      "# Finish TF-IDF 3n: 883.1253328323364\n"
     ]
    }
   ],
   "source": [
    "t0 = time()\n",
    "xtrain_tfidf_1n = tfidf_vect_1n.transform(train_x)\n",
    "xvalid_tfidf_1n = tfidf_vect_1n.transform(test_x)\n",
    "print('# Finish TF-IDF 1n:', time()-t0)\n",
    "\n",
    "t0 = time()\n",
    "xtrain_tfidf_2n = tfidf_vect_2n.transform(train_x)\n",
    "xvalid_tfidf_2n = tfidf_vect_2n.transform(test_x)\n",
    "print('# Finish TF-IDF 2n:', time()-t0)\n",
    "\n",
    "t0 = time()\n",
    "xtrain_tfidf_3n = tfidf_vect_3n.transform(train_x)\n",
    "xvalid_tfidf_3n = tfidf_vect_3n.transform(test_x)\n",
    "print('# Finish TF-IDF 3n:', time()-t0)"
   ]
  },
  {
   "cell_type": "code",
   "execution_count": 0,
   "metadata": {
    "colab": {},
    "colab_type": "code",
    "id": "JtXaHXJ891It",
    "outputId": "ea44923f-bd17-40ff-9d16-83fe085e0e3e"
   },
   "outputs": [
    {
     "data": {
      "text/plain": [
       "<3599998x697500 sparse matrix of type '<class 'numpy.float64'>'\n",
       "\twith 130539171 stored elements in Compressed Sparse Row format>"
      ]
     },
     "execution_count": 37,
     "metadata": {
      "tags": []
     },
     "output_type": "execute_result"
    }
   ],
   "source": [
    "xtrain_tfidf_1n"
   ]
  },
  {
   "cell_type": "code",
   "execution_count": 0,
   "metadata": {
    "colab": {},
    "colab_type": "code",
    "id": "0v_BRMLU91Iu",
    "outputId": "91215696-0548-4f21-da67-968a7e6f6e31"
   },
   "outputs": [
    {
     "data": {
      "text/plain": [
       "<400000x697500 sparse matrix of type '<class 'numpy.float64'>'\n",
       "\twith 14510056 stored elements in Compressed Sparse Row format>"
      ]
     },
     "execution_count": 32,
     "metadata": {
      "tags": []
     },
     "output_type": "execute_result"
    }
   ],
   "source": [
    "xvalid_tfidf_1n"
   ]
  },
  {
   "cell_type": "code",
   "execution_count": 0,
   "metadata": {
    "colab": {},
    "colab_type": "code",
    "id": "u55htWZo91Iw",
    "outputId": "fa91ad1f-3400-43e1-d43f-018a0e671ca1"
   },
   "outputs": [
    {
     "data": {
      "text/plain": [
       "<3599998x697500 sparse matrix of type '<class 'numpy.float64'>'\n",
       "\twith 227438078 stored elements in Compressed Sparse Row format>"
      ]
     },
     "execution_count": 33,
     "metadata": {
      "tags": []
     },
     "output_type": "execute_result"
    }
   ],
   "source": [
    "xtrain_tfidf_2n"
   ]
  },
  {
   "cell_type": "code",
   "execution_count": 0,
   "metadata": {
    "colab": {},
    "colab_type": "code",
    "id": "FiNKT-4G91Iy",
    "outputId": "ed4053e7-2d4a-47ca-968d-25f9e23c91fd"
   },
   "outputs": [
    {
     "data": {
      "text/plain": [
       "<400000x697500 sparse matrix of type '<class 'numpy.float64'>'\n",
       "\twith 25275198 stored elements in Compressed Sparse Row format>"
      ]
     },
     "execution_count": 34,
     "metadata": {
      "tags": []
     },
     "output_type": "execute_result"
    }
   ],
   "source": [
    "xvalid_tfidf_2n"
   ]
  },
  {
   "cell_type": "code",
   "execution_count": 0,
   "metadata": {
    "colab": {},
    "colab_type": "code",
    "id": "0Z62qgyb91Iz",
    "outputId": "6128960b-16dc-44c4-ac79-649a6f3205da"
   },
   "outputs": [
    {
     "data": {
      "text/plain": [
       "<3599998x697500 sparse matrix of type '<class 'numpy.float64'>'\n",
       "\twith 241496533 stored elements in Compressed Sparse Row format>"
      ]
     },
     "execution_count": 35,
     "metadata": {
      "tags": []
     },
     "output_type": "execute_result"
    }
   ],
   "source": [
    "xtrain_tfidf_3n"
   ]
  },
  {
   "cell_type": "code",
   "execution_count": 0,
   "metadata": {
    "colab": {},
    "colab_type": "code",
    "id": "ELEDpukM91I0",
    "outputId": "e628b499-206d-4d10-ce8a-b69ffded737f"
   },
   "outputs": [
    {
     "data": {
      "text/plain": [
       "<400000x697500 sparse matrix of type '<class 'numpy.float64'>'\n",
       "\twith 26837487 stored elements in Compressed Sparse Row format>"
      ]
     },
     "execution_count": 36,
     "metadata": {
      "tags": []
     },
     "output_type": "execute_result"
    }
   ],
   "source": [
    "xvalid_tfidf_3n"
   ]
  },
  {
   "cell_type": "code",
   "execution_count": 0,
   "metadata": {
    "colab": {},
    "colab_type": "code",
    "id": "2NHbjBGA91I2",
    "outputId": "007225d2-7978-481e-a2dd-cea53021e7a8"
   },
   "outputs": [
    {
     "name": "stdout",
     "output_type": "stream",
     "text": [
      "  (0, 680208)\t0.07984536545073403\n",
      "  (0, 679359)\t0.038436269513152176\n",
      "  (0, 675815)\t0.05616184296126603\n",
      "  (0, 667170)\t0.10984981320951555\n",
      "  (0, 644437)\t0.16043139835477557\n",
      "  (0, 644397)\t0.20714506742836417\n",
      "  (0, 627676)\t0.12631321474693588\n",
      "  (0, 627359)\t0.06744762755919648\n",
      "  (0, 591623)\t0.10602084294749418\n",
      "  (0, 589483)\t0.14609745682280406\n",
      "  (0, 588821)\t0.049327445069430646\n",
      "  (0, 585716)\t0.08385064693075696\n",
      "  (0, 577511)\t0.05239513429333735\n",
      "  (0, 567049)\t0.07013099649130419\n",
      "  (0, 553482)\t0.09136213123883097\n",
      "  (0, 527984)\t0.15993171746653229\n",
      "  (0, 527976)\t0.10017869975424477\n",
      "  (0, 527223)\t0.054700597068879704\n",
      "  (0, 526174)\t0.07590137905177383\n",
      "  (0, 523388)\t0.054181830456737155\n",
      "  (0, 520540)\t0.16095017989210295\n",
      "  (0, 520524)\t0.08552730400883625\n",
      "  (0, 507129)\t0.15538811744352696\n",
      "  (0, 506980)\t0.07336955733921571\n",
      "  (0, 488233)\t0.06161889099259384\n",
      "  :\t:\n",
      "  (0, 241274)\t0.14276524688403255\n",
      "  (0, 214287)\t0.06206074808115441\n",
      "  (0, 165704)\t0.1329926679936413\n",
      "  (0, 154315)\t0.16794256881266525\n",
      "  (0, 154138)\t0.07035926642302873\n",
      "  (0, 145567)\t0.10055876521915814\n",
      "  (0, 143358)\t0.16955323261335786\n",
      "  (0, 135305)\t0.14028288012917825\n",
      "  (0, 135003)\t0.04592287849921691\n",
      "  (0, 131164)\t0.15853439117014403\n",
      "  (0, 131134)\t0.07524120114493237\n",
      "  (0, 103537)\t0.23158231745466826\n",
      "  (0, 95754)\t0.15028043246729653\n",
      "  (0, 94639)\t0.04118730922685724\n",
      "  (0, 92979)\t0.14127988699866534\n",
      "  (0, 92965)\t0.07713898990207903\n",
      "  (0, 87389)\t0.1186861113732797\n",
      "  (0, 87059)\t0.05677978836501973\n",
      "  (0, 86143)\t0.04568385192992135\n",
      "  (0, 73661)\t0.08982285998212651\n",
      "  (0, 53483)\t0.1317071845389686\n",
      "  (0, 53466)\t0.095924928988749\n",
      "  (0, 52315)\t0.05005128781333683\n",
      "  (0, 36160)\t0.13281407158495281\n",
      "  (0, 35540)\t0.05129697508423524\n"
     ]
    }
   ],
   "source": [
    "print(xtrain_tfidf_3n[0])"
   ]
  },
  {
   "cell_type": "markdown",
   "metadata": {
    "colab_type": "text",
    "id": "i2jYfB19uBjj"
   },
   "source": [
    "## Word2vec"
   ]
  },
  {
   "cell_type": "code",
   "execution_count": 0,
   "metadata": {
    "colab": {},
    "colab_type": "code",
    "id": "otkvU8aS91I5"
   },
   "outputs": [],
   "source": [
    "'''\n",
    "# Easy processing fullset, keep stopwords\n",
    "def process_text_ez(text):\n",
    "    text = str(text)\n",
    "    tokenized = Tokenizer.tokenize(text)\n",
    "    tokenized_lower = [word.lower() for word in tokenized]\n",
    "    tokenized_stem = [PorterStemmer().stem(word) for word in tokenized_lower if word != '']\n",
    "    token = ' '.join(tokenized_stem)\n",
    "    return token\n",
    "'''"
   ]
  },
  {
   "cell_type": "code",
   "execution_count": 0,
   "metadata": {
    "colab": {},
    "colab_type": "code",
    "id": "91ODn9p-91I7"
   },
   "outputs": [],
   "source": [
    "'''\n",
    "# Save easy processed fullset\n",
    "fullset = pd.read_csv('fullset.csv')\n",
    "fullset.Token = fullset.Token.apply(process_text_ez)\n",
    "fullset.to_csv('fullset_ez_processed.csv', index=0)\n",
    "'''"
   ]
  },
  {
   "cell_type": "code",
   "execution_count": 0,
   "metadata": {
    "colab": {},
    "colab_type": "code",
    "id": "otkhi_8sw0Ix"
   },
   "outputs": [],
   "source": [
    "# Load easy processed fullset\n",
    "fullset = pd.read_csv('fullset_ez_processed.csv')\n",
    "fullset.Token = fullset.Token.astype('str')"
   ]
  },
  {
   "cell_type": "code",
   "execution_count": 0,
   "metadata": {
    "colab": {},
    "colab_type": "code",
    "id": "RnL2T7N0LRKg"
   },
   "outputs": [],
   "source": [
    "train_vec, test_vec, train_y, test_y = train_test_split(fullset['Token'], fullset['Sentiment'], train_size=0.9, random_state=1, stratify=fullset.Sentiment)"
   ]
  },
  {
   "cell_type": "code",
   "execution_count": 0,
   "metadata": {
    "colab": {},
    "colab_type": "code",
    "id": "2d3TdBAD91I_",
    "outputId": "2c645593-0a82-40f7-8fae-94168c394385"
   },
   "outputs": [
    {
     "name": "stdout",
     "output_type": "stream",
     "text": [
      "CPU times: user 1h 20min 36s, sys: 59.6 s, total: 1h 21min 35s\n",
      "Wall time: 19min 31s\n"
     ]
    }
   ],
   "source": [
    "# Self-trained Word2vec model\n",
    "%%time\n",
    "\n",
    "sentence = [(x.split()) for x in train_vec]\n",
    "w2vmodel = Word2Vec(sentence, size=200, window=10, workers=8)"
   ]
  },
  {
   "cell_type": "code",
   "execution_count": 0,
   "metadata": {
    "colab": {},
    "colab_type": "code",
    "id": "ma460_Pb91JA"
   },
   "outputs": [],
   "source": [
    "# Save trained Word2vec model\n",
    "w2vmodel.wv.save_word2vec_format('w2vmodel.txt', binary=False)"
   ]
  },
  {
   "cell_type": "code",
   "execution_count": 0,
   "metadata": {
    "colab": {},
    "colab_type": "code",
    "id": "LyFa7SoO91JB"
   },
   "outputs": [],
   "source": [
    "from gensim.test.utils import datapath, get_tmpfile\n",
    "from gensim.models import KeyedVectors"
   ]
  },
  {
   "cell_type": "code",
   "execution_count": 0,
   "metadata": {
    "colab": {
     "base_uri": "https://localhost:8080/",
     "height": 51
    },
    "colab_type": "code",
    "id": "7xJ6BTMYl20J",
    "outputId": "e3b061a8-0b6b-433e-8ab2-551026b1533d"
   },
   "outputs": [
    {
     "name": "stdout",
     "output_type": "stream",
     "text": [
      "Train: (3599992, 200)\n",
      "Train elements: 719998400\n",
      "Test: (399999, 200)\n",
      "Test elements: 79999800\n",
      "# [Twitter 200d Word2vec] Time Spent: 829.5483853816986\n"
     ]
    }
   ],
   "source": [
    "# Load Twitter 200d w2v model\n",
    "t0 = time()\n",
    "\n",
    "w2vmodel = KeyedVectors.load_word2vec_format(\"./w2v.twitter.27B.200d.txt\")\n",
    "w2i = {w: i for i, w in enumerate(w2vmodel.wv.index2word)}\n",
    "vectors = w2vmodel.wv.vectors\n",
    "\n",
    "train_vec = [[w2i[w] for w in x.split() if w in w2i] for x in train_vec]\n",
    "test_vec = [[w2i[w] for w in x.split() if w in w2i] for x in test_vec]\n",
    "train_y = [y for y, x in zip(train_y, train_vec) if x]\n",
    "test_y = [y for y, x in zip(test_y, test_vec) if x]\n",
    "train_vec = [x for x in train_vec if x]\n",
    "test_vec = [x for x in test_vec if x]\n",
    "train_vec = [[vectors[i] for i in x] for x in train_vec]\n",
    "test_vec = [[vectors[i] for i in x] for x in test_vec]\n",
    "train_vec = [np.mean(x, axis=0) for x in train_vec]\n",
    "test_vec = [np.mean(x, axis=0) for x in test_vec]\n",
    "\n",
    "print(\"Train:\",np.array(train_vec).shape)\n",
    "print(\"Train elements:\",np.array(train_vec).size)\n",
    "print(\"Test:\",np.array(test_vec).shape)\n",
    "print(\"Test elements:\",np.array(test_vec).size)\n",
    "\n",
    "print('# [Twitter 200d Word2vec] Time Spent:', time()-t0)"
   ]
  },
  {
   "cell_type": "code",
   "execution_count": 0,
   "metadata": {
    "colab": {},
    "colab_type": "code",
    "id": "uSmb0UWU91JD",
    "outputId": "3eaa8991-d083-49e7-c565-872d16a06fbb"
   },
   "outputs": [
    {
     "name": "stdout",
     "output_type": "stream",
     "text": [
      "Train: (3599992, 200)\n",
      "Train elements: 719998400\n",
      "Test: (399999, 200)\n",
      "Test elements: 79999800\n",
      "# [Self-Word2vec] Time Spent: 717.0439891815186\n"
     ]
    }
   ],
   "source": [
    "# Load self-trained Word2vec model\n",
    "t0 = time()\n",
    "\n",
    "w2vmodel = KeyedVectors.load_word2vec_format(\"./w2vmodel.txt\")\n",
    "w2i = {w: i for i, w in enumerate(w2vmodel.wv.index2word)}\n",
    "vectors = w2vmodel.wv.vectors\n",
    "\n",
    "train_vec = [[w2i[w] for w in x.split() if w in w2i] for x in train_vec]\n",
    "test_vec = [[w2i[w] for w in x.split() if w in w2i] for x in test_vec]\n",
    "train_y = [y for y, x in zip(train_y, train_vec) if x]\n",
    "test_y = [y for y, x in zip(test_y, test_vec) if x]\n",
    "train_vec = [x for x in train_vec if x]\n",
    "test_vec = [x for x in test_vec if x]\n",
    "train_vec = [[vectors[i] for i in x] for x in train_vec]\n",
    "test_vec = [[vectors[i] for i in x] for x in test_vec]\n",
    "train_vec = [np.mean(x, axis=0) for x in train_vec]\n",
    "test_vec = [np.mean(x, axis=0) for x in test_vec]\n",
    "\n",
    "print(\"Train:\",np.array(train_vec).shape)\n",
    "print(\"Train elements:\",np.array(train_vec).size)\n",
    "print(\"Test:\",np.array(test_vec).shape)\n",
    "print(\"Test elements:\",np.array(test_vec).size)\n",
    "\n",
    "print('# [Self-Word2vec] Time Spent:', time()-t0)"
   ]
  },
  {
   "cell_type": "markdown",
   "metadata": {
    "colab_type": "text",
    "id": "VYbMuSUvuBjm"
   },
   "source": [
    "# Traditional ML"
   ]
  },
  {
   "cell_type": "code",
   "execution_count": 0,
   "metadata": {
    "colab": {},
    "colab_type": "code",
    "id": "ZTQhEGG-uBjm"
   },
   "outputs": [],
   "source": [
    "def train_model(classifier, feature_vector_train, label, feature_vector_valid, is_not_svm=True):\n",
    "    # fit the training dataset on the classifier\n",
    "    trm = classifier.fit(feature_vector_train, label)\n",
    "    \n",
    "    # predict the labels on validation dataset\n",
    "    predictions = trm.predict(feature_vector_valid)\n",
    "    \n",
    "    # Here is wrong, the predictions and real label are reversed.\n",
    "    # In the dissertation, the results are corrected.\n",
    "    print(confusion_matrix(predictions,test_y))\n",
    "    print('Accuracy:', accuracy_score(predictions, test_y).round(4))\n",
    "    print('Precision:', precision_score(predictions, test_y).round(4))\n",
    "    print('Recall:', recall_score(predictions, test_y).round(4))\n",
    "    print('F1 Score:', f1_score(predictions, test_y).round(4))\n",
    "    '''\n",
    "    confusion = confusion_matrix(predictions, test_y)\n",
    "    fig, ax = plt.subplots(figsize=(8,6))\n",
    "    plot_confusion_matrix(confusion, classes=['negative','positive'], normalize=True)\n",
    "    plt.show()\n",
    "    '''\n",
    "    #print('AUC:', roc_auc_score(test_y, prob[:,1]).round(4),'\\n')\n",
    "    if is_not_svm:\n",
    "        prob = trm.predict_proba(feature_vector_valid)\n",
    "        fpr, tpr, _ = roc_curve(test_y, prob[:,1])\n",
    "        auc = roc_auc_score(test_y, prob[:,1])\n",
    "\n",
    "        fig, ax= plt.subplots(figsize=(8,6))\n",
    "        ax.plot(fpr, tpr, label='ROC curve (AUC = {:.4f})'.format(auc))\n",
    "        ax.set_xlabel('False positive rate')\n",
    "        ax.set_ylabel('True Positive Rate')\n",
    "        ax.set_title('ROC curve', fontsize=14)\n",
    "        sns.despine()\n",
    "        plt.legend()\n",
    "        plt.show()"
   ]
  },
  {
   "cell_type": "markdown",
   "metadata": {
    "colab_type": "text",
    "id": "JHPw1mi_uBjn"
   },
   "source": [
    "## Naive Bayes"
   ]
  },
  {
   "cell_type": "code",
   "execution_count": 0,
   "metadata": {
    "colab": {},
    "colab_type": "code",
    "id": "ULR7poH_uBjo",
    "outputId": "6df3f1f5-3e1a-4ae1-8710-ba97ab6516b5"
   },
   "outputs": [
    {
     "name": "stdout",
     "output_type": "stream",
     "text": [
      "[[167363  30126]\n",
      " [ 32637 169874]]\n",
      "Accuracy: 0.8431\n",
      "Precision: 0.8494\n",
      "Recall: 0.8388\n",
      "F1 Score: 0.8441\n"
     ]
    },
    {
     "data": {
      "image/png": "[encoded data removed]",
      "text/plain": [
       "<Figure size 576x432 with 1 Axes>"
      ]
     },
     "metadata": {
      "needs_background": "light",
      "tags": []
     },
     "output_type": "display_data"
    },
    {
     "name": "stdout",
     "output_type": "stream",
     "text": [
      "# Naive Bayes + Count Vectors + 1-gram: 7.891452074050903 \n",
      "\n",
      "[[172795  21064]\n",
      " [ 27205 178936]]\n",
      "Accuracy: 0.8793\n",
      "Precision: 0.8947\n",
      "Recall: 0.868\n",
      "F1 Score: 0.8812\n"
     ]
    },
    {
     "data": {
      "image/png": "[encoded data removed]",
      "text/plain": [
       "<Figure size 576x432 with 1 Axes>"
      ]
     },
     "metadata": {
      "needs_background": "light",
      "tags": []
     },
     "output_type": "display_data"
    },
    {
     "name": "stdout",
     "output_type": "stream",
     "text": [
      "# Naive Bayes + Count Vectors + 2-gram 14.472683191299438 \n",
      "\n",
      "[[173520  18855]\n",
      " [ 26480 181145]]\n",
      "Accuracy: 0.8867\n",
      "Precision: 0.9057\n",
      "Recall: 0.8725\n",
      "F1 Score: 0.8888\n"
     ]
    },
    {
     "data": {
      "image/png": "[encoded data removed]",
      "text/plain": [
       "<Figure size 576x432 with 1 Axes>"
      ]
     },
     "metadata": {
      "needs_background": "light",
      "tags": []
     },
     "output_type": "display_data"
    },
    {
     "name": "stdout",
     "output_type": "stream",
     "text": [
      "# Naive Bayes + Count Vectors + 3-gram 14.70292592048645 \n",
      "\n"
     ]
    }
   ],
   "source": [
    "t0 = time()\n",
    "train_model(naive_bayes.BernoulliNB(), xtrain_count_1n, train_y, xvalid_count_1n)\n",
    "print(\"# Naive Bayes + Count Vectors + 1-gram:\", time()-t0, '\\n')\n",
    "\n",
    "t0 = time()\n",
    "train_model(naive_bayes.BernoulliNB(), xtrain_count_2n, train_y, xvalid_count_2n)\n",
    "print(\"# Naive Bayes + Count Vectors + 2-gram\", time()-t0, '\\n')\n",
    "\n",
    "t0 = time()\n",
    "train_model(naive_bayes.BernoulliNB(), xtrain_count_3n, train_y, xvalid_count_3n)\n",
    "print(\"# Naive Bayes + Count Vectors + 3-gram\", time()-t0, '\\n')"
   ]
  },
  {
   "cell_type": "code",
   "execution_count": 0,
   "metadata": {
    "colab": {},
    "colab_type": "code",
    "id": "uymq6DPOuBjr",
    "outputId": "96360e75-0cae-4beb-be5d-28ccaa4e05c1"
   },
   "outputs": [
    {
     "name": "stdout",
     "output_type": "stream",
     "text": [
      "[[167363  30126]\n",
      " [ 32637 169874]]\n",
      "Accuracy: 0.8431\n",
      "Precision: 0.8494\n",
      "Recall: 0.8388\n",
      "F1 Score: 0.8441\n"
     ]
    },
    {
     "data": {
      "image/png": "[encoded data removed]",
      "text/plain": [
       "<Figure size 576x432 with 1 Axes>"
      ]
     },
     "metadata": {
      "needs_background": "light",
      "tags": []
     },
     "output_type": "display_data"
    },
    {
     "name": "stdout",
     "output_type": "stream",
     "text": [
      "# Naive Bayes + TF-IDF + 1-gram 7.021415948867798 \n",
      "\n",
      "[[172795  21064]\n",
      " [ 27205 178936]]\n",
      "Accuracy: 0.8793\n",
      "Precision: 0.8947\n",
      "Recall: 0.868\n",
      "F1 Score: 0.8812\n"
     ]
    },
    {
     "data": {
      "image/png": "[encoded data removed]",
      "text/plain": [
       "<Figure size 576x432 with 1 Axes>"
      ]
     },
     "metadata": {
      "needs_background": "light",
      "tags": []
     },
     "output_type": "display_data"
    },
    {
     "name": "stdout",
     "output_type": "stream",
     "text": [
      "# Naive Bayes + TF-IDF + 2-gram 12.123878717422485 \n",
      "\n",
      "[[173520  18855]\n",
      " [ 26480 181145]]\n",
      "Accuracy: 0.8867\n",
      "Precision: 0.9057\n",
      "Recall: 0.8725\n",
      "F1 Score: 0.8888\n"
     ]
    },
    {
     "data": {
      "image/png": "[encoded data removed]",
      "text/plain": [
       "<Figure size 576x432 with 1 Axes>"
      ]
     },
     "metadata": {
      "needs_background": "light",
      "tags": []
     },
     "output_type": "display_data"
    },
    {
     "name": "stdout",
     "output_type": "stream",
     "text": [
      "# Naive Bayes + TF-IDF + 3-gram 13.465642213821411 \n",
      "\n"
     ]
    }
   ],
   "source": [
    "t0 = time()\n",
    "train_model(naive_bayes.BernoulliNB(), xtrain_tfidf_1n, train_y, xvalid_tfidf_1n)\n",
    "print(\"# Naive Bayes + TF-IDF + 1-gram\", time()-t0, '\\n')\n",
    "\n",
    "t0 = time()\n",
    "train_model(naive_bayes.BernoulliNB(), xtrain_tfidf_2n, train_y, xvalid_tfidf_2n)\n",
    "print(\"# Naive Bayes + TF-IDF + 2-gram\", time()-t0, '\\n')\n",
    "\n",
    "t0 = time()\n",
    "train_model(naive_bayes.BernoulliNB(), xtrain_tfidf_3n, train_y, xvalid_tfidf_3n)\n",
    "print(\"# Naive Bayes + TF-IDF + 3-gram\", time()-t0, '\\n')"
   ]
  },
  {
   "cell_type": "code",
   "execution_count": 0,
   "metadata": {
    "colab": {},
    "colab_type": "code",
    "id": "icHFVlcp91JI",
    "outputId": "1199e21a-84ce-4aa0-ca40-310107ba49b6"
   },
   "outputs": [
    {
     "name": "stdout",
     "output_type": "stream",
     "text": [
      "[[144780 68336]\n",
      " [55220 131664]]\n",
      "Accuracy: 0.6911\n",
      "Precision: 0.6583\n",
      "Recall: 0.7045\n",
      "F1 Score: 0.6806\n"
     ]
    },
    {
     "data": {
      "image/png": "[encoded data removed]",
      "text/plain": [
       "<Figure size 576x432 with 1 Axes>"
      ]
     },
     "metadata": {
      "needs_background": "light",
      "tags": []
     },
     "output_type": "display_data"
    },
    {
     "name": "stdout",
     "output_type": "stream",
     "text": [
      "# Naive Bayes + Twitter Word2vec 27.372788667678833 \n",
      "\n"
     ]
    }
   ],
   "source": [
    "# Twitter 200d w2v model\n",
    "t0 = time()\n",
    "train_model(naive_bayes.BernoulliNB(), train_vec, train_y, test_vec)\n",
    "print(\"# Naive Bayes + Twitter Word2vec\", time()-t0, '\\n')"
   ]
  },
  {
   "cell_type": "code",
   "execution_count": 0,
   "metadata": {
    "colab": {},
    "colab_type": "code",
    "id": "QPUscM5e91JJ",
    "outputId": "07886af1-1051-43b9-e87b-81fc18d28ad6"
   },
   "outputs": [
    {
     "name": "stdout",
     "output_type": "stream",
     "text": [
      "[[148498 67790]\n",
      " [51502 132210]]\n",
      "Accuracy: 0.7018\n",
      "Precision: 0.6611\n",
      "Recall: 0.7197\n",
      "F1 Score: 0.6891\n"
     ]
    },
    {
     "data": {
      "image/png": "[encoded data removed]",
      "text/plain": [
       "<Figure size 576x432 with 1 Axes>"
      ]
     },
     "metadata": {
      "needs_background": "light",
      "tags": []
     },
     "output_type": "display_data"
    },
    {
     "name": "stdout",
     "output_type": "stream",
     "text": [
      "# Naive Bayes + Self-trained Word2vec 27.88288927078247 \n",
      "\n"
     ]
    }
   ],
   "source": [
    "# Self-trained w2v model\n",
    "t0 = time()\n",
    "train_model(naive_bayes.BernoulliNB(), train_vec, train_y, test_vec)\n",
    "print(\"# Naive Bayes + Self-trained Word2vec\", time()-t0, '\\n')"
   ]
  },
  {
   "cell_type": "markdown",
   "metadata": {
    "colab_type": "text",
    "id": "KKj6egzpuBju"
   },
   "source": [
    "## SVM"
   ]
  },
  {
   "cell_type": "code",
   "execution_count": 0,
   "metadata": {
    "colab": {},
    "colab_type": "code",
    "id": "dsRI25jtuBjv",
    "outputId": "113a992e-7d2c-4715-8cda-06b3e3476c5d"
   },
   "outputs": [
    {
     "name": "stdout",
     "output_type": "stream",
     "text": [
      "[[175660  22092]\n",
      " [ 24340 177908]]\n",
      "Accuracy: 0.8839\n",
      "Precision: 0.8895\n",
      "Recall: 0.8797\n",
      "F1 Score: 0.8846\n",
      "# SVM + Count Vectors + 1-gram 2507.6089239120483 \n",
      "\n",
      "[[177618  22338]\n",
      " [ 22382 177662]]\n",
      "Accuracy: 0.8882\n",
      "Precision: 0.8883\n",
      "Recall: 0.8881\n",
      "F1 Score: 0.8882\n",
      "# SVM + Count Vectors + 2-gram 1485.2216510772705 \n",
      "\n",
      "[[178161  21509]\n",
      " [ 21839 178491]]\n",
      "Accuracy: 0.8916\n",
      "Precision: 0.8925\n",
      "Recall: 0.891\n",
      "F1 Score: 0.8917\n",
      "# SVM + Count Vectors + 3-gram 1438.916951417923 \n",
      "\n"
     ]
    }
   ],
   "source": [
    "t0 = time()\n",
    "train_model(svm.LinearSVC(), xtrain_count_1n, train_y, xvalid_count_1n, is_not_svm=False)\n",
    "print(\"# SVM + Count Vectors + 1-gram\", time()-t0, '\\n')\n",
    "\n",
    "t0 = time()\n",
    "train_model(svm.LinearSVC(), xtrain_count_2n, train_y, xvalid_count_2n, is_not_svm=False)\n",
    "print(\"# SVM + Count Vectors + 2-gram\", time()-t0, '\\n')\n",
    "\n",
    "t0 = time()\n",
    "train_model(svm.LinearSVC(), xtrain_count_3n, train_y, xvalid_count_3n, is_not_svm=False)\n",
    "print(\"# SVM + Count Vectors + 3-gram\", time()-t0, '\\n')"
   ]
  },
  {
   "cell_type": "code",
   "execution_count": 0,
   "metadata": {
    "colab": {},
    "colab_type": "code",
    "id": "OuOPpAYTuBjz",
    "outputId": "2e822dd4-e4bb-4262-83a2-cff73ef01a2b"
   },
   "outputs": [
    {
     "name": "stdout",
     "output_type": "stream",
     "text": [
      "[[177690  21326]\n",
      " [ 22310 178674]]\n",
      "Accuracy: 0.8909\n",
      "Precision: 0.8934\n",
      "Recall: 0.889\n",
      "F1 Score: 0.8912\n",
      "# SVM + TF-IDF + 1-gram 139.35156893730164 \n",
      "\n",
      "[[183922  15722]\n",
      " [ 16078 184278]]\n",
      "Accuracy: 0.9205\n",
      "Precision: 0.9214\n",
      "Recall: 0.9198\n",
      "F1 Score: 0.9206\n",
      "# SVM + TF-IDF + 2-gram 130.5551130771637 \n",
      "\n",
      "[[184365  15136]\n",
      " [ 15635 184864]]\n",
      "Accuracy: 0.9231\n",
      "Precision: 0.9243\n",
      "Recall: 0.922\n",
      "F1 Score: 0.9232\n",
      "# SVM + TF-IDF + 3-gram 129.41166710853577 \n",
      "\n"
     ]
    }
   ],
   "source": [
    "t0 = time()\n",
    "train_model(svm.LinearSVC(), xtrain_tfidf_1n, train_y, xvalid_tfidf_1n, is_not_svm=False)\n",
    "print(\"# SVM + TF-IDF + 1-gram\", time()-t0, '\\n')\n",
    "\n",
    "t0 = time()\n",
    "train_model(svm.LinearSVC(), xtrain_tfidf_2n, train_y, xvalid_tfidf_2n, is_not_svm=False)\n",
    "print(\"# SVM + TF-IDF + 2-gram\", time()-t0, '\\n')\n",
    "\n",
    "t0 = time()\n",
    "train_model(svm.LinearSVC(), xtrain_tfidf_3n, train_y, xvalid_tfidf_3n, is_not_svm=False)\n",
    "print(\"# SVM + TF-IDF + 3-gram\", time()-t0, '\\n')"
   ]
  },
  {
   "cell_type": "code",
   "execution_count": 0,
   "metadata": {
    "colab": {},
    "colab_type": "code",
    "id": "zSTr7gSZ91JN",
    "outputId": "bb262377-41cf-4370-c175-04ac431330d0"
   },
   "outputs": [
    {
     "name": "stdout",
     "output_type": "stream",
     "text": [
      "[[163309  41018]\n",
      " [ 36691 158982]]\n",
      "Accuracy: 0.8057\n",
      "Precision: 0.7949\n",
      "Recall: 0.8125\n",
      "F1 Score: 0.8036\n",
      "# SVM + Twitter Word2vec 4995.702150583267\n"
     ]
    }
   ],
   "source": [
    "# Twitter 200d w2v model\n",
    "t0 = time()\n",
    "train_model(svm.LinearSVC(), train_vec, train_y, test_vec, is_not_svm=False)\n",
    "print(\"# SVM + Twitter Word2vec\", time()-t0)"
   ]
  },
  {
   "cell_type": "code",
   "execution_count": 0,
   "metadata": {
    "colab": {},
    "colab_type": "code",
    "id": "yNhwf6j2uBj2",
    "outputId": "86b07b96-c083-4e1e-883b-2825e4702a62"
   },
   "outputs": [
    {
     "name": "stdout",
     "output_type": "stream",
     "text": [
      "[[177258  24018]\n",
      " [ 22742 175982]]\n",
      "Accuracy: 0.8831\n",
      "Precision: 0.8799\n",
      "Recall: 0.8856\n",
      "F1 Score: 0.8827\n",
      "# SVM + Self-trained Word2vec 4406.1866846084595\n"
     ]
    }
   ],
   "source": [
    "# Self-trained w2v model\n",
    "t0 = time()\n",
    "train_model(svm.LinearSVC(), train_vec, train_y, test_vec, is_not_svm=False)\n",
    "print(\"# SVM + Self-trained Word2vec\", time()-t0)"
   ]
  },
  {
   "cell_type": "markdown",
   "metadata": {
    "colab_type": "text",
    "id": "YLcWFN8RuBj3"
   },
   "source": [
    "## Logistic Regression"
   ]
  },
  {
   "cell_type": "code",
   "execution_count": 0,
   "metadata": {
    "colab": {},
    "colab_type": "code",
    "id": "AoLVRAH9uBj5",
    "outputId": "7b407814-8931-4a22-bc0a-0549d7d3184f"
   },
   "outputs": [
    {
     "name": "stdout",
     "output_type": "stream",
     "text": [
      "[[177075  20810]\n",
      " [ 22925 179190]]\n",
      "Accuracy: 0.8907\n",
      "Precision: 0.8960\n",
      "Recall: 0.8866\n",
      "F1 Score: 0.8912\n"
     ]
    },
    {
     "data": {
      "image/png": "[encoded data removed]",
      "text/plain": [
       "<Figure size 576x432 with 1 Axes>"
      ]
     },
     "metadata": {
      "needs_background": "light",
      "tags": []
     },
     "output_type": "display_data"
    },
    {
     "name": "stdout",
     "output_type": "stream",
     "text": [
      "Logistic Regression + Count Vectors + 1-gram 8342.111926317215 \n",
      "\n",
      "[[182809  16276]\n",
      " [ 17191 183724]]\n",
      "Accuracy: 0.9163\n",
      "Precision: 0.9186\n",
      "Recall: 0.9144\n",
      "F1 Score: 0.9165\n"
     ]
    },
    {
     "data": {
      "image/png": "[encoded data removed]",
      "text/plain": [
       "<Figure size 576x432 with 1 Axes>"
      ]
     },
     "metadata": {
      "needs_background": "light",
      "tags": []
     },
     "output_type": "display_data"
    },
    {
     "name": "stdout",
     "output_type": "stream",
     "text": [
      "\n",
      "Logistic Regression + Count Vectors + 2-gram 9741.758219718933 \n",
      "\n",
      "[[183099  16012]\n",
      " [ 16901 183988]]\n",
      "Accuracy: 0.9177\n",
      "Precision: 0.9199\n",
      "Recall: 0.9159\n",
      "F1 Score: 0.9179\n"
     ]
    },
    {
     "data": {
      "image/png": "[encoded data removed]",
      "text/plain": [
       "<Figure size 576x432 with 1 Axes>"
      ]
     },
     "metadata": {
      "needs_background": "light",
      "tags": []
     },
     "output_type": "display_data"
    },
    {
     "name": "stdout",
     "output_type": "stream",
     "text": [
      "\n",
      "Logistic Regression + Count Vectors + 3-gram 12231.01542043686 \n",
      "\n"
     ]
    }
   ],
   "source": [
    "t0 = time()\n",
    "train_model(linear_model.LogisticRegression(), xtrain_count_1n, train_y, xvalid_count_1n)\n",
    "print(\"Logistic Regression + Count Vectors + 1-gram\", time()-t0, '\\n')\n",
    "\n",
    "t0 = time()\n",
    "train_model(linear_model.LogisticRegression(), xtrain_count_2n, train_y, xvalid_count_2n)\n",
    "print(\"\\nLogistic Regression + Count Vectors + 2-gram\", time()-t0, '\\n')\n",
    "\n",
    "t0 = time()\n",
    "train_model(linear_model.LogisticRegression(), xtrain_count_3n, train_y, xvalid_count_3n)\n",
    "print(\"\\nLogistic Regression + Count Vectors + 3-gram\", time()-t0, '\\n')"
   ]
  },
  {
   "cell_type": "code",
   "execution_count": 0,
   "metadata": {
    "colab": {},
    "colab_type": "code",
    "id": "du1ez33yuBj7",
    "outputId": "92b4cdfe-8663-4255-e675-87d803c70342"
   },
   "outputs": [
    {
     "name": "stdout",
     "output_type": "stream",
     "text": [
      "[[178074  20820]\n",
      " [ 21926 179180]]\n",
      "Accuracy: 0.8931\n",
      "Precision: 0.8959\n",
      "Recall: 0.891\n",
      "F1 Score: 0.8934\n"
     ]
    },
    {
     "data": {
      "image/png": "[encoded data removed]",
      "text/plain": [
       "<Figure size 576x432 with 1 Axes>"
      ]
     },
     "metadata": {
      "needs_background": "light",
      "tags": []
     },
     "output_type": "display_data"
    },
    {
     "name": "stdout",
     "output_type": "stream",
     "text": [
      "Logistic Regression + TF-IDF + 1-gram 432.92121481895447 \n",
      "\n",
      "[[184341  15011]\n",
      " [ 15659 184989]]\n",
      "Accuracy: 0.9233\n",
      "Precision: 0.9249\n",
      "Recall: 0.922\n",
      "F1 Score: 0.9234\n"
     ]
    },
    {
     "data": {
      "image/png": "[encoded data removed]",
      "text/plain": [
       "<Figure size 576x432 with 1 Axes>"
      ]
     },
     "metadata": {
      "needs_background": "light",
      "tags": []
     },
     "output_type": "display_data"
    },
    {
     "name": "stdout",
     "output_type": "stream",
     "text": [
      "\n",
      "Logistic Regression + TF-IDF + 2-gram 830.950142621994 \n",
      "\n",
      "[[184665  14647]\n",
      " [ 15335 185353]]\n",
      "Accuracy: 0.925\n",
      "Precision: 0.9268\n",
      "Recall: 0.9236\n",
      "F1 Score: 0.9252\n"
     ]
    },
    {
     "data": {
      "image/png": "[encoded data removed]",
      "text/plain": [
       "<Figure size 576x432 with 1 Axes>"
      ]
     },
     "metadata": {
      "needs_background": "light",
      "tags": []
     },
     "output_type": "display_data"
    },
    {
     "name": "stdout",
     "output_type": "stream",
     "text": [
      "\n",
      "Logistic Regression + TF-IDF + 3-gram 692.5194883346558 \n",
      "\n"
     ]
    }
   ],
   "source": [
    "t0 = time()\n",
    "train_model(linear_model.LogisticRegression(), xtrain_tfidf_1n, train_y, xvalid_tfidf_1n)\n",
    "print(\"Logistic Regression + TF-IDF + 1-gram\", time()-t0, '\\n')\n",
    "\n",
    "t0 = time()\n",
    "train_model(linear_model.LogisticRegression(), xtrain_tfidf_2n, train_y, xvalid_tfidf_2n)\n",
    "print(\"\\nLogistic Regression + TF-IDF + 2-gram\", time()-t0, '\\n')\n",
    "\n",
    "t0 = time()\n",
    "train_model(linear_model.LogisticRegression(), xtrain_tfidf_3n, train_y, xvalid_tfidf_3n)\n",
    "print(\"\\nLogistic Regression + TF-IDF + 3-gram\", time()-t0, '\\n')"
   ]
  },
  {
   "cell_type": "code",
   "execution_count": 0,
   "metadata": {
    "colab": {},
    "colab_type": "code",
    "id": "1pZIeeTY91JS",
    "outputId": "f3e379f8-6999-440e-c7ed-d713dd58c512"
   },
   "outputs": [
    {
     "name": "stdout",
     "output_type": "stream",
     "text": [
      "[[162919  40625]\n",
      " [ 37081 159375]]\n",
      "Accuracy: 0.8057\n",
      "Precision: 0.7969\n",
      "Recall: 0.8113\n",
      "F1 Score: 0.804\n"
     ]
    },
    {
     "data": {
      "image/png": "[encoded data removed]",
      "text/plain": [
       "<Figure size 576x432 with 1 Axes>"
      ]
     },
     "metadata": {
      "needs_background": "light",
      "tags": []
     },
     "output_type": "display_data"
    },
    {
     "name": "stdout",
     "output_type": "stream",
     "text": [
      "# Logistic Regression + Twitter Word2vec 505.8234417438507\n"
     ]
    }
   ],
   "source": [
    "# Twitter 200d w2v model\n",
    "t0 = time()\n",
    "train_model(linear_model.LogisticRegression(), train_vec, train_y, test_vec)\n",
    "print(\"# Logistic Regression + Twitter Word2vec\", time()-t0)"
   ]
  },
  {
   "cell_type": "code",
   "execution_count": 0,
   "metadata": {
    "colab": {},
    "colab_type": "code",
    "id": "_bw3Xo3UuBj9",
    "outputId": "d8d1469a-c685-4dde-ea10-680224baea37"
   },
   "outputs": [
    {
     "name": "stdout",
     "output_type": "stream",
     "text": [
      "[[177126  23864]\n",
      " [ 22874 176136]]\n",
      "Accuracy: 0.8832\n",
      "Precision: 0.8807\n",
      "Recall: 0.8851\n",
      "F1 Score: 0.8829\n"
     ]
    },
    {
     "data": {
      "image/png": "[encoded data removed]",
      "text/plain": [
       "<Figure size 576x432 with 1 Axes>"
      ]
     },
     "metadata": {
      "needs_background": "light",
      "tags": []
     },
     "output_type": "display_data"
    },
    {
     "name": "stdout",
     "output_type": "stream",
     "text": [
      "# Logistic Regression + Self-trained Word2vec 1119.5579853057861\n"
     ]
    }
   ],
   "source": [
    "# Self-trained w2v model\n",
    "t0 = time()\n",
    "train_model(linear_model.LogisticRegression(), train_vec, train_y, test_vec)\n",
    "print(\"# Logistic Regression + Self-trained Word2vec\", time()-t0)"
   ]
  },
  {
   "cell_type": "markdown",
   "metadata": {
    "colab_type": "text",
    "id": "UNVkRH1puBj_"
   },
   "source": [
    "# Neural Network"
   ]
  },
  {
   "cell_type": "code",
   "execution_count": 0,
   "metadata": {
    "colab": {
     "base_uri": "https://localhost:8080/",
     "height": 34
    },
    "colab_type": "code",
    "id": "sxqS5QUGuBj_",
    "outputId": "5f451b82-07e7-40d3-ea9e-b763f58bf686"
   },
   "outputs": [
    {
     "name": "stderr",
     "output_type": "stream",
     "text": [
      "Using TensorFlow backend.\n"
     ]
    }
   ],
   "source": [
    "from keras.preprocessing import text, sequence\n",
    "from keras import layers, models, optimizers\n",
    "from keras.preprocessing.text import Tokenizer\n",
    "from keras.preprocessing.sequence import pad_sequences\n",
    "from keras.utils import to_categorical\n",
    "from keras.utils.vis_utils import plot_model\n",
    "from sklearn import metrics"
   ]
  },
  {
   "cell_type": "code",
   "execution_count": 0,
   "metadata": {
    "colab": {
     "base_uri": "https://localhost:8080/",
     "height": 544
    },
    "colab_type": "code",
    "id": "0FjOTPBsLRK6",
    "outputId": "8df87a50-2e0f-4df8-dba1-d8e40d9d7cb7"
   },
   "outputs": [
    {
     "name": "stdout",
     "output_type": "stream",
     "text": [
      "[name: \"/device:CPU:0\"\n",
      "device_type: \"CPU\"\n",
      "memory_limit: 268435456\n",
      "locality {\n",
      "}\n",
      "incarnation: 9470380119043784758\n",
      ", name: \"/device:XLA_CPU:0\"\n",
      "device_type: \"XLA_CPU\"\n",
      "memory_limit: 17179869184\n",
      "locality {\n",
      "}\n",
      "incarnation: 13835863730082565624\n",
      "physical_device_desc: \"device: XLA_CPU device\"\n",
      ", name: \"/device:XLA_GPU:0\"\n",
      "device_type: \"XLA_GPU\"\n",
      "memory_limit: 17179869184\n",
      "locality {\n",
      "}\n",
      "incarnation: 12356826223853656354\n",
      "physical_device_desc: \"device: XLA_GPU device\"\n",
      ", name: \"/device:GPU:0\"\n",
      "device_type: \"GPU\"\n",
      "memory_limit: 14912199066\n",
      "locality {\n",
      "  bus_id: 1\n",
      "  links {\n",
      "  }\n",
      "}\n",
      "incarnation: 1534016010784551440\n",
      "physical_device_desc: \"device: 0, name: Tesla T4, pci bus id: 0000:00:04.0, compute capability: 7.5\"\n",
      "]\n"
     ]
    }
   ],
   "source": [
    "os.environ[\"CUDA_VISIBLE_DEVICES\"] = \"0\"\n",
    "from tensorflow.python.client import device_lib\n",
    "print(device_lib.list_local_devices())"
   ]
  },
  {
   "cell_type": "code",
   "execution_count": 0,
   "metadata": {
    "colab": {},
    "colab_type": "code",
    "id": "QB9rS_N0uBkA"
   },
   "outputs": [],
   "source": [
    "fullset = pd.read_csv('fullset_ez_processed.csv')\n",
    "fullset.Token = fullset.Token.astype('str')"
   ]
  },
  {
   "cell_type": "code",
   "execution_count": 0,
   "metadata": {
    "colab": {},
    "colab_type": "code",
    "id": "R660T5mhuBkB"
   },
   "outputs": [],
   "source": [
    "MAX_SEQUENCE_LENGTH = 256    \n",
    "EMBEDDING_DIM = 200\n",
    "VALIDATION_SPLIT = 0.9\n",
    "TEST_SPLIT = 0.9"
   ]
  },
  {
   "cell_type": "code",
   "execution_count": 0,
   "metadata": {
    "colab": {
     "base_uri": "https://localhost:8080/",
     "height": 136
    },
    "colab_type": "code",
    "id": "IiteE9aU9gwB",
    "outputId": "cf424a76-993c-47a6-b897-48b1464cf8df"
   },
   "outputs": [
    {
     "name": "stdout",
     "output_type": "stream",
     "text": [
      "Found 926452 unique tokens.\n",
      "Shape of data tensor: (4000000, 256)\n",
      "Shape of label tensor: (4000000, 2)\n",
      "Train rows: 3240000\n",
      "Valid rows: 360000\n",
      "Test rows: 400000\n",
      "Time Spent: 397.6943747997284 s\n"
     ]
    }
   ],
   "source": [
    "# One-hot\n",
    "t0 = time()\n",
    "\n",
    "tokenizer = Tokenizer()\n",
    "tokenizer.fit_on_texts(fullset['Token'])\n",
    "sequences = tokenizer.texts_to_sequences(fullset['Token'])\n",
    "word_index = tokenizer.word_index\n",
    "print('Found %s unique tokens.' % len(word_index))\n",
    "data = pad_sequences(sequences, maxlen=MAX_SEQUENCE_LENGTH)\n",
    "labels = to_categorical(np.asarray(fullset['Sentiment']))\n",
    "print('Shape of data tensor:', data.shape)\n",
    "print('Shape of label tensor:', labels.shape)\n",
    "\n",
    "x_train, x_test, y_train, y_test = train_test_split(data, labels, train_size=TEST_SPLIT, random_state=1, stratify=fullset.Sentiment)\n",
    "x_train, x_val, y_train, y_val = train_test_split(x_train, y_train, train_size=VALIDATION_SPLIT, random_state=1, stratify=y_train)\n",
    "\n",
    "print('Train rows:', len(x_train))\n",
    "print('Valid rows:', len(x_val))\n",
    "print('Test rows:', len(x_test))\n",
    "\n",
    "print('Time Spent:', time()-t0, 's')"
   ]
  },
  {
   "cell_type": "code",
   "execution_count": 0,
   "metadata": {
    "colab": {
     "base_uri": "https://localhost:8080/",
     "height": 68
    },
    "colab_type": "code",
    "id": "xy4p5qBm-K9s",
    "outputId": "bf958684-9729-45a4-b31a-8d5a464ba6c5"
   },
   "outputs": [
    {
     "name": "stdout",
     "output_type": "stream",
     "text": [
      "[1620000. 1620000.]\n",
      "[180000. 180000.]\n",
      "[200000. 200000.]\n"
     ]
    }
   ],
   "source": [
    "print(sum(y_train))\n",
    "print(sum(y_val))\n",
    "print(sum(y_test))"
   ]
  },
  {
   "cell_type": "code",
   "execution_count": 0,
   "metadata": {
    "colab": {},
    "colab_type": "code",
    "id": "lAL_i3XWj1Tw"
   },
   "outputs": [],
   "source": [
    "del(fullset)\n",
    "del(data)\n",
    "del(labels)"
   ]
  },
  {
   "cell_type": "code",
   "execution_count": 0,
   "metadata": {
    "colab": {
     "base_uri": "https://localhost:8080/",
     "height": 938
    },
    "colab_type": "code",
    "id": "E1NtbU4y-oNX",
    "outputId": "5155c907-d79c-4d5d-ced5-d8397c71730e"
   },
   "outputs": [
    {
     "name": "stderr",
     "output_type": "stream",
     "text": [
      "W0811 09:24:04.512081 140402165020544 deprecation_wrapper.py:119] From /usr/local/lib/python3.6/dist-packages/keras/backend/tensorflow_backend.py:517: The name tf.placeholder is deprecated. Please use tf.compat.v1.placeholder instead.\n",
      "\n",
      "W0811 09:24:04.522568 140402165020544 deprecation_wrapper.py:119] From /usr/local/lib/python3.6/dist-packages/keras/backend/tensorflow_backend.py:4138: The name tf.random_uniform is deprecated. Please use tf.random.uniform instead.\n",
      "\n",
      "W0811 09:24:04.576113 140402165020544 deprecation_wrapper.py:119] From /usr/local/lib/python3.6/dist-packages/keras/backend/tensorflow_backend.py:3976: The name tf.nn.max_pool is deprecated. Please use tf.nn.max_pool2d instead.\n",
      "\n",
      "W0811 09:24:04.604081 140402165020544 deprecation_wrapper.py:119] From /usr/local/lib/python3.6/dist-packages/keras/optimizers.py:790: The name tf.train.Optimizer is deprecated. Please use tf.compat.v1.train.Optimizer instead.\n",
      "\n",
      "W0811 09:24:04.623397 140402165020544 deprecation_wrapper.py:119] From /usr/local/lib/python3.6/dist-packages/keras/backend/tensorflow_backend.py:3376: The name tf.log is deprecated. Please use tf.math.log instead.\n",
      "\n",
      "W0811 09:24:04.628046 140402165020544 deprecation.py:323] From /usr/local/lib/python3.6/dist-packages/tensorflow/python/ops/nn_impl.py:180: add_dispatch_support.<locals>.wrapper (from tensorflow.python.ops.array_ops) is deprecated and will be removed in a future version.\n",
      "Instructions for updating:\n",
      "Use tf.where in 2.0, which has the same broadcast rule as np.where\n"
     ]
    },
    {
     "name": "stdout",
     "output_type": "stream",
     "text": [
      "_________________________________________________________________\n",
      "Layer (type)                 Output Shape              Param #   \n",
      "=================================================================\n",
      "embedding_1 (Embedding)      (None, 256, 200)          185290600 \n",
      "_________________________________________________________________\n",
      "conv1d_1 (Conv1D)            (None, 254, 256)          153856    \n",
      "_________________________________________________________________\n",
      "max_pooling1d_1 (MaxPooling1 (None, 84, 256)           0         \n",
      "_________________________________________________________________\n",
      "flatten_1 (Flatten)          (None, 21504)             0         \n",
      "_________________________________________________________________\n",
      "dense_1 (Dense)              (None, 2)                 43010     \n",
      "=================================================================\n",
      "Total params: 185,487,466\n",
      "Trainable params: 185,487,466\n",
      "Non-trainable params: 0\n",
      "_________________________________________________________________\n"
     ]
    },
    {
     "name": "stderr",
     "output_type": "stream",
     "text": [
      "W0811 09:24:04.856433 140402165020544 deprecation_wrapper.py:119] From /usr/local/lib/python3.6/dist-packages/keras/backend/tensorflow_backend.py:986: The name tf.assign_add is deprecated. Please use tf.compat.v1.assign_add instead.\n",
      "\n"
     ]
    },
    {
     "name": "stdout",
     "output_type": "stream",
     "text": [
      "Train on 3240000 samples, validate on 360000 samples\n",
      "Epoch 1/10\n",
      "3240000/3240000 [==============================] - 1144s 353us/step - loss: 0.2094 - acc: 0.9199 - val_loss: 0.2099 - val_acc: 0.9267\n",
      "Epoch 2/10\n",
      "3240000/3240000 [==============================] - 1141s 352us/step - loss: 0.1484 - acc: 0.9470 - val_loss: 0.2005 - val_acc: 0.9307\n",
      "Epoch 3/10\n",
      "3240000/3240000 [==============================] - 1133s 350us/step - loss: 0.1072 - acc: 0.9629 - val_loss: 0.2062 - val_acc: 0.9297\n",
      "Epoch 4/10\n",
      "3240000/3240000 [==============================] - 1133s 350us/step - loss: 0.0755 - acc: 0.9745 - val_loss: 0.2449 - val_acc: 0.9271\n",
      "Epoch 5/10\n",
      "3240000/3240000 [==============================] - 1133s 350us/step - loss: 0.0548 - acc: 0.9819 - val_loss: 0.2958 - val_acc: 0.9241\n",
      "Epoch 6/10\n",
      "3240000/3240000 [==============================] - 1134s 350us/step - loss: 0.0418 - acc: 0.9863 - val_loss: 0.3902 - val_acc: 0.9136\n",
      "Epoch 7/10\n",
      "3240000/3240000 [==============================] - 1133s 350us/step - loss: 0.0339 - acc: 0.9890 - val_loss: 0.3891 - val_acc: 0.9190\n",
      "Epoch 8/10\n",
      "3240000/3240000 [==============================] - 1135s 350us/step - loss: 0.0288 - acc: 0.9907 - val_loss: 0.4341 - val_acc: 0.9185\n",
      "Epoch 9/10\n",
      "3240000/3240000 [==============================] - 1130s 349us/step - loss: 0.0257 - acc: 0.9918 - val_loss: 0.4970 - val_acc: 0.9148\n",
      "Epoch 10/10\n",
      "3240000/3240000 [==============================] - 1129s 349us/step - loss: 0.0229 - acc: 0.9928 - val_loss: 0.5231 - val_acc: 0.9161\n"
     ]
    }
   ],
   "source": [
    "# Parameter Selection\n",
    "\n",
    "from keras.layers import Dense, Input, Flatten, Dropout\n",
    "from keras.layers import Conv1D, MaxPooling1D, Embedding\n",
    "from keras.models import Sequential\n",
    "\n",
    "cnn = Sequential()\n",
    "cnn.add(Embedding(len(word_index)+1, EMBEDDING_DIM, input_length=MAX_SEQUENCE_LENGTH))\n",
    "cnn.add(Conv1D(256, 3, padding='valid', activation='elu', strides=1))\n",
    "cnn.add(MaxPooling1D(3))\n",
    "# cnn.add(Dropout(0.2))\n",
    "cnn.add(Flatten())\n",
    "# cnn.add(Dense(EMBEDDING_DIM, activation='elu'))    # Rapid convergence\n",
    "cnn.add(Dense(2, activation='sigmoid'))              # Polarity classification\n",
    "cnn.summary()\n",
    "\n",
    "cnn.compile(loss='binary_crossentropy', optimizer='adam', metrics=['acc'])\n",
    "history = cnn.fit(x_train, y_train, validation_data=(x_val, y_val), epochs=10, batch_size=512)"
   ]
  },
  {
   "cell_type": "code",
   "execution_count": 0,
   "metadata": {
    "colab": {},
    "colab_type": "code",
    "id": "74hlXDTut76a"
   },
   "outputs": [],
   "source": [
    "def plot_graphs(history, string):\n",
    "    fig, ax= plt.subplots(figsize=(16,5))\n",
    "    plt.plot(history.history[string])\n",
    "    plt.plot(history.history['val_'+string])\n",
    "    plt.xlabel(\"Epochs\")\n",
    "    plt.ylabel(string)\n",
    "    plt.legend([string, 'val_'+string])\n",
    "    plt.show()"
   ]
  },
  {
   "cell_type": "code",
   "execution_count": 0,
   "metadata": {
    "colab": {
     "base_uri": "https://localhost:8080/",
     "height": 707
    },
    "colab_type": "code",
    "id": "6W4gXs7qw2ma",
    "outputId": "3f7991a6-dc9a-4f80-821f-6eaa6a679e64"
   },
   "outputs": [
    {
     "data": {
      "image/png": "[encoded data removed]",
      "text/plain": [
       "<Figure size 1152x360 with 1 Axes>"
      ]
     },
     "metadata": {
      "tags": []
     },
     "output_type": "display_data"
    },
    {
     "name": "stdout",
     "output_type": "stream",
     "text": [
      "Minimum val_loss: 0.20049200122356414 Epoch: 2\n"
     ]
    },
    {
     "data": {
      "image/png": "[encoded data removed]",
      "text/plain": [
       "<Figure size 1152x360 with 1 Axes>"
      ]
     },
     "metadata": {
      "tags": []
     },
     "output_type": "display_data"
    },
    {
     "name": "stdout",
     "output_type": "stream",
     "text": [
      "Maximum val_acc: 0.9307319444444444 Epoch: 2\n"
     ]
    }
   ],
   "source": [
    "plot_graphs(history, 'loss')\n",
    "print(\"Minimum val_loss:\",min(history.history['val_loss']),\"Epoch:\",history.history['val_loss'].index(min(history.history['val_loss']))+1)\n",
    "plot_graphs(history, 'acc')\n",
    "print(\"Maximum val_acc:\",max(history.history['val_acc']),\"Epoch:\",history.history['val_acc'].index(max(history.history['val_acc']))+1)\n",
    "pd.DataFrame(history.history).to_csv('./[NN]history.csv',index=0)"
   ]
  },
  {
   "cell_type": "code",
   "execution_count": 0,
   "metadata": {
    "colab": {
     "base_uri": "https://localhost:8080/",
     "height": 51
    },
    "colab_type": "code",
    "id": "_vH_rQEtuBkE",
    "outputId": "d2da57b1-5ce7-449a-c414-2531f5602292"
   },
   "outputs": [
    {
     "name": "stderr",
     "output_type": "stream",
     "text": [
      "100%|██████████| 926452/926452 [00:01<00:00, 476739.75it/s]"
     ]
    },
    {
     "name": "stdout",
     "output_type": "stream",
     "text": [
      "Time Spent: 201.3369174003601 s\n"
     ]
    },
    {
     "name": "stderr",
     "output_type": "stream",
     "text": [
      "\n"
     ]
    }
   ],
   "source": [
    "# Twitter 200d w2v model\n",
    "# from keras.layers import Embedding\n",
    "t0 = time()\n",
    "\n",
    "from keras.layers import Embedding\n",
    "from gensim.models import KeyedVectors\n",
    "\n",
    "tmp_file = (\"./w2v.twitter.27B.200d.txt\")\n",
    "w2v_model = KeyedVectors.load_word2vec_format(tmp_file)\n",
    "embedding_matrix = np.zeros((len(word_index) + 1, EMBEDDING_DIM))\n",
    "\n",
    "for word, i in tqdm(word_index.items()): \n",
    "    if str(word) in w2v_model:\n",
    "        embedding_matrix[i] = np.asarray(w2v_model[str(word)],\n",
    "                                         dtype='float32')\n",
    "embedding_layer = Embedding(len(word_index) + 1,\n",
    "                            EMBEDDING_DIM,\n",
    "                            weights=[embedding_matrix],\n",
    "                            input_length=MAX_SEQUENCE_LENGTH,\n",
    "                            trainable=True)\n",
    "\n",
    "print('Time Spent:', time()-t0, 's')"
   ]
  },
  {
   "cell_type": "code",
   "execution_count": 0,
   "metadata": {
    "colab": {
     "base_uri": "https://localhost:8080/",
     "height": 122
    },
    "colab_type": "code",
    "id": "_VTsca1p91Ji",
    "outputId": "1f50b6a9-a56b-47bc-8bbf-bfe5f473254d"
   },
   "outputs": [
    {
     "name": "stderr",
     "output_type": "stream",
     "text": [
      "100%|██████████| 926452/926452 [00:01<00:00, 695094.21it/s]\n",
      "WARNING: Logging before flag parsing goes to stderr.\n",
      "W0824 09:40:02.844933 140265497880448 deprecation_wrapper.py:119] From /usr/local/lib/python3.6/dist-packages/keras/backend/tensorflow_backend.py:74: The name tf.get_default_graph is deprecated. Please use tf.compat.v1.get_default_graph instead.\n",
      "\n"
     ]
    },
    {
     "name": "stdout",
     "output_type": "stream",
     "text": [
      "Time Spent: 31.181844234466553 s\n"
     ]
    }
   ],
   "source": [
    "# Self-trained Word2vec\n",
    "t0 = time()\n",
    "\n",
    "from keras.layers import Embedding\n",
    "from gensim.models import KeyedVectors\n",
    "\n",
    "tmp_file = (\"./w2vmodel.txt\")\n",
    "w2v_model = KeyedVectors.load_word2vec_format(tmp_file)\n",
    "embedding_matrix = np.zeros((len(word_index) + 1, EMBEDDING_DIM))\n",
    "\n",
    "for word, i in tqdm(word_index.items()): \n",
    "    if str(word) in w2v_model:\n",
    "        embedding_matrix[i] = np.asarray(w2v_model[str(word)],\n",
    "                                         dtype='float32')\n",
    "embedding_layer_self = Embedding(len(word_index) + 1,\n",
    "                            EMBEDDING_DIM,\n",
    "                            weights=[embedding_matrix],\n",
    "                            input_length=MAX_SEQUENCE_LENGTH,\n",
    "                            trainable=True)\n",
    "\n",
    "print('Time Spent:', time()-t0, 's')"
   ]
  },
  {
   "cell_type": "markdown",
   "metadata": {
    "colab_type": "text",
    "id": "onzkxEZyuBkF"
   },
   "source": [
    "## CNN"
   ]
  },
  {
   "cell_type": "code",
   "execution_count": 0,
   "metadata": {
    "ExecuteTime": {
     "end_time": "2019-08-03T20:40:28.092994Z",
     "start_time": "2019-08-03T20:40:28.089604Z"
    },
    "colab": {
     "base_uri": "https://localhost:8080/",
     "height": 819
    },
    "colab_type": "code",
    "id": "M7OPtkgoLRLI",
    "outputId": "0202b7c3-7171-4b5a-c2ac-fa493a36ac36"
   },
   "outputs": [
    {
     "name": "stderr",
     "output_type": "stream",
     "text": [
      "WARNING: Logging before flag parsing goes to stderr.\n",
      "W0823 11:19:03.677514 139648943888256 deprecation_wrapper.py:119] From /usr/local/lib/python3.6/dist-packages/keras/backend/tensorflow_backend.py:74: The name tf.get_default_graph is deprecated. Please use tf.compat.v1.get_default_graph instead.\n",
      "\n",
      "W0823 11:19:03.723797 139648943888256 deprecation_wrapper.py:119] From /usr/local/lib/python3.6/dist-packages/keras/backend/tensorflow_backend.py:517: The name tf.placeholder is deprecated. Please use tf.compat.v1.placeholder instead.\n",
      "\n",
      "W0823 11:19:03.730159 139648943888256 deprecation_wrapper.py:119] From /usr/local/lib/python3.6/dist-packages/keras/backend/tensorflow_backend.py:4138: The name tf.random_uniform is deprecated. Please use tf.random.uniform instead.\n",
      "\n",
      "W0823 11:19:03.771560 139648943888256 deprecation_wrapper.py:119] From /usr/local/lib/python3.6/dist-packages/keras/backend/tensorflow_backend.py:3976: The name tf.nn.max_pool is deprecated. Please use tf.nn.max_pool2d instead.\n",
      "\n"
     ]
    },
    {
     "name": "stdout",
     "output_type": "stream",
     "text": [
      "_________________________________________________________________\n",
      "Layer (type)                 Output Shape              Param #   \n",
      "=================================================================\n",
      "embedding_1 (Embedding)      (None, 256, 200)          185290600 \n",
      "_________________________________________________________________\n",
      "conv1d_1 (Conv1D)            (None, 254, 256)          153856    \n",
      "_________________________________________________________________\n",
      "max_pooling1d_1 (MaxPooling1 (None, 84, 256)           0         \n",
      "_________________________________________________________________\n",
      "flatten_1 (Flatten)          (None, 21504)             0         \n",
      "_________________________________________________________________\n",
      "dense_1 (Dense)              (None, 2)                 43010     \n",
      "=================================================================\n",
      "Total params: 185,487,466\n",
      "Trainable params: 185,487,466\n",
      "Non-trainable params: 0\n",
      "_________________________________________________________________\n"
     ]
    },
    {
     "name": "stderr",
     "output_type": "stream",
     "text": [
      "W0823 11:19:04.606968 139648943888256 deprecation_wrapper.py:119] From /usr/local/lib/python3.6/dist-packages/keras/optimizers.py:790: The name tf.train.Optimizer is deprecated. Please use tf.compat.v1.train.Optimizer instead.\n",
      "\n",
      "W0823 11:19:04.629416 139648943888256 deprecation_wrapper.py:119] From /usr/local/lib/python3.6/dist-packages/keras/backend/tensorflow_backend.py:3376: The name tf.log is deprecated. Please use tf.math.log instead.\n",
      "\n",
      "W0823 11:19:04.634151 139648943888256 deprecation.py:323] From /usr/local/lib/python3.6/dist-packages/tensorflow/python/ops/nn_impl.py:180: add_dispatch_support.<locals>.wrapper (from tensorflow.python.ops.array_ops) is deprecated and will be removed in a future version.\n",
      "Instructions for updating:\n",
      "Use tf.where in 2.0, which has the same broadcast rule as np.where\n",
      "W0823 11:19:04.850162 139648943888256 deprecation_wrapper.py:119] From /usr/local/lib/python3.6/dist-packages/keras/backend/tensorflow_backend.py:986: The name tf.assign_add is deprecated. Please use tf.compat.v1.assign_add instead.\n",
      "\n"
     ]
    },
    {
     "name": "stdout",
     "output_type": "stream",
     "text": [
      "Train on 3240000 samples, validate on 360000 samples\n",
      "Epoch 1/2\n",
      "3240000/3240000 [==============================] - 1141s 352us/step - loss: 0.2093 - acc: 0.9198 - val_loss: 0.2102 - val_acc: 0.9218\n",
      "Epoch 2/2\n",
      "3240000/3240000 [==============================] - 1140s 352us/step - loss: 0.1488 - acc: 0.9467 - val_loss: 0.1864 - val_acc: 0.9321\n",
      "400000/400000 [==============================] - 25s 63us/step\n",
      "[Test] Loss: 0.18622809453539552\n",
      "[Test] Accuracy: 0.93183125\n",
      "[[189015  10985]\n",
      " [ 16329 183671]]\n",
      "Time Spent: 2330.964825630188 s\n"
     ]
    }
   ],
   "source": [
    "# CNN + One-hot\n",
    "cnn_t0 = time()\n",
    "\n",
    "from keras.layers import Dense, Input, Flatten, Dropout\n",
    "from keras.layers import Conv1D, MaxPooling1D, Embedding\n",
    "from keras.models import Sequential\n",
    "\n",
    "cnn = Sequential()\n",
    "cnn.add(Embedding(len(word_index)+1, EMBEDDING_DIM, input_length=MAX_SEQUENCE_LENGTH))\n",
    "cnn.add(Conv1D(256, 3, padding='valid', activation='elu', strides=1))\n",
    "cnn.add(MaxPooling1D(3))\n",
    "# cnn.add(Dropout(0.2))\n",
    "cnn.add(Flatten())\n",
    "# cnn.add(Dense(EMBEDDING_DIM, activation='elu'))    # Rapid convergence\n",
    "cnn.add(Dense(2, activation='sigmoid'))              # Polarity classification\n",
    "cnn.summary()\n",
    "plot_model(cnn, to_file=\"cnn1.png\", show_shapes=True)\n",
    "\n",
    "cnn.compile(loss='binary_crossentropy', optimizer='adam', metrics=['acc'])\n",
    "history = cnn.fit(x_train, y_train, validation_data=(x_val, y_val), epochs=2, batch_size=512)\n",
    "\n",
    "# Result: CNN + One-hot \n",
    "cnn_result = cnn.evaluate(x_test, y_test)\n",
    "print('[Test] Loss:', cnn_result[0])\n",
    "print('[Test] Accuracy:', cnn_result[1])\n",
    "y_pred = cnn.predict(x_test) > 0.5\n",
    "print(metrics.confusion_matrix(y_test.argmax(axis=1),y_pred.argmax(axis=1)))\n",
    "cnn_t1 = time()-cnn_t0\n",
    "print('Time Spent:', cnn_t1, 's')"
   ]
  },
  {
   "cell_type": "code",
   "execution_count": 0,
   "metadata": {
    "colab": {
     "base_uri": "https://localhost:8080/",
     "height": 768
    },
    "colab_type": "code",
    "id": "uljIEfrvuBkG",
    "outputId": "86a235e9-5224-4e91-ebd4-1014ac83a9f3"
   },
   "outputs": [
    {
     "name": "stderr",
     "output_type": "stream",
     "text": [
      "W0823 14:25:29.656657 139780942600064 deprecation_wrapper.py:119] From /usr/local/lib/python3.6/dist-packages/keras/backend/tensorflow_backend.py:517: The name tf.placeholder is deprecated. Please use tf.compat.v1.placeholder instead.\n",
      "\n",
      "W0823 14:25:29.683281 139780942600064 deprecation_wrapper.py:119] From /usr/local/lib/python3.6/dist-packages/keras/backend/tensorflow_backend.py:4138: The name tf.random_uniform is deprecated. Please use tf.random.uniform instead.\n",
      "\n",
      "W0823 14:25:29.698640 139780942600064 deprecation_wrapper.py:119] From /usr/local/lib/python3.6/dist-packages/keras/backend/tensorflow_backend.py:174: The name tf.get_default_session is deprecated. Please use tf.compat.v1.get_default_session instead.\n",
      "\n",
      "W0823 14:25:29.699560 139780942600064 deprecation_wrapper.py:119] From /usr/local/lib/python3.6/dist-packages/keras/backend/tensorflow_backend.py:181: The name tf.ConfigProto is deprecated. Please use tf.compat.v1.ConfigProto instead.\n",
      "\n",
      "W0823 14:25:35.301361 139780942600064 deprecation_wrapper.py:119] From /usr/local/lib/python3.6/dist-packages/keras/backend/tensorflow_backend.py:3976: The name tf.nn.max_pool is deprecated. Please use tf.nn.max_pool2d instead.\n",
      "\n"
     ]
    },
    {
     "name": "stdout",
     "output_type": "stream",
     "text": [
      "_________________________________________________________________\n",
      "Layer (type)                 Output Shape              Param #   \n",
      "=================================================================\n",
      "embedding_1 (Embedding)      (None, 256, 200)          185290600 \n",
      "_________________________________________________________________\n",
      "conv1d_1 (Conv1D)            (None, 254, 256)          153856    \n",
      "_________________________________________________________________\n",
      "max_pooling1d_1 (MaxPooling1 (None, 84, 256)           0         \n",
      "_________________________________________________________________\n",
      "flatten_1 (Flatten)          (None, 21504)             0         \n",
      "_________________________________________________________________\n",
      "dense_1 (Dense)              (None, 2)                 43010     \n",
      "=================================================================\n",
      "Total params: 185,487,466\n",
      "Trainable params: 185,487,466\n",
      "Non-trainable params: 0\n",
      "_________________________________________________________________\n"
     ]
    },
    {
     "name": "stderr",
     "output_type": "stream",
     "text": [
      "W0823 14:25:36.357084 139780942600064 deprecation_wrapper.py:119] From /usr/local/lib/python3.6/dist-packages/keras/optimizers.py:790: The name tf.train.Optimizer is deprecated. Please use tf.compat.v1.train.Optimizer instead.\n",
      "\n",
      "W0823 14:25:36.384647 139780942600064 deprecation.py:323] From /usr/local/lib/python3.6/dist-packages/tensorflow/python/ops/nn_impl.py:180: add_dispatch_support.<locals>.wrapper (from tensorflow.python.ops.array_ops) is deprecated and will be removed in a future version.\n",
      "Instructions for updating:\n",
      "Use tf.where in 2.0, which has the same broadcast rule as np.where\n"
     ]
    },
    {
     "name": "stdout",
     "output_type": "stream",
     "text": [
      "Train on 3240000 samples, validate on 360000 samples\n",
      "Epoch 1/2\n",
      "3240000/3240000 [==============================] - 1127s 348us/step - loss: 0.2160 - acc: 0.9174 - val_loss: 0.1806 - val_acc: 0.9336\n",
      "Epoch 2/2\n",
      "3240000/3240000 [==============================] - 1121s 346us/step - loss: 0.1603 - acc: 0.9422 - val_loss: 0.1896 - val_acc: 0.9320\n",
      "400000/400000 [==============================] - 27s 66us/step\n",
      "[Test] Loss: 0.18906067666891962\n",
      "[Test] Accuracy: 0.931125\n",
      "[[181469  18531]\n",
      " [  8990 191010]]\n",
      "Time Spent: 2304.701714992523 s\n"
     ]
    }
   ],
   "source": [
    "# CNN + Word2vec\n",
    "cnn_t0 = time()\n",
    "\n",
    "from keras.layers import Dense, Input, Flatten, Dropout\n",
    "from keras.layers import Conv1D, MaxPooling1D, Embedding\n",
    "from keras.models import Sequential\n",
    "\n",
    "cnn = Sequential()\n",
    "cnn.add(embedding_layer)\n",
    "cnn.add(Conv1D(256, 3, padding='valid', activation='elu', strides=1))\n",
    "cnn.add(MaxPooling1D(3))\n",
    "# cnn.add(Dropout(0.2))\n",
    "cnn.add(Flatten())\n",
    "# cnn.add(Dense(EMBEDDING_DIM, activation='elu'))    # Rapid convergence\n",
    "cnn.add(Dense(2, activation='sigmoid'))              # Polarity classification\n",
    "cnn.summary()\n",
    "plot_model(cnn, to_file=\"cnn2.png\", show_shapes=True)\n",
    "cnn.compile(loss='binary_crossentropy', optimizer='adam', metrics=['acc'])\n",
    "history = cnn.fit(x_train, y_train, validation_data=(x_val, y_val), epochs=2, batch_size=512)\n",
    "\n",
    "# Result: CNN + Word2vec\n",
    "cnn_result = cnn.evaluate(x_test, y_test)\n",
    "print('[Test] Loss:', cnn_result[0])\n",
    "print('[Test] Accuracy:', cnn_result[1])\n",
    "\n",
    "y_pred = cnn.predict(x_test) > 0.5\n",
    "print(metrics.confusion_matrix(y_test.argmax(axis=1),y_pred.argmax(axis=1)))\n",
    "cnn_t1 = time()-cnn_t0\n",
    "print('Time Spent:', cnn_t1, 's')"
   ]
  },
  {
   "cell_type": "code",
   "execution_count": 0,
   "metadata": {
    "colab": {
     "base_uri": "https://localhost:8080/",
     "height": 768
    },
    "colab_type": "code",
    "id": "WltSFQOU91Jp",
    "outputId": "93813293-c1d7-4cc7-bfba-9e29fa2f1c17"
   },
   "outputs": [
    {
     "name": "stderr",
     "output_type": "stream",
     "text": [
      "W0823 17:21:21.351888 139632507221888 deprecation_wrapper.py:119] From /usr/local/lib/python3.6/dist-packages/keras/backend/tensorflow_backend.py:517: The name tf.placeholder is deprecated. Please use tf.compat.v1.placeholder instead.\n",
      "\n",
      "W0823 17:21:21.365267 139632507221888 deprecation_wrapper.py:119] From /usr/local/lib/python3.6/dist-packages/keras/backend/tensorflow_backend.py:4138: The name tf.random_uniform is deprecated. Please use tf.random.uniform instead.\n",
      "\n",
      "W0823 17:21:21.374579 139632507221888 deprecation_wrapper.py:119] From /usr/local/lib/python3.6/dist-packages/keras/backend/tensorflow_backend.py:174: The name tf.get_default_session is deprecated. Please use tf.compat.v1.get_default_session instead.\n",
      "\n",
      "W0823 17:21:21.375525 139632507221888 deprecation_wrapper.py:119] From /usr/local/lib/python3.6/dist-packages/keras/backend/tensorflow_backend.py:181: The name tf.ConfigProto is deprecated. Please use tf.compat.v1.ConfigProto instead.\n",
      "\n",
      "W0823 17:21:26.086908 139632507221888 deprecation_wrapper.py:119] From /usr/local/lib/python3.6/dist-packages/keras/backend/tensorflow_backend.py:3976: The name tf.nn.max_pool is deprecated. Please use tf.nn.max_pool2d instead.\n",
      "\n"
     ]
    },
    {
     "name": "stdout",
     "output_type": "stream",
     "text": [
      "_________________________________________________________________\n",
      "Layer (type)                 Output Shape              Param #   \n",
      "=================================================================\n",
      "embedding_1 (Embedding)      (None, 256, 200)          185290600 \n",
      "_________________________________________________________________\n",
      "conv1d_1 (Conv1D)            (None, 254, 256)          153856    \n",
      "_________________________________________________________________\n",
      "max_pooling1d_1 (MaxPooling1 (None, 84, 256)           0         \n",
      "_________________________________________________________________\n",
      "flatten_1 (Flatten)          (None, 21504)             0         \n",
      "_________________________________________________________________\n",
      "dense_1 (Dense)              (None, 2)                 43010     \n",
      "=================================================================\n",
      "Total params: 185,487,466\n",
      "Trainable params: 185,487,466\n",
      "Non-trainable params: 0\n",
      "_________________________________________________________________\n"
     ]
    },
    {
     "name": "stderr",
     "output_type": "stream",
     "text": [
      "W0823 17:21:27.019447 139632507221888 deprecation_wrapper.py:119] From /usr/local/lib/python3.6/dist-packages/keras/optimizers.py:790: The name tf.train.Optimizer is deprecated. Please use tf.compat.v1.train.Optimizer instead.\n",
      "\n",
      "W0823 17:21:27.042015 139632507221888 deprecation.py:323] From /usr/local/lib/python3.6/dist-packages/tensorflow/python/ops/nn_impl.py:180: add_dispatch_support.<locals>.wrapper (from tensorflow.python.ops.array_ops) is deprecated and will be removed in a future version.\n",
      "Instructions for updating:\n",
      "Use tf.where in 2.0, which has the same broadcast rule as np.where\n"
     ]
    },
    {
     "name": "stdout",
     "output_type": "stream",
     "text": [
      "Train on 3240000 samples, validate on 360000 samples\n",
      "Epoch 1/2\n",
      "3240000/3240000 [==============================] - 1134s 350us/step - loss: 0.2286 - acc: 0.9151 - val_loss: 0.1884 - val_acc: 0.9312\n",
      "Epoch 2/2\n",
      "3240000/3240000 [==============================] - 1129s 348us/step - loss: 0.1789 - acc: 0.9360 - val_loss: 0.1850 - val_acc: 0.9330\n",
      "400000/400000 [==============================] - 27s 69us/step\n",
      "[Test] Loss: 0.1861464353058487\n",
      "[Test] Accuracy: 0.93218625\n",
      "[[180741  19259]\n",
      " [  7810 192190]]\n",
      "Time Spent: 2320.072587966919 s\n"
     ]
    }
   ],
   "source": [
    "# CNN + Self-trained Word2vec\n",
    "cnn_t0 = time()\n",
    "\n",
    "from keras.layers import Dense, Input, Flatten, Dropout\n",
    "from keras.layers import Conv1D, MaxPooling1D, Embedding\n",
    "from keras.models import Sequential\n",
    "\n",
    "cnn = Sequential()\n",
    "cnn.add(embedding_layer_self)\n",
    "cnn.add(Conv1D(256, 3, padding='valid', activation='elu', strides=1))\n",
    "cnn.add(MaxPooling1D(3))\n",
    "# cnn.add(Dropout(0.2))\n",
    "cnn.add(Flatten())\n",
    "# cnn.add(Dense(EMBEDDING_DIM, activation='elu'))    # Rapid convergence\n",
    "cnn.add(Dense(2, activation='sigmoid'))              # Polarity classification\n",
    "cnn.summary()\n",
    "plot_model(cnn, to_file=\"cnn3.png\", show_shapes=True)\n",
    "cnn.compile(loss='binary_crossentropy', optimizer='adam', metrics=['acc'])\n",
    "history = cnn.fit(x_train, y_train, validation_data=(x_val, y_val), epochs=2, batch_size=512)\n",
    "\n",
    "# Result: CNN + Word2vec\n",
    "cnn_result = cnn.evaluate(x_test, y_test)\n",
    "print('[Test] Loss:', cnn_result[0])\n",
    "print('[Test] Accuracy:', cnn_result[1])\n",
    "\n",
    "y_pred = cnn.predict(x_test) > 0.5\n",
    "print(metrics.confusion_matrix(y_test.argmax(axis=1),y_pred.argmax(axis=1)))\n",
    "cnn_t1 = time()-cnn_t0\n",
    "print('Time Spent:', cnn_t1, 's')"
   ]
  },
  {
   "cell_type": "markdown",
   "metadata": {
    "colab_type": "text",
    "id": "1Cu36-nZuBkH"
   },
   "source": [
    "## LSTM (RNN)"
   ]
  },
  {
   "cell_type": "code",
   "execution_count": 0,
   "metadata": {
    "ExecuteTime": {
     "end_time": "2019-08-03T20:40:48.787635Z",
     "start_time": "2019-08-03T20:40:48.784043Z"
    },
    "colab": {
     "base_uri": "https://localhost:8080/",
     "height": 445
    },
    "colab_type": "code",
    "id": "iabzykgNLRLM",
    "outputId": "7ea66e2a-063a-44f9-a421-583e3eb32108"
   },
   "outputs": [
    {
     "name": "stdout",
     "output_type": "stream",
     "text": [
      "_________________________________________________________________\n",
      "Layer (type)                 Output Shape              Param #   \n",
      "=================================================================\n",
      "embedding_2 (Embedding)      (None, 256, 200)          185290600 \n",
      "_________________________________________________________________\n",
      "cu_dnnlstm_1 (CuDNNLSTM)     (None, 256)               468992    \n",
      "_________________________________________________________________\n",
      "dense_2 (Dense)              (None, 2)                 514       \n",
      "=================================================================\n",
      "Total params: 185,760,106\n",
      "Trainable params: 185,760,106\n",
      "Non-trainable params: 0\n",
      "_________________________________________________________________\n",
      "Train on 3240000 samples, validate on 360000 samples\n",
      "Epoch 1/2\n",
      "3240000/3240000 [==============================] - 1794s 554us/step - loss: 0.1670 - acc: 0.9358 - val_loss: 0.1398 - val_acc: 0.9484\n",
      "Epoch 2/2\n",
      "3240000/3240000 [==============================] - 1796s 554us/step - loss: 0.1132 - acc: 0.9592 - val_loss: 0.1266 - val_acc: 0.9542\n",
      "400000/400000 [==============================] - 81s 204us/step\n",
      "[Test] Loss: 0.1280182623276487\n",
      "[Test] Accuracy: 0.9536625\n",
      "[[192206   7794]\n",
      " [ 10765 189235]]\n",
      "Time Spent: 3751.9600896835327 s\n"
     ]
    }
   ],
   "source": [
    "# LSTM + One-hot\n",
    "lstm_t0 = time()\n",
    "\n",
    "from keras.layers import Dense, Input, Flatten, Dropout\n",
    "from keras.layers import CuDNNLSTM, MaxPooling1D, Embedding\n",
    "from keras.models import Sequential\n",
    "\n",
    "lstm = Sequential()\n",
    "lstm.add(Embedding(len(word_index)+1, EMBEDDING_DIM, input_length=MAX_SEQUENCE_LENGTH))\n",
    "lstm.add(CuDNNLSTM(256)) # , dropout=0.2, recurrent_dropout=0.2\n",
    "# lstm.add(Dropout(0.2))\n",
    "# lstm.add(Dense(EMBEDDING_DIM, activation='elu'))\n",
    "lstm.add(Dense(2, activation='sigmoid'))\n",
    "lstm.summary()\n",
    "plot_model(lstm, to_file=\"lstm1.png\", show_shapes=True)\n",
    "lstm.compile(loss='binary_crossentropy', optimizer='adam', metrics=['acc'])\n",
    "history = lstm.fit(x_train, y_train, validation_data=(x_val, y_val), epochs=2, batch_size=512)\n",
    "\n",
    "# Result: LSTM + One-hot\n",
    "lstm_result = lstm.evaluate(x_test, y_test)\n",
    "print('[Test] Loss:', lstm_result[0])\n",
    "print('[Test] Accuracy:', lstm_result[1])\n",
    "\n",
    "y_pred = lstm.predict(x_test) > 0.5\n",
    "print(metrics.confusion_matrix(y_test.argmax(axis=1),y_pred.argmax(axis=1)))\n",
    "lstm_t1 = time() - lstm_t0\n",
    "print('Time Spent:', lstm_t1, 's')"
   ]
  },
  {
   "cell_type": "code",
   "execution_count": 0,
   "metadata": {
    "colab": {
     "base_uri": "https://localhost:8080/",
     "height": 445
    },
    "colab_type": "code",
    "id": "Ozt2Jo1OuBkI",
    "outputId": "80d9281b-fffb-4f98-ad3b-849c48d34d6b"
   },
   "outputs": [
    {
     "name": "stdout",
     "output_type": "stream",
     "text": [
      "_________________________________________________________________\n",
      "Layer (type)                 Output Shape              Param #   \n",
      "=================================================================\n",
      "embedding_1 (Embedding)      (None, 256, 200)          185290600 \n",
      "_________________________________________________________________\n",
      "cu_dnnlstm_1 (CuDNNLSTM)     (None, 256)               468992    \n",
      "_________________________________________________________________\n",
      "dense_2 (Dense)              (None, 2)                 514       \n",
      "=================================================================\n",
      "Total params: 185,760,106\n",
      "Trainable params: 185,760,106\n",
      "Non-trainable params: 0\n",
      "_________________________________________________________________\n",
      "Train on 3240000 samples, validate on 360000 samples\n",
      "Epoch 1/2\n",
      "3240000/3240000 [==============================] - 1744s 538us/step - loss: 0.1304 - acc: 0.9521 - val_loss: 0.1274 - val_acc: 0.9531\n",
      "Epoch 2/2\n",
      "3240000/3240000 [==============================] - 1741s 537us/step - loss: 0.0882 - acc: 0.9693 - val_loss: 0.1402 - val_acc: 0.9500\n",
      "400000/400000 [==============================] - 79s 198us/step\n",
      "[Test] Loss: 0.13970983205305412\n",
      "[Test] Accuracy: 0.95093125\n",
      "[[186751  13249]\n",
      " [  6315 193685]]\n",
      "Time Spent: 3642.7157187461853 s\n"
     ]
    }
   ],
   "source": [
    "# LSTM + Word2vec\n",
    "lstm_t0 = time()\n",
    "\n",
    "from keras.layers import Dense, Input, Flatten, Dropout\n",
    "from keras.layers import CuDNNLSTM, MaxPooling1D, Embedding\n",
    "from keras.models import Sequential\n",
    "\n",
    "lstm = Sequential()\n",
    "lstm.add(embedding_layer)\n",
    "lstm.add(CuDNNLSTM(256)) # , dropout=0.2, recurrent_dropout=0.2\n",
    "# lstm.add(Dropout(0.2))\n",
    "# lstm.add(Dense(EMBEDDING_DIM, activation='elu'))\n",
    "lstm.add(Dense(2, activation='sigmoid'))\n",
    "lstm.summary()\n",
    "plot_model(lstm, to_file=\"lstm2.png\", show_shapes=True)\n",
    "lstm.compile(loss='binary_crossentropy', optimizer='adam', metrics=['acc'])\n",
    "history = lstm.fit(x_train, y_train, validation_data=(x_val, y_val), epochs=2, batch_size=512)\n",
    "\n",
    "# Result: LSTM + Word2vec\n",
    "lstm_result = lstm.evaluate(x_test, y_test)\n",
    "print('[Test] Loss:', lstm_result[0])\n",
    "print('[Test] Accuracy:', lstm_result[1])\n",
    "\n",
    "y_pred = lstm.predict(x_test) > 0.5\n",
    "print(metrics.confusion_matrix(y_test.argmax(axis=1),y_pred.argmax(axis=1)))\n",
    "lstm_t1 = time() - lstm_t0\n",
    "print('Time Spent:', lstm_t1, 's')"
   ]
  },
  {
   "cell_type": "code",
   "execution_count": 0,
   "metadata": {
    "colab": {
     "base_uri": "https://localhost:8080/",
     "height": 445
    },
    "colab_type": "code",
    "id": "zMth4u-B91Jv",
    "outputId": "2b8e92a8-4f7a-4d9d-aa38-adf099064c3a"
   },
   "outputs": [
    {
     "name": "stdout",
     "output_type": "stream",
     "text": [
      "_________________________________________________________________\n",
      "Layer (type)                 Output Shape              Param #   \n",
      "=================================================================\n",
      "embedding_1 (Embedding)      (None, 256, 200)          185290600 \n",
      "_________________________________________________________________\n",
      "cu_dnnlstm_1 (CuDNNLSTM)     (None, 256)               468992    \n",
      "_________________________________________________________________\n",
      "dense_2 (Dense)              (None, 2)                 514       \n",
      "=================================================================\n",
      "Total params: 185,760,106\n",
      "Trainable params: 185,760,106\n",
      "Non-trainable params: 0\n",
      "_________________________________________________________________\n",
      "Train on 3240000 samples, validate on 360000 samples\n",
      "Epoch 1/2\n",
      "3240000/3240000 [==============================] - 1769s 546us/step - loss: 0.1341 - acc: 0.9503 - val_loss: 0.1274 - val_acc: 0.9533\n",
      "Epoch 2/2\n",
      "3240000/3240000 [==============================] - 1765s 545us/step - loss: 0.0969 - acc: 0.9659 - val_loss: 0.1318 - val_acc: 0.9530\n",
      "400000/400000 [==============================] - 81s 204us/step\n",
      "[Test] Loss: 0.13407839824458584\n",
      "[Test] Accuracy: 0.95257875\n",
      "[[191213   8787]\n",
      " [ 10183 189817]]\n",
      "Time Spent: 3695.537495136261 s\n"
     ]
    }
   ],
   "source": [
    "# LSTM + Self-trained Word2vec\n",
    "lstm_t0 = time()\n",
    "\n",
    "from keras.layers import Dense, Input, Flatten, Dropout\n",
    "from keras.layers import CuDNNLSTM, MaxPooling1D, Embedding\n",
    "from keras.models import Sequential\n",
    "\n",
    "lstm = Sequential()\n",
    "lstm.add(embedding_layer_self)\n",
    "lstm.add(CuDNNLSTM(256)) # , dropout=0.2, recurrent_dropout=0.2\n",
    "# lstm.add(Dropout(0.2))\n",
    "# lstm.add(Dense(EMBEDDING_DIM, activation='elu'))\n",
    "lstm.add(Dense(2, activation='sigmoid'))\n",
    "lstm.summary()\n",
    "plot_model(lstm, to_file=\"lstm3.png\", show_shapes=True)\n",
    "lstm.compile(loss='binary_crossentropy', optimizer='adam', metrics=['acc'])\n",
    "history = lstm.fit(x_train, y_train, validation_data=(x_val, y_val), epochs=2, batch_size=512)\n",
    "\n",
    "# Result: LSTM + Word2vec\n",
    "lstm_result = lstm.evaluate(x_test, y_test)\n",
    "print('[Test] Loss:', lstm_result[0])\n",
    "print('[Test] Accuracy:', lstm_result[1])\n",
    "\n",
    "y_pred = lstm.predict(x_test) > 0.5\n",
    "print(metrics.confusion_matrix(y_test.argmax(axis=1),y_pred.argmax(axis=1)))\n",
    "lstm_t1 = time() - lstm_t0\n",
    "print('Time Spent:', lstm_t1, 's')"
   ]
  },
  {
   "cell_type": "markdown",
   "metadata": {
    "colab_type": "text",
    "id": "MeK0IkIGuBkJ"
   },
   "source": [
    "## CNN + LSTM"
   ]
  },
  {
   "cell_type": "code",
   "execution_count": 0,
   "metadata": {
    "colab": {
     "base_uri": "https://localhost:8080/",
     "height": 751
    },
    "colab_type": "code",
    "id": "4qN81ixS32Um",
    "outputId": "daf96b7d-827c-47ff-e082-659f189a45ef"
   },
   "outputs": [
    {
     "name": "stderr",
     "output_type": "stream",
     "text": [
      "WARNING: Logging before flag parsing goes to stderr.\n",
      "W0824 04:33:08.066802 140095160637312 deprecation_wrapper.py:119] From /usr/local/lib/python3.6/dist-packages/keras/backend/tensorflow_backend.py:74: The name tf.get_default_graph is deprecated. Please use tf.compat.v1.get_default_graph instead.\n",
      "\n",
      "W0824 04:33:08.074267 140095160637312 deprecation_wrapper.py:119] From /usr/local/lib/python3.6/dist-packages/keras/backend/tensorflow_backend.py:517: The name tf.placeholder is deprecated. Please use tf.compat.v1.placeholder instead.\n",
      "\n",
      "W0824 04:33:08.084425 140095160637312 deprecation_wrapper.py:119] From /usr/local/lib/python3.6/dist-packages/keras/backend/tensorflow_backend.py:4138: The name tf.random_uniform is deprecated. Please use tf.random.uniform instead.\n",
      "\n"
     ]
    },
    {
     "name": "stdout",
     "output_type": "stream",
     "text": [
      "_________________________________________________________________\n",
      "Layer (type)                 Output Shape              Param #   \n",
      "=================================================================\n",
      "embedding_1 (Embedding)      (None, 256, 200)          185290600 \n",
      "_________________________________________________________________\n",
      "conv1d_1 (Conv1D)            (None, 254, 256)          153856    \n",
      "_________________________________________________________________\n",
      "cu_dnnlstm_1 (CuDNNLSTM)     (None, 256)               526336    \n",
      "_________________________________________________________________\n",
      "dense_1 (Dense)              (None, 2)                 514       \n",
      "=================================================================\n",
      "Total params: 185,971,306\n",
      "Trainable params: 185,971,306\n",
      "Non-trainable params: 0\n",
      "_________________________________________________________________\n"
     ]
    },
    {
     "name": "stderr",
     "output_type": "stream",
     "text": [
      "W0824 04:33:10.562173 140095160637312 deprecation_wrapper.py:119] From /usr/local/lib/python3.6/dist-packages/keras/optimizers.py:790: The name tf.train.Optimizer is deprecated. Please use tf.compat.v1.train.Optimizer instead.\n",
      "\n",
      "W0824 04:33:10.582514 140095160637312 deprecation_wrapper.py:119] From /usr/local/lib/python3.6/dist-packages/keras/backend/tensorflow_backend.py:3376: The name tf.log is deprecated. Please use tf.math.log instead.\n",
      "\n",
      "W0824 04:33:10.586781 140095160637312 deprecation.py:323] From /usr/local/lib/python3.6/dist-packages/tensorflow/python/ops/nn_impl.py:180: add_dispatch_support.<locals>.wrapper (from tensorflow.python.ops.array_ops) is deprecated and will be removed in a future version.\n",
      "Instructions for updating:\n",
      "Use tf.where in 2.0, which has the same broadcast rule as np.where\n",
      "W0824 04:33:10.885964 140095160637312 deprecation_wrapper.py:119] From /usr/local/lib/python3.6/dist-packages/keras/backend/tensorflow_backend.py:986: The name tf.assign_add is deprecated. Please use tf.compat.v1.assign_add instead.\n",
      "\n"
     ]
    },
    {
     "name": "stdout",
     "output_type": "stream",
     "text": [
      "Train on 3240000 samples, validate on 360000 samples\n",
      "Epoch 1/2\n",
      "3240000/3240000 [==============================] - 2175s 671us/step - loss: 0.1609 - acc: 0.9386 - val_loss: 0.1318 - val_acc: 0.9515\n",
      "Epoch 2/2\n",
      "3240000/3240000 [==============================] - 2177s 672us/step - loss: 0.1130 - acc: 0.9593 - val_loss: 0.1276 - val_acc: 0.9537\n",
      "400000/400000 [==============================] - 95s 237us/step\n",
      "[Test] Loss: 0.12855766020258888\n",
      "[Test] Accuracy: 0.9535225\n",
      "[[191138   8862]\n",
      " [  9732 190268]]\n",
      "Time Spent: 4540.532166004181 s\n"
     ]
    }
   ],
   "source": [
    "# CNN + LSTM + One-hot\n",
    "hy_t0 = time()\n",
    "\n",
    "from keras.layers import Dense, Input, Flatten, Dropout\n",
    "from keras.layers import CuDNNLSTM, Conv1D, MaxPooling1D, Embedding, TimeDistributed\n",
    "from keras.models import Sequential\n",
    "\n",
    "hybrid = Sequential()\n",
    "hybrid.add(Embedding(len(word_index)+1, EMBEDDING_DIM, input_length=MAX_SEQUENCE_LENGTH))\n",
    "hybrid.add(Conv1D(256, 3, activation='elu'))\n",
    "# hybrid.add(MaxPooling1D(pool_size=3))\n",
    "# hybrid.add(Dropout(0.2))\n",
    "hybrid.add(CuDNNLSTM(256)) # , dropout=0.2, recurrent_dropout=0.2\n",
    "# hybrid.add(Dense(EMBEDDING_DIM, activation='elu'))\n",
    "hybrid.add(Dense(2, activation='sigmoid'))\n",
    "hybrid.summary()\n",
    "plot_model(hybrid, to_file=\"hybrid1.png\", show_shapes=True)\n",
    "hybrid.compile(loss='binary_crossentropy', optimizer='adam', metrics=['acc'])\n",
    "history = hybrid.fit(x_train, y_train, validation_data=(x_val, y_val), epochs=2, batch_size=512)\n",
    "\n",
    "# Result: CNN + LSTM + One-hot\n",
    "hy_result = hybrid.evaluate(x_test, y_test)\n",
    "print('[Test] Loss:', hy_result[0])\n",
    "print('[Test] Accuracy:', hy_result[1])\n",
    "\n",
    "y_pred = hybrid.predict(x_test) > 0.5\n",
    "print(metrics.confusion_matrix(y_test.argmax(axis=1),y_pred.argmax(axis=1)))\n",
    "hy_t1 = time() - hy_t0\n",
    "print('Time Spent:', hy_t1, 's')"
   ]
  },
  {
   "cell_type": "code",
   "execution_count": 0,
   "metadata": {
    "colab": {
     "base_uri": "https://localhost:8080/",
     "height": 479
    },
    "colab_type": "code",
    "id": "UKnm_7FSK-cU",
    "outputId": "fe585dac-903c-46e8-ecd9-6b8788370bb2"
   },
   "outputs": [
    {
     "name": "stdout",
     "output_type": "stream",
     "text": [
      "_________________________________________________________________\n",
      "Layer (type)                 Output Shape              Param #   \n",
      "=================================================================\n",
      "embedding_2 (Embedding)      (None, 256, 200)          185290600 \n",
      "_________________________________________________________________\n",
      "conv1d_2 (Conv1D)            (None, 254, 256)          153856    \n",
      "_________________________________________________________________\n",
      "cu_dnnlstm_2 (CuDNNLSTM)     (None, 256)               526336    \n",
      "_________________________________________________________________\n",
      "dense_2 (Dense)              (None, 2)                 514       \n",
      "=================================================================\n",
      "Total params: 185,971,306\n",
      "Trainable params: 185,971,306\n",
      "Non-trainable params: 0\n",
      "_________________________________________________________________\n",
      "Train on 3240000 samples, validate on 360000 samples\n",
      "Epoch 1/2\n",
      "3240000/3240000 [==============================] - 2155s 665us/step - loss: 0.1572 - acc: 0.9391 - val_loss: 0.1267 - val_acc: 0.9539\n",
      "Epoch 2/2\n",
      "3240000/3240000 [==============================] - 2162s 667us/step - loss: 0.1094 - acc: 0.9607 - val_loss: 0.1218 - val_acc: 0.9556\n",
      "400000/400000 [==============================] - 96s 239us/step\n",
      "[Test] Loss: 0.12217443582326173\n",
      "[Test] Accuracy: 0.95583\n",
      "[[192865   7135]\n",
      " [ 10556 189444]]\n",
      "Time Spent: 4508.213095664978 s\n"
     ]
    }
   ],
   "source": [
    "# CNN + LSTM + Word2vec\n",
    "hy_t0 = time()\n",
    "\n",
    "from keras.layers import Dense, Input, Flatten, Dropout\n",
    "from keras.layers import CuDNNLSTM, Conv1D, MaxPooling1D, Embedding, TimeDistributed\n",
    "from keras.models import Sequential\n",
    "\n",
    "hybrid = Sequential()\n",
    "hybrid.add(embedding_layer)\n",
    "hybrid.add(Conv1D(256, 3, activation='elu'))\n",
    "# hybrid.add(MaxPooling1D(pool_size=3))\n",
    "# hybrid.add(Dropout(0.2))\n",
    "hybrid.add(CuDNNLSTM(256)) # , dropout=0.2, recurrent_dropout=0.2\n",
    "# hybrid.add(Dense(EMBEDDING_DIM, activation='elu'))\n",
    "hybrid.add(Dense(2, activation='sigmoid'))\n",
    "hybrid.summary()\n",
    "plot_model(hybrid, to_file=\"hybrid2.png\", show_shapes=True)\n",
    "hybrid.compile(loss='binary_crossentropy', optimizer='adam', metrics=['acc'])\n",
    "history = hybrid.fit(x_train, y_train, validation_data=(x_val, y_val), epochs=2, batch_size=512)\n",
    "\n",
    "# Result: CNN + LSTM + Word2vec\n",
    "hy_result = hybrid.evaluate(x_test, y_test)\n",
    "print('[Test] Loss:', hy_result[0])\n",
    "print('[Test] Accuracy:', hy_result[1])\n",
    "\n",
    "y_pred = hybrid.predict(x_test) > 0.5\n",
    "print(metrics.confusion_matrix(y_test.argmax(axis=1),y_pred.argmax(axis=1)))\n",
    "hy_t1 = time() - hy_t0\n",
    "print('Time Spent:', hy_t1, 's')"
   ]
  },
  {
   "cell_type": "code",
   "execution_count": 0,
   "metadata": {
    "colab": {
     "base_uri": "https://localhost:8080/",
     "height": 700
    },
    "colab_type": "code",
    "id": "AOxo8mTJLPD-",
    "outputId": "7f43b4b2-e65f-40af-abcd-bb36a71d3267"
   },
   "outputs": [
    {
     "name": "stderr",
     "output_type": "stream",
     "text": [
      "W0824 09:40:02.863317 140265497880448 deprecation_wrapper.py:119] From /usr/local/lib/python3.6/dist-packages/keras/backend/tensorflow_backend.py:517: The name tf.placeholder is deprecated. Please use tf.compat.v1.placeholder instead.\n",
      "\n",
      "W0824 09:40:02.876609 140265497880448 deprecation_wrapper.py:119] From /usr/local/lib/python3.6/dist-packages/keras/backend/tensorflow_backend.py:4138: The name tf.random_uniform is deprecated. Please use tf.random.uniform instead.\n",
      "\n",
      "W0824 09:40:02.887448 140265497880448 deprecation_wrapper.py:119] From /usr/local/lib/python3.6/dist-packages/keras/backend/tensorflow_backend.py:174: The name tf.get_default_session is deprecated. Please use tf.compat.v1.get_default_session instead.\n",
      "\n",
      "W0824 09:40:02.888115 140265497880448 deprecation_wrapper.py:119] From /usr/local/lib/python3.6/dist-packages/keras/backend/tensorflow_backend.py:181: The name tf.ConfigProto is deprecated. Please use tf.compat.v1.ConfigProto instead.\n",
      "\n"
     ]
    },
    {
     "name": "stdout",
     "output_type": "stream",
     "text": [
      "_________________________________________________________________\n",
      "Layer (type)                 Output Shape              Param #   \n",
      "=================================================================\n",
      "embedding_1 (Embedding)      (None, 256, 200)          185290600 \n",
      "_________________________________________________________________\n",
      "conv1d_1 (Conv1D)            (None, 254, 256)          153856    \n",
      "_________________________________________________________________\n",
      "cu_dnnlstm_1 (CuDNNLSTM)     (None, 256)               526336    \n",
      "_________________________________________________________________\n",
      "dense_1 (Dense)              (None, 2)                 514       \n",
      "=================================================================\n",
      "Total params: 185,971,306\n",
      "Trainable params: 185,971,306\n",
      "Non-trainable params: 0\n",
      "_________________________________________________________________\n"
     ]
    },
    {
     "name": "stderr",
     "output_type": "stream",
     "text": [
      "W0824 09:40:08.565198 140265497880448 deprecation_wrapper.py:119] From /usr/local/lib/python3.6/dist-packages/keras/optimizers.py:790: The name tf.train.Optimizer is deprecated. Please use tf.compat.v1.train.Optimizer instead.\n",
      "\n",
      "W0824 09:40:08.591288 140265497880448 deprecation.py:323] From /usr/local/lib/python3.6/dist-packages/tensorflow/python/ops/nn_impl.py:180: add_dispatch_support.<locals>.wrapper (from tensorflow.python.ops.array_ops) is deprecated and will be removed in a future version.\n",
      "Instructions for updating:\n",
      "Use tf.where in 2.0, which has the same broadcast rule as np.where\n"
     ]
    },
    {
     "name": "stdout",
     "output_type": "stream",
     "text": [
      "Train on 3240000 samples, validate on 360000 samples\n",
      "Epoch 1/2\n",
      "3240000/3240000 [==============================] - 2187s 675us/step - loss: 0.1445 - acc: 0.9454 - val_loss: 0.1374 - val_acc: 0.9486\n",
      "Epoch 2/2\n",
      "3240000/3240000 [==============================] - 2174s 671us/step - loss: 0.1200 - acc: 0.9563 - val_loss: 0.1231 - val_acc: 0.9548\n",
      "400000/400000 [==============================] - 92s 230us/step\n",
      "[Test] Loss: 0.12399254189502448\n",
      "[Test] Accuracy: 0.95474375\n",
      "[[190651   9349]\n",
      " [  8744 191256]]\n",
      "Time Spent: 4547.018759965897 s\n"
     ]
    }
   ],
   "source": [
    "# CNN + LSTM + Self-trained Word2vec\n",
    "hy_t0 = time()\n",
    "\n",
    "from keras.layers import Dense, Input, Flatten, Dropout\n",
    "from keras.layers import CuDNNLSTM, Conv1D, MaxPooling1D, Embedding, TimeDistributed\n",
    "from keras.models import Sequential\n",
    "\n",
    "hybrid = Sequential()\n",
    "hybrid.add(embedding_layer_self)\n",
    "hybrid.add(Conv1D(256, 3, activation='elu'))\n",
    "# hybrid.add(MaxPooling1D(pool_size=3))\n",
    "# hybrid.add(Dropout(0.2))\n",
    "hybrid.add(CuDNNLSTM(256)) # , dropout=0.2, recurrent_dropout=0.2\n",
    "# hybrid.add(Dense(EMBEDDING_DIM, activation='elu'))\n",
    "hybrid.add(Dense(2, activation='sigmoid'))\n",
    "hybrid.summary()\n",
    "plot_model(hybrid, to_file=\"hybrid3.png\", show_shapes=True)\n",
    "hybrid.compile(loss='binary_crossentropy', optimizer='adam', metrics=['acc'])\n",
    "history = hybrid.fit(x_train, y_train, validation_data=(x_val, y_val), epochs=2, batch_size=512)\n",
    "\n",
    "# Result: CNN + LSTM + Word2vec\n",
    "hy_result = hybrid.evaluate(x_test, y_test)\n",
    "print('[Test] Loss:', hy_result[0])\n",
    "print('[Test] Accuracy:', hy_result[1])\n",
    "\n",
    "y_pred = hybrid.predict(x_test) > 0.5\n",
    "print(metrics.confusion_matrix(y_test.argmax(axis=1),y_pred.argmax(axis=1)))\n",
    "hy_t1 = time() - hy_t0\n",
    "print('Time Spent:', hy_t1, 's')"
   ]
  }
 ],
 "metadata": {
  "accelerator": "GPU",
  "colab": {
   "collapsed_sections": [
    "tKKi2WM3uBjb"
   ],
   "machine_shape": "hm",
   "name": "final6.ipynb",
   "provenance": [],
   "toc_visible": true,
   "version": "0.3.2"
  },
  "kernelspec": {
   "display_name": "Python 3",
   "language": "python",
   "name": "python3"
  },
  "language_info": {
   "codemirror_mode": {
    "name": "ipython",
    "version": 3
   },
   "file_extension": ".py",
   "mimetype": "text/x-python",
   "name": "python",
   "nbconvert_exporter": "python",
   "pygments_lexer": "ipython3",
   "version": "3.7.4"
  },
  "toc": {
   "base_numbering": 1,
   "nav_menu": {},
   "number_sections": true,
   "sideBar": true,
   "skip_h1_title": false,
   "title_cell": "Table of Contents",
   "title_sidebar": "Contents",
   "toc_cell": false,
   "toc_position": {
    "height": "calc(100% - 180px)",
    "left": "10px",
    "top": "150px",
    "width": "225.071px"
   },
   "toc_section_display": true,
   "toc_window_display": true
  },
  "varInspector": {
   "cols": {
    "lenName": 16,
    "lenType": 16,
    "lenVar": 40
   },
   "kernels_config": {
    "python": {
     "delete_cmd_postfix": "",
     "delete_cmd_prefix": "del ",
     "library": "var_list.py",
     "varRefreshCmd": "print(var_dic_list())"
    },
    "r": {
     "delete_cmd_postfix": ") ",
     "delete_cmd_prefix": "rm(",
     "library": "var_list.r",
     "varRefreshCmd": "cat(var_dic_list()) "
    }
   },
   "position": {
    "height": "672.23px",
    "left": "826.094px",
    "right": "20px",
    "top": "124.972px",
    "width": "800px"
   },
   "types_to_exclude": [
    "module",
    "function",
    "builtin_function_or_method",
    "instance",
    "_Feature"
   ],
   "window_display": false
  }
 },
 "nbformat": 4,
 "nbformat_minor": 1
}
