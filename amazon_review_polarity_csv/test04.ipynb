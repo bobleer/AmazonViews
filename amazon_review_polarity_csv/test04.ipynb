{
 "cells": [
  {
   "cell_type": "code",
   "execution_count": 1,
   "metadata": {
    "ExecuteTime": {
     "end_time": "2019-07-18T03:15:29.157347Z",
     "start_time": "2019-07-18T03:15:27.686004Z"
    }
   },
   "outputs": [],
   "source": [
    "# Packages\n",
    "import nltk\n",
    "import numpy as np\n",
    "from scipy import stats\n",
    "import pandas as pd\n",
    "import matplotlib.pyplot as plt\n",
    "import seaborn as sns\n",
    "import warnings\n",
    "from tqdm import tqdm\n",
    "warnings.filterwarnings('ignore')"
   ]
  },
  {
   "cell_type": "code",
   "execution_count": 2,
   "metadata": {
    "ExecuteTime": {
     "end_time": "2019-07-18T03:15:29.171560Z",
     "start_time": "2019-07-18T03:15:29.160549Z"
    }
   },
   "outputs": [],
   "source": [
    "# Plot settings\n",
    "sns.set_context('notebook') \n",
    "sns.set_style('ticks') \n",
    "colours = ['#1F77B4', '#FF7F0E', '#2CA02C', '#DB2728', '#9467BD', '#8C564B', '#E377C2','#7F7F7F', '#BCBD22', '#17BECF']\n",
    "crayon = ['#4E79A7','#F28E2C','#E15759','#76B7B2','#59A14F', '#EDC949','#AF7AA1','#FF9DA7','#9C755F','#BAB0AB']\n",
    "sns.set_palette(colours)\n",
    "%matplotlib inline\n",
    "plt.rcParams['figure.figsize'] = (9, 6)"
   ]
  },
  {
   "cell_type": "markdown",
   "metadata": {},
   "source": [
    "# Import dataset"
   ]
  },
  {
   "cell_type": "code",
   "execution_count": 3,
   "metadata": {
    "ExecuteTime": {
     "end_time": "2019-07-18T03:15:29.177390Z",
     "start_time": "2019-07-18T03:15:29.173600Z"
    }
   },
   "outputs": [],
   "source": [
    "from sklearn.model_selection import train_test_split, cross_val_score"
   ]
  },
  {
   "cell_type": "code",
   "execution_count": 4,
   "metadata": {
    "ExecuteTime": {
     "end_time": "2019-07-18T03:15:50.836284Z",
     "start_time": "2019-07-18T03:15:29.181035Z"
    }
   },
   "outputs": [],
   "source": [
    "train = pd.read_csv('train.csv', header=None)\n",
    "train['Text'] = train[1]+' '+train[2]\n",
    "train = train.drop(columns=[1,2])"
   ]
  },
  {
   "cell_type": "code",
   "execution_count": 5,
   "metadata": {
    "ExecuteTime": {
     "end_time": "2019-07-18T03:15:52.043608Z",
     "start_time": "2019-07-18T03:15:50.838831Z"
    }
   },
   "outputs": [],
   "source": [
    "train[0] = train[0].map(lambda x: x-1)\n",
    "train.rename(columns={0:'Sentiment'},inplace=True)"
   ]
  },
  {
   "cell_type": "code",
   "execution_count": 6,
   "metadata": {
    "ExecuteTime": {
     "end_time": "2019-07-18T03:15:53.653179Z",
     "start_time": "2019-07-18T03:15:52.046643Z"
    }
   },
   "outputs": [],
   "source": [
    "# Generate a random and balanced small sample for coding \n",
    "train_pos = train[train['Sentiment']==1].sample(frac=1)[:25000]\n",
    "train_neg = train[train['Sentiment']==0].sample(frac=1)[:25000]\n",
    "\n",
    "train_sp = pd.concat([train_pos, train_neg], axis=0, ignore_index=True)\n",
    "train_sp = train_sp.sample(frac=1).reset_index(drop=True)"
   ]
  },
  {
   "cell_type": "code",
   "execution_count": 7,
   "metadata": {
    "ExecuteTime": {
     "end_time": "2019-07-18T03:15:53.668799Z",
     "start_time": "2019-07-18T03:15:53.655506Z"
    }
   },
   "outputs": [
    {
     "data": {
      "text/html": [
       "<div>\n",
       "<style scoped>\n",
       "    .dataframe tbody tr th:only-of-type {\n",
       "        vertical-align: middle;\n",
       "    }\n",
       "\n",
       "    .dataframe tbody tr th {\n",
       "        vertical-align: top;\n",
       "    }\n",
       "\n",
       "    .dataframe thead th {\n",
       "        text-align: right;\n",
       "    }\n",
       "</style>\n",
       "<table border=\"1\" class=\"dataframe\">\n",
       "  <thead>\n",
       "    <tr style=\"text-align: right;\">\n",
       "      <th></th>\n",
       "      <th>Sentiment</th>\n",
       "      <th>Text</th>\n",
       "    </tr>\n",
       "  </thead>\n",
       "  <tbody>\n",
       "    <tr>\n",
       "      <th>49995</th>\n",
       "      <td>0</td>\n",
       "      <td>If you wanna play Grand Theft Auto 3- Buy a PS...</td>\n",
       "    </tr>\n",
       "    <tr>\n",
       "      <th>49996</th>\n",
       "      <td>1</td>\n",
       "      <td>Gets the job done. I have has the product for ...</td>\n",
       "    </tr>\n",
       "    <tr>\n",
       "      <th>49997</th>\n",
       "      <td>0</td>\n",
       "      <td>I highly recommend you do NOT buy this vacuum ...</td>\n",
       "    </tr>\n",
       "    <tr>\n",
       "      <th>49998</th>\n",
       "      <td>1</td>\n",
       "      <td>AMAZIN THIS IS ONE OF THE BEST ALBUMS I HAVE E...</td>\n",
       "    </tr>\n",
       "    <tr>\n",
       "      <th>49999</th>\n",
       "      <td>1</td>\n",
       "      <td>Jami Taylor, Agape Book Ministry I thoroughly ...</td>\n",
       "    </tr>\n",
       "  </tbody>\n",
       "</table>\n",
       "</div>"
      ],
      "text/plain": [
       "       Sentiment                                               Text\n",
       "49995          0  If you wanna play Grand Theft Auto 3- Buy a PS...\n",
       "49996          1  Gets the job done. I have has the product for ...\n",
       "49997          0  I highly recommend you do NOT buy this vacuum ...\n",
       "49998          1  AMAZIN THIS IS ONE OF THE BEST ALBUMS I HAVE E...\n",
       "49999          1  Jami Taylor, Agape Book Ministry I thoroughly ..."
      ]
     },
     "execution_count": 7,
     "metadata": {},
     "output_type": "execute_result"
    }
   ],
   "source": [
    "train_sp.tail()"
   ]
  },
  {
   "cell_type": "code",
   "execution_count": 8,
   "metadata": {
    "ExecuteTime": {
     "end_time": "2019-07-18T03:15:53.681246Z",
     "start_time": "2019-07-18T03:15:53.671891Z"
    }
   },
   "outputs": [
    {
     "data": {
      "text/plain": [
       "1    25000\n",
       "0    25000\n",
       "Name: Sentiment, dtype: int64"
      ]
     },
     "execution_count": 8,
     "metadata": {},
     "output_type": "execute_result"
    }
   ],
   "source": [
    "train_sp['Sentiment'].value_counts()"
   ]
  },
  {
   "cell_type": "markdown",
   "metadata": {},
   "source": [
    "# Text Processing"
   ]
  },
  {
   "cell_type": "code",
   "execution_count": 9,
   "metadata": {
    "ExecuteTime": {
     "end_time": "2019-07-18T03:15:53.687582Z",
     "start_time": "2019-07-18T03:15:53.683981Z"
    }
   },
   "outputs": [],
   "source": [
    "# 1. Tokenisation (casual module)\n",
    "from nltk.tokenize import TweetTokenizer\n",
    "Tokenizer = TweetTokenizer()\n",
    "# 2. Remove punctuation\n",
    "import string\n",
    "# 3. Remove stopwords\n",
    "from nltk.corpus import stopwords\n",
    "# 4. Stemming\n",
    "from nltk.stem.porter import PorterStemmer"
   ]
  },
  {
   "cell_type": "code",
   "execution_count": 10,
   "metadata": {
    "ExecuteTime": {
     "end_time": "2019-07-18T03:15:53.694554Z",
     "start_time": "2019-07-18T03:15:53.689393Z"
    }
   },
   "outputs": [],
   "source": [
    "def process_text(text):\n",
    "    text = str(text)\n",
    "    tokenized = Tokenizer.tokenize(text)\n",
    "    tokenized_no_punctuation = [word.lower() for word in tokenized if word not in string.punctuation]\n",
    "    tokenized_no_stopwords = [word for word in tokenized_no_punctuation if word not in stopwords.words('english')]\n",
    "    token = [PorterStemmer().stem(word) for word in tokenized_no_stopwords if word != '️']\n",
    "    token = ' '.join(token)\n",
    "    return token"
   ]
  },
  {
   "cell_type": "code",
   "execution_count": 11,
   "metadata": {
    "ExecuteTime": {
     "end_time": "2019-07-18T03:15:53.701235Z",
     "start_time": "2019-07-18T03:15:53.696662Z"
    }
   },
   "outputs": [],
   "source": [
    "def process_text_ez(text):\n",
    "    text = str(text)\n",
    "    tokenized = Tokenizer.tokenize(text)\n",
    "    tokenized_lower = [word.lower() for word in tokenized]\n",
    "    tokenized_stem = [PorterStemmer().stem(word) for word in tokenized_lower if word != '']\n",
    "    token = ' '.join(tokenized_stem)\n",
    "    return token"
   ]
  },
  {
   "cell_type": "code",
   "execution_count": 12,
   "metadata": {
    "ExecuteTime": {
     "end_time": "2019-07-18T03:25:20.156487Z",
     "start_time": "2019-07-18T03:15:53.703276Z"
    }
   },
   "outputs": [],
   "source": [
    "train_sp['Token'] = train_sp['Text'].apply(process_text)"
   ]
  },
  {
   "cell_type": "code",
   "execution_count": 13,
   "metadata": {
    "ExecuteTime": {
     "end_time": "2019-07-18T03:26:58.931008Z",
     "start_time": "2019-07-18T03:25:20.158496Z"
    }
   },
   "outputs": [],
   "source": [
    "train_sp['Text'] = train_sp['Text'].apply(process_text_ez)"
   ]
  },
  {
   "cell_type": "code",
   "execution_count": 14,
   "metadata": {
    "ExecuteTime": {
     "end_time": "2019-07-18T03:26:58.943109Z",
     "start_time": "2019-07-18T03:26:58.933236Z"
    }
   },
   "outputs": [
    {
     "data": {
      "text/html": [
       "<div>\n",
       "<style scoped>\n",
       "    .dataframe tbody tr th:only-of-type {\n",
       "        vertical-align: middle;\n",
       "    }\n",
       "\n",
       "    .dataframe tbody tr th {\n",
       "        vertical-align: top;\n",
       "    }\n",
       "\n",
       "    .dataframe thead th {\n",
       "        text-align: right;\n",
       "    }\n",
       "</style>\n",
       "<table border=\"1\" class=\"dataframe\">\n",
       "  <thead>\n",
       "    <tr style=\"text-align: right;\">\n",
       "      <th></th>\n",
       "      <th>Sentiment</th>\n",
       "      <th>Text</th>\n",
       "      <th>Token</th>\n",
       "    </tr>\n",
       "  </thead>\n",
       "  <tbody>\n",
       "    <tr>\n",
       "      <th>49995</th>\n",
       "      <td>0</td>\n",
       "      <td>if you wanna play grand theft auto 3 - buy a p...</td>\n",
       "      <td>wanna play grand theft auto 3 buy ps2 pc total...</td>\n",
       "    </tr>\n",
       "    <tr>\n",
       "      <th>49996</th>\n",
       "      <td>1</td>\n",
       "      <td>get the job done . i have ha the product for 5...</td>\n",
       "      <td>get job done product 5 year fail yet power out...</td>\n",
       "    </tr>\n",
       "    <tr>\n",
       "      <th>49997</th>\n",
       "      <td>0</td>\n",
       "      <td>i highli recommend you do not buy thi vacuum c...</td>\n",
       "      <td>highli recommend buy vacuum cleaner vacuum cle...</td>\n",
       "    </tr>\n",
       "    <tr>\n",
       "      <th>49998</th>\n",
       "      <td>1</td>\n",
       "      <td>amazin thi is one of the best album i have eve...</td>\n",
       "      <td>amazin one best album ever heard.ic cube best ...</td>\n",
       "    </tr>\n",
       "    <tr>\n",
       "      <th>49999</th>\n",
       "      <td>1</td>\n",
       "      <td>jami taylor , agap book ministri i thoroughli ...</td>\n",
       "      <td>jami taylor agap book ministri thoroughli enjo...</td>\n",
       "    </tr>\n",
       "  </tbody>\n",
       "</table>\n",
       "</div>"
      ],
      "text/plain": [
       "       Sentiment                                               Text  \\\n",
       "49995          0  if you wanna play grand theft auto 3 - buy a p...   \n",
       "49996          1  get the job done . i have ha the product for 5...   \n",
       "49997          0  i highli recommend you do not buy thi vacuum c...   \n",
       "49998          1  amazin thi is one of the best album i have eve...   \n",
       "49999          1  jami taylor , agap book ministri i thoroughli ...   \n",
       "\n",
       "                                                   Token  \n",
       "49995  wanna play grand theft auto 3 buy ps2 pc total...  \n",
       "49996  get job done product 5 year fail yet power out...  \n",
       "49997  highli recommend buy vacuum cleaner vacuum cle...  \n",
       "49998  amazin one best album ever heard.ic cube best ...  \n",
       "49999  jami taylor agap book ministri thoroughli enjo...  "
      ]
     },
     "execution_count": 14,
     "metadata": {},
     "output_type": "execute_result"
    }
   ],
   "source": [
    "train_sp.tail()"
   ]
  },
  {
   "cell_type": "code",
   "execution_count": 58,
   "metadata": {
    "ExecuteTime": {
     "end_time": "2019-07-18T13:24:07.357671Z",
     "start_time": "2019-07-18T13:24:07.331739Z"
    }
   },
   "outputs": [
    {
     "data": {
      "text/plain": [
       "410.1947"
      ]
     },
     "execution_count": 58,
     "metadata": {},
     "output_type": "execute_result"
    }
   ],
   "source": [
    "(train_sp.Text.apply(len)).mean()"
   ]
  },
  {
   "cell_type": "code",
   "execution_count": 59,
   "metadata": {
    "ExecuteTime": {
     "end_time": "2019-07-18T13:26:10.383222Z",
     "start_time": "2019-07-18T13:26:10.342220Z"
    }
   },
   "outputs": [
    {
     "data": {
      "text/plain": [
       "246.02324"
      ]
     },
     "execution_count": 59,
     "metadata": {},
     "output_type": "execute_result"
    }
   ],
   "source": [
    "(train_sp.Token.apply(len)).mean()"
   ]
  },
  {
   "cell_type": "code",
   "execution_count": 15,
   "metadata": {
    "ExecuteTime": {
     "end_time": "2019-07-18T03:26:58.980453Z",
     "start_time": "2019-07-18T03:26:58.946245Z"
    }
   },
   "outputs": [],
   "source": [
    "# Randomly split indexes 80/20\n",
    "train_x, valid_x, train_y, valid_y = train_test_split(train_sp['Token'], train_sp['Sentiment'], train_size=0.8, random_state=1, stratify=train_sp.Sentiment)"
   ]
  },
  {
   "cell_type": "markdown",
   "metadata": {},
   "source": [
    "## Count Vectors (BoW) as features"
   ]
  },
  {
   "cell_type": "code",
   "execution_count": 16,
   "metadata": {
    "ExecuteTime": {
     "end_time": "2019-07-18T03:27:19.453647Z",
     "start_time": "2019-07-18T03:26:58.982562Z"
    }
   },
   "outputs": [
    {
     "data": {
      "text/plain": [
       "CountVectorizer(analyzer='word', binary=False, decode_error='strict',\n",
       "        dtype=<class 'numpy.int64'>, encoding='utf-8', input='content',\n",
       "        lowercase=True, max_df=1.0, max_features=5000, min_df=1,\n",
       "        ngram_range=(3, 3), preprocessor=None, stop_words=None,\n",
       "        strip_accents=None, token_pattern='\\\\w{1,}', tokenizer=None,\n",
       "        vocabulary=None)"
      ]
     },
     "execution_count": 16,
     "metadata": {},
     "output_type": "execute_result"
    }
   ],
   "source": [
    "from sklearn.feature_extraction.text import CountVectorizer, TfidfVectorizer\n",
    "\n",
    "# 1-gram\n",
    "count_vect_1n = CountVectorizer(analyzer='word', ngram_range=(1,1), token_pattern=r'\\w{1,}', max_features=5000)\n",
    "count_vect_1n.fit(train_sp['Token'])\n",
    "\n",
    "# 2-gram\n",
    "count_vect_2n = CountVectorizer(analyzer='word', ngram_range=(2,2), token_pattern=r'\\w{1,}', max_features=5000)\n",
    "count_vect_2n.fit(train_sp['Token'])\n",
    "\n",
    "# 3-gram\n",
    "count_vect_3n = CountVectorizer(analyzer='word', ngram_range=(3,3), token_pattern=r'\\w{1,}', max_features=5000)\n",
    "count_vect_3n.fit(train_sp['Token'])"
   ]
  },
  {
   "cell_type": "code",
   "execution_count": 17,
   "metadata": {
    "ExecuteTime": {
     "end_time": "2019-07-18T03:27:25.856165Z",
     "start_time": "2019-07-18T03:27:19.455501Z"
    }
   },
   "outputs": [],
   "source": [
    "# Transform the training and validation data using count vectorizer object\n",
    "xtrain_count_1n =  count_vect_1n.transform(train_x)\n",
    "xvalid_count_1n =  count_vect_1n.transform(valid_x)\n",
    "\n",
    "xtrain_count_2n =  count_vect_2n.transform(train_x)\n",
    "xvalid_count_2n =  count_vect_2n.transform(valid_x)\n",
    "\n",
    "xtrain_count_3n =  count_vect_3n.transform(train_x)\n",
    "xvalid_count_3n =  count_vect_3n.transform(valid_x)"
   ]
  },
  {
   "cell_type": "markdown",
   "metadata": {},
   "source": [
    "## TF-IDF Vectors + N-gram as features"
   ]
  },
  {
   "cell_type": "code",
   "execution_count": 18,
   "metadata": {
    "ExecuteTime": {
     "end_time": "2019-07-18T03:27:46.017412Z",
     "start_time": "2019-07-18T03:27:25.858344Z"
    }
   },
   "outputs": [
    {
     "data": {
      "text/plain": [
       "TfidfVectorizer(analyzer='word', binary=False, decode_error='strict',\n",
       "        dtype=<class 'numpy.float64'>, encoding='utf-8', input='content',\n",
       "        lowercase=True, max_df=1.0, max_features=5000, min_df=1,\n",
       "        ngram_range=(3, 3), norm='l2', preprocessor=None, smooth_idf=True,\n",
       "        stop_words=None, strip_accents=None, sublinear_tf=False,\n",
       "        token_pattern='\\\\w{1,}', tokenizer=None, use_idf=True,\n",
       "        vocabulary=None)"
      ]
     },
     "execution_count": 18,
     "metadata": {},
     "output_type": "execute_result"
    }
   ],
   "source": [
    "# 1-gram\n",
    "tfidf_vect_1n = TfidfVectorizer(analyzer='word', ngram_range=(1,1), token_pattern=r'\\w{1,}', max_features=5000)\n",
    "tfidf_vect_1n.fit(train_sp['Token'])\n",
    "\n",
    "# 2-gram\n",
    "tfidf_vect_2n = TfidfVectorizer(analyzer='word', ngram_range=(2,2), token_pattern=r'\\w{1,}', max_features=5000)\n",
    "tfidf_vect_2n.fit(train_sp['Token'])\n",
    "\n",
    "# 3-gram\n",
    "tfidf_vect_3n = TfidfVectorizer(analyzer='word', ngram_range=(3,3), token_pattern=r'\\w{1,}', max_features=5000)\n",
    "tfidf_vect_3n.fit(train_sp['Token'])"
   ]
  },
  {
   "cell_type": "code",
   "execution_count": 19,
   "metadata": {
    "ExecuteTime": {
     "end_time": "2019-07-18T03:27:52.433091Z",
     "start_time": "2019-07-18T03:27:46.019293Z"
    }
   },
   "outputs": [],
   "source": [
    "xtrain_tfidf_1n =  tfidf_vect_1n.transform(train_x)\n",
    "xvalid_tfidf_1n =  tfidf_vect_1n.transform(valid_x)\n",
    "\n",
    "xtrain_tfidf_2n =  tfidf_vect_2n.transform(train_x)\n",
    "xvalid_tfidf_2n =  tfidf_vect_2n.transform(valid_x)\n",
    "\n",
    "xtrain_tfidf_3n =  tfidf_vect_3n.transform(train_x)\n",
    "xvalid_tfidf_3n =  tfidf_vect_3n.transform(valid_x)"
   ]
  },
  {
   "cell_type": "markdown",
   "metadata": {},
   "source": [
    "## Word2vec as features"
   ]
  },
  {
   "cell_type": "code",
   "execution_count": 20,
   "metadata": {
    "ExecuteTime": {
     "end_time": "2019-07-18T03:27:52.699746Z",
     "start_time": "2019-07-18T03:27:52.435089Z"
    }
   },
   "outputs": [],
   "source": [
    "from gensim.models import word2vec"
   ]
  },
  {
   "cell_type": "code",
   "execution_count": 21,
   "metadata": {
    "ExecuteTime": {
     "end_time": "2019-07-18T03:28:09.924472Z",
     "start_time": "2019-07-18T03:27:52.701733Z"
    }
   },
   "outputs": [],
   "source": [
    "sentence = [(i.split()) for i in train_sp.Text]\n",
    "w2vmodel = word2vec.Word2Vec(sentence, min_count=1, size=300, workers=4)"
   ]
  },
  {
   "cell_type": "code",
   "execution_count": 51,
   "metadata": {
    "ExecuteTime": {
     "end_time": "2019-07-18T10:21:31.493074Z",
     "start_time": "2019-07-18T10:21:31.426585Z"
    }
   },
   "outputs": [
    {
     "data": {
      "text/plain": [
       "[('novel', 0.7485477924346924),\n",
       " ('author', 0.6498041749000549),\n",
       " ('text', 0.6280728578567505),\n",
       " ('chapter', 0.6041023135185242),\n",
       " ('bibl', 0.6026525497436523),\n",
       " ('textbook', 0.6006426811218262),\n",
       " ('stori', 0.5985639095306396),\n",
       " ('seri', 0.5933400392532349),\n",
       " ('reader', 0.5683128833770752),\n",
       " ('topic', 0.5670907497406006)]"
      ]
     },
     "execution_count": 51,
     "metadata": {},
     "output_type": "execute_result"
    }
   ],
   "source": [
    "w2vmodel.most_similar(['book'])"
   ]
  },
  {
   "cell_type": "code",
   "execution_count": 23,
   "metadata": {
    "ExecuteTime": {
     "end_time": "2019-07-18T03:28:10.160426Z",
     "start_time": "2019-07-18T03:28:10.113578Z"
    }
   },
   "outputs": [],
   "source": [
    "train_w2v_x, valid_w2v_x, train_w2v_y, valid_w2v_y = train_test_split(train_sp['Text'], train_sp['Sentiment'], train_size=0.8, random_state=1, stratify=train_sp.Sentiment)"
   ]
  },
  {
   "cell_type": "code",
   "execution_count": 24,
   "metadata": {
    "ExecuteTime": {
     "end_time": "2019-07-18T03:28:10.174738Z",
     "start_time": "2019-07-18T03:28:10.165725Z"
    }
   },
   "outputs": [],
   "source": [
    "def get_sent_vec(size, sent, model):\n",
    "    vec = np.zeros(size).reshape(1,size)\n",
    "    count = 0\n",
    "    for word in sent:\n",
    "        try:\n",
    "            vec += model[word].reshape(1,size)\n",
    "            count += 1\n",
    "        except:\n",
    "            continue\n",
    "    if count != 0:\n",
    "        vec /= count\n",
    "    return vec\n",
    "\n",
    "def get_train_vec(train_x, valid_x, model):\n",
    "    train_vec = np.concatenate([get_sent_vec(300, sent, model) for sent in train_x])\n",
    "    test_vec = np.concatenate([get_sent_vec(300, sent, model) for sent in valid_x])\n",
    "    return train_vec, test_vec"
   ]
  },
  {
   "cell_type": "code",
   "execution_count": 25,
   "metadata": {
    "ExecuteTime": {
     "end_time": "2019-07-18T03:32:54.180275Z",
     "start_time": "2019-07-18T03:28:10.177605Z"
    }
   },
   "outputs": [],
   "source": [
    "# Lower + No punctuation + No stopwords+ Stemming\n",
    "train_vec, valid_vec = get_train_vec(train_x, valid_x, w2vmodel)\n",
    "# Lower words + Stemming\n",
    "train_w2v_vec, valid_w2v_vec = get_train_vec(train_w2v_x, valid_w2v_x, w2vmodel)"
   ]
  },
  {
   "cell_type": "markdown",
   "metadata": {},
   "source": [
    "# Model Training (Traditional ML)"
   ]
  },
  {
   "cell_type": "code",
   "execution_count": 26,
   "metadata": {
    "ExecuteTime": {
     "end_time": "2019-07-18T03:32:54.821005Z",
     "start_time": "2019-07-18T03:32:54.182011Z"
    }
   },
   "outputs": [],
   "source": [
    "from sklearn.metrics import accuracy_score, recall_score, precision_score, roc_auc_score, f1_score, confusion_matrix, roc_curve\n",
    "from statlearning import plot_confusion_matrix"
   ]
  },
  {
   "cell_type": "code",
   "execution_count": 27,
   "metadata": {
    "ExecuteTime": {
     "end_time": "2019-07-18T03:32:54.829874Z",
     "start_time": "2019-07-18T03:32:54.823041Z"
    }
   },
   "outputs": [],
   "source": [
    "from sklearn import naive_bayes, svm, linear_model\n",
    "\n",
    "def train_model(classifier, feature_vector_train, label, feature_vector_valid, is_neural_net=False):\n",
    "    # fit the training dataset on the classifier\n",
    "    trm = classifier.fit(feature_vector_train, label)\n",
    "    \n",
    "    # predict the labels on validation dataset\n",
    "    predictions = trm.predict(feature_vector_valid)\n",
    "    \n",
    "    if is_neural_net:\n",
    "        predictions = predictions.argmax(axis=-1)\n",
    "\n",
    "    print('Accuracy:', accuracy_score(predictions, valid_y).round(4))\n",
    "    print('Precision:', precision_score(predictions, valid_y).round(4))\n",
    "    print('Recall:', recall_score(predictions, valid_y).round(4))\n",
    "    print('F1 Score:', f1_score(predictions, valid_y).round(4))\n",
    "    '''\n",
    "    confusion = confusion_matrix(predictions, valid_y)\n",
    "    fig, ax = plt.subplots(figsize=(8,6))\n",
    "    plot_confusion_matrix(confusion, classes=['negative','positive'], normalize=True)\n",
    "    plt.show()\n",
    "    '''\n",
    "    #print('AUC:', roc_auc_score(predictions, proba_y[:,1]).round(3),'\\n')"
   ]
  },
  {
   "cell_type": "markdown",
   "metadata": {},
   "source": [
    "##  Naive Bayes"
   ]
  },
  {
   "cell_type": "code",
   "execution_count": 28,
   "metadata": {
    "ExecuteTime": {
     "end_time": "2019-07-18T03:32:54.917340Z",
     "start_time": "2019-07-18T03:32:54.831890Z"
    }
   },
   "outputs": [
    {
     "name": "stdout",
     "output_type": "stream",
     "text": [
      "# Naive Bayes + Count Vectors + 1-gram\n",
      "Accuracy: 0.8399\n",
      "Precision: 0.8526\n",
      "Recall: 0.8315\n",
      "F1 Score: 0.8419\n",
      "\n",
      "# Naive Bayes + Count Vectors + 2-gram\n",
      "Accuracy: 0.7947\n",
      "Precision: 0.8318\n",
      "Recall: 0.7743\n",
      "F1 Score: 0.802\n",
      "\n",
      "# Naive Bayes + Count Vectors + 3-gram\n",
      "Accuracy: 0.6464\n",
      "Precision: 0.8824\n",
      "Recall: 0.5995\n",
      "F1 Score: 0.7139\n"
     ]
    }
   ],
   "source": [
    "print(\"# Naive Bayes + Count Vectors + 1-gram\")\n",
    "train_model(naive_bayes.BernoulliNB(), xtrain_count_1n, train_y, xvalid_count_1n)\n",
    "\n",
    "print(\"\\n# Naive Bayes + Count Vectors + 2-gram\")\n",
    "train_model(naive_bayes.BernoulliNB(), xtrain_count_2n, train_y, xvalid_count_2n)\n",
    "\n",
    "print(\"\\n# Naive Bayes + Count Vectors + 3-gram\")\n",
    "train_model(naive_bayes.BernoulliNB(), xtrain_count_3n, train_y, xvalid_count_3n)"
   ]
  },
  {
   "cell_type": "code",
   "execution_count": 29,
   "metadata": {
    "ExecuteTime": {
     "end_time": "2019-07-18T03:32:54.993735Z",
     "start_time": "2019-07-18T03:32:54.919372Z"
    }
   },
   "outputs": [
    {
     "name": "stdout",
     "output_type": "stream",
     "text": [
      "# Naive Bayes + TF-IDF + 1-gram\n",
      "Accuracy: 0.8399\n",
      "Precision: 0.8526\n",
      "Recall: 0.8315\n",
      "F1 Score: 0.8419\n",
      "\n",
      "# Naive Bayes + TF-IDF + 2-gram\n",
      "Accuracy: 0.7947\n",
      "Precision: 0.8318\n",
      "Recall: 0.7743\n",
      "F1 Score: 0.802\n",
      "\n",
      "# Naive Bayes + TF-IDF + 3-gram\n",
      "Accuracy: 0.6464\n",
      "Precision: 0.8824\n",
      "Recall: 0.5995\n",
      "F1 Score: 0.7139\n"
     ]
    }
   ],
   "source": [
    "print(\"# Naive Bayes + TF-IDF + 1-gram\")\n",
    "train_model(naive_bayes.BernoulliNB(), xtrain_tfidf_1n, train_y, xvalid_tfidf_1n)\n",
    "\n",
    "print(\"\\n# Naive Bayes + TF-IDF + 2-gram\")\n",
    "train_model(naive_bayes.BernoulliNB(), xtrain_tfidf_2n, train_y, xvalid_tfidf_2n)\n",
    "\n",
    "print(\"\\n# Naive Bayes + TF-IDF + 3-gram\")\n",
    "train_model(naive_bayes.BernoulliNB(), xtrain_tfidf_3n, train_y, xvalid_tfidf_3n)"
   ]
  },
  {
   "cell_type": "code",
   "execution_count": 30,
   "metadata": {
    "ExecuteTime": {
     "end_time": "2019-07-18T03:32:55.387242Z",
     "start_time": "2019-07-18T03:32:54.995566Z"
    }
   },
   "outputs": [
    {
     "name": "stdout",
     "output_type": "stream",
     "text": [
      "# Naive Bayes + 1234 + Word2vec\n",
      "Accuracy: 0.5576\n",
      "Precision: 0.5542\n",
      "Recall: 0.558\n",
      "F1 Score: 0.5561\n",
      "\n",
      "# Naive Bayes + 14 + Word2vec\n",
      "Accuracy: 0.582\n",
      "Precision: 0.538\n",
      "Recall: 0.5899\n",
      "F1 Score: 0.5628\n"
     ]
    }
   ],
   "source": [
    "print(\"# Naive Bayes + 1234 + Word2vec\")\n",
    "train_model(naive_bayes.BernoulliNB(), train_vec, train_y, valid_vec)\n",
    "\n",
    "print(\"\\n# Naive Bayes + 14 + Word2vec\")\n",
    "train_model(naive_bayes.BernoulliNB(), train_w2v_vec, train_y, valid_w2v_vec)"
   ]
  },
  {
   "cell_type": "markdown",
   "metadata": {},
   "source": [
    "## SVM "
   ]
  },
  {
   "cell_type": "code",
   "execution_count": 31,
   "metadata": {
    "ExecuteTime": {
     "end_time": "2019-07-18T03:43:23.587734Z",
     "start_time": "2019-07-18T03:32:55.389350Z"
    }
   },
   "outputs": [
    {
     "name": "stdout",
     "output_type": "stream",
     "text": [
      "SVM + Count Vectors + 1-gram\n",
      "[LibSVM]Accuracy: 0.8308\n",
      "Precision: 0.8156\n",
      "Recall: 0.8412\n",
      "F1 Score: 0.8282\n",
      "\n",
      "SVM + Count Vectors + 2-gram\n",
      "[LibSVM]Accuracy: 0.5604\n",
      "Precision: 0.9848\n",
      "Recall: 0.5327\n",
      "F1 Score: 0.6914\n",
      "\n",
      "SVM + Count Vectors + 3-gram\n",
      "[LibSVM]Accuracy: 0.5012\n",
      "Precision: 0.9996\n",
      "Recall: 0.5006\n",
      "F1 Score: 0.6671\n"
     ]
    }
   ],
   "source": [
    "print(\"SVM + Count Vectors + 1-gram\")\n",
    "train_model(svm.SVC(verbose=True), xtrain_count_1n, train_y, xvalid_count_1n)\n",
    "\n",
    "print(\"\\nSVM + Count Vectors + 2-gram\")\n",
    "train_model(svm.SVC(verbose=True), xtrain_count_2n, train_y, xvalid_count_2n)\n",
    "\n",
    "print(\"\\nSVM + Count Vectors + 3-gram\")\n",
    "train_model(svm.SVC(verbose=True), xtrain_count_3n, train_y, xvalid_count_3n)"
   ]
  },
  {
   "cell_type": "code",
   "execution_count": 32,
   "metadata": {
    "ExecuteTime": {
     "end_time": "2019-07-18T03:56:42.876034Z",
     "start_time": "2019-07-18T03:43:23.589864Z"
    }
   },
   "outputs": [
    {
     "name": "stdout",
     "output_type": "stream",
     "text": [
      "SVM + TF-IDF + 1-gram\n",
      "Accuracy: 0.7248\n",
      "Precision: 0.4868\n",
      "Recall: 0.929\n",
      "F1 Score: 0.6388\n",
      "\n",
      "SVM + TF-IDF + 2-gram\n",
      "Accuracy: 0.5495\n",
      "Precision: 0.9972\n",
      "Recall: 0.5261\n",
      "F1 Score: 0.6888\n",
      "\n",
      "SVM + TF-IDF + 3-gram\n",
      "Accuracy: 0.5595\n",
      "Precision: 0.1502\n",
      "Recall: 0.828\n",
      "F1 Score: 0.2543\n"
     ]
    }
   ],
   "source": [
    "print(\"SVM + TF-IDF + 1-gram\")\n",
    "train_model(svm.SVC(), xtrain_tfidf_1n, train_y, xvalid_tfidf_1n)\n",
    "\n",
    "print(\"\\nSVM + TF-IDF + 2-gram\")\n",
    "train_model(svm.SVC(), xtrain_tfidf_2n, train_y, xvalid_tfidf_2n)\n",
    "\n",
    "print(\"\\nSVM + TF-IDF + 3-gram\")\n",
    "train_model(svm.SVC(), xtrain_tfidf_3n, train_y, xvalid_tfidf_3n)"
   ]
  },
  {
   "cell_type": "code",
   "execution_count": 33,
   "metadata": {
    "ExecuteTime": {
     "end_time": "2019-07-18T04:23:38.998304Z",
     "start_time": "2019-07-18T03:56:42.877864Z"
    }
   },
   "outputs": [
    {
     "name": "stdout",
     "output_type": "stream",
     "text": [
      "SVM + 1234 + Word2vec\n",
      "Accuracy: 0.5777\n",
      "Precision: 0.5724\n",
      "Recall: 0.5785\n",
      "F1 Score: 0.5754\n",
      "\n",
      "SVM + 14 + Word2vec\n",
      "Accuracy: 0.6015\n",
      "Precision: 0.6022\n",
      "Recall: 0.6014\n",
      "F1 Score: 0.6018\n"
     ]
    }
   ],
   "source": [
    "print(\"SVM + 1234 + Word2vec\")\n",
    "train_model(svm.SVC(), train_vec, train_y, valid_vec)\n",
    "\n",
    "print(\"\\nSVM + 14 + Word2vec\")\n",
    "train_model(svm.SVC(), train_w2v_vec, train_y, valid_w2v_vec)"
   ]
  },
  {
   "cell_type": "markdown",
   "metadata": {},
   "source": [
    "## Logistic Regression "
   ]
  },
  {
   "cell_type": "code",
   "execution_count": 34,
   "metadata": {
    "ExecuteTime": {
     "end_time": "2019-07-18T04:23:40.633875Z",
     "start_time": "2019-07-18T04:23:39.000592Z"
    }
   },
   "outputs": [
    {
     "name": "stdout",
     "output_type": "stream",
     "text": [
      "Logistic Regression + Count Vectors + 1-gram\n",
      "Accuracy: 0.8629\n",
      "Precision: 0.8694\n",
      "Recall: 0.8582\n",
      "F1 Score: 0.8638\n",
      "\n",
      "Logistic Regression + Count Vectors + 2-gram\n",
      "Accuracy: 0.7856\n",
      "Precision: 0.7714\n",
      "Recall: 0.7939\n",
      "F1 Score: 0.7825\n",
      "\n",
      "Logistic Regression + Count Vectors + 3-gram\n",
      "Accuracy: 0.6422\n",
      "Precision: 0.8702\n",
      "Recall: 0.5977\n",
      "F1 Score: 0.7086\n"
     ]
    }
   ],
   "source": [
    "print(\"Logistic Regression + Count Vectors + 1-gram\")\n",
    "train_model(linear_model.LogisticRegression(), xtrain_count_1n, train_y, xvalid_count_1n)\n",
    "\n",
    "print(\"\\nLogistic Regression + Count Vectors + 2-gram\")\n",
    "train_model(linear_model.LogisticRegression(), xtrain_count_2n, train_y, xvalid_count_2n)\n",
    "\n",
    "print(\"\\nLogistic Regression + Count Vectors + 3-gram\")\n",
    "train_model(linear_model.LogisticRegression(), xtrain_count_3n, train_y, xvalid_count_3n)"
   ]
  },
  {
   "cell_type": "code",
   "execution_count": 35,
   "metadata": {
    "ExecuteTime": {
     "end_time": "2019-07-18T04:23:41.220967Z",
     "start_time": "2019-07-18T04:23:40.635568Z"
    }
   },
   "outputs": [
    {
     "name": "stdout",
     "output_type": "stream",
     "text": [
      "Logistic Regression + TF-IDF + 1-gram\n",
      "Accuracy: 0.8767\n",
      "Precision: 0.8776\n",
      "Recall: 0.876\n",
      "F1 Score: 0.8768\n",
      "\n",
      "Logistic Regression + TF-IDF + 2-gram\n",
      "Accuracy: 0.5133\n",
      "Precision: 0.2694\n",
      "Recall: 0.526\n",
      "F1 Score: 0.3563\n",
      "\n",
      "Logistic Regression + TF-IDF + 3-gram\n",
      "Accuracy: 0.6453\n",
      "Precision: 0.8722\n",
      "Recall: 0.5999\n",
      "F1 Score: 0.7109\n"
     ]
    }
   ],
   "source": [
    "print(\"Logistic Regression + TF-IDF + 1-gram\")\n",
    "train_model(linear_model.LogisticRegression(), xtrain_tfidf_1n, train_y, xvalid_tfidf_1n)\n",
    "\n",
    "print(\"\\nLogistic Regression + TF-IDF + 2-gram\")\n",
    "train_model(linear_model.LogisticRegression(), xtrain_tfidf_2n, train_y, xvalid_tfidf_3n)\n",
    "\n",
    "print(\"\\nLogistic Regression + TF-IDF + 3-gram\")\n",
    "train_model(linear_model.LogisticRegression(), xtrain_tfidf_3n, train_y, xvalid_tfidf_3n)"
   ]
  },
  {
   "cell_type": "code",
   "execution_count": 36,
   "metadata": {
    "ExecuteTime": {
     "end_time": "2019-07-18T04:23:47.892166Z",
     "start_time": "2019-07-18T04:23:41.222770Z"
    },
    "scrolled": true
   },
   "outputs": [
    {
     "name": "stdout",
     "output_type": "stream",
     "text": [
      "Logistic Regression + 1234 + Word2vec\n",
      "Accuracy: 0.6164\n",
      "Precision: 0.6182\n",
      "Recall: 0.616\n",
      "F1 Score: 0.6171\n",
      "\n",
      "Logistic Regression + 14 + Word2vec\n",
      "Accuracy: 0.6488\n",
      "Precision: 0.6494\n",
      "Recall: 0.6486\n",
      "F1 Score: 0.649\n"
     ]
    }
   ],
   "source": [
    "print(\"Logistic Regression + 1234 + Word2vec\")\n",
    "train_model(linear_model.LogisticRegression(), train_vec, train_y, valid_vec)\n",
    "\n",
    "print(\"\\nLogistic Regression + 14 + Word2vec\")\n",
    "train_model(linear_model.LogisticRegression(), train_w2v_vec, train_y, valid_w2v_vec)"
   ]
  },
  {
   "cell_type": "markdown",
   "metadata": {},
   "source": [
    "# Model Training (DNN)"
   ]
  },
  {
   "cell_type": "code",
   "execution_count": 37,
   "metadata": {
    "ExecuteTime": {
     "end_time": "2019-07-18T04:23:49.804907Z",
     "start_time": "2019-07-18T04:23:47.894373Z"
    }
   },
   "outputs": [
    {
     "name": "stderr",
     "output_type": "stream",
     "text": [
      "Using TensorFlow backend.\n"
     ]
    }
   ],
   "source": [
    "from keras.preprocessing import text, sequence\n",
    "from keras import layers, models, optimizers"
   ]
  },
  {
   "cell_type": "markdown",
   "metadata": {},
   "source": [
    "## CNN"
   ]
  },
  {
   "cell_type": "code",
   "execution_count": 64,
   "metadata": {
    "ExecuteTime": {
     "end_time": "2019-07-18T20:16:27.748598Z",
     "start_time": "2019-07-18T20:16:27.745263Z"
    }
   },
   "outputs": [],
   "source": [
    "MAX_SEQUENCE_LENGTH = 128 \n",
    "EMBEDDING_DIM = 100\n",
    "VALIDATION_SPLIT = 0.16\n",
    "TEST_SPLIT = 0.2"
   ]
  },
  {
   "cell_type": "code",
   "execution_count": 65,
   "metadata": {
    "ExecuteTime": {
     "end_time": "2019-07-18T20:16:38.368345Z",
     "start_time": "2019-07-18T20:16:33.768301Z"
    }
   },
   "outputs": [
    {
     "name": "stdout",
     "output_type": "stream",
     "text": [
      "Found 67090 unique tokens.\n",
      "Shape of data tensor: (50000, 128)\n",
      "Shape of label tensor: (50000, 2)\n"
     ]
    }
   ],
   "source": [
    "from keras.preprocessing.text import Tokenizer\n",
    "from keras.preprocessing.sequence import pad_sequences\n",
    "from keras.utils import to_categorical\n",
    "import numpy as np\n",
    "\n",
    "# One-hot\n",
    "tokenizer = Tokenizer()\n",
    "tokenizer.fit_on_texts(train_sp['Token'])\n",
    "sequences = tokenizer.texts_to_sequences(train_sp['Token'])\n",
    "word_index = tokenizer.word_index\n",
    "print('Found %s unique tokens.' % len(word_index))\n",
    "data = pad_sequences(sequences, maxlen=MAX_SEQUENCE_LENGTH)\n",
    "labels = to_categorical(np.asarray(train_sp['Sentiment']))\n",
    "print('Shape of data tensor:', data.shape)\n",
    "print('Shape of label tensor:', labels.shape)"
   ]
  },
  {
   "cell_type": "code",
   "execution_count": 66,
   "metadata": {
    "ExecuteTime": {
     "end_time": "2019-07-18T20:16:44.220729Z",
     "start_time": "2019-07-18T20:16:44.214126Z"
    }
   },
   "outputs": [
    {
     "name": "stdout",
     "output_type": "stream",
     "text": [
      "train rows: 31999\n",
      "valid rows: 8001\n",
      "test rows: 10000\n"
     ]
    }
   ],
   "source": [
    "p1 = int(len(data)*(1-VALIDATION_SPLIT-TEST_SPLIT))\n",
    "p2 = int(len(data)*(1-TEST_SPLIT))\n",
    "x_train = data[:p1]\n",
    "y_train = labels[:p1]\n",
    "x_val = data[p1:p2]\n",
    "y_val = labels[p1:p2]\n",
    "x_test = data[p2:]\n",
    "y_test = labels[p2:]\n",
    "print('train rows: '+str(len(x_train)))\n",
    "print('valid rows: '+str(len(x_val)))\n",
    "print('test rows: '+str(len(x_test)))"
   ]
  },
  {
   "cell_type": "code",
   "execution_count": 71,
   "metadata": {
    "ExecuteTime": {
     "end_time": "2019-07-18T21:05:08.644128Z",
     "start_time": "2019-07-18T21:05:08.537954Z"
    }
   },
   "outputs": [
    {
     "name": "stdout",
     "output_type": "stream",
     "text": [
      "_________________________________________________________________\n",
      "Layer (type)                 Output Shape              Param #   \n",
      "=================================================================\n",
      "embedding_11 (Embedding)     (None, 128, 100)          6709100   \n",
      "_________________________________________________________________\n",
      "dropout_13 (Dropout)         (None, 128, 100)          0         \n",
      "_________________________________________________________________\n",
      "conv1d_9 (Conv1D)            (None, 126, 250)          75250     \n",
      "_________________________________________________________________\n",
      "max_pooling1d_9 (MaxPooling1 (None, 42, 250)           0         \n",
      "_________________________________________________________________\n",
      "flatten_5 (Flatten)          (None, 10500)             0         \n",
      "_________________________________________________________________\n",
      "dense_33 (Dense)             (None, 100)               1050100   \n",
      "_________________________________________________________________\n",
      "dense_34 (Dense)             (None, 2)                 202       \n",
      "=================================================================\n",
      "Total params: 7,834,652\n",
      "Trainable params: 7,834,652\n",
      "Non-trainable params: 0\n",
      "_________________________________________________________________\n"
     ]
    }
   ],
   "source": [
    "from keras.layers import Dense, Input, Flatten, Dropout\n",
    "from keras.layers import Conv1D, MaxPooling1D, Embedding\n",
    "from keras.models import Sequential\n",
    "\n",
    "cnn = Sequential()\n",
    "cnn.add(Embedding(len(word_index) + 1, EMBEDDING_DIM, input_length=MAX_SEQUENCE_LENGTH))\n",
    "cnn.add(Dropout(0.2))\n",
    "cnn.add(Conv1D(250, 3, padding='valid', activation='relu', strides=1))\n",
    "cnn.add(MaxPooling1D(3))\n",
    "cnn.add(Flatten())\n",
    "cnn.add(Dense(EMBEDDING_DIM, activation='relu'))\n",
    "cnn.add(Dense(labels.shape[1], activation='softmax'))\n",
    "cnn.summary()"
   ]
  },
  {
   "cell_type": "code",
   "execution_count": 72,
   "metadata": {
    "ExecuteTime": {
     "end_time": "2019-07-18T21:09:20.743763Z",
     "start_time": "2019-07-18T21:05:14.128876Z"
    }
   },
   "outputs": [
    {
     "name": "stdout",
     "output_type": "stream",
     "text": [
      "Train on 31999 samples, validate on 8001 samples\n",
      "Epoch 1/3\n",
      "31999/31999 [==============================] - 87s 3ms/step - loss: 0.3840 - acc: 0.8235 - val_loss: 0.3019 - val_acc: 0.8735\n",
      "Epoch 2/3\n",
      "31999/31999 [==============================] - 70s 2ms/step - loss: 0.2499 - acc: 0.8997 - val_loss: 0.3111 - val_acc: 0.8728\n",
      "Epoch 3/3\n",
      "31999/31999 [==============================] - 82s 3ms/step - loss: 0.1922 - acc: 0.9244 - val_loss: 0.3178 - val_acc: 0.8709\n"
     ]
    },
    {
     "data": {
      "image/png": "[encoded data removed]",
      "text/plain": [
       "<Figure size 648x432 with 1 Axes>"
      ]
     },
     "metadata": {
      "needs_background": "light"
     },
     "output_type": "display_data"
    },
    {
     "name": "stdout",
     "output_type": "stream",
     "text": [
      "10000/10000 [==============================] - 7s 664us/step\n",
      "[Test] Loss: 0.3195686294674873\n",
      "[Test] Accuracy: 0.8716\n"
     ]
    }
   ],
   "source": [
    "# CNN + One-hot\n",
    "cnn.compile(loss='binary_crossentropy',\n",
    "              optimizer='rmsprop',\n",
    "              metrics=['acc'])\n",
    "history = cnn.fit(x_train, y_train, validation_data=(x_val, y_val), epochs=3, batch_size=64)\n",
    "\n",
    "plt.plot(history.history['loss'])\n",
    "plt.plot(history.history['val_loss'])\n",
    "plt.title('CNN: Train vs Validation Loss')\n",
    "plt.ylabel('Loss')\n",
    "plt.xlabel('Epoch')\n",
    "plt.legend(['Train', 'Validation'], loc='upper right')\n",
    "plt.show()\n",
    "\n",
    "result = cnn.evaluate(x_test, y_test)\n",
    "print('[Test] Loss:', result[0])\n",
    "print('[Test] Accuracy:', result[1])"
   ]
  },
  {
   "cell_type": "code",
   "execution_count": 43,
   "metadata": {
    "ExecuteTime": {
     "end_time": "2019-07-18T06:06:12.498604Z",
     "start_time": "2019-07-18T06:06:11.533881Z"
    }
   },
   "outputs": [],
   "source": [
    "# Word2vec\n",
    "from keras.utils import plot_model\n",
    "from keras.layers import Embedding\n",
    "\n",
    "embedding_matrix = np.zeros((len(word_index) + 1, EMBEDDING_DIM))\n",
    "for word, i in word_index.items(): \n",
    "    if str(word) in w2vmodel:\n",
    "        embedding_matrix[i] = np.asarray(w2vmodel[str(word)],dtype='float32')\n",
    "        \n",
    "embedding_layer = Embedding(len(word_index) + 1,\n",
    "                            EMBEDDING_DIM,\n",
    "                            weights=[embedding_matrix],\n",
    "                            input_length=MAX_SEQUENCE_LENGTH,\n",
    "                            trainable=False)\n"
   ]
  },
  {
   "cell_type": "code",
   "execution_count": 52,
   "metadata": {
    "ExecuteTime": {
     "end_time": "2019-07-18T10:28:40.684003Z",
     "start_time": "2019-07-18T10:23:40.184289Z"
    }
   },
   "outputs": [
    {
     "name": "stdout",
     "output_type": "stream",
     "text": [
      "_________________________________________________________________\n",
      "Layer (type)                 Output Shape              Param #   \n",
      "=================================================================\n",
      "embedding_6 (Embedding)      (None, 128, 300)          20127300  \n",
      "_________________________________________________________________\n",
      "dropout_8 (Dropout)          (None, 128, 300)          0         \n",
      "_________________________________________________________________\n",
      "conv1d_4 (Conv1D)            (None, 126, 250)          225250    \n",
      "_________________________________________________________________\n",
      "max_pooling1d_4 (MaxPooling1 (None, 42, 250)           0         \n",
      "_________________________________________________________________\n",
      "flatten_3 (Flatten)          (None, 10500)             0         \n",
      "_________________________________________________________________\n",
      "dense_20 (Dense)             (None, 300)               3150300   \n",
      "_________________________________________________________________\n",
      "dense_21 (Dense)             (None, 2)                 602       \n",
      "=================================================================\n",
      "Total params: 23,503,452\n",
      "Trainable params: 3,376,152\n",
      "Non-trainable params: 20,127,300\n",
      "_________________________________________________________________\n",
      "Train on 32499 samples, validate on 7501 samples\n",
      "Epoch 1/5\n",
      "32499/32499 [==============================] - 61s 2ms/step - loss: 1.4658 - acc: 0.7192 - val_loss: 2.3744 - val_acc: 0.7672\n",
      "Epoch 2/5\n",
      "32499/32499 [==============================] - 58s 2ms/step - loss: 3.9071 - acc: 0.7285 - val_loss: 4.7535 - val_acc: 0.6947\n",
      "Epoch 3/5\n",
      "32499/32499 [==============================] - 58s 2ms/step - loss: 4.2146 - acc: 0.7324 - val_loss: 3.6348 - val_acc: 0.7694\n",
      "Epoch 4/5\n",
      "32499/32499 [==============================] - 59s 2ms/step - loss: 4.2071 - acc: 0.7350 - val_loss: 6.6657 - val_acc: 0.5830\n",
      "Epoch 5/5\n",
      "32499/32499 [==============================] - 57s 2ms/step - loss: 4.6303 - acc: 0.7097 - val_loss: 5.2867 - val_acc: 0.6691\n",
      "10000/10000 [==============================] - 7s 688us/step\n"
     ]
    },
    {
     "data": {
      "text/plain": [
       "[5.112500967597962, 0.6796]"
      ]
     },
     "execution_count": 52,
     "metadata": {},
     "output_type": "execute_result"
    }
   ],
   "source": [
    "# CNN + Word2vec\n",
    "from keras.layers import Dense, Input, Flatten, Dropout\n",
    "from keras.layers import Conv1D, MaxPooling1D, Embedding\n",
    "from keras.models import Sequential\n",
    "\n",
    "cnn_w2v = Sequential()\n",
    "cnn_w2v.add(embedding_layer)\n",
    "cnn_w2v.add(Dropout(0.2))\n",
    "cnn_w2v.add(Conv1D(250, 3, padding='valid', activation='relu', strides=1))\n",
    "cnn_w2v.add(MaxPooling1D(3))\n",
    "cnn_w2v.add(Flatten())\n",
    "cnn_w2v.add(Dense(EMBEDDING_DIM, activation='relu'))\n",
    "cnn_w2v.add(Dense(labels.shape[1], activation='softmax'))\n",
    "cnn_w2v.summary()\n",
    "\n",
    "cnn_w2v.compile(loss='binary_crossentropy',\n",
    "              optimizer='rmsprop',\n",
    "              metrics=['acc'])\n",
    "history = cnn_w2v.fit(x_train, y_train, validation_data=(x_val, y_val), epochs=5, batch_size=128)\n",
    "\n",
    "plt.plot(history.history['loss'])\n",
    "plt.plot(history.history['val_loss'])\n",
    "plt.title('CNN + Word2vec: Train vs Validation Loss')\n",
    "plt.ylabel('Loss')\n",
    "plt.xlabel('Epoch')\n",
    "plt.legend(['Train', 'Validation'], loc='upper right')\n",
    "plt.show()\n",
    "\n",
    "result = cnn_w2v.evaluate(x_test, y_test)\n",
    "print('[Test] Loss:', result[0])\n",
    "print('[Test] Accuracy:', result[1])"
   ]
  },
  {
   "cell_type": "markdown",
   "metadata": {
    "ExecuteTime": {
     "end_time": "2019-07-17T23:01:03.811073Z",
     "start_time": "2019-07-17T23:01:03.783953Z"
    }
   },
   "source": [
    "## LSTM "
   ]
  },
  {
   "cell_type": "code",
   "execution_count": 46,
   "metadata": {
    "ExecuteTime": {
     "end_time": "2019-07-18T08:53:36.456943Z",
     "start_time": "2019-07-18T08:19:27.518151Z"
    }
   },
   "outputs": [
    {
     "name": "stdout",
     "output_type": "stream",
     "text": [
      "_________________________________________________________________\n",
      "Layer (type)                 Output Shape              Param #   \n",
      "=================================================================\n",
      "embedding_4 (Embedding)      (None, 128, 300)          20127300  \n",
      "_________________________________________________________________\n",
      "dropout_4 (Dropout)          (None, 128, 300)          0         \n",
      "_________________________________________________________________\n",
      "lstm_2 (LSTM)                (None, 128)               219648    \n",
      "_________________________________________________________________\n",
      "dense_8 (Dense)              (None, 1)                 129       \n",
      "_________________________________________________________________\n",
      "dense_9 (Dense)              (None, 300)               600       \n",
      "_________________________________________________________________\n",
      "dense_10 (Dense)             (None, 2)                 602       \n",
      "=================================================================\n",
      "Total params: 20,348,279\n",
      "Trainable params: 20,348,279\n",
      "Non-trainable params: 0\n",
      "_________________________________________________________________\n",
      "Train on 32499 samples, validate on 7501 samples\n",
      "Epoch 1/5\n",
      "32499/32499 [==============================] - 341s 10ms/step - loss: 0.5704 - acc: 0.6876 - val_loss: 0.3883 - val_acc: 0.8516\n",
      "Epoch 2/5\n",
      "32499/32499 [==============================] - 404s 12ms/step - loss: 0.3301 - acc: 0.8715 - val_loss: 0.3437 - val_acc: 0.8694\n",
      "Epoch 3/5\n",
      "32499/32499 [==============================] - 405s 12ms/step - loss: 0.2605 - acc: 0.9012 - val_loss: 0.3024 - val_acc: 0.8731\n",
      "Epoch 4/5\n",
      "32499/32499 [==============================] - 420s 13ms/step - loss: 0.2152 - acc: 0.9200 - val_loss: 0.3356 - val_acc: 0.8596\n",
      "Epoch 5/5\n",
      "32499/32499 [==============================] - 445s 14ms/step - loss: 0.1828 - acc: 0.9339 - val_loss: 0.3318 - val_acc: 0.8611\n",
      "10000/10000 [==============================] - 32s 3ms/step\n"
     ]
    },
    {
     "data": {
      "text/plain": [
       "[0.33459731278419497, 0.8614]"
      ]
     },
     "execution_count": 46,
     "metadata": {},
     "output_type": "execute_result"
    }
   ],
   "source": [
    "from keras.layers import Dense, Input, Flatten, Dropout\n",
    "from keras.layers import LSTM, MaxPooling1D, Embedding\n",
    "from keras.models import Sequential\n",
    "\n",
    "lstm = Sequential()\n",
    "lstm.add(Embedding(len(word_index) + 1, EMBEDDING_DIM, input_length=MAX_SEQUENCE_LENGTH))\n",
    "lstm.add(Dropout(0.2))\n",
    "lstm.add(LSTM(128, dropout=0.2, recurrent_dropout=0.2))\n",
    "lstm.add(Dense(1, activation='sigmoid'))\n",
    "lstm.add(Dense(EMBEDDING_DIM, activation='relu'))\n",
    "lstm.add(Dense(labels.shape[1], activation='softmax'))\n",
    "lstm.summary()\n",
    "\n",
    "lstm.compile(loss='binary_crossentropy',\n",
    "              optimizer='rmsprop',\n",
    "              metrics=['acc'])\n",
    "history = lstm.fit(x_train, y_train, validation_data=(x_val, y_val), epochs=5, batch_size=128)\n",
    "\n",
    "plt.plot(history.history['loss'])\n",
    "plt.plot(history.history['val_loss'])\n",
    "plt.title('LSTM: Train vs Validation Loss')\n",
    "plt.ylabel('Loss')\n",
    "plt.xlabel('Epoch')\n",
    "plt.legend(['Train', 'Validation'], loc='upper right')\n",
    "plt.show()\n",
    "\n",
    "result = lstm.evaluate(x_test, y_test)\n",
    "print('[Test] Loss:', result[0])\n",
    "print('[Test] Accuracy:', result[1])"
   ]
  },
  {
   "cell_type": "code",
   "execution_count": 60,
   "metadata": {
    "ExecuteTime": {
     "end_time": "2019-07-18T13:27:35.718362Z",
     "start_time": "2019-07-18T13:27:34.451209Z"
    }
   },
   "outputs": [],
   "source": [
    "# Word2vec\n",
    "from keras.utils import plot_model\n",
    "from keras.layers import Embedding\n",
    "\n",
    "embedding_matrix = np.zeros((len(word_index) + 1, EMBEDDING_DIM))\n",
    "for word, i in word_index.items(): \n",
    "    if str(word) in w2vmodel:\n",
    "        embedding_matrix[i] = np.asarray(w2vmodel[str(word)],dtype='float32')\n",
    "        \n",
    "embedding_layer = Embedding(len(word_index) + 1, EMBEDDING_DIM, weights=[embedding_matrix], input_length=MAX_SEQUENCE_LENGTH, trainable=False)\n"
   ]
  },
  {
   "cell_type": "code",
   "execution_count": 50,
   "metadata": {
    "ExecuteTime": {
     "end_time": "2019-07-18T09:38:39.897550Z",
     "start_time": "2019-07-18T09:18:46.884652Z"
    }
   },
   "outputs": [
    {
     "name": "stdout",
     "output_type": "stream",
     "text": [
      "_________________________________________________________________\n",
      "Layer (type)                 Output Shape              Param #   \n",
      "=================================================================\n",
      "embedding_6 (Embedding)      (None, 128, 300)          20127300  \n",
      "_________________________________________________________________\n",
      "dropout_7 (Dropout)          (None, 128, 300)          0         \n",
      "_________________________________________________________________\n",
      "lstm_5 (LSTM)                (None, 128)               219648    \n",
      "_________________________________________________________________\n",
      "dense_17 (Dense)             (None, 1)                 129       \n",
      "_________________________________________________________________\n",
      "dense_18 (Dense)             (None, 300)               600       \n",
      "_________________________________________________________________\n",
      "dense_19 (Dense)             (None, 2)                 602       \n",
      "=================================================================\n",
      "Total params: 20,348,279\n",
      "Trainable params: 220,979\n",
      "Non-trainable params: 20,127,300\n",
      "_________________________________________________________________\n",
      "Train on 32499 samples, validate on 7501 samples\n",
      "Epoch 1/5\n",
      "32499/32499 [==============================] - 185s 6ms/step - loss: 0.4893 - acc: 0.7881 - val_loss: 0.3860 - val_acc: 0.8336\n",
      "Epoch 2/5\n",
      "32499/32499 [==============================] - 562s 17ms/step - loss: 0.3702 - acc: 0.8377 - val_loss: 0.3307 - val_acc: 0.8570\n",
      "Epoch 3/5\n",
      "32499/32499 [==============================] - 204s 6ms/step - loss: 0.3358 - acc: 0.8539 - val_loss: 0.3104 - val_acc: 0.8668\n",
      "Epoch 4/5\n",
      "32499/32499 [==============================] - 113s 3ms/step - loss: 0.3127 - acc: 0.8656 - val_loss: 0.3034 - val_acc: 0.8682\n",
      "Epoch 5/5\n",
      "32499/32499 [==============================] - 113s 3ms/step - loss: 0.2920 - acc: 0.8767 - val_loss: 0.2930 - val_acc: 0.8704\n",
      "10000/10000 [==============================] - 14s 1ms/step\n"
     ]
    },
    {
     "data": {
      "text/plain": [
       "[0.2884707634925842, 0.8802]"
      ]
     },
     "execution_count": 50,
     "metadata": {},
     "output_type": "execute_result"
    }
   ],
   "source": [
    "# LSTM + Word2vec\n",
    "from keras.layers import Dense, Input, Flatten, Dropout\n",
    "from keras.layers import LSTM, MaxPooling1D, Embedding\n",
    "from keras.models import Sequential\n",
    "\n",
    "lstm_w2v = Sequential()\n",
    "lstm_w2v.add(embedding_layer)\n",
    "lstm_w2v.add(Dropout(0.2))\n",
    "lstm_w2v.add(LSTM(128, dropout=0.2, recurrent_dropout=0.2))\n",
    "lstm_w2v.add(Dense(1, activation='sigmoid'))\n",
    "lstm_w2v.add(Dense(EMBEDDING_DIM, activation='relu'))\n",
    "lstm_w2v.add(Dense(labels.shape[1], activation='softmax'))\n",
    "lstm_w2v.summary()\n",
    "\n",
    "lstm_w2v.compile(loss='binary_crossentropy',\n",
    "              optimizer='rmsprop',\n",
    "              metrics=['acc'])\n",
    "history = lstm_w2v.fit(x_train, y_train, validation_data=(x_val, y_val), epochs=5, batch_size=128)\n",
    "\n",
    "plt.plot(history.history['loss'])\n",
    "plt.plot(history.history['val_loss'])\n",
    "plt.title('LSTM + Word2vec: Train vs Validation Loss')\n",
    "plt.ylabel('Loss')\n",
    "plt.xlabel('Epoch')\n",
    "plt.legend(['Train', 'Validation'], loc='upper right')\n",
    "plt.show()\n",
    "\n",
    "result = lstm_w2v.evaluate(x_test, y_test)\n",
    "print('[Test] Loss:', result[0])\n",
    "print('[Test] Accuracy:', result[1])"
   ]
  },
  {
   "cell_type": "markdown",
   "metadata": {},
   "source": [
    "## Hybrid Model"
   ]
  },
  {
   "cell_type": "code",
   "execution_count": 63,
   "metadata": {
    "ExecuteTime": {
     "end_time": "2019-07-18T19:58:27.831449Z",
     "start_time": "2019-07-18T19:26:12.727476Z"
    }
   },
   "outputs": [
    {
     "name": "stdout",
     "output_type": "stream",
     "text": [
      "_________________________________________________________________\n",
      "Layer (type)                 Output Shape              Param #   \n",
      "=================================================================\n",
      "embedding_9 (Embedding)      (None, 128, 300)          20127300  \n",
      "_________________________________________________________________\n",
      "dropout_11 (Dropout)         (None, 128, 300)          0         \n",
      "_________________________________________________________________\n",
      "conv1d_7 (Conv1D)            (None, 126, 250)          225250    \n",
      "_________________________________________________________________\n",
      "max_pooling1d_7 (MaxPooling1 (None, 42, 250)           0         \n",
      "_________________________________________________________________\n",
      "lstm_8 (LSTM)                (None, 128)               194048    \n",
      "_________________________________________________________________\n",
      "dense_28 (Dense)             (None, 2)                 258       \n",
      "_________________________________________________________________\n",
      "dense_29 (Dense)             (None, 300)               900       \n",
      "_________________________________________________________________\n",
      "dense_30 (Dense)             (None, 2)                 602       \n",
      "=================================================================\n",
      "Total params: 20,548,358\n",
      "Trainable params: 20,548,358\n",
      "Non-trainable params: 0\n",
      "_________________________________________________________________\n",
      "Train on 32499 samples, validate on 7501 samples\n",
      "Epoch 1/10\n",
      "32499/32499 [==============================] - 202s 6ms/step - loss: 0.4045 - acc: 0.8208 - val_loss: 0.3169 - val_acc: 0.8668\n",
      "Epoch 2/10\n",
      "32499/32499 [==============================] - 157s 5ms/step - loss: 0.2500 - acc: 0.9018 - val_loss: 0.3012 - val_acc: 0.8708\n",
      "Epoch 3/10\n",
      "32499/32499 [==============================] - 158s 5ms/step - loss: 0.1933 - acc: 0.9267 - val_loss: 0.3176 - val_acc: 0.8688\n",
      "Epoch 4/10\n",
      "32499/32499 [==============================] - 161s 5ms/step - loss: 0.1439 - acc: 0.9492 - val_loss: 0.3259 - val_acc: 0.8712\n",
      "Epoch 5/10\n",
      "32499/32499 [==============================] - 162s 5ms/step - loss: 0.1007 - acc: 0.9659 - val_loss: 0.3755 - val_acc: 0.8659\n",
      "Epoch 6/10\n",
      "32499/32499 [==============================] - 252s 8ms/step - loss: 0.0655 - acc: 0.9797 - val_loss: 0.4928 - val_acc: 0.8543\n",
      "Epoch 7/10\n",
      "32499/32499 [==============================] - 228s 7ms/step - loss: 0.0386 - acc: 0.9885 - val_loss: 0.4968 - val_acc: 0.8614\n",
      "Epoch 8/10\n",
      "32499/32499 [==============================] - 206s 6ms/step - loss: 0.0236 - acc: 0.9932 - val_loss: 0.6056 - val_acc: 0.8579\n",
      "Epoch 9/10\n",
      "32499/32499 [==============================] - 203s 6ms/step - loss: 0.0150 - acc: 0.9961 - val_loss: 0.6419 - val_acc: 0.8462\n",
      "Epoch 10/10\n",
      "32499/32499 [==============================] - 194s 6ms/step - loss: 0.0105 - acc: 0.9974 - val_loss: 0.7237 - val_acc: 0.8499\n"
     ]
    },
    {
     "data": {
      "image/png": "[encoded data removed]",
      "text/plain": [
       "<Figure size 648x432 with 1 Axes>"
      ]
     },
     "metadata": {
      "needs_background": "light"
     },
     "output_type": "display_data"
    },
    {
     "name": "stdout",
     "output_type": "stream",
     "text": [
      "10000/10000 [==============================] - 11s 1ms/step\n",
      "[Test] Loss: 0.7488823291540145\n",
      "[Test] Accuracy: 0.8488\n"
     ]
    }
   ],
   "source": [
    "# CNN + LSTM\n",
    "from keras.layers import Dense, Input, Flatten, Dropout\n",
    "from keras.layers import LSTM, Conv1D, MaxPooling1D, Embedding, TimeDistributed\n",
    "from keras.models import Sequential\n",
    "\n",
    "hybrid = Sequential()\n",
    "hybrid.add(Embedding(len(word_index) + 1, EMBEDDING_DIM, input_length=MAX_SEQUENCE_LENGTH))\n",
    "hybrid.add(Dropout(0.2))\n",
    "hybrid.add(Conv1D(250, 3, activation='relu'))\n",
    "hybrid.add(MaxPooling1D(pool_size=3))\n",
    "hybrid.add(LSTM(128))\n",
    "hybrid.add(Dense(2, activation='sigmoid'))\n",
    "hybrid.add(Dense(EMBEDDING_DIM, activation='relu'))\n",
    "hybrid.add(Dense(labels.shape[1], activation='softmax'))\n",
    "hybrid.compile(loss='binary_crossentropy', optimizer='adam', metrics=['accuracy'])\n",
    "hybrid.summary()\n",
    "\n",
    "hybrid.compile(loss='categorical_crossentropy',\n",
    "              optimizer='rmsprop',\n",
    "              metrics=['acc'])\n",
    "history = hybrid.fit(x_train, y_train, validation_data=(x_val, y_val), epochs=10, batch_size=128)\n",
    "\n",
    "plt.plot(history.history['loss'])\n",
    "plt.plot(history.history['val_loss'])\n",
    "plt.title('CNN + LSTM: Train vs Validation Loss')\n",
    "plt.ylabel('Loss')\n",
    "plt.xlabel('Epoch')\n",
    "plt.legend(['Train', 'Validation'], loc='upper right')\n",
    "plt.show()\n",
    "\n",
    "result = hybrid.evaluate(x_test, y_test)\n",
    "print('[Test] Loss:', result[0])\n",
    "print('[Test] Accuracy:', result[1])"
   ]
  },
  {
   "cell_type": "code",
   "execution_count": null,
   "metadata": {
    "ExecuteTime": {
     "end_time": "2019-07-18T19:25:59.461749Z",
     "start_time": "2019-07-18T19:25:55.999Z"
    }
   },
   "outputs": [],
   "source": [
    "# CNN + LSTM + Word2vec\n",
    "from keras.layers import Dense, Input, Flatten, Dropout\n",
    "from keras.layers import LSTM, Conv1D, MaxPooling1D, Embedding, TimeDistributed\n",
    "from keras.models import Sequential\n",
    "\n",
    "hybrid_w2v = Sequential()\n",
    "hybrid_w2v.add(embedding_layer)\n",
    "hybrid_w2v.add(Dropout(0.2))\n",
    "hybrid_w2v.add(Conv1D(250, 3, activation='relu'))\n",
    "hybrid_w2v.add(MaxPooling1D(pool_size=3))\n",
    "hybrid_w2v.add(LSTM(128))\n",
    "hybrid_w2v.add(Dense(2, activation='sigmoid'))\n",
    "hybrid_w2v.add(Dense(EMBEDDING_DIM, activation='relu'))\n",
    "hybrid_w2v.add(Dense(labels.shape[1], activation='softmax'))\n",
    "hybrid_w2v.compile(loss='binary_crossentropy', optimizer='adam', metrics=['accuracy'])\n",
    "hybrid_w2v.summary()\n",
    "\n",
    "hybrid_w2v.compile(loss='categorical_crossentropy',\n",
    "              optimizer='rmsprop',\n",
    "              metrics=['acc'])\n",
    "history = hybrid_w2v.fit(x_train, y_train, validation_data=(x_val, y_val), epochs=5, batch_size=128)\n",
    "\n",
    "plt.plot(history.history['loss'])\n",
    "plt.plot(history.history['val_loss'])\n",
    "plt.title('CNN + LSTM + Word2vec: Train vs Validation Loss')\n",
    "plt.ylabel('Loss')\n",
    "plt.xlabel('Epoch')\n",
    "plt.legend(['Train', 'Validation'], loc='upper right')\n",
    "plt.show()\n",
    "\n",
    "result = hybrid_w2v.evaluate(x_test, y_test)\n",
    "print('[Test] Loss:', result[0])\n",
    "print('[Test] Accuracy:', result[1])"
   ]
  },
  {
   "cell_type": "markdown",
   "metadata": {},
   "source": [
    "# Optimisation (CV: Parameters & Features Selection)"
   ]
  },
  {
   "cell_type": "markdown",
   "metadata": {},
   "source": [
    "# Reflection"
   ]
  },
  {
   "cell_type": "code",
   "execution_count": null,
   "metadata": {},
   "outputs": [],
   "source": []
  },
  {
   "cell_type": "code",
   "execution_count": null,
   "metadata": {},
   "outputs": [],
   "source": []
  },
  {
   "cell_type": "code",
   "execution_count": null,
   "metadata": {},
   "outputs": [],
   "source": []
  },
  {
   "cell_type": "code",
   "execution_count": null,
   "metadata": {},
   "outputs": [],
   "source": []
  },
  {
   "cell_type": "code",
   "execution_count": null,
   "metadata": {},
   "outputs": [],
   "source": []
  }
 ],
 "metadata": {
  "kernelspec": {
   "display_name": "Python 3",
   "language": "python",
   "name": "python3"
  },
  "language_info": {
   "codemirror_mode": {
    "name": "ipython",
    "version": 3
   },
   "file_extension": ".py",
   "mimetype": "text/x-python",
   "name": "python",
   "nbconvert_exporter": "python",
   "pygments_lexer": "ipython3",
   "version": "3.7.3"
  },
  "toc": {
   "base_numbering": 1,
   "nav_menu": {},
   "number_sections": true,
   "sideBar": true,
   "skip_h1_title": false,
   "title_cell": "Table of Contents",
   "title_sidebar": "Contents",
   "toc_cell": false,
   "toc_position": {},
   "toc_section_display": true,
   "toc_window_display": true
  },
  "varInspector": {
   "cols": {
    "lenName": 16,
    "lenType": 16,
    "lenVar": 40
   },
   "kernels_config": {
    "python": {
     "delete_cmd_postfix": "",
     "delete_cmd_prefix": "del ",
     "library": "var_list.py",
     "varRefreshCmd": "print(var_dic_list())"
    },
    "r": {
     "delete_cmd_postfix": ") ",
     "delete_cmd_prefix": "rm(",
     "library": "var_list.r",
     "varRefreshCmd": "cat(var_dic_list()) "
    }
   },
   "types_to_exclude": [
    "module",
    "function",
    "builtin_function_or_method",
    "instance",
    "_Feature"
   ],
   "window_display": false
  }
 },
 "nbformat": 4,
 "nbformat_minor": 2
}
