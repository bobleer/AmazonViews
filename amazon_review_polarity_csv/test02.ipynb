{
 "cells": [
  {
   "cell_type": "code",
   "execution_count": 1,
   "metadata": {
    "ExecuteTime": {
     "end_time": "2019-07-16T14:05:21.332345Z",
     "start_time": "2019-07-16T14:05:19.031199Z"
    }
   },
   "outputs": [],
   "source": [
    "# Packages\n",
    "import nltk\n",
    "import numpy as np\n",
    "from scipy import stats\n",
    "import pandas as pd\n",
    "import matplotlib.pyplot as plt\n",
    "import seaborn as sns\n",
    "import warnings\n",
    "from tqdm import tqdm\n",
    "warnings.filterwarnings('ignore')"
   ]
  },
  {
   "cell_type": "code",
   "execution_count": 2,
   "metadata": {
    "ExecuteTime": {
     "end_time": "2019-07-16T14:05:21.394352Z",
     "start_time": "2019-07-16T14:05:21.346888Z"
    }
   },
   "outputs": [],
   "source": [
    "# Plot settings\n",
    "sns.set_context('notebook') \n",
    "sns.set_style('ticks') \n",
    "colours = ['#1F77B4', '#FF7F0E', '#2CA02C', '#DB2728', '#9467BD', '#8C564B', '#E377C2','#7F7F7F', '#BCBD22', '#17BECF']\n",
    "crayon = ['#4E79A7','#F28E2C','#E15759','#76B7B2','#59A14F', '#EDC949','#AF7AA1','#FF9DA7','#9C755F','#BAB0AB']\n",
    "sns.set_palette(colours)\n",
    "%matplotlib inline\n",
    "plt.rcParams['figure.figsize'] = (9, 6)"
   ]
  },
  {
   "cell_type": "code",
   "execution_count": 3,
   "metadata": {
    "ExecuteTime": {
     "end_time": "2019-07-16T14:05:21.407879Z",
     "start_time": "2019-07-16T14:05:21.405383Z"
    }
   },
   "outputs": [],
   "source": [
    "# Methods from previous tutorials\n",
    "from sklearn.model_selection import train_test_split, cross_val_score"
   ]
  },
  {
   "cell_type": "code",
   "execution_count": 4,
   "metadata": {
    "ExecuteTime": {
     "end_time": "2019-07-16T14:05:41.138637Z",
     "start_time": "2019-07-16T14:05:21.420880Z"
    }
   },
   "outputs": [],
   "source": [
    "# Input Dataset\n",
    "test_file = pd.read_csv('test.csv', header=None)\n",
    "train_file = pd.read_csv('train.csv', header=None)"
   ]
  },
  {
   "cell_type": "code",
   "execution_count": 5,
   "metadata": {
    "ExecuteTime": {
     "end_time": "2019-07-16T14:05:46.593968Z",
     "start_time": "2019-07-16T14:05:41.191934Z"
    }
   },
   "outputs": [],
   "source": [
    "# Merge title and content\n",
    "test_file['Text'] = test_file[1]+' '+test_file[2]\n",
    "train_file['Text'] = train_file[1]+' '+train_file[2]\n",
    "test_file = test_file.drop(columns=[1,2])\n",
    "train_file = train_file.drop(columns=[1,2])"
   ]
  },
  {
   "cell_type": "code",
   "execution_count": 6,
   "metadata": {
    "ExecuteTime": {
     "end_time": "2019-07-16T14:05:47.173094Z",
     "start_time": "2019-07-16T14:05:46.630093Z"
    }
   },
   "outputs": [],
   "source": [
    "# Edit label\n",
    "test_file[0].replace(1,'Negative',inplace=True)\n",
    "test_file[0].replace(2,'Positive',inplace=True)\n",
    "train_file[0].replace(1,'Negative',inplace=True)\n",
    "train_file[0].replace(2,'Positive',inplace=True)"
   ]
  },
  {
   "cell_type": "code",
   "execution_count": 7,
   "metadata": {
    "ExecuteTime": {
     "end_time": "2019-07-16T14:05:47.700664Z",
     "start_time": "2019-07-16T14:05:47.212592Z"
    }
   },
   "outputs": [],
   "source": [
    "# Edit column name\n",
    "test_file.rename(columns={0:'Sentiment'},inplace=True)\n",
    "train_file.rename(columns={0:'Sentiment'},inplace=True)"
   ]
  },
  {
   "cell_type": "code",
   "execution_count": 8,
   "metadata": {
    "ExecuteTime": {
     "end_time": "2019-07-16T14:05:47.757970Z",
     "start_time": "2019-07-16T14:05:47.745530Z"
    }
   },
   "outputs": [
    {
     "data": {
      "text/html": [
       "<div>\n",
       "<style scoped>\n",
       "    .dataframe tbody tr th:only-of-type {\n",
       "        vertical-align: middle;\n",
       "    }\n",
       "\n",
       "    .dataframe tbody tr th {\n",
       "        vertical-align: top;\n",
       "    }\n",
       "\n",
       "    .dataframe thead th {\n",
       "        text-align: right;\n",
       "    }\n",
       "</style>\n",
       "<table border=\"1\" class=\"dataframe\">\n",
       "  <thead>\n",
       "    <tr style=\"text-align: right;\">\n",
       "      <th></th>\n",
       "      <th>Sentiment</th>\n",
       "      <th>Text</th>\n",
       "    </tr>\n",
       "  </thead>\n",
       "  <tbody>\n",
       "    <tr>\n",
       "      <th>3599995</th>\n",
       "      <td>Negative</td>\n",
       "      <td>Don't do it!! The high chair looks great when ...</td>\n",
       "    </tr>\n",
       "    <tr>\n",
       "      <th>3599996</th>\n",
       "      <td>Negative</td>\n",
       "      <td>Looks nice, low functionality I have used this...</td>\n",
       "    </tr>\n",
       "    <tr>\n",
       "      <th>3599997</th>\n",
       "      <td>Negative</td>\n",
       "      <td>compact, but hard to clean We have a small hou...</td>\n",
       "    </tr>\n",
       "    <tr>\n",
       "      <th>3599998</th>\n",
       "      <td>Negative</td>\n",
       "      <td>what is it saying? not sure what this book is ...</td>\n",
       "    </tr>\n",
       "    <tr>\n",
       "      <th>3599999</th>\n",
       "      <td>Positive</td>\n",
       "      <td>Makes My Blood Run Red-White-And-Blue I agree ...</td>\n",
       "    </tr>\n",
       "  </tbody>\n",
       "</table>\n",
       "</div>"
      ],
      "text/plain": [
       "        Sentiment                                               Text\n",
       "3599995  Negative  Don't do it!! The high chair looks great when ...\n",
       "3599996  Negative  Looks nice, low functionality I have used this...\n",
       "3599997  Negative  compact, but hard to clean We have a small hou...\n",
       "3599998  Negative  what is it saying? not sure what this book is ...\n",
       "3599999  Positive  Makes My Blood Run Red-White-And-Blue I agree ..."
      ]
     },
     "execution_count": 8,
     "metadata": {},
     "output_type": "execute_result"
    }
   ],
   "source": [
    "train_file.tail()"
   ]
  },
  {
   "cell_type": "code",
   "execution_count": 9,
   "metadata": {
    "ExecuteTime": {
     "end_time": "2019-07-16T14:05:47.808017Z",
     "start_time": "2019-07-16T14:05:47.800454Z"
    }
   },
   "outputs": [
    {
     "data": {
      "text/html": [
       "<div>\n",
       "<style scoped>\n",
       "    .dataframe tbody tr th:only-of-type {\n",
       "        vertical-align: middle;\n",
       "    }\n",
       "\n",
       "    .dataframe tbody tr th {\n",
       "        vertical-align: top;\n",
       "    }\n",
       "\n",
       "    .dataframe thead th {\n",
       "        text-align: right;\n",
       "    }\n",
       "</style>\n",
       "<table border=\"1\" class=\"dataframe\">\n",
       "  <thead>\n",
       "    <tr style=\"text-align: right;\">\n",
       "      <th></th>\n",
       "      <th>Sentiment</th>\n",
       "      <th>Text</th>\n",
       "    </tr>\n",
       "  </thead>\n",
       "  <tbody>\n",
       "    <tr>\n",
       "      <th>399995</th>\n",
       "      <td>Negative</td>\n",
       "      <td>Unbelievable- In a Bad Way We bought this Thom...</td>\n",
       "    </tr>\n",
       "    <tr>\n",
       "      <th>399996</th>\n",
       "      <td>Negative</td>\n",
       "      <td>Almost Great, Until it Broke... My son recieve...</td>\n",
       "    </tr>\n",
       "    <tr>\n",
       "      <th>399997</th>\n",
       "      <td>Negative</td>\n",
       "      <td>Disappointed !!! I bought this toy for my son ...</td>\n",
       "    </tr>\n",
       "    <tr>\n",
       "      <th>399998</th>\n",
       "      <td>Positive</td>\n",
       "      <td>Classic Jessica Mitford This is a compilation ...</td>\n",
       "    </tr>\n",
       "    <tr>\n",
       "      <th>399999</th>\n",
       "      <td>Negative</td>\n",
       "      <td>Comedy Scene, and Not Heard This DVD will be a...</td>\n",
       "    </tr>\n",
       "  </tbody>\n",
       "</table>\n",
       "</div>"
      ],
      "text/plain": [
       "       Sentiment                                               Text\n",
       "399995  Negative  Unbelievable- In a Bad Way We bought this Thom...\n",
       "399996  Negative  Almost Great, Until it Broke... My son recieve...\n",
       "399997  Negative  Disappointed !!! I bought this toy for my son ...\n",
       "399998  Positive  Classic Jessica Mitford This is a compilation ...\n",
       "399999  Negative  Comedy Scene, and Not Heard This DVD will be a..."
      ]
     },
     "execution_count": 9,
     "metadata": {},
     "output_type": "execute_result"
    }
   ],
   "source": [
    "test_file.tail()"
   ]
  },
  {
   "cell_type": "code",
   "execution_count": 10,
   "metadata": {
    "ExecuteTime": {
     "end_time": "2019-07-16T14:05:47.938861Z",
     "start_time": "2019-07-16T14:05:47.850297Z"
    }
   },
   "outputs": [],
   "source": [
    "train = train_file.copy()\n",
    "test = test_file.copy()"
   ]
  },
  {
   "cell_type": "code",
   "execution_count": 11,
   "metadata": {
    "ExecuteTime": {
     "end_time": "2019-07-16T14:05:48.399856Z",
     "start_time": "2019-07-16T14:05:48.011314Z"
    }
   },
   "outputs": [
    {
     "data": {
      "text/plain": [
       "Positive    1800000\n",
       "Negative    1800000\n",
       "Name: Sentiment, dtype: int64"
      ]
     },
     "execution_count": 11,
     "metadata": {},
     "output_type": "execute_result"
    }
   ],
   "source": [
    "train['Sentiment'].value_counts()"
   ]
  },
  {
   "cell_type": "code",
   "execution_count": 12,
   "metadata": {
    "ExecuteTime": {
     "end_time": "2019-07-16T14:05:48.504193Z",
     "start_time": "2019-07-16T14:05:48.455711Z"
    }
   },
   "outputs": [
    {
     "data": {
      "text/plain": [
       "Negative    200000\n",
       "Positive    200000\n",
       "Name: Sentiment, dtype: int64"
      ]
     },
     "execution_count": 12,
     "metadata": {},
     "output_type": "execute_result"
    }
   ],
   "source": [
    "test['Sentiment'].value_counts()"
   ]
  },
  {
   "cell_type": "code",
   "execution_count": 13,
   "metadata": {
    "ExecuteTime": {
     "end_time": "2019-07-16T14:05:50.851771Z",
     "start_time": "2019-07-16T14:05:48.563389Z"
    }
   },
   "outputs": [],
   "source": [
    "# Generate a random and balanced small sample for coding \n",
    "train_pos = train[train['Sentiment']=='Positive'].sample(frac=1)[:5000]\n",
    "train_neg = train[train['Sentiment']=='Negative'].sample(frac=1)[:5000]\n",
    "\n",
    "train_sp = pd.concat([train_pos, train_neg], axis=0, ignore_index=True)\n",
    "train_sp = train_sp.sample(frac=1).reset_index(drop=True)"
   ]
  },
  {
   "cell_type": "code",
   "execution_count": 14,
   "metadata": {
    "ExecuteTime": {
     "end_time": "2019-07-16T14:05:50.963334Z",
     "start_time": "2019-07-16T14:05:50.953995Z"
    }
   },
   "outputs": [
    {
     "data": {
      "text/html": [
       "<div>\n",
       "<style scoped>\n",
       "    .dataframe tbody tr th:only-of-type {\n",
       "        vertical-align: middle;\n",
       "    }\n",
       "\n",
       "    .dataframe tbody tr th {\n",
       "        vertical-align: top;\n",
       "    }\n",
       "\n",
       "    .dataframe thead th {\n",
       "        text-align: right;\n",
       "    }\n",
       "</style>\n",
       "<table border=\"1\" class=\"dataframe\">\n",
       "  <thead>\n",
       "    <tr style=\"text-align: right;\">\n",
       "      <th></th>\n",
       "      <th>Sentiment</th>\n",
       "      <th>Text</th>\n",
       "    </tr>\n",
       "  </thead>\n",
       "  <tbody>\n",
       "    <tr>\n",
       "      <th>9995</th>\n",
       "      <td>Negative</td>\n",
       "      <td>I read it once, I don't plan to ever read it a...</td>\n",
       "    </tr>\n",
       "    <tr>\n",
       "      <th>9996</th>\n",
       "      <td>Positive</td>\n",
       "      <td>screamin i suggest everyone get at least one p...</td>\n",
       "    </tr>\n",
       "    <tr>\n",
       "      <th>9997</th>\n",
       "      <td>Positive</td>\n",
       "      <td>Wonderful Mozart This is a really great album....</td>\n",
       "    </tr>\n",
       "    <tr>\n",
       "      <th>9998</th>\n",
       "      <td>Negative</td>\n",
       "      <td>Don't buy this umbrella I have been buying fro...</td>\n",
       "    </tr>\n",
       "    <tr>\n",
       "      <th>9999</th>\n",
       "      <td>Positive</td>\n",
       "      <td>Why have I never heard of Sharpe? I would reco...</td>\n",
       "    </tr>\n",
       "  </tbody>\n",
       "</table>\n",
       "</div>"
      ],
      "text/plain": [
       "     Sentiment                                               Text\n",
       "9995  Negative  I read it once, I don't plan to ever read it a...\n",
       "9996  Positive  screamin i suggest everyone get at least one p...\n",
       "9997  Positive  Wonderful Mozart This is a really great album....\n",
       "9998  Negative  Don't buy this umbrella I have been buying fro...\n",
       "9999  Positive  Why have I never heard of Sharpe? I would reco..."
      ]
     },
     "execution_count": 14,
     "metadata": {},
     "output_type": "execute_result"
    }
   ],
   "source": [
    "train_sp.tail()"
   ]
  },
  {
   "cell_type": "code",
   "execution_count": 15,
   "metadata": {
    "ExecuteTime": {
     "end_time": "2019-07-16T14:05:51.068957Z",
     "start_time": "2019-07-16T14:05:51.061166Z"
    }
   },
   "outputs": [
    {
     "data": {
      "text/plain": [
       "Negative    5000\n",
       "Positive    5000\n",
       "Name: Sentiment, dtype: int64"
      ]
     },
     "execution_count": 15,
     "metadata": {},
     "output_type": "execute_result"
    }
   ],
   "source": [
    "train_sp['Sentiment'].value_counts()"
   ]
  },
  {
   "cell_type": "markdown",
   "metadata": {},
   "source": [
    "## 2. Text Processing"
   ]
  },
  {
   "cell_type": "code",
   "execution_count": 16,
   "metadata": {
    "ExecuteTime": {
     "end_time": "2019-07-16T14:05:51.163168Z",
     "start_time": "2019-07-16T14:05:51.160216Z"
    }
   },
   "outputs": [],
   "source": [
    "# 1. Tokenisation (casual module)\n",
    "from nltk.tokenize import TweetTokenizer\n",
    "Tokenizer = TweetTokenizer()\n",
    "\n",
    "# 2. Remove punctuation\n",
    "import string\n",
    "\n",
    "# 3. Remove stopwords\n",
    "from nltk.corpus import stopwords\n",
    "\n",
    "# 4. Stemming\n",
    "from nltk.stem.porter import PorterStemmer"
   ]
  },
  {
   "cell_type": "code",
   "execution_count": 17,
   "metadata": {
    "ExecuteTime": {
     "end_time": "2019-07-16T14:05:51.254286Z",
     "start_time": "2019-07-16T14:05:51.249811Z"
    }
   },
   "outputs": [],
   "source": [
    "def process_text(text):\n",
    "    text = str(text)\n",
    "    tokenized = Tokenizer.tokenize(text)\n",
    "    tokenized_no_punctuation=[word.lower() for word in tokenized if word not in string.punctuation]\n",
    "    tokenized_no_stopwords=[word for word in tokenized_no_punctuation if word not in stopwords.words('english')]\n",
    "    token = [PorterStemmer().stem(word) for word in tokenized_no_stopwords if word != '️']\n",
    "    return token"
   ]
  },
  {
   "cell_type": "code",
   "execution_count": 18,
   "metadata": {
    "ExecuteTime": {
     "end_time": "2019-07-16T14:08:52.442482Z",
     "start_time": "2019-07-16T14:05:51.342129Z"
    }
   },
   "outputs": [],
   "source": [
    "train_sp['Token'] = train_sp['Text'].apply(process_text)"
   ]
  },
  {
   "cell_type": "code",
   "execution_count": 19,
   "metadata": {
    "ExecuteTime": {
     "end_time": "2019-07-16T14:08:52.584090Z",
     "start_time": "2019-07-16T14:08:52.568668Z"
    }
   },
   "outputs": [
    {
     "data": {
      "text/html": [
       "<div>\n",
       "<style scoped>\n",
       "    .dataframe tbody tr th:only-of-type {\n",
       "        vertical-align: middle;\n",
       "    }\n",
       "\n",
       "    .dataframe tbody tr th {\n",
       "        vertical-align: top;\n",
       "    }\n",
       "\n",
       "    .dataframe thead th {\n",
       "        text-align: right;\n",
       "    }\n",
       "</style>\n",
       "<table border=\"1\" class=\"dataframe\">\n",
       "  <thead>\n",
       "    <tr style=\"text-align: right;\">\n",
       "      <th></th>\n",
       "      <th>Sentiment</th>\n",
       "      <th>Text</th>\n",
       "      <th>Token</th>\n",
       "    </tr>\n",
       "  </thead>\n",
       "  <tbody>\n",
       "    <tr>\n",
       "      <th>9995</th>\n",
       "      <td>Negative</td>\n",
       "      <td>I read it once, I don't plan to ever read it a...</td>\n",
       "      <td>[read, plan, ever, read, borrow, book, aunt, d...</td>\n",
       "    </tr>\n",
       "    <tr>\n",
       "      <th>9996</th>\n",
       "      <td>Positive</td>\n",
       "      <td>screamin i suggest everyone get at least one p...</td>\n",
       "      <td>[screamin, suggest, everyon, get, least, one, ...</td>\n",
       "    </tr>\n",
       "    <tr>\n",
       "      <th>9997</th>\n",
       "      <td>Positive</td>\n",
       "      <td>Wonderful Mozart This is a really great album....</td>\n",
       "      <td>[wonder, mozart, realli, great, album, enthusi...</td>\n",
       "    </tr>\n",
       "    <tr>\n",
       "      <th>9998</th>\n",
       "      <td>Negative</td>\n",
       "      <td>Don't buy this umbrella I have been buying fro...</td>\n",
       "      <td>[buy, umbrella, buy, amazon, number, year, alw...</td>\n",
       "    </tr>\n",
       "    <tr>\n",
       "      <th>9999</th>\n",
       "      <td>Positive</td>\n",
       "      <td>Why have I never heard of Sharpe? I would reco...</td>\n",
       "      <td>[never, heard, sharp, would, recommend, book, ...</td>\n",
       "    </tr>\n",
       "  </tbody>\n",
       "</table>\n",
       "</div>"
      ],
      "text/plain": [
       "     Sentiment                                               Text  \\\n",
       "9995  Negative  I read it once, I don't plan to ever read it a...   \n",
       "9996  Positive  screamin i suggest everyone get at least one p...   \n",
       "9997  Positive  Wonderful Mozart This is a really great album....   \n",
       "9998  Negative  Don't buy this umbrella I have been buying fro...   \n",
       "9999  Positive  Why have I never heard of Sharpe? I would reco...   \n",
       "\n",
       "                                                  Token  \n",
       "9995  [read, plan, ever, read, borrow, book, aunt, d...  \n",
       "9996  [screamin, suggest, everyon, get, least, one, ...  \n",
       "9997  [wonder, mozart, realli, great, album, enthusi...  \n",
       "9998  [buy, umbrella, buy, amazon, number, year, alw...  \n",
       "9999  [never, heard, sharp, would, recommend, book, ...  "
      ]
     },
     "execution_count": 19,
     "metadata": {},
     "output_type": "execute_result"
    }
   ],
   "source": [
    "train_sp.tail()"
   ]
  },
  {
   "cell_type": "code",
   "execution_count": 20,
   "metadata": {
    "ExecuteTime": {
     "end_time": "2019-07-16T14:08:52.998715Z",
     "start_time": "2019-07-16T14:08:52.716628Z"
    }
   },
   "outputs": [],
   "source": [
    "train_sp.to_csv('train_smallsample.csv')"
   ]
  },
  {
   "cell_type": "code",
   "execution_count": 273,
   "metadata": {
    "ExecuteTime": {
     "end_time": "2019-07-17T00:59:54.557313Z",
     "start_time": "2019-07-17T00:59:54.523935Z"
    }
   },
   "outputs": [],
   "source": [
    "# Randomly split indexes 80/20\n",
    "train, test  = train_test_split(train_sp, train_size=0.8, random_state=1, stratify=train_sp.Sentiment)"
   ]
  },
  {
   "cell_type": "code",
   "execution_count": 274,
   "metadata": {
    "ExecuteTime": {
     "end_time": "2019-07-17T00:59:55.908218Z",
     "start_time": "2019-07-17T00:59:55.901119Z"
    }
   },
   "outputs": [
    {
     "data": {
      "text/plain": [
       "Negative    4000\n",
       "Positive    4000\n",
       "Name: Sentiment, dtype: int64"
      ]
     },
     "execution_count": 274,
     "metadata": {},
     "output_type": "execute_result"
    }
   ],
   "source": [
    "train['Sentiment'].value_counts()"
   ]
  },
  {
   "cell_type": "code",
   "execution_count": 275,
   "metadata": {
    "ExecuteTime": {
     "end_time": "2019-07-17T00:59:57.268388Z",
     "start_time": "2019-07-17T00:59:57.261122Z"
    }
   },
   "outputs": [
    {
     "data": {
      "text/plain": [
       "Negative    1000\n",
       "Positive    1000\n",
       "Name: Sentiment, dtype: int64"
      ]
     },
     "execution_count": 275,
     "metadata": {},
     "output_type": "execute_result"
    }
   ],
   "source": [
    "test['Sentiment'].value_counts()"
   ]
  },
  {
   "cell_type": "code",
   "execution_count": 276,
   "metadata": {
    "ExecuteTime": {
     "end_time": "2019-07-17T00:59:58.960501Z",
     "start_time": "2019-07-17T00:59:58.631172Z"
    }
   },
   "outputs": [
    {
     "data": {
      "text/plain": [
       "[('book', 5036),\n",
       " ('one', 3121),\n",
       " ('like', 2522),\n",
       " ('great', 2399),\n",
       " ('good', 2238),\n",
       " ('read', 2125),\n",
       " ('use', 2035),\n",
       " ('...', 1973),\n",
       " ('would', 1963),\n",
       " ('get', 1933),\n",
       " ('time', 1826),\n",
       " ('work', 1677),\n",
       " ('love', 1556),\n",
       " ('movi', 1535),\n",
       " ('realli', 1289),\n",
       " ('make', 1258),\n",
       " ('product', 1248),\n",
       " ('buy', 1212),\n",
       " ('well', 1184),\n",
       " ('even', 1141)]"
      ]
     },
     "execution_count": 276,
     "metadata": {},
     "output_type": "execute_result"
    }
   ],
   "source": [
    "fdist = nltk.FreqDist()\n",
    "for words in train['Token']:\n",
    "    for word in words:\n",
    "        fdist[word] += 1\n",
    "\n",
    "fdist.most_common()[:20]"
   ]
  },
  {
   "cell_type": "code",
   "execution_count": 277,
   "metadata": {
    "ExecuteTime": {
     "end_time": "2019-07-17T01:00:00.587944Z",
     "start_time": "2019-07-17T01:00:00.273842Z"
    }
   },
   "outputs": [
    {
     "data": {
      "text/plain": [
       "great        0.3318\n",
       "book         0.2918\n",
       "one          0.2815\n",
       "good         0.2448\n",
       "like         0.2275\n",
       "love         0.2212\n",
       "read         0.1918\n",
       "time         0.1822\n",
       "get          0.1820\n",
       "use          0.1720\n",
       "would        0.1652\n",
       "well         0.1515\n",
       "best         0.1475\n",
       "work         0.1390\n",
       "...          0.1318\n",
       "make         0.1298\n",
       "realli       0.1290\n",
       "recommend    0.1280\n",
       "first        0.1235\n",
       "year         0.1078\n",
       "dtype: float64"
      ]
     },
     "execution_count": 277,
     "metadata": {},
     "output_type": "execute_result"
    }
   ],
   "source": [
    "positives = len(train[train['Sentiment']=='Positive']) # number of positive tweets in the training data\n",
    "\n",
    "fdist_positive = nltk.FreqDist()\n",
    "for words in train[train['Sentiment']=='Positive']['Token']:\n",
    "    for word in np.unique(words): # not counting repeated words this time\n",
    "        fdist_positive[word] += 1\n",
    "\n",
    "            \n",
    "common_positive = pd.Series(dict(fdist_positive))/positives # there is probably a better way to do this\n",
    "common_positive = common_positive.sort_values(ascending=False)\n",
    "common_positive.head(20).round(4)"
   ]
  },
  {
   "cell_type": "code",
   "execution_count": 278,
   "metadata": {
    "ExecuteTime": {
     "end_time": "2019-07-17T01:00:02.616402Z",
     "start_time": "2019-07-17T01:00:02.278213Z"
    }
   },
   "outputs": [
    {
     "data": {
      "text/plain": [
       "one        0.2862\n",
       "like       0.2465\n",
       "book       0.2458\n",
       "would      0.2318\n",
       "get        0.2092\n",
       "use        0.2020\n",
       "time       0.1958\n",
       "...        0.1882\n",
       "good       0.1840\n",
       "work       0.1710\n",
       "buy        0.1618\n",
       "even       0.1565\n",
       "read       0.1520\n",
       "make       0.1412\n",
       "much       0.1383\n",
       "product    0.1315\n",
       "realli     0.1292\n",
       "money      0.1270\n",
       "tri        0.1260\n",
       "better     0.1238\n",
       "dtype: float64"
      ]
     },
     "execution_count": 278,
     "metadata": {},
     "output_type": "execute_result"
    }
   ],
   "source": [
    "negatives = len(train[train['Sentiment']=='Negative']) # number of negative tweets in the training data\n",
    "\n",
    "fdist_negative = nltk.FreqDist()\n",
    "for words in train[train['Sentiment']=='Negative']['Token']:\n",
    "    for word in np.unique(words): # not counting repeated words this time\n",
    "        fdist_negative[word] += 1\n",
    "\n",
    "            \n",
    "common_negative = pd.Series(dict(fdist_negative))/negatives # there is probably a better way to do this\n",
    "common_negative = common_negative.sort_values(ascending=False)\n",
    "common_negative.head(20).round(4)"
   ]
  },
  {
   "cell_type": "code",
   "execution_count": 279,
   "metadata": {
    "ExecuteTime": {
     "end_time": "2019-07-17T01:00:03.886794Z",
     "start_time": "2019-07-17T01:00:03.882740Z"
    }
   },
   "outputs": [],
   "source": [
    "def comprepw(n):\n",
    "    # Repeated words from head {n}\n",
    "    repwords = [x for x in common_positive.head(n).index if x in common_negative.head(n).index]\n",
    "    print(repwords)\n",
    "\n",
    "    # Proportion\n",
    "    print('\\nThe similarity of the most {} frequent words between pos and neg:'.format(n), len(repwords)/n)"
   ]
  },
  {
   "cell_type": "code",
   "execution_count": 280,
   "metadata": {
    "ExecuteTime": {
     "end_time": "2019-07-17T01:00:05.546356Z",
     "start_time": "2019-07-17T01:00:05.540684Z"
    }
   },
   "outputs": [
    {
     "name": "stdout",
     "output_type": "stream",
     "text": [
      "['book', 'one', 'good', 'like', 'read', 'time', 'get', 'use', 'would', 'work', '...', 'make', 'realli']\n",
      "\n",
      "The similarity of the most 20 frequent words between pos and neg: 0.65\n"
     ]
    }
   ],
   "source": [
    "comprepw(20)"
   ]
  },
  {
   "cell_type": "code",
   "execution_count": 283,
   "metadata": {
    "ExecuteTime": {
     "end_time": "2019-07-17T01:00:59.676302Z",
     "start_time": "2019-07-17T01:00:59.382017Z"
    }
   },
   "outputs": [],
   "source": [
    "train['Positive'] = np.zeros(len(train))\n",
    "train.Positive[train['Sentiment']=='Positive'] = 1"
   ]
  },
  {
   "cell_type": "code",
   "execution_count": 284,
   "metadata": {
    "ExecuteTime": {
     "end_time": "2019-07-17T01:01:01.239777Z",
     "start_time": "2019-07-17T01:01:00.955364Z"
    }
   },
   "outputs": [],
   "source": [
    "test['Positive'] = np.zeros(len(test))\n",
    "test.Positive[test['Sentiment']=='Positive'] = 1"
   ]
  },
  {
   "cell_type": "code",
   "execution_count": 285,
   "metadata": {
    "ExecuteTime": {
     "end_time": "2019-07-17T01:01:02.528040Z",
     "start_time": "2019-07-17T01:01:02.471782Z"
    }
   },
   "outputs": [
    {
     "name": "stdout",
     "output_type": "stream",
     "text": [
      "0.403\n"
     ]
    }
   ],
   "source": [
    "from sklearn.metrics import accuracy_score\n",
    "from sklearn.naive_bayes import BernoulliNB\n",
    "\n",
    "def design_matrix(feature, series):\n",
    "    X=series.apply(lambda Token: (feature in Token))\n",
    "    X= X.astype(int) \n",
    "    return X.values.reshape((-1,1)) # converting to a NumPy matrix, as required\n",
    "\n",
    "# Response: simply retrieving the values in the respose value (as a NumPy array, for technical reasons) \n",
    "y_train=train['Positive'].values\n",
    "\n",
    "# Only use 'great' to predict\n",
    "X_train = design_matrix('great', train['Token'])\n",
    "X_test = design_matrix('great', test['Token'])\n",
    "\n",
    "nbc= BernoulliNB().fit(X_train, np.ravel(y_train))\n",
    "pred = nbc.predict(X_test)\n",
    "error  = 1 - accuracy_score(pred, test['Positive'])\n",
    "print(error.round(3))"
   ]
  },
  {
   "cell_type": "markdown",
   "metadata": {},
   "source": [
    "The performance in one feature is imporved then random performance (0.5)."
   ]
  },
  {
   "cell_type": "code",
   "execution_count": 326,
   "metadata": {
    "ExecuteTime": {
     "end_time": "2019-07-17T06:46:34.116915Z",
     "start_time": "2019-07-17T06:46:34.061727Z"
    }
   },
   "outputs": [],
   "source": [
    "features = pd.Series(dict(fdist))\n",
    "features = features.sort_values(ascending=False)\n",
    "#features.head()"
   ]
  },
  {
   "cell_type": "code",
   "execution_count": 327,
   "metadata": {
    "ExecuteTime": {
     "end_time": "2019-07-17T06:47:15.011596Z",
     "start_time": "2019-07-17T06:47:15.005654Z"
    }
   },
   "outputs": [
    {
     "data": {
      "text/plain": [
       "27294"
      ]
     },
     "execution_count": 327,
     "metadata": {},
     "output_type": "execute_result"
    }
   ],
   "source": [
    "len(features)"
   ]
  },
  {
   "cell_type": "code",
   "execution_count": 328,
   "metadata": {
    "ExecuteTime": {
     "end_time": "2019-07-17T06:47:18.044671Z",
     "start_time": "2019-07-17T06:47:18.039840Z"
    }
   },
   "outputs": [
    {
     "data": {
      "text/plain": [
       "17702"
      ]
     },
     "execution_count": 328,
     "metadata": {},
     "output_type": "execute_result"
    }
   ],
   "source": [
    "len(common_positive.index)"
   ]
  },
  {
   "cell_type": "code",
   "execution_count": 329,
   "metadata": {
    "ExecuteTime": {
     "end_time": "2019-07-17T06:47:19.221022Z",
     "start_time": "2019-07-17T06:47:19.217469Z"
    }
   },
   "outputs": [
    {
     "data": {
      "text/plain": [
       "17579"
      ]
     },
     "execution_count": 329,
     "metadata": {},
     "output_type": "execute_result"
    }
   ],
   "source": [
    "len(common_negative.index)"
   ]
  },
  {
   "cell_type": "code",
   "execution_count": 330,
   "metadata": {
    "ExecuteTime": {
     "end_time": "2019-07-17T06:47:21.765381Z",
     "start_time": "2019-07-17T06:47:21.752741Z"
    }
   },
   "outputs": [
    {
     "data": {
      "text/plain": [
       "count    27294.0\n",
       "mean        12.0\n",
       "std         76.0\n",
       "min          1.0\n",
       "25%          1.0\n",
       "50%          1.0\n",
       "75%          3.0\n",
       "max       5036.0\n",
       "dtype: float64"
      ]
     },
     "execution_count": 330,
     "metadata": {},
     "output_type": "execute_result"
    }
   ],
   "source": [
    "# More than half words appear only once\n",
    "features.describe().round(0)"
   ]
  },
  {
   "cell_type": "code",
   "execution_count": 331,
   "metadata": {
    "ExecuteTime": {
     "end_time": "2019-07-17T06:47:22.980840Z",
     "start_time": "2019-07-17T06:47:22.968938Z"
    }
   },
   "outputs": [],
   "source": [
    "# Seen the words appear 1 times or more as features\n",
    "features = features[features>5]"
   ]
  },
  {
   "cell_type": "code",
   "execution_count": 332,
   "metadata": {
    "ExecuteTime": {
     "end_time": "2019-07-17T06:47:25.373661Z",
     "start_time": "2019-07-17T06:47:25.369347Z"
    }
   },
   "outputs": [
    {
     "data": {
      "text/plain": [
       "5070"
      ]
     },
     "execution_count": 332,
     "metadata": {},
     "output_type": "execute_result"
    }
   ],
   "source": [
    "len(features)"
   ]
  },
  {
   "cell_type": "code",
   "execution_count": 336,
   "metadata": {
    "ExecuteTime": {
     "end_time": "2019-07-17T07:12:08.673929Z",
     "start_time": "2019-07-17T07:12:08.669359Z"
    }
   },
   "outputs": [],
   "source": [
    "from sklearn.metrics import log_loss\n",
    "\n",
    "def training_error(Classifier, feature):\n",
    "    X_train = design_matrix(feature, train['Token'])\n",
    "    nbc= Classifier.fit(X_train, np.ravel(y_train))\n",
    "    prob = nbc.predict_proba(X_train)\n",
    "    return log_loss(y_train, prob)"
   ]
  },
  {
   "cell_type": "code",
   "execution_count": 338,
   "metadata": {
    "ExecuteTime": {
     "end_time": "2019-07-17T08:00:29.190028Z",
     "start_time": "2019-07-17T07:36:18.067867Z"
    }
   },
   "outputs": [],
   "source": [
    "losses=[]\n",
    "for feature in features.index:\n",
    "    losses.append(training_error(BernoulliNB(), feature))\n",
    "\n",
    "ranked_blNB = pd.Series(losses, index=features.index).sort_values()"
   ]
  },
  {
   "cell_type": "code",
   "execution_count": 339,
   "metadata": {
    "ExecuteTime": {
     "end_time": "2019-07-17T08:00:31.809397Z",
     "start_time": "2019-07-17T08:00:31.798219Z"
    }
   },
   "outputs": [
    {
     "data": {
      "text/plain": [
       "1920    0.689229\n",
       "120     0.689248\n",
       "2001    0.689508\n",
       "2010    0.689508\n",
       "2003    0.689514\n",
       "250     0.689530\n",
       "20      0.689569\n",
       "20th    0.689569\n",
       "2006    0.689579\n",
       "2008    0.689753\n",
       "2005    0.689760\n",
       "2009    0.689760\n",
       "2007    0.689799\n",
       "200     0.689801\n",
       "2004    0.689818\n",
       "2000    0.690327\n",
       "1960    0.690450\n",
       "1/2     0.690597\n",
       "12      0.690597\n",
       "21      0.690597\n",
       "dtype: float64"
      ]
     },
     "execution_count": 339,
     "metadata": {},
     "output_type": "execute_result"
    }
   ],
   "source": [
    "ranked_blNB.head(20)"
   ]
  },
  {
   "cell_type": "code",
   "execution_count": 340,
   "metadata": {
    "ExecuteTime": {
     "end_time": "2019-07-17T08:00:34.299335Z",
     "start_time": "2019-07-17T08:00:34.284345Z"
    }
   },
   "outputs": [],
   "source": [
    "from scipy.sparse import lil_matrix\n",
    "\n",
    "def design_matrix(features, series):\n",
    "    X = lil_matrix((len(series),len(features))) # initialise \n",
    "    for i in range(len(series)): \n",
    "        tokens = series.iloc[i]\n",
    "        for j, feature in enumerate(features): # scan the list of features\n",
    "            if feature in tokens: # if the feature is among the tokens, \n",
    "                X[i, j]= 1.0\n",
    "    return X"
   ]
  },
  {
   "cell_type": "code",
   "execution_count": 341,
   "metadata": {
    "ExecuteTime": {
     "end_time": "2019-07-17T08:02:19.930625Z",
     "start_time": "2019-07-17T08:00:36.840263Z"
    }
   },
   "outputs": [
    {
     "name": "stdout",
     "output_type": "stream",
     "text": [
      "Error: 0.1615\n",
      "Accuracy:  0.8385\n"
     ]
    }
   ],
   "source": [
    "p = 100\n",
    "\n",
    "y_test = test['Positive'].values\n",
    "features = list(ranked_blNB.index) # storing the list of features in order for later\n",
    "\n",
    "X_train = design_matrix(features[:], train['Token'])\n",
    "X_test = design_matrix(features[:], test['Token'])\n",
    "\n",
    "nbc= BernoulliNB().fit(X_train, np.ravel(y_train))\n",
    "y_pred = nbc.predict(X_test)\n",
    "accur = accuracy_score(y_test, y_pred)\n",
    "error  = 1 - accur\n",
    "print('Error:', error.round(4))\n",
    "print('Accuracy: ', accur.round(4))"
   ]
  },
  {
   "cell_type": "code",
   "execution_count": 342,
   "metadata": {
    "ExecuteTime": {
     "end_time": "2019-07-17T08:02:23.699385Z",
     "start_time": "2019-07-17T08:02:23.690959Z"
    }
   },
   "outputs": [
    {
     "name": "stdout",
     "output_type": "stream",
     "text": [
      "  (0, 317)\t1.0\n",
      "  (0, 569)\t1.0\n",
      "  (0, 599)\t1.0\n",
      "  (0, 938)\t1.0\n",
      "  (0, 1109)\t1.0\n",
      "  (0, 1266)\t1.0\n",
      "  (0, 1377)\t1.0\n",
      "  (0, 1467)\t1.0\n",
      "  (0, 1476)\t1.0\n",
      "  (0, 1719)\t1.0\n",
      "  (0, 1919)\t1.0\n",
      "  (0, 2243)\t1.0\n",
      "  (0, 2257)\t1.0\n",
      "  (0, 2276)\t1.0\n",
      "  (0, 2646)\t1.0\n",
      "  (0, 2966)\t1.0\n",
      "  (0, 3347)\t1.0\n",
      "  (0, 3442)\t1.0\n",
      "  (0, 3470)\t1.0\n",
      "  (0, 3542)\t1.0\n",
      "  (0, 3830)\t1.0\n",
      "  (0, 3848)\t1.0\n",
      "  (0, 4151)\t1.0\n",
      "  (0, 4159)\t1.0\n",
      "  (0, 4322)\t1.0\n",
      "  (0, 4521)\t1.0\n",
      "  (0, 4655)\t1.0\n",
      "  (0, 4858)\t1.0\n",
      "  (0, 4886)\t1.0\n",
      "  (0, 4888)\t1.0\n",
      "  (0, 4997)\t1.0\n",
      "  (0, 5038)\t1.0\n"
     ]
    }
   ],
   "source": [
    "print(X_train[0])"
   ]
  },
  {
   "cell_type": "code",
   "execution_count": 343,
   "metadata": {
    "ExecuteTime": {
     "end_time": "2019-07-17T08:24:27.736698Z",
     "start_time": "2019-07-17T08:02:27.430977Z"
    }
   },
   "outputs": [],
   "source": [
    "# This cell will take a couple of minutes to run, increase the leap in the loop if needed (the leap is currently 20)\n",
    "\n",
    "from sklearn.model_selection import cross_val_score\n",
    "\n",
    "test_errors = []\n",
    "cv_errors = []\n",
    "\n",
    "n_features = np.arange(0, len(features)+1, 100)\n",
    "n_features[0] = 1 # the first model has 1 feature, then 100, 200, etc\n",
    "\n",
    "for p in n_features:\n",
    "    X_train = design_matrix(features[:p], train['Token'])\n",
    "    X_test = design_matrix(features[:p], test['Token'])\n",
    "    nbc= BernoulliNB().fit(X_train, np.ravel(y_train))\n",
    "    \n",
    "    scores = cross_val_score(nbc, X_train, y_train, cv=10, scoring = 'accuracy')\n",
    "    cv_errors.append(1-np.mean(scores))\n",
    "    \n",
    "    y_pred_blNB = nbc.predict(X_test)\n",
    "    test_errors.append(1 - accuracy_score(y_test, y_pred_blNB)) "
   ]
  },
  {
   "cell_type": "code",
   "execution_count": 344,
   "metadata": {
    "ExecuteTime": {
     "end_time": "2019-07-17T08:24:29.284712Z",
     "start_time": "2019-07-17T08:24:28.947409Z"
    }
   },
   "outputs": [
    {
     "data": {
      "image/png": "[encoded data removed]",
      "text/plain": [
       "<Figure size 1008x648 with 1 Axes>"
      ]
     },
     "metadata": {
      "needs_background": "light"
     },
     "output_type": "display_data"
    },
    {
     "name": "stdout",
     "output_type": "stream",
     "text": [
      "Lowest CV error: K = 4900\n",
      "Lowest test error: K = 4800\n",
      "\n",
      "Test misclassification rate for the selected model = 0.164\n"
     ]
    }
   ],
   "source": [
    "fig, ax= plt.subplots(figsize=(14,9))\n",
    "ax.plot(n_features, test_errors, label='Test error')\n",
    "ax.plot(n_features, cv_errors, label='CV error')\n",
    "ax.set_xlabel('Number of features')\n",
    "ax.set_ylabel('Misclassification rate')\n",
    "plt.legend()\n",
    "sns.despine()\n",
    "plt.show()\n",
    "\n",
    "print('Lowest CV error: K = {}'.format(n_features[np.argmin(cv_errors)])) \n",
    "print('Lowest test error: K = {}'.format(n_features[np.argmin(test_errors)]))  \n",
    "\n",
    "print('\\nTest misclassification rate for the selected model = {:.3f}'.format(test_errors[np.argmin(cv_errors)]))"
   ]
  },
  {
   "cell_type": "code",
   "execution_count": 345,
   "metadata": {
    "ExecuteTime": {
     "end_time": "2019-07-17T08:25:29.395266Z",
     "start_time": "2019-07-17T08:24:30.434083Z"
    }
   },
   "outputs": [],
   "source": [
    "p = int(n_features[np.argmin(cv_errors)])\n",
    "\n",
    "X_train = design_matrix(features[:p], train['Token'])\n",
    "X_test = design_matrix(features[:p], test['Token'])\n",
    "nbc= BernoulliNB().fit(X_train, np.ravel(y_train))\n",
    "    \n",
    "y_pred_blNB = nbc.predict(X_test) # classification\n",
    "y_prob_blNB = nbc.predict_proba(X_test) # predicted probabilities"
   ]
  },
  {
   "cell_type": "code",
   "execution_count": 346,
   "metadata": {
    "ExecuteTime": {
     "end_time": "2019-07-17T08:25:30.637431Z",
     "start_time": "2019-07-17T08:25:30.630865Z"
    }
   },
   "outputs": [
    {
     "name": "stdout",
     "output_type": "stream",
     "text": [
      "[[825 175]\n",
      " [153 847]]\n"
     ]
    }
   ],
   "source": [
    "confusion = confusion_matrix(y_test, y_pred_blNB) \n",
    "print(confusion)"
   ]
  },
  {
   "cell_type": "code",
   "execution_count": 347,
   "metadata": {
    "ExecuteTime": {
     "end_time": "2019-07-17T08:25:32.280095Z",
     "start_time": "2019-07-17T08:25:31.898109Z"
    }
   },
   "outputs": [
    {
     "name": "stdout",
     "output_type": "stream",
     "text": [
      "Normalized confusion matrix\n"
     ]
    },
    {
     "data": {
      "image/png": "[encoded data removed]",
      "text/plain": [
       "<Figure size 1008x648 with 2 Axes>"
      ]
     },
     "metadata": {
      "needs_background": "light"
     },
     "output_type": "display_data"
    }
   ],
   "source": [
    "from statlearning import plot_confusion_matrix\n",
    "fig, ax = plt.subplots(figsize=(14,9))\n",
    "plot_confusion_matrix(confusion, classes=['negative','positive'], normalize=True)\n",
    "plt.show()"
   ]
  },
  {
   "cell_type": "code",
   "execution_count": 348,
   "metadata": {
    "ExecuteTime": {
     "end_time": "2019-07-17T08:25:49.034879Z",
     "start_time": "2019-07-17T08:25:33.405686Z"
    }
   },
   "outputs": [
    {
     "data": {
      "text/html": [
       "<div>\n",
       "<style scoped>\n",
       "    .dataframe tbody tr th:only-of-type {\n",
       "        vertical-align: middle;\n",
       "    }\n",
       "\n",
       "    .dataframe tbody tr th {\n",
       "        vertical-align: top;\n",
       "    }\n",
       "\n",
       "    .dataframe thead th {\n",
       "        text-align: right;\n",
       "    }\n",
       "</style>\n",
       "<table border=\"1\" class=\"dataframe\">\n",
       "  <thead>\n",
       "    <tr style=\"text-align: right;\">\n",
       "      <th></th>\n",
       "      <th>Accuracy</th>\n",
       "      <th>Precision</th>\n",
       "      <th>Recall</th>\n",
       "      <th>F1 Score</th>\n",
       "      <th>AUC</th>\n",
       "    </tr>\n",
       "  </thead>\n",
       "  <tbody>\n",
       "    <tr>\n",
       "      <th>Bernoulli Naive Bayes</th>\n",
       "      <td>0.836</td>\n",
       "      <td>0.829</td>\n",
       "      <td>0.847</td>\n",
       "      <td>0.838</td>\n",
       "      <td>0.91</td>\n",
       "    </tr>\n",
       "  </tbody>\n",
       "</table>\n",
       "</div>"
      ],
      "text/plain": [
       "                       Accuracy  Precision  Recall  F1 Score   AUC\n",
       "Bernoulli Naive Bayes     0.836      0.829   0.847     0.838  0.91"
      ]
     },
     "execution_count": 348,
     "metadata": {},
     "output_type": "execute_result"
    }
   ],
   "source": [
    "from sklearn.metrics import recall_score, precision_score, roc_auc_score, f1_score, confusion_matrix\n",
    "\n",
    "columns=['Accuracy', 'Precision', 'Recall', 'F1 Score', 'AUC']\n",
    "rows=['Bernoulli Naive Bayes']\n",
    "results=pd.DataFrame(0.0, columns=columns, index=rows)\n",
    "\n",
    "results.iloc[0,0]=  accuracy_score(y_test, y_pred_blNB)\n",
    "results.iloc[0,1]=  precision_score(y_test, y_pred_blNB)\n",
    "results.iloc[0,2]=  recall_score(y_test, y_pred_blNB)\n",
    "results.iloc[0,3]=  f1_score(y_test, y_pred_blNB)\n",
    "results.iloc[0,4]=  roc_auc_score(y_test, y_prob_blNB[:,1])\n",
    "\n",
    "results.round(3)"
   ]
  },
  {
   "cell_type": "code",
   "execution_count": 349,
   "metadata": {
    "ExecuteTime": {
     "end_time": "2019-07-17T08:25:50.775295Z",
     "start_time": "2019-07-17T08:25:50.441448Z"
    }
   },
   "outputs": [
    {
     "data": {
      "image/png": "[encoded data removed]",
      "text/plain": [
       "<Figure size 1008x648 with 1 Axes>"
      ]
     },
     "metadata": {
      "needs_background": "light"
     },
     "output_type": "display_data"
    }
   ],
   "source": [
    "from sklearn.metrics import roc_curve\n",
    "fpr, tpr, _ = roc_curve(y_test, y_prob_blNB[:,1])\n",
    "auc = roc_auc_score(y_test, y_prob_blNB[:,1])\n",
    "\n",
    "fig, ax= plt.subplots(figsize=(14,9))\n",
    "ax.plot(fpr, tpr, label='ROC curve (AUC = {:.3f})'.format(auc))\n",
    "ax.set_xlabel('False positive rate')\n",
    "ax.set_ylabel('True Positive Rate')\n",
    "ax.set_title('ROC curve for the Naive Bayes Classifier', fontsize=13)\n",
    "sns.despine()\n",
    "plt.legend()\n",
    "plt.show()"
   ]
  },
  {
   "cell_type": "code",
   "execution_count": null,
   "metadata": {},
   "outputs": [],
   "source": []
  }
 ],
 "metadata": {
  "kernelspec": {
   "display_name": "Python 3",
   "language": "python",
   "name": "python3"
  },
  "language_info": {
   "codemirror_mode": {
    "name": "ipython",
    "version": 3
   },
   "file_extension": ".py",
   "mimetype": "text/x-python",
   "name": "python",
   "nbconvert_exporter": "python",
   "pygments_lexer": "ipython3",
   "version": "3.7.3"
  },
  "toc": {
   "base_numbering": 1,
   "nav_menu": {},
   "number_sections": true,
   "sideBar": true,
   "skip_h1_title": false,
   "title_cell": "Table of Contents",
   "title_sidebar": "Contents",
   "toc_cell": false,
   "toc_position": {},
   "toc_section_display": true,
   "toc_window_display": false
  },
  "varInspector": {
   "cols": {
    "lenName": 16,
    "lenType": 16,
    "lenVar": 40
   },
   "kernels_config": {
    "python": {
     "delete_cmd_postfix": "",
     "delete_cmd_prefix": "del ",
     "library": "var_list.py",
     "varRefreshCmd": "print(var_dic_list())"
    },
    "r": {
     "delete_cmd_postfix": ") ",
     "delete_cmd_prefix": "rm(",
     "library": "var_list.r",
     "varRefreshCmd": "cat(var_dic_list()) "
    }
   },
   "types_to_exclude": [
    "module",
    "function",
    "builtin_function_or_method",
    "instance",
    "_Feature"
   ],
   "window_display": false
  }
 },
 "nbformat": 4,
 "nbformat_minor": 2
}
